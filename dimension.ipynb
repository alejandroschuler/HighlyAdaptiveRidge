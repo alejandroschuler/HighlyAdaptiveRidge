{
 "cells": [
  {
   "cell_type": "code",
   "execution_count": 1,
   "id": "0f405b9e",
   "metadata": {},
   "outputs": [],
   "source": [
    "from timer import Timer\n",
    "import numpy as np\n",
    "import pandas as pd\n",
    "\n",
    "from highly_adaptive_regression import HighlyAdaptiveLassoCV, HighlyAdaptiveRidgeCV as BasisHARCV\n",
    "from kernel_ridge import HighlyAdaptiveRidgeCV, RadialBasisKernelRidgeCV, MixedSobolevRidgeCV \n",
    "from kernel_ridge import kernels, KernelRidge\n",
    "\n",
    "from sklearn.model_selection import train_test_split\n",
    "from sklearn.ensemble import RandomForestRegressor\n",
    "from sklearn.linear_model import LinearRegression, Ridge\n",
    "from sklearn.dummy import DummyRegressor\n",
    "\n",
    "import pandas as pd\n",
    "import glob\n",
    "import os\n",
    "import altair as alt"
   ]
  },
  {
   "cell_type": "code",
   "execution_count": 2,
   "id": "f2dd95c2",
   "metadata": {},
   "outputs": [],
   "source": [
    "def dgp(n,d):\n",
    "    X = np.random.uniform(size=(n,d))\n",
    "    # Y = ((X[:,0] > 1/3) + (X[:,0] > 2/3))/2\n",
    "    Y = X[:,0] + np.random.normal(size=(n,), scale=0.2)\n",
    "    # Y = np.sum(X, axis=1)/d\n",
    "    return X,Y"
   ]
  },
  {
   "cell_type": "code",
   "execution_count": 3,
   "id": "a131b12b",
   "metadata": {},
   "outputs": [],
   "source": [
    "LEARNERS = {\n",
    "    'Mean':DummyRegressor(strategy=\"mean\"),\n",
    "    'Ridge Regression':Ridge(alpha=1e-3),\n",
    "    'Random Forest':RandomForestRegressor(n_estimators=2000, n_jobs=-1),\n",
    "    'Radial Basis KRR':RadialBasisKernelRidgeCV(\n",
    "        gammas=[0.001, 0.01, 0.1, 1, 10], \n",
    "        eps=1e-10,\n",
    "        max_alpha_coef_norm = 10,\n",
    "    ),\n",
    "    'Mixed Sobolev KRR':MixedSobolevRidgeCV(\n",
    "        eps=1e-6,\n",
    "        max_alpha_coef_norm = 100,\n",
    "    ),\n",
    "    # 'HAR':HighlyAdaptiveRidgeCV(eps=1e-10, order=0),\n",
    "    # 'HAL':HighlyAdaptiveLassoCV(),\n",
    "    # 'Basis HAR':BasisHARCV(eps=1e-10),\n",
    "}"
   ]
  },
  {
   "cell_type": "code",
   "execution_count": 4,
   "id": "5f581014",
   "metadata": {},
   "outputs": [
    {
     "name": "stdout",
     "output_type": "stream",
     "text": [
      "Warning: selected regularization is the largest grid value for RadialBasis: {'gamma': 0.01}\n",
      "Warning: selected regularization is the largest grid value for RadialBasis: {'gamma': 0.1}\n",
      "Warning: selected regularization is the largest grid value for RadialBasis: {'gamma': 0.01}\n",
      "Warning: selected regularization is the largest grid value for RadialBasis: {'gamma': 0.1}\n"
     ]
    },
    {
     "name": "stdout",
     "output_type": "stream",
     "text": [
      "Warning: selected regularization is the largest grid value for RadialBasis: {'gamma': 1}\n",
      "Warning: selected regularization is the largest grid value for RadialBasis: {'gamma': 10}\n",
      "Warning: selected regularization is the largest grid value for RadialBasis: {'gamma': 1}\n",
      "Warning: selected regularization is the largest grid value for RadialBasis: {'gamma': 10}\n"
     ]
    },
    {
     "name": "stdout",
     "output_type": "stream",
     "text": [
      "Warning: selected regularization is the largest grid value for MixedSobolev: {}\n",
      "Warning: selected regularization is the largest grid value for MixedSobolev: {}\n"
     ]
    },
    {
     "name": "stdout",
     "output_type": "stream",
     "text": [
      "Warning: selected regularization is the largest grid value for RadialBasis: {'gamma': 0.01}\n",
      "Warning: selected regularization is the largest grid value for RadialBasis: {'gamma': 0.1}\n",
      "Warning: selected regularization is the largest grid value for RadialBasis: {'gamma': 1}\n",
      "Warning: selected regularization is the largest grid value for RadialBasis: {'gamma': 10}\n",
      "Warning: selected regularization is the largest grid value for MixedSobolev: {}\n",
      "Warning: selected regularization is the largest grid value for RadialBasis: {'gamma': 0.01}\n",
      "Warning: selected regularization is the largest grid value for RadialBasis: {'gamma': 0.1}\n",
      "Warning: selected regularization is the largest grid value for RadialBasis: {'gamma': 1}\n",
      "Warning: selected regularization is the largest grid value for RadialBasis: {'gamma': 10}\n",
      "Warning: selected regularization is the largest grid value for MixedSobolev: {}\n"
     ]
    },
    {
     "name": "stdout",
     "output_type": "stream",
     "text": [
      "Warning: selected regularization is the largest grid value for RadialBasis: {'gamma': 0.1}\n",
      "Warning: selected regularization is the largest grid value for RadialBasis: {'gamma': 1}\n",
      "Warning: selected regularization is the largest grid value for RadialBasis: {'gamma': 10}\n",
      "Warning: selected regularization is the largest grid value for MixedSobolev: {}\n",
      "Warning: selected regularization is the largest grid value for RadialBasis: {'gamma': 0.1}\n",
      "Warning: selected regularization is the largest grid value for RadialBasis: {'gamma': 1}\n",
      "Warning: selected regularization is the largest grid value for RadialBasis: {'gamma': 10}\n",
      "Warning: selected regularization is the largest grid value for MixedSobolev: {}\n"
     ]
    },
    {
     "ename": "KeyboardInterrupt",
     "evalue": "",
     "output_type": "error",
     "traceback": [
      "\u001b[0;31m---------------------------------------------------------------------------\u001b[0m\n",
      "\u001b[0;31mKeyboardInterrupt\u001b[0m                         Traceback (most recent call last)\n",
      "Cell \u001b[0;32mIn[4], line 16\u001b[0m\n",
      "\u001b[1;32m     14\u001b[0m \u001b[38;5;28;01mfor\u001b[39;00m name, learner \u001b[38;5;129;01min\u001b[39;00m LEARNERS\u001b[38;5;241m.\u001b[39mitems():\n",
      "\u001b[1;32m     15\u001b[0m     \u001b[38;5;28;01mwith\u001b[39;00m learner_timer\u001b[38;5;241m.\u001b[39mtask(\u001b[38;5;124m\"\u001b[39m\u001b[38;5;124mtime fitting\u001b[39m\u001b[38;5;124m\"\u001b[39m):\n",
      "\u001b[0;32m---> 16\u001b[0m         \u001b[43mlearner\u001b[49m\u001b[38;5;241;43m.\u001b[39;49m\u001b[43mfit\u001b[49m\u001b[43m(\u001b[49m\u001b[43mX\u001b[49m\u001b[43m,\u001b[49m\u001b[43mY\u001b[49m\u001b[43m)\u001b[49m\n",
      "\u001b[1;32m     17\u001b[0m     \u001b[38;5;28;01mwith\u001b[39;00m learner_timer\u001b[38;5;241m.\u001b[39mtask(\u001b[38;5;124m\"\u001b[39m\u001b[38;5;124mtime predicting\u001b[39m\u001b[38;5;124m\"\u001b[39m):\n",
      "\u001b[1;32m     18\u001b[0m         mse \u001b[38;5;241m=\u001b[39m np\u001b[38;5;241m.\u001b[39mmean((learner\u001b[38;5;241m.\u001b[39mpredict(X_) \u001b[38;5;241m-\u001b[39m Y_)\u001b[38;5;241m*\u001b[39m\u001b[38;5;241m*\u001b[39m\u001b[38;5;241m2\u001b[39m)\n",
      "\n",
      "File \u001b[0;32m~/Desktop/HighlyAdaptiveRidge/venv/lib/python3.12/site-packages/sklearn/base.py:1473\u001b[0m, in \u001b[0;36m_fit_context.<locals>.decorator.<locals>.wrapper\u001b[0;34m(estimator, *args, **kwargs)\u001b[0m\n",
      "\u001b[1;32m   1466\u001b[0m     estimator\u001b[38;5;241m.\u001b[39m_validate_params()\n",
      "\u001b[1;32m   1468\u001b[0m \u001b[38;5;28;01mwith\u001b[39;00m config_context(\n",
      "\u001b[1;32m   1469\u001b[0m     skip_parameter_validation\u001b[38;5;241m=\u001b[39m(\n",
      "\u001b[1;32m   1470\u001b[0m         prefer_skip_nested_validation \u001b[38;5;129;01mor\u001b[39;00m global_skip_validation\n",
      "\u001b[1;32m   1471\u001b[0m     )\n",
      "\u001b[1;32m   1472\u001b[0m ):\n",
      "\u001b[0;32m-> 1473\u001b[0m     \u001b[38;5;28;01mreturn\u001b[39;00m \u001b[43mfit_method\u001b[49m\u001b[43m(\u001b[49m\u001b[43mestimator\u001b[49m\u001b[43m,\u001b[49m\u001b[43m \u001b[49m\u001b[38;5;241;43m*\u001b[39;49m\u001b[43margs\u001b[49m\u001b[43m,\u001b[49m\u001b[43m \u001b[49m\u001b[38;5;241;43m*\u001b[39;49m\u001b[38;5;241;43m*\u001b[39;49m\u001b[43mkwargs\u001b[49m\u001b[43m)\u001b[49m\n",
      "\n",
      "File \u001b[0;32m~/Desktop/HighlyAdaptiveRidge/venv/lib/python3.12/site-packages/sklearn/ensemble/_forest.py:489\u001b[0m, in \u001b[0;36mBaseForest.fit\u001b[0;34m(self, X, y, sample_weight)\u001b[0m\n",
      "\u001b[1;32m    478\u001b[0m trees \u001b[38;5;241m=\u001b[39m [\n",
      "\u001b[1;32m    479\u001b[0m     \u001b[38;5;28mself\u001b[39m\u001b[38;5;241m.\u001b[39m_make_estimator(append\u001b[38;5;241m=\u001b[39m\u001b[38;5;28;01mFalse\u001b[39;00m, random_state\u001b[38;5;241m=\u001b[39mrandom_state)\n",
      "\u001b[1;32m    480\u001b[0m     \u001b[38;5;28;01mfor\u001b[39;00m i \u001b[38;5;129;01min\u001b[39;00m \u001b[38;5;28mrange\u001b[39m(n_more_estimators)\n",
      "\u001b[1;32m    481\u001b[0m ]\n",
      "\u001b[1;32m    483\u001b[0m \u001b[38;5;66;03m# Parallel loop: we prefer the threading backend as the Cython code\u001b[39;00m\n",
      "\u001b[1;32m    484\u001b[0m \u001b[38;5;66;03m# for fitting the trees is internally releasing the Python GIL\u001b[39;00m\n",
      "\u001b[1;32m    485\u001b[0m \u001b[38;5;66;03m# making threading more efficient than multiprocessing in\u001b[39;00m\n",
      "\u001b[1;32m    486\u001b[0m \u001b[38;5;66;03m# that case. However, for joblib 0.12+ we respect any\u001b[39;00m\n",
      "\u001b[1;32m    487\u001b[0m \u001b[38;5;66;03m# parallel_backend contexts set at a higher level,\u001b[39;00m\n",
      "\u001b[1;32m    488\u001b[0m \u001b[38;5;66;03m# since correctness does not rely on using threads.\u001b[39;00m\n",
      "\u001b[0;32m--> 489\u001b[0m trees \u001b[38;5;241m=\u001b[39m \u001b[43mParallel\u001b[49m\u001b[43m(\u001b[49m\n",
      "\u001b[1;32m    490\u001b[0m \u001b[43m    \u001b[49m\u001b[43mn_jobs\u001b[49m\u001b[38;5;241;43m=\u001b[39;49m\u001b[38;5;28;43mself\u001b[39;49m\u001b[38;5;241;43m.\u001b[39;49m\u001b[43mn_jobs\u001b[49m\u001b[43m,\u001b[49m\n",
      "\u001b[1;32m    491\u001b[0m \u001b[43m    \u001b[49m\u001b[43mverbose\u001b[49m\u001b[38;5;241;43m=\u001b[39;49m\u001b[38;5;28;43mself\u001b[39;49m\u001b[38;5;241;43m.\u001b[39;49m\u001b[43mverbose\u001b[49m\u001b[43m,\u001b[49m\n",
      "\u001b[1;32m    492\u001b[0m \u001b[43m    \u001b[49m\u001b[43mprefer\u001b[49m\u001b[38;5;241;43m=\u001b[39;49m\u001b[38;5;124;43m\"\u001b[39;49m\u001b[38;5;124;43mthreads\u001b[39;49m\u001b[38;5;124;43m\"\u001b[39;49m\u001b[43m,\u001b[49m\n",
      "\u001b[1;32m    493\u001b[0m \u001b[43m\u001b[49m\u001b[43m)\u001b[49m\u001b[43m(\u001b[49m\n",
      "\u001b[1;32m    494\u001b[0m \u001b[43m    \u001b[49m\u001b[43mdelayed\u001b[49m\u001b[43m(\u001b[49m\u001b[43m_parallel_build_trees\u001b[49m\u001b[43m)\u001b[49m\u001b[43m(\u001b[49m\n",
      "\u001b[1;32m    495\u001b[0m \u001b[43m        \u001b[49m\u001b[43mt\u001b[49m\u001b[43m,\u001b[49m\n",
      "\u001b[1;32m    496\u001b[0m \u001b[43m        \u001b[49m\u001b[38;5;28;43mself\u001b[39;49m\u001b[38;5;241;43m.\u001b[39;49m\u001b[43mbootstrap\u001b[49m\u001b[43m,\u001b[49m\n",
      "\u001b[1;32m    497\u001b[0m \u001b[43m        \u001b[49m\u001b[43mX\u001b[49m\u001b[43m,\u001b[49m\n",
      "\u001b[1;32m    498\u001b[0m \u001b[43m        \u001b[49m\u001b[43my\u001b[49m\u001b[43m,\u001b[49m\n",
      "\u001b[1;32m    499\u001b[0m \u001b[43m        \u001b[49m\u001b[43msample_weight\u001b[49m\u001b[43m,\u001b[49m\n",
      "\u001b[1;32m    500\u001b[0m \u001b[43m        \u001b[49m\u001b[43mi\u001b[49m\u001b[43m,\u001b[49m\n",
      "\u001b[1;32m    501\u001b[0m \u001b[43m        \u001b[49m\u001b[38;5;28;43mlen\u001b[39;49m\u001b[43m(\u001b[49m\u001b[43mtrees\u001b[49m\u001b[43m)\u001b[49m\u001b[43m,\u001b[49m\n",
      "\u001b[1;32m    502\u001b[0m \u001b[43m        \u001b[49m\u001b[43mverbose\u001b[49m\u001b[38;5;241;43m=\u001b[39;49m\u001b[38;5;28;43mself\u001b[39;49m\u001b[38;5;241;43m.\u001b[39;49m\u001b[43mverbose\u001b[49m\u001b[43m,\u001b[49m\n",
      "\u001b[1;32m    503\u001b[0m \u001b[43m        \u001b[49m\u001b[43mclass_weight\u001b[49m\u001b[38;5;241;43m=\u001b[39;49m\u001b[38;5;28;43mself\u001b[39;49m\u001b[38;5;241;43m.\u001b[39;49m\u001b[43mclass_weight\u001b[49m\u001b[43m,\u001b[49m\n",
      "\u001b[1;32m    504\u001b[0m \u001b[43m        \u001b[49m\u001b[43mn_samples_bootstrap\u001b[49m\u001b[38;5;241;43m=\u001b[39;49m\u001b[43mn_samples_bootstrap\u001b[49m\u001b[43m,\u001b[49m\n",
      "\u001b[1;32m    505\u001b[0m \u001b[43m        \u001b[49m\u001b[43mmissing_values_in_feature_mask\u001b[49m\u001b[38;5;241;43m=\u001b[39;49m\u001b[43mmissing_values_in_feature_mask\u001b[49m\u001b[43m,\u001b[49m\n",
      "\u001b[1;32m    506\u001b[0m \u001b[43m    \u001b[49m\u001b[43m)\u001b[49m\n",
      "\u001b[1;32m    507\u001b[0m \u001b[43m    \u001b[49m\u001b[38;5;28;43;01mfor\u001b[39;49;00m\u001b[43m \u001b[49m\u001b[43mi\u001b[49m\u001b[43m,\u001b[49m\u001b[43m \u001b[49m\u001b[43mt\u001b[49m\u001b[43m \u001b[49m\u001b[38;5;129;43;01min\u001b[39;49;00m\u001b[43m \u001b[49m\u001b[38;5;28;43menumerate\u001b[39;49m\u001b[43m(\u001b[49m\u001b[43mtrees\u001b[49m\u001b[43m)\u001b[49m\n",
      "\u001b[1;32m    508\u001b[0m \u001b[43m\u001b[49m\u001b[43m)\u001b[49m\n",
      "\u001b[1;32m    510\u001b[0m \u001b[38;5;66;03m# Collect newly grown trees\u001b[39;00m\n",
      "\u001b[1;32m    511\u001b[0m \u001b[38;5;28mself\u001b[39m\u001b[38;5;241m.\u001b[39mestimators_\u001b[38;5;241m.\u001b[39mextend(trees)\n",
      "\n",
      "File \u001b[0;32m~/Desktop/HighlyAdaptiveRidge/venv/lib/python3.12/site-packages/sklearn/utils/parallel.py:74\u001b[0m, in \u001b[0;36mParallel.__call__\u001b[0;34m(self, iterable)\u001b[0m\n",
      "\u001b[1;32m     69\u001b[0m config \u001b[38;5;241m=\u001b[39m get_config()\n",
      "\u001b[1;32m     70\u001b[0m iterable_with_config \u001b[38;5;241m=\u001b[39m (\n",
      "\u001b[1;32m     71\u001b[0m     (_with_config(delayed_func, config), args, kwargs)\n",
      "\u001b[1;32m     72\u001b[0m     \u001b[38;5;28;01mfor\u001b[39;00m delayed_func, args, kwargs \u001b[38;5;129;01min\u001b[39;00m iterable\n",
      "\u001b[1;32m     73\u001b[0m )\n",
      "\u001b[0;32m---> 74\u001b[0m \u001b[38;5;28;01mreturn\u001b[39;00m \u001b[38;5;28;43msuper\u001b[39;49m\u001b[43m(\u001b[49m\u001b[43m)\u001b[49m\u001b[38;5;241;43m.\u001b[39;49m\u001b[38;5;21;43m__call__\u001b[39;49m\u001b[43m(\u001b[49m\u001b[43miterable_with_config\u001b[49m\u001b[43m)\u001b[49m\n",
      "\n",
      "File \u001b[0;32m~/Desktop/HighlyAdaptiveRidge/venv/lib/python3.12/site-packages/joblib/parallel.py:2007\u001b[0m, in \u001b[0;36mParallel.__call__\u001b[0;34m(self, iterable)\u001b[0m\n",
      "\u001b[1;32m   2001\u001b[0m \u001b[38;5;66;03m# The first item from the output is blank, but it makes the interpreter\u001b[39;00m\n",
      "\u001b[1;32m   2002\u001b[0m \u001b[38;5;66;03m# progress until it enters the Try/Except block of the generator and\u001b[39;00m\n",
      "\u001b[1;32m   2003\u001b[0m \u001b[38;5;66;03m# reaches the first `yield` statement. This starts the asynchronous\u001b[39;00m\n",
      "\u001b[1;32m   2004\u001b[0m \u001b[38;5;66;03m# dispatch of the tasks to the workers.\u001b[39;00m\n",
      "\u001b[1;32m   2005\u001b[0m \u001b[38;5;28mnext\u001b[39m(output)\n",
      "\u001b[0;32m-> 2007\u001b[0m \u001b[38;5;28;01mreturn\u001b[39;00m output \u001b[38;5;28;01mif\u001b[39;00m \u001b[38;5;28mself\u001b[39m\u001b[38;5;241m.\u001b[39mreturn_generator \u001b[38;5;28;01melse\u001b[39;00m \u001b[38;5;28;43mlist\u001b[39;49m\u001b[43m(\u001b[49m\u001b[43moutput\u001b[49m\u001b[43m)\u001b[49m\n",
      "\n",
      "File \u001b[0;32m~/Desktop/HighlyAdaptiveRidge/venv/lib/python3.12/site-packages/joblib/parallel.py:1650\u001b[0m, in \u001b[0;36mParallel._get_outputs\u001b[0;34m(self, iterator, pre_dispatch)\u001b[0m\n",
      "\u001b[1;32m   1647\u001b[0m     \u001b[38;5;28;01myield\u001b[39;00m\n",
      "\u001b[1;32m   1649\u001b[0m     \u001b[38;5;28;01mwith\u001b[39;00m \u001b[38;5;28mself\u001b[39m\u001b[38;5;241m.\u001b[39m_backend\u001b[38;5;241m.\u001b[39mretrieval_context():\n",
      "\u001b[0;32m-> 1650\u001b[0m         \u001b[38;5;28;01myield from\u001b[39;00m \u001b[38;5;28mself\u001b[39m\u001b[38;5;241m.\u001b[39m_retrieve()\n",
      "\u001b[1;32m   1652\u001b[0m \u001b[38;5;28;01mexcept\u001b[39;00m \u001b[38;5;167;01mGeneratorExit\u001b[39;00m:\n",
      "\u001b[1;32m   1653\u001b[0m     \u001b[38;5;66;03m# The generator has been garbage collected before being fully\u001b[39;00m\n",
      "\u001b[1;32m   1654\u001b[0m     \u001b[38;5;66;03m# consumed. This aborts the remaining tasks if possible and warn\u001b[39;00m\n",
      "\u001b[1;32m   1655\u001b[0m     \u001b[38;5;66;03m# the user if necessary.\u001b[39;00m\n",
      "\u001b[1;32m   1656\u001b[0m     \u001b[38;5;28mself\u001b[39m\u001b[38;5;241m.\u001b[39m_exception \u001b[38;5;241m=\u001b[39m \u001b[38;5;28;01mTrue\u001b[39;00m\n",
      "\n",
      "File \u001b[0;32m~/Desktop/HighlyAdaptiveRidge/venv/lib/python3.12/site-packages/joblib/parallel.py:1762\u001b[0m, in \u001b[0;36mParallel._retrieve\u001b[0;34m(self)\u001b[0m\n",
      "\u001b[1;32m   1757\u001b[0m \u001b[38;5;66;03m# If the next job is not ready for retrieval yet, we just wait for\u001b[39;00m\n",
      "\u001b[1;32m   1758\u001b[0m \u001b[38;5;66;03m# async callbacks to progress.\u001b[39;00m\n",
      "\u001b[1;32m   1759\u001b[0m \u001b[38;5;28;01mif\u001b[39;00m ((\u001b[38;5;28mlen\u001b[39m(\u001b[38;5;28mself\u001b[39m\u001b[38;5;241m.\u001b[39m_jobs) \u001b[38;5;241m==\u001b[39m \u001b[38;5;241m0\u001b[39m) \u001b[38;5;129;01mor\u001b[39;00m\n",
      "\u001b[1;32m   1760\u001b[0m     (\u001b[38;5;28mself\u001b[39m\u001b[38;5;241m.\u001b[39m_jobs[\u001b[38;5;241m0\u001b[39m]\u001b[38;5;241m.\u001b[39mget_status(\n",
      "\u001b[1;32m   1761\u001b[0m         timeout\u001b[38;5;241m=\u001b[39m\u001b[38;5;28mself\u001b[39m\u001b[38;5;241m.\u001b[39mtimeout) \u001b[38;5;241m==\u001b[39m TASK_PENDING)):\n",
      "\u001b[0;32m-> 1762\u001b[0m     \u001b[43mtime\u001b[49m\u001b[38;5;241;43m.\u001b[39;49m\u001b[43msleep\u001b[49m\u001b[43m(\u001b[49m\u001b[38;5;241;43m0.01\u001b[39;49m\u001b[43m)\u001b[49m\n",
      "\u001b[1;32m   1763\u001b[0m     \u001b[38;5;28;01mcontinue\u001b[39;00m\n",
      "\u001b[1;32m   1765\u001b[0m \u001b[38;5;66;03m# We need to be careful: the job list can be filling up as\u001b[39;00m\n",
      "\u001b[1;32m   1766\u001b[0m \u001b[38;5;66;03m# we empty it and Python list are not thread-safe by\u001b[39;00m\n",
      "\u001b[1;32m   1767\u001b[0m \u001b[38;5;66;03m# default hence the use of the lock\u001b[39;00m\n",
      "\n",
      "\u001b[0;31mKeyboardInterrupt\u001b[0m: "
     ]
    }
   ],
   "source": [
    "# D_LIST = [5*k for k in np.arange(1,9)]\n",
    "D_LIST = [5, 8, 10, 20, 30]\n",
    "N_TRAIN = [20, 100, 200]\n",
    "N_TEST = 1000\n",
    "N_REPS = 5\n",
    "\n",
    "results = []\n",
    "for n in N_TRAIN:\n",
    "    for d in D_LIST:\n",
    "        for rep in range(N_REPS):\n",
    "            X_full, Y_full = dgp(n+N_TEST, d)\n",
    "            X, X_, Y, Y_ = train_test_split(X_full, Y_full, test_size=N_TEST)\n",
    "            learner_timer = Timer()\n",
    "            for name, learner in LEARNERS.items():\n",
    "                with learner_timer.task(\"time fitting\"):\n",
    "                    learner.fit(X,Y)\n",
    "                with learner_timer.task(\"time predicting\"):\n",
    "                    mse = np.mean((learner.predict(X_) - Y_)**2)\n",
    "\n",
    "                results += [{\n",
    "                    'n': n,\n",
    "                    'd': d,\n",
    "                    'learner': name,\n",
    "                    'mse': mse,\n",
    "                    **learner_timer.durations,\n",
    "                }]"
   ]
  },
  {
   "cell_type": "code",
   "execution_count": 18,
   "id": "69cb4a6f",
   "metadata": {},
   "outputs": [
    {
     "name": "stdout",
     "output_type": "stream",
     "text": [
      "28.796815875717144 205.78450251538922\n",
      "0.326356668577497\n",
      "28.796815875717144 205.78450251538922\n",
      "0.326356668577497\n"
     ]
    }
   ],
   "source": [
    "from kernel_ridge import ClippedMinMaxScaler\n",
    "from sklearn.model_selection import KFold\n",
    "from sklearn.metrics import mean_squared_error as mse\n",
    "\n",
    "N_TEST = 1000\n",
    "\n",
    "X_full, Y_full = dgp(100+N_TEST, 30)\n",
    "X, X_, Y, Y_ = train_test_split(X_full, Y_full, test_size=N_TEST)\n",
    "\n",
    "mskrr = MixedSobolevRidgeCV(\n",
    "    alphas = [[1e-8, 1e-4, 1e-3, 1e-2, 5e-2, 1e-1, 5e-1, 1, 5, 1e1, 5e1, 1e2, 1e3, 1e4, 1e8]]\n",
    ")\n",
    "# mskrr = KernelRidge(kernels.MixedSobolev())\n",
    "mskrr.fit(X,Y)\n",
    "\n",
    "clipper = ClippedMinMaxScaler()\n",
    "K = mskrr.kernels[0](clipper.fit_transform(X))\n",
    "eigs = np.linalg.eig(K)[0]\n",
    "print(np.min(eigs), np.max(eigs))\n",
    "\n",
    "print(np.sqrt(np.mean((mskrr.predict(X_) - Y_)**2)))\n",
    "\n",
    "pd.DataFrame({\n",
    "    'alpha':[m.alpha for m in mskrr.models], \n",
    "    'train': [mse(Y, m.predict(X, k=m.K)) for m in mskrr.models], \n",
    "    'cv': [m.cv(Y, KFold()) for m in mskrr.models], \n",
    "    'test': [mse(Y_, m.predict(X_)) for m in mskrr.models],\n",
    "})"
   ]
  },
  {
   "cell_type": "code",
   "execution_count": 10,
   "id": "530f6d51",
   "metadata": {},
   "outputs": [
    {
     "data": {
      "text/plain": [
       "KFold(n_splits=5, random_state=None, shuffle=False)"
      ]
     },
     "execution_count": null,
     "metadata": {},
     "output_type": "execute_result"
    }
   ],
   "source": [
    "from sklearn.model_selection import KFold\n",
    "KFold()"
   ]
  },
  {
   "cell_type": "code",
   "execution_count": 11,
   "id": "4da4f5ca",
   "metadata": {},
   "outputs": [
    {
     "data": {
      "text/plain": [
       "HighlyAdaptiveRidge: {'depth': inf, 'order': 0}"
      ]
     },
     "execution_count": null,
     "metadata": {},
     "output_type": "execute_result"
    }
   ],
   "source": [
    "kernels.HighlyAdaptiveRidge()"
   ]
  },
  {
   "cell_type": "code",
   "execution_count": 73,
   "id": "58f830c9",
   "metadata": {},
   "outputs": [
    {
     "name": "stderr",
     "output_type": "stream",
     "text": [
      "<positron-console-cell-73>:4: FutureWarning: The provided callable <function mean at 0x107a85c60> is currently using SeriesGroupBy.mean. In a future version of pandas, the provided callable will be used directly. To keep current behavior pass the string \"mean\" instead.\n",
      "<positron-console-cell-73>:4: FutureWarning: The provided callable <function mean at 0x107a85c60> is currently using SeriesGroupBy.mean. In a future version of pandas, the provided callable will be used directly. To keep current behavior pass the string \"mean\" instead.\n"
     ]
    },
    {
     "data": {
      "text/html": [
       "\n",
       "<style>\n",
       "  #altair-viz-c2223e1ebf564f4c90662bc2a746908c.vega-embed {\n",
       "    width: 100%;\n",
       "    display: flex;\n",
       "  }\n",
       "\n",
       "  #altair-viz-c2223e1ebf564f4c90662bc2a746908c.vega-embed details,\n",
       "  #altair-viz-c2223e1ebf564f4c90662bc2a746908c.vega-embed details summary {\n",
       "    position: relative;\n",
       "  }\n",
       "</style>\n",
       "<div id=\"altair-viz-c2223e1ebf564f4c90662bc2a746908c\"></div>\n",
       "<script type=\"text/javascript\">\n",
       "  var VEGA_DEBUG = (typeof VEGA_DEBUG == \"undefined\") ? {} : VEGA_DEBUG;\n",
       "  (function(spec, embedOpt){\n",
       "    let outputDiv = document.currentScript.previousElementSibling;\n",
       "    if (outputDiv.id !== \"altair-viz-c2223e1ebf564f4c90662bc2a746908c\") {\n",
       "      outputDiv = document.getElementById(\"altair-viz-c2223e1ebf564f4c90662bc2a746908c\");\n",
       "    }\n",
       "    const paths = {\n",
       "      \"vega\": \"https://cdn.jsdelivr.net/npm/vega@5?noext\",\n",
       "      \"vega-lib\": \"https://cdn.jsdelivr.net/npm/vega-lib?noext\",\n",
       "      \"vega-lite\": \"https://cdn.jsdelivr.net/npm/vega-lite@5.20.1?noext\",\n",
       "      \"vega-embed\": \"https://cdn.jsdelivr.net/npm/vega-embed@6?noext\",\n",
       "    };\n",
       "\n",
       "    function maybeLoadScript(lib, version) {\n",
       "      var key = `${lib.replace(\"-\", \"\")}_version`;\n",
       "      return (VEGA_DEBUG[key] == version) ?\n",
       "        Promise.resolve(paths[lib]) :\n",
       "        new Promise(function(resolve, reject) {\n",
       "          var s = document.createElement('script');\n",
       "          document.getElementsByTagName(\"head\")[0].appendChild(s);\n",
       "          s.async = true;\n",
       "          s.onload = () => {\n",
       "            VEGA_DEBUG[key] = version;\n",
       "            return resolve(paths[lib]);\n",
       "          };\n",
       "          s.onerror = () => reject(`Error loading script: ${paths[lib]}`);\n",
       "          s.src = paths[lib];\n",
       "        });\n",
       "    }\n",
       "\n",
       "    function showError(err) {\n",
       "      outputDiv.innerHTML = `<div class=\"error\" style=\"color:red;\">${err}</div>`;\n",
       "      throw err;\n",
       "    }\n",
       "\n",
       "    function displayChart(vegaEmbed) {\n",
       "      vegaEmbed(outputDiv, spec, embedOpt)\n",
       "        .catch(err => showError(`Javascript Error: ${err.message}<br>This usually means there's a typo in your chart specification. See the javascript console for the full traceback.`));\n",
       "    }\n",
       "\n",
       "    if(typeof define === \"function\" && define.amd) {\n",
       "      requirejs.config({paths});\n",
       "      require([\"vega-embed\"], displayChart, err => showError(`Error loading script: ${err.message}`));\n",
       "    } else {\n",
       "      maybeLoadScript(\"vega\", \"5\")\n",
       "        .then(() => maybeLoadScript(\"vega-lite\", \"5.20.1\"))\n",
       "        .then(() => maybeLoadScript(\"vega-embed\", \"6\"))\n",
       "        .catch(showError)\n",
       "        .then(() => displayChart(vegaEmbed));\n",
       "    }\n",
       "  })({\"config\": {\"view\": {\"continuousWidth\": 300, \"continuousHeight\": 300}, \"axis\": {\"labelFontSize\": 14, \"titleFontSize\": 16}, \"header\": {\"labelFontSize\": 16, \"titleFontSize\": 18}, \"legend\": {\"labelFontSize\": 14, \"titleFontSize\": 16}}, \"data\": {\"name\": \"data-666ca3b2fd6094b858f42ec4cd1bcdd8\"}, \"mark\": {\"type\": \"line\"}, \"encoding\": {\"color\": {\"field\": \"learner\", \"type\": \"nominal\"}, \"column\": {\"field\": \"n\", \"type\": \"quantitative\"}, \"x\": {\"field\": \"d\", \"type\": \"quantitative\"}, \"y\": {\"field\": \"mse\", \"type\": \"quantitative\"}}, \"height\": 200, \"width\": 200, \"$schema\": \"https://vega.github.io/schema/vega-lite/v5.20.1.json\", \"datasets\": {\"data-666ca3b2fd6094b858f42ec4cd1bcdd8\": [{\"n\": 20, \"d\": 5, \"learner\": \"Mean\", \"mse\": 0.13363154569997873, \"time fitting\": 0.00012960433959960938, \"time predicting\": 2.899169921875e-05, \"rmse\": 0.36555648770057236}, {\"n\": 20, \"d\": 5, \"learner\": \"Mixed Sobolev KRR\", \"mse\": 0.059901175660387954, \"time fitting\": 0.0009495735168457032, \"time predicting\": 0.0004617214202880859, \"rmse\": 0.2447471668076833}, {\"n\": 20, \"d\": 5, \"learner\": \"Radial Basis KRR\", \"mse\": 0.05775700686794845, \"time fitting\": 0.003281116485595703, \"time predicting\": 0.0001788616180419922, \"rmse\": 0.2403268750430306}, {\"n\": 20, \"d\": 5, \"learner\": \"Random Forest\", \"mse\": 0.057189607820264256, \"time fitting\": 0.7710934638977051, \"time predicting\": 0.13709063529968263, \"rmse\": 0.23914348793196158}, {\"n\": 20, \"d\": 5, \"learner\": \"Ridge Regression\", \"mse\": 0.05435479312483989, \"time fitting\": 0.00034046173095703125, \"time predicting\": 9.989738464355469e-05, \"rmse\": 0.23314114421277057}, {\"n\": 20, \"d\": 8, \"learner\": \"Mean\", \"mse\": 0.1249704367727859, \"time fitting\": 9.617805480957031e-05, \"time predicting\": 1.9216537475585936e-05, \"rmse\": 0.3535115794041065}, {\"n\": 20, \"d\": 8, \"learner\": \"Mixed Sobolev KRR\", \"mse\": 0.07303670903704186, \"time fitting\": 0.0008244037628173829, \"time predicting\": 0.0006068229675292968, \"rmse\": 0.2702530463048324}, {\"n\": 20, \"d\": 8, \"learner\": \"Radial Basis KRR\", \"mse\": 0.05817114774057579, \"time fitting\": 0.0031934261322021486, \"time predicting\": 0.000174713134765625, \"rmse\": 0.24118695599176956}, {\"n\": 20, \"d\": 8, \"learner\": \"Random Forest\", \"mse\": 0.05897363146148826, \"time fitting\": 0.8127569198608399, \"time predicting\": 0.1367476463317871, \"rmse\": 0.2428448711862951}, {\"n\": 20, \"d\": 8, \"learner\": \"Ridge Regression\", \"mse\": 0.058399412424323574, \"time fitting\": 0.0002858161926269531, \"time predicting\": 3.757476806640625e-05, \"rmse\": 0.24165970376610904}, {\"n\": 20, \"d\": 10, \"learner\": \"Mean\", \"mse\": 0.12787554782929128, \"time fitting\": 9.474754333496093e-05, \"time predicting\": 1.8548965454101562e-05, \"rmse\": 0.357596906906773}, {\"n\": 20, \"d\": 10, \"learner\": \"Mixed Sobolev KRR\", \"mse\": 0.09374168401556958, \"time fitting\": 0.0008756160736083984, \"time predicting\": 0.0007234096527099609, \"rmse\": 0.30617263760102664}, {\"n\": 20, \"d\": 10, \"learner\": \"Radial Basis KRR\", \"mse\": 0.07958363521870904, \"time fitting\": 0.0031480312347412108, \"time predicting\": 0.0001991748809814453, \"rmse\": 0.28210571638786236}, {\"n\": 20, \"d\": 10, \"learner\": \"Random Forest\", \"mse\": 0.0714789609554416, \"time fitting\": 0.8119502067565918, \"time predicting\": 0.13682069778442382, \"rmse\": 0.26735549546519816}, {\"n\": 20, \"d\": 10, \"learner\": \"Ridge Regression\", \"mse\": 0.12076892041875661, \"time fitting\": 0.0002913951873779297, \"time predicting\": 3.809928894042969e-05, \"rmse\": 0.34751823034016016}, {\"n\": 20, \"d\": 20, \"learner\": \"Mean\", \"mse\": 0.1308093913706852, \"time fitting\": 9.1552734375e-05, \"time predicting\": 1.8072128295898437e-05, \"rmse\": 0.3616758097670968}, {\"n\": 20, \"d\": 20, \"learner\": \"Mixed Sobolev KRR\", \"mse\": 0.1195993341695969, \"time fitting\": 0.00085601806640625, \"time predicting\": 0.0011872291564941407, \"rmse\": 0.34583136666531117}, {\"n\": 20, \"d\": 20, \"learner\": \"Radial Basis KRR\", \"mse\": 0.13509533406289545, \"time fitting\": 0.003182220458984375, \"time predicting\": 0.0002040863037109375, \"rmse\": 0.367553171749198}, {\"n\": 20, \"d\": 20, \"learner\": \"Random Forest\", \"mse\": 0.060008106800193216, \"time fitting\": 0.8321874618530274, \"time predicting\": 0.13492727279663086, \"rmse\": 0.2449655216559939}, {\"n\": 20, \"d\": 20, \"learner\": \"Ridge Regression\", \"mse\": 1.0916612151025376, \"time fitting\": 0.0002849578857421875, \"time predicting\": 4.3487548828125e-05, \"rmse\": 1.044825925741957}, {\"n\": 20, \"d\": 30, \"learner\": \"Mean\", \"mse\": 0.12544005346873385, \"time fitting\": 9.908676147460938e-05, \"time predicting\": 2.2411346435546875e-05, \"rmse\": 0.3541751734223248}, {\"n\": 20, \"d\": 30, \"learner\": \"Mixed Sobolev KRR\", \"mse\": 0.12747635490520787, \"time fitting\": 0.0008578300476074219, \"time predicting\": 0.0016965866088867188, \"rmse\": 0.35703831013661247}, {\"n\": 20, \"d\": 30, \"learner\": \"Radial Basis KRR\", \"mse\": 0.09590569521525953, \"time fitting\": 0.003013277053833008, \"time predicting\": 0.00020060539245605468, \"rmse\": 0.30968644661214917}, {\"n\": 20, \"d\": 30, \"learner\": \"Random Forest\", \"mse\": 0.06543311634564893, \"time fitting\": 0.8272056102752685, \"time predicting\": 0.13740129470825196, \"rmse\": 0.25579897643588984}, {\"n\": 20, \"d\": 30, \"learner\": \"Ridge Regression\", \"mse\": 0.12926388268899122, \"time fitting\": 0.0002881526947021484, \"time predicting\": 6.394386291503906e-05, \"rmse\": 0.3595328673278581}, {\"n\": 100, \"d\": 5, \"learner\": \"Mean\", \"mse\": 0.12801351717513515, \"time fitting\": 0.00010056495666503907, \"time predicting\": 1.8787384033203124e-05, \"rmse\": 0.35778976672780227}, {\"n\": 100, \"d\": 5, \"learner\": \"Mixed Sobolev KRR\", \"mse\": 0.049741555016237435, \"time fitting\": 0.0031034469604492186, \"time predicting\": 0.0014589309692382812, \"rmse\": 0.22302814848408134}, {\"n\": 100, \"d\": 5, \"learner\": \"Radial Basis KRR\", \"mse\": 0.04358792116587429, \"time fitting\": 0.01346282958984375, \"time predicting\": 0.00038156509399414065, \"rmse\": 0.2087772046126547}, {\"n\": 100, \"d\": 5, \"learner\": \"Random Forest\", \"mse\": 0.05141330341377028, \"time fitting\": 0.8333116054534913, \"time predicting\": 0.14177756309509276, \"rmse\": 0.2267450184982468}, {\"n\": 100, \"d\": 5, \"learner\": \"Ridge Regression\", \"mse\": 0.043674783850551076, \"time fitting\": 0.0002903461456298828, \"time predicting\": 4.444122314453125e-05, \"rmse\": 0.2089851282999608}, {\"n\": 100, \"d\": 8, \"learner\": \"Mean\", \"mse\": 0.12151489793224528, \"time fitting\": 9.870529174804688e-05, \"time predicting\": 1.940727233886719e-05, \"rmse\": 0.3485898706678742}, {\"n\": 100, \"d\": 8, \"learner\": \"Mixed Sobolev KRR\", \"mse\": 0.050885233967120615, \"time fitting\": 0.003110361099243164, \"time predicting\": 0.0021165847778320313, \"rmse\": 0.22557755643485594}, {\"n\": 100, \"d\": 8, \"learner\": \"Radial Basis KRR\", \"mse\": 0.045977014672833195, \"time fitting\": 0.013297367095947265, \"time predicting\": 0.00037875175476074217, \"rmse\": 0.2144225143795147}, {\"n\": 100, \"d\": 8, \"learner\": \"Random Forest\", \"mse\": 0.0493152845651964, \"time fitting\": 0.8446874141693115, \"time predicting\": 0.14047846794128419, \"rmse\": 0.2220704495541818}, {\"n\": 100, \"d\": 8, \"learner\": \"Ridge Regression\", \"mse\": 0.04549875265872085, \"time fitting\": 0.00029044151306152345, \"time predicting\": 3.938674926757812e-05, \"rmse\": 0.21330436624392116}, {\"n\": 100, \"d\": 10, \"learner\": \"Mean\", \"mse\": 0.12208637318279114, \"time fitting\": 0.00010271072387695313, \"time predicting\": 2.160072326660156e-05, \"rmse\": 0.34940860490662096}, {\"n\": 100, \"d\": 10, \"learner\": \"Mixed Sobolev KRR\", \"mse\": 0.050404272513968215, \"time fitting\": 0.0027100563049316405, \"time predicting\": 0.0025011539459228516, \"rmse\": 0.22450895864969}, {\"n\": 100, \"d\": 10, \"learner\": \"Radial Basis KRR\", \"mse\": 0.04377111860849842, \"time fitting\": 0.012256765365600586, \"time predicting\": 0.0004643440246582031, \"rmse\": 0.2092154836729309}, {\"n\": 100, \"d\": 10, \"learner\": \"Random Forest\", \"mse\": 0.04663061622323223, \"time fitting\": 0.8439166069030761, \"time predicting\": 0.1420419692993164, \"rmse\": 0.2159412332632011}, {\"n\": 100, \"d\": 10, \"learner\": \"Ridge Regression\", \"mse\": 0.043852107510563475, \"time fitting\": 0.00029754638671875, \"time predicting\": 6.208419799804687e-05, \"rmse\": 0.20940894801933244}, {\"n\": 100, \"d\": 20, \"learner\": \"Mean\", \"mse\": 0.12628066744475314, \"time fitting\": 9.784698486328124e-05, \"time predicting\": 1.873970031738281e-05, \"rmse\": 0.3553599125460737}, {\"n\": 100, \"d\": 20, \"learner\": \"Mixed Sobolev KRR\", \"mse\": 0.07795197152933922, \"time fitting\": 0.00322723388671875, \"time predicting\": 0.004715156555175781, \"rmse\": 0.27919880287948806}, {\"n\": 100, \"d\": 20, \"learner\": \"Radial Basis KRR\", \"mse\": 0.04927940767782592, \"time fitting\": 0.012500905990600586, \"time predicting\": 0.0004817962646484375, \"rmse\": 0.2219896566910853}, {\"n\": 100, \"d\": 20, \"learner\": \"Random Forest\", \"mse\": 0.04852446341635574, \"time fitting\": 0.8601028442382812, \"time predicting\": 0.13738536834716797, \"rmse\": 0.220282689779192}, {\"n\": 100, \"d\": 20, \"learner\": \"Ridge Regression\", \"mse\": 0.04897124270777954, \"time fitting\": 0.0002902507781982422, \"time predicting\": 5.2976608276367185e-05, \"rmse\": 0.2212944705766042}, {\"n\": 100, \"d\": 30, \"learner\": \"Mean\", \"mse\": 0.12283279684279566, \"time fitting\": 9.980201721191407e-05, \"time predicting\": 1.9168853759765626e-05, \"rmse\": 0.3504751016018052}, {\"n\": 100, \"d\": 30, \"learner\": \"Mixed Sobolev KRR\", \"mse\": 0.10732164887182039, \"time fitting\": 0.0029106616973876955, \"time predicting\": 0.006627178192138672, \"rmse\": 0.32759983039040236}, {\"n\": 100, \"d\": 30, \"learner\": \"Radial Basis KRR\", \"mse\": 0.05695087531965801, \"time fitting\": 0.01277608871459961, \"time predicting\": 0.0005127906799316407, \"rmse\": 0.2386438252284312}, {\"n\": 100, \"d\": 30, \"learner\": \"Random Forest\", \"mse\": 0.04711221907905534, \"time fitting\": 0.8711672306060791, \"time predicting\": 0.1441732883453369, \"rmse\": 0.21705349358868967}, {\"n\": 100, \"d\": 30, \"learner\": \"Ridge Regression\", \"mse\": 0.061212495260856835, \"time fitting\": 0.0003022670745849609, \"time predicting\": 5.407333374023438e-05, \"rmse\": 0.24741159079731256}, {\"n\": 200, \"d\": 5, \"learner\": \"Mean\", \"mse\": 0.12423496814623942, \"time fitting\": 0.00010781288146972656, \"time predicting\": 2.036094665527344e-05, \"rmse\": 0.35246981168071606}, {\"n\": 200, \"d\": 5, \"learner\": \"Mixed Sobolev KRR\", \"mse\": 0.04576963064557162, \"time fitting\": 0.008053064346313477, \"time predicting\": 0.0027614593505859374, \"rmse\": 0.21393838048740021}, {\"n\": 200, \"d\": 5, \"learner\": \"Radial Basis KRR\", \"mse\": 0.04128525909709796, \"time fitting\": 0.03983926773071289, \"time predicting\": 0.0007192134857177734, \"rmse\": 0.2031877434716424}, {\"n\": 200, \"d\": 5, \"learner\": \"Random Forest\", \"mse\": 0.04714083250345964, \"time fitting\": 0.8829249382019043, \"time predicting\": 0.14663572311401368, \"rmse\": 0.21711939688443233}, {\"n\": 200, \"d\": 5, \"learner\": \"Ridge Regression\", \"mse\": 0.04121778225142332, \"time fitting\": 0.0003008842468261719, \"time predicting\": 0.0001513957977294922, \"rmse\": 0.20302163000878334}, {\"n\": 200, \"d\": 8, \"learner\": \"Mean\", \"mse\": 0.12353690307645344, \"time fitting\": 0.00010347366333007812, \"time predicting\": 1.9979476928710937e-05, \"rmse\": 0.35147816870533144}, {\"n\": 200, \"d\": 8, \"learner\": \"Mixed Sobolev KRR\", \"mse\": 0.04599322082046028, \"time fitting\": 0.011490201950073243, \"time predicting\": 0.004591798782348633, \"rmse\": 0.21446030126916327}, {\"n\": 200, \"d\": 8, \"learner\": \"Radial Basis KRR\", \"mse\": 0.0401882143238537, \"time fitting\": 0.03916049003601074, \"time predicting\": 0.0006741046905517578, \"rmse\": 0.20046998359817786}, {\"n\": 200, \"d\": 8, \"learner\": \"Random Forest\", \"mse\": 0.044926044670209296, \"time fitting\": 0.872652006149292, \"time predicting\": 0.1436018466949463, \"rmse\": 0.2119576482937318}, {\"n\": 200, \"d\": 8, \"learner\": \"Ridge Regression\", \"mse\": 0.040192033073142695, \"time fitting\": 0.0002868175506591797, \"time predicting\": 0.00014314651489257812, \"rmse\": 0.20047950786337912}, {\"n\": 200, \"d\": 10, \"learner\": \"Mean\", \"mse\": 0.12478617554279496, \"time fitting\": 9.655952453613281e-05, \"time predicting\": 1.8215179443359376e-05, \"rmse\": 0.35325086771697384}, {\"n\": 200, \"d\": 10, \"learner\": \"Mixed Sobolev KRR\", \"mse\": 0.048144773052213166, \"time fitting\": 0.00841226577758789, \"time predicting\": 0.004462146759033203, \"rmse\": 0.2194191720251746}, {\"n\": 200, \"d\": 10, \"learner\": \"Radial Basis KRR\", \"mse\": 0.04139181417639631, \"time fitting\": 0.038651466369628906, \"time predicting\": 0.000679636001586914, \"rmse\": 0.2034497829352401}, {\"n\": 200, \"d\": 10, \"learner\": \"Random Forest\", \"mse\": 0.04655568532394656, \"time fitting\": 0.8879660129547119, \"time predicting\": 0.14273252487182617, \"rmse\": 0.21576766514922147}, {\"n\": 200, \"d\": 10, \"learner\": \"Ridge Regression\", \"mse\": 0.04128571376657665, \"time fitting\": 0.000281524658203125, \"time predicting\": 0.00018906593322753906, \"rmse\": 0.2031888623093713}, {\"n\": 200, \"d\": 20, \"learner\": \"Mean\", \"mse\": 0.12566378850112908, \"time fitting\": 9.95635986328125e-05, \"time predicting\": 2.036094665527344e-05, \"rmse\": 0.3544908863442459}, {\"n\": 200, \"d\": 20, \"learner\": \"Mixed Sobolev KRR\", \"mse\": 0.062002772193599155, \"time fitting\": 0.009252262115478516, \"time predicting\": 0.009138917922973633, \"rmse\": 0.2490035585962561}, {\"n\": 200, \"d\": 20, \"learner\": \"Radial Basis KRR\", \"mse\": 0.04382867175791104, \"time fitting\": 0.036867380142211914, \"time predicting\": 0.0008846282958984375, \"rmse\": 0.20935298363747062}, {\"n\": 200, \"d\": 20, \"learner\": \"Random Forest\", \"mse\": 0.04558120970462199, \"time fitting\": 0.8920266151428222, \"time predicting\": 0.14476380348205567, \"rmse\": 0.2134975636971579}, {\"n\": 200, \"d\": 20, \"learner\": \"Ridge Regression\", \"mse\": 0.044024856196856574, \"time fitting\": 0.0002985954284667969, \"time predicting\": 8.082389831542969e-05, \"rmse\": 0.2098210099033378}, {\"n\": 200, \"d\": 30, \"learner\": \"Mean\", \"mse\": 0.12352959703922688, \"time fitting\": 0.0001064300537109375, \"time predicting\": 2.09808349609375e-05, \"rmse\": 0.3514677752500603}, {\"n\": 200, \"d\": 30, \"learner\": \"Mixed Sobolev KRR\", \"mse\": 0.0940831920281306, \"time fitting\": 0.009962081909179688, \"time predicting\": 0.012737607955932618, \"rmse\": 0.30672983556891004}, {\"n\": 200, \"d\": 30, \"learner\": \"Radial Basis KRR\", \"mse\": 0.045631993140944946, \"time fitting\": 0.038049507141113284, \"time predicting\": 0.0011287212371826171, \"rmse\": 0.2136164627104965}, {\"n\": 200, \"d\": 30, \"learner\": \"Random Forest\", \"mse\": 0.04431613516869073, \"time fitting\": 0.9151445388793945, \"time predicting\": 0.1428685188293457, \"rmse\": 0.21051397855888507}, {\"n\": 200, \"d\": 30, \"learner\": \"Ridge Regression\", \"mse\": 0.04690590954717224, \"time fitting\": 0.00036172866821289064, \"time predicting\": 7.009506225585938e-05, \"rmse\": 0.216577721724032}]}}, {\"mode\": \"vega-lite\"});\n",
       "</script>"
      ],
      "text/plain": [
       "alt.Chart(...)"
      ]
     },
     "execution_count": null,
     "metadata": {},
     "output_type": "execute_result"
    }
   ],
   "source": [
    "df = (\n",
    "    pd.DataFrame(results)\n",
    "    .groupby(['n', 'd', 'learner'], as_index=False)  \n",
    "    .agg({\n",
    "        'mse': np.mean,  \n",
    "        'time fitting': np.mean,\n",
    "        'time predicting': np.mean,\n",
    "    })\n",
    "    # mutate mse to rmse by taking sqrt\n",
    "    .assign(**{\n",
    "        'rmse': lambda df: np.sqrt(df['mse']),\n",
    "    })\n",
    ")\n",
    "\n",
    "alt.Chart(df).mark_line().encode(\n",
    "    x='d', \n",
    "    y='mse',\n",
    "    color = 'learner',\n",
    "    column='n',\n",
    ").properties(\n",
    "    width=200,\n",
    "    height=200,\n",
    ").configure_axis(\n",
    "    labelFontSize=14,\n",
    "    titleFontSize=16\n",
    ").configure_legend(\n",
    "    labelFontSize=14,\n",
    "    titleFontSize=16\n",
    ").configure_header(\n",
    "    labelFontSize=16,  # Increases the font size of the facet labels\n",
    "    titleFontSize=18   # Increases the font size of the facet titles\n",
    ")"
   ]
  },
  {
   "cell_type": "code",
   "execution_count": 21,
   "id": "d9a01f0d",
   "metadata": {},
   "outputs": [
    {
     "name": "stderr",
     "output_type": "stream",
     "text": [
      "<positron-console-cell-21>:4: FutureWarning: The provided callable <function mean at 0x107a85c60> is currently using SeriesGroupBy.mean. In a future version of pandas, the provided callable will be used directly. To keep current behavior pass the string \"mean\" instead.\n",
      "<positron-console-cell-21>:4: FutureWarning: The provided callable <function mean at 0x107a85c60> is currently using SeriesGroupBy.mean. In a future version of pandas, the provided callable will be used directly. To keep current behavior pass the string \"mean\" instead.\n"
     ]
    },
    {
     "data": {
      "text/html": [
       "\n",
       "<style>\n",
       "  #altair-viz-382809bcf45c45478e4b4fab92fb353e.vega-embed {\n",
       "    width: 100%;\n",
       "    display: flex;\n",
       "  }\n",
       "\n",
       "  #altair-viz-382809bcf45c45478e4b4fab92fb353e.vega-embed details,\n",
       "  #altair-viz-382809bcf45c45478e4b4fab92fb353e.vega-embed details summary {\n",
       "    position: relative;\n",
       "  }\n",
       "</style>\n",
       "<div id=\"altair-viz-382809bcf45c45478e4b4fab92fb353e\"></div>\n",
       "<script type=\"text/javascript\">\n",
       "  var VEGA_DEBUG = (typeof VEGA_DEBUG == \"undefined\") ? {} : VEGA_DEBUG;\n",
       "  (function(spec, embedOpt){\n",
       "    let outputDiv = document.currentScript.previousElementSibling;\n",
       "    if (outputDiv.id !== \"altair-viz-382809bcf45c45478e4b4fab92fb353e\") {\n",
       "      outputDiv = document.getElementById(\"altair-viz-382809bcf45c45478e4b4fab92fb353e\");\n",
       "    }\n",
       "    const paths = {\n",
       "      \"vega\": \"https://cdn.jsdelivr.net/npm/vega@5?noext\",\n",
       "      \"vega-lib\": \"https://cdn.jsdelivr.net/npm/vega-lib?noext\",\n",
       "      \"vega-lite\": \"https://cdn.jsdelivr.net/npm/vega-lite@5.20.1?noext\",\n",
       "      \"vega-embed\": \"https://cdn.jsdelivr.net/npm/vega-embed@6?noext\",\n",
       "    };\n",
       "\n",
       "    function maybeLoadScript(lib, version) {\n",
       "      var key = `${lib.replace(\"-\", \"\")}_version`;\n",
       "      return (VEGA_DEBUG[key] == version) ?\n",
       "        Promise.resolve(paths[lib]) :\n",
       "        new Promise(function(resolve, reject) {\n",
       "          var s = document.createElement('script');\n",
       "          document.getElementsByTagName(\"head\")[0].appendChild(s);\n",
       "          s.async = true;\n",
       "          s.onload = () => {\n",
       "            VEGA_DEBUG[key] = version;\n",
       "            return resolve(paths[lib]);\n",
       "          };\n",
       "          s.onerror = () => reject(`Error loading script: ${paths[lib]}`);\n",
       "          s.src = paths[lib];\n",
       "        });\n",
       "    }\n",
       "\n",
       "    function showError(err) {\n",
       "      outputDiv.innerHTML = `<div class=\"error\" style=\"color:red;\">${err}</div>`;\n",
       "      throw err;\n",
       "    }\n",
       "\n",
       "    function displayChart(vegaEmbed) {\n",
       "      vegaEmbed(outputDiv, spec, embedOpt)\n",
       "        .catch(err => showError(`Javascript Error: ${err.message}<br>This usually means there's a typo in your chart specification. See the javascript console for the full traceback.`));\n",
       "    }\n",
       "\n",
       "    if(typeof define === \"function\" && define.amd) {\n",
       "      requirejs.config({paths});\n",
       "      require([\"vega-embed\"], displayChart, err => showError(`Error loading script: ${err.message}`));\n",
       "    } else {\n",
       "      maybeLoadScript(\"vega\", \"5\")\n",
       "        .then(() => maybeLoadScript(\"vega-lite\", \"5.20.1\"))\n",
       "        .then(() => maybeLoadScript(\"vega-embed\", \"6\"))\n",
       "        .catch(showError)\n",
       "        .then(() => displayChart(vegaEmbed));\n",
       "    }\n",
       "  })({\"config\": {\"view\": {\"continuousWidth\": 300, \"continuousHeight\": 300}, \"axis\": {\"labelFontSize\": 14, \"titleFontSize\": 16}, \"header\": {\"labelFontSize\": 16, \"titleFontSize\": 18}, \"legend\": {\"labelFontSize\": 14, \"titleFontSize\": 16}}, \"data\": {\"name\": \"data-7bc642cfa6d4295d7320b4e3b577ac36\"}, \"mark\": {\"type\": \"line\"}, \"encoding\": {\"color\": {\"field\": \"learner\", \"type\": \"nominal\"}, \"column\": {\"field\": \"n\", \"type\": \"quantitative\"}, \"x\": {\"field\": \"d\", \"type\": \"quantitative\"}, \"y\": {\"field\": \"mse\", \"type\": \"quantitative\"}}, \"height\": 200, \"width\": 200, \"$schema\": \"https://vega.github.io/schema/vega-lite/v5.20.1.json\", \"datasets\": {\"data-7bc642cfa6d4295d7320b4e3b577ac36\": [{\"n\": 20, \"d\": 5, \"learner\": \"HAR\", \"mse\": 0.018384796635638228, \"time fitting\": 0.0008090496063232422, \"time predicting\": 0.0036869049072265625, \"rmse\": 0.1355905477370684}, {\"n\": 20, \"d\": 5, \"learner\": \"Mean\", \"mse\": 0.0854313731914062, \"time fitting\": 0.00010867118835449219, \"time predicting\": 2.1982192993164063e-05, \"rmse\": 0.29228645742046655}, {\"n\": 20, \"d\": 5, \"learner\": \"Mixed Sobolev KRR\", \"mse\": 0.009546422534463965, \"time fitting\": 0.0010046005249023438, \"time predicting\": 0.0005669593811035156, \"rmse\": 0.09770579580794563}, {\"n\": 20, \"d\": 5, \"learner\": \"Radial Basis KRR\", \"mse\": 7.846609554948368e-09, \"time fitting\": 0.0031197786331176756, \"time predicting\": 0.00021486282348632814, \"rmse\": 8.858109027861629e-05}, {\"n\": 20, \"d\": 5, \"learner\": \"Random Forest\", \"mse\": 0.0035864851460830605, \"time fitting\": 0.7769070386886596, \"time predicting\": 0.1386455774307251, \"rmse\": 0.05988727031751456}, {\"n\": 20, \"d\": 5, \"learner\": \"Ridge Regression\", \"mse\": 7.149153316724416e-08, \"time fitting\": 0.0002933502197265625, \"time predicting\": 4.093647003173828e-05, \"rmse\": 0.00026737900659409326}, {\"n\": 20, \"d\": 10, \"learner\": \"HAR\", \"mse\": 0.05933389364990623, \"time fitting\": 0.000813436508178711, \"time predicting\": 0.007320117950439453, \"rmse\": 0.24358549556553286}, {\"n\": 20, \"d\": 10, \"learner\": \"Mean\", \"mse\": 0.08902457024035852, \"time fitting\": 0.00010204315185546875, \"time predicting\": 2.052783966064453e-05, \"rmse\": 0.29836985477819056}, {\"n\": 20, \"d\": 10, \"learner\": \"Mixed Sobolev KRR\", \"mse\": 0.04300676295920036, \"time fitting\": 0.0008540153503417969, \"time predicting\": 0.0007531881332397461, \"rmse\": 0.20738071983480133}, {\"n\": 20, \"d\": 10, \"learner\": \"Radial Basis KRR\", \"mse\": 1.299850467953389e-07, \"time fitting\": 0.003107285499572754, \"time predicting\": 0.0002131938934326172, \"rmse\": 0.00036053439058616706}, {\"n\": 20, \"d\": 10, \"learner\": \"Random Forest\", \"mse\": 0.006950676936960179, \"time fitting\": 0.8107955455780029, \"time predicting\": 0.13760383129119874, \"rmse\": 0.0833707199018947}, {\"n\": 20, \"d\": 10, \"learner\": \"Ridge Regression\", \"mse\": 5.493181998550144e-07, \"time fitting\": 0.00028481483459472654, \"time predicting\": 3.833770751953125e-05, \"rmse\": 0.0007411600366014174}, {\"n\": 20, \"d\": 15, \"learner\": \"HAR\", \"mse\": 0.08324366391511565, \"time fitting\": 0.0008986234664916992, \"time predicting\": 0.012252259254455566, \"rmse\": 0.28851978080387425}, {\"n\": 20, \"d\": 15, \"learner\": \"Mean\", \"mse\": 0.08859782145736332, \"time fitting\": 0.0001013040542602539, \"time predicting\": 2.0694732666015624e-05, \"rmse\": 0.29765386182168596}, {\"n\": 20, \"d\": 15, \"learner\": \"Mixed Sobolev KRR\", \"mse\": 0.06284630565909229, \"time fitting\": 0.0010438680648803711, \"time predicting\": 0.0011056423187255859, \"rmse\": 0.2506916545461621}, {\"n\": 20, \"d\": 15, \"learner\": \"Radial Basis KRR\", \"mse\": 8.285252326166075e-06, \"time fitting\": 0.003506040573120117, \"time predicting\": 0.00020925998687744142, \"rmse\": 0.0028784114240612084}, {\"n\": 20, \"d\": 15, \"learner\": \"Random Forest\", \"mse\": 0.00878430684633928, \"time fitting\": 0.834357500076294, \"time predicting\": 0.13708159923553467, \"rmse\": 0.09372463308191331}, {\"n\": 20, \"d\": 15, \"learner\": \"Ridge Regression\", \"mse\": 4.528552358086052e-06, \"time fitting\": 0.0002840757369995117, \"time predicting\": 5.335807800292969e-05, \"rmse\": 0.0021280395574533035}, {\"n\": 20, \"d\": 20, \"learner\": \"HAR\", \"mse\": 0.08395477537193478, \"time fitting\": 0.0009446620941162109, \"time predicting\": 0.015124964714050292, \"rmse\": 0.289749504524054}, {\"n\": 20, \"d\": 20, \"learner\": \"Mean\", \"mse\": 0.08487461241424328, \"time fitting\": 0.00010855197906494141, \"time predicting\": 2.0813941955566406e-05, \"rmse\": 0.2913324774450032}, {\"n\": 20, \"d\": 20, \"learner\": \"Mixed Sobolev KRR\", \"mse\": 0.07170750470749987, \"time fitting\": 0.0008857965469360352, \"time predicting\": 0.0012757539749145507, \"rmse\": 0.26778256983511806}, {\"n\": 20, \"d\": 20, \"learner\": \"Radial Basis KRR\", \"mse\": 0.0031298641936921396, \"time fitting\": 0.0031246662139892576, \"time predicting\": 0.00021557807922363282, \"rmse\": 0.05594518919167348}, {\"n\": 20, \"d\": 20, \"learner\": \"Random Forest\", \"mse\": 0.00802296494455533, \"time fitting\": 0.8438192844390869, \"time predicting\": 0.1361543893814087, \"rmse\": 0.08957100504379378}, {\"n\": 20, \"d\": 20, \"learner\": \"Ridge Regression\", \"mse\": 0.00291844641549121, \"time fitting\": 0.00029881000518798827, \"time predicting\": 4.4679641723632814e-05, \"rmse\": 0.05402264724623563}, {\"n\": 20, \"d\": 25, \"learner\": \"HAR\", \"mse\": 0.08726601094617167, \"time fitting\": 0.0009939432144165038, \"time predicting\": 0.019474220275878907, \"rmse\": 0.29540821069525414}, {\"n\": 20, \"d\": 25, \"learner\": \"Mean\", \"mse\": 0.08743126489503505, \"time fitting\": 0.00010559558868408203, \"time predicting\": 2.1910667419433595e-05, \"rmse\": 0.295687782796373}, {\"n\": 20, \"d\": 25, \"learner\": \"Mixed Sobolev KRR\", \"mse\": 0.08160544684575036, \"time fitting\": 0.0009099006652832031, \"time predicting\": 0.0015421390533447265, \"rmse\": 0.2856666708696525}, {\"n\": 20, \"d\": 25, \"learner\": \"Radial Basis KRR\", \"mse\": 0.018741563660204342, \"time fitting\": 0.0030693292617797853, \"time predicting\": 0.00021376609802246094, \"rmse\": 0.1368998307530157}, {\"n\": 20, \"d\": 25, \"learner\": \"Random Forest\", \"mse\": 0.008402551948205909, \"time fitting\": 0.8329640626907349, \"time predicting\": 0.13673393726348876, \"rmse\": 0.0916654348607255}, {\"n\": 20, \"d\": 25, \"learner\": \"Ridge Regression\", \"mse\": 0.018413964589863146, \"time fitting\": 0.0002928018569946289, \"time predicting\": 6.368160247802735e-05, \"rmse\": 0.1356980640608522}, {\"n\": 20, \"d\": 30, \"learner\": \"HAR\", \"mse\": 0.08742348031125982, \"time fitting\": 0.0010816812515258788, \"time predicting\": 0.022968220710754394, \"rmse\": 0.29567461898387526}, {\"n\": 20, \"d\": 30, \"learner\": \"Mean\", \"mse\": 0.08750473826990299, \"time fitting\": 0.00010361671447753907, \"time predicting\": 2.0933151245117187e-05, \"rmse\": 0.29581199818449383}, {\"n\": 20, \"d\": 30, \"learner\": \"Mixed Sobolev KRR\", \"mse\": 0.08506309380993758, \"time fitting\": 0.0008515357971191406, \"time predicting\": 0.001726818084716797, \"rmse\": 0.29165577966146594}, {\"n\": 20, \"d\": 30, \"learner\": \"Radial Basis KRR\", \"mse\": 0.03332950981934532, \"time fitting\": 0.0030802488327026367, \"time predicting\": 0.00022137165069580078, \"rmse\": 0.18256371441046362}, {\"n\": 20, \"d\": 30, \"learner\": \"Random Forest\", \"mse\": 0.011508019900802297, \"time fitting\": 0.830544376373291, \"time predicting\": 0.13639364242553711, \"rmse\": 0.1072754394109029}, {\"n\": 20, \"d\": 30, \"learner\": \"Ridge Regression\", \"mse\": 0.02892763057305122, \"time fitting\": 0.00028951168060302733, \"time predicting\": 5.767345428466797e-05, \"rmse\": 0.1700812469764119}, {\"n\": 20, \"d\": 35, \"learner\": \"HAR\", \"mse\": 0.08551115932203798, \"time fitting\": 0.0011390447616577148, \"time predicting\": 0.026894736289978027, \"rmse\": 0.29242291175972857}, {\"n\": 20, \"d\": 35, \"learner\": \"Mean\", \"mse\": 0.08552023262839135, \"time fitting\": 0.00010542869567871093, \"time predicting\": 2.129077911376953e-05, \"rmse\": 0.29243842536231685}, {\"n\": 20, \"d\": 35, \"learner\": \"Mixed Sobolev KRR\", \"mse\": 0.08416624302308982, \"time fitting\": 0.0009006023406982422, \"time predicting\": 0.002007722854614258, \"rmse\": 0.29011418962727387}, {\"n\": 20, \"d\": 35, \"learner\": \"Radial Basis KRR\", \"mse\": 0.044975076294404934, \"time fitting\": 0.0031003713607788085, \"time predicting\": 0.00023584365844726564, \"rmse\": 0.2120732804820186}, {\"n\": 20, \"d\": 35, \"learner\": \"Random Forest\", \"mse\": 0.010384533263066386, \"time fitting\": 0.8356130599975586, \"time predicting\": 0.13618688583374022, \"rmse\": 0.10190453014005994}, {\"n\": 20, \"d\": 35, \"learner\": \"Ridge Regression\", \"mse\": 0.04154426965847745, \"time fitting\": 0.0002909660339355469, \"time predicting\": 6.303787231445312e-05, \"rmse\": 0.20382411451660337}, {\"n\": 20, \"d\": 40, \"learner\": \"HAR\", \"mse\": 0.08739209836067147, \"time fitting\": 0.0013056039810180665, \"time predicting\": 0.02954268455505371, \"rmse\": 0.2956215458329644}, {\"n\": 20, \"d\": 40, \"learner\": \"Mean\", \"mse\": 0.08739268655051455, \"time fitting\": 0.00011065006256103516, \"time predicting\": 2.2220611572265626e-05, \"rmse\": 0.2956225406671733}, {\"n\": 20, \"d\": 40, \"learner\": \"Mixed Sobolev KRR\", \"mse\": 0.08671242057676393, \"time fitting\": 0.0008852958679199218, \"time predicting\": 0.002273154258728027, \"rmse\": 0.29446972777649644}, {\"n\": 20, \"d\": 40, \"learner\": \"Radial Basis KRR\", \"mse\": 0.052468467505052276, \"time fitting\": 0.0030269861221313477, \"time predicting\": 0.00023088455200195312, \"rmse\": 0.2290599648673951}, {\"n\": 20, \"d\": 40, \"learner\": \"Random Forest\", \"mse\": 0.011917374519588755, \"time fitting\": 0.8326938390731812, \"time predicting\": 0.13285386562347412, \"rmse\": 0.1091667280795241}, {\"n\": 20, \"d\": 40, \"learner\": \"Ridge Regression\", \"mse\": 0.052234679387145565, \"time fitting\": 0.00029647350311279297, \"time predicting\": 6.444454193115235e-05, \"rmse\": 0.2285490743519771}, {\"n\": 50, \"d\": 5, \"learner\": \"HAR\", \"mse\": 0.005791841874604037, \"time fitting\": 0.001644134521484375, \"time predicting\": 0.014161777496337891, \"rmse\": 0.07610415149388394}, {\"n\": 50, \"d\": 5, \"learner\": \"Mean\", \"mse\": 0.08617621069752854, \"time fitting\": 0.0001046895980834961, \"time predicting\": 2.129077911376953e-05, \"rmse\": 0.29355784897959813}, {\"n\": 50, \"d\": 5, \"learner\": \"Mixed Sobolev KRR\", \"mse\": 0.0017305391760851121, \"time fitting\": 0.001291799545288086, \"time predicting\": 0.0008111715316772461, \"rmse\": 0.041599749711808506}, {\"n\": 50, \"d\": 5, \"learner\": \"Radial Basis KRR\", \"mse\": 3.3996843421002193e-09, \"time fitting\": 0.005542182922363281, \"time predicting\": 0.0002539396286010742, \"rmse\": 5.8306812141466105e-05}, {\"n\": 50, \"d\": 5, \"learner\": \"Random Forest\", \"mse\": 0.0004059835793882837, \"time fitting\": 0.8332711935043335, \"time predicting\": 0.13766493797302246, \"rmse\": 0.020149034204851698}, {\"n\": 50, \"d\": 5, \"learner\": \"Ridge Regression\", \"mse\": 6.792880098697278e-09, \"time fitting\": 0.0002814054489135742, \"time predicting\": 3.5881996154785156e-05, \"rmse\": 8.241893046319686e-05}, {\"n\": 50, \"d\": 10, \"learner\": \"HAR\", \"mse\": 0.024891811821296426, \"time fitting\": 0.0022624969482421876, \"time predicting\": 0.028844118118286133, \"rmse\": 0.15777139101020954}, {\"n\": 50, \"d\": 10, \"learner\": \"Mean\", \"mse\": 0.08474962466673017, \"time fitting\": 0.00010883808135986328, \"time predicting\": 2.0813941955566406e-05, \"rmse\": 0.2911178879195337}, {\"n\": 50, \"d\": 10, \"learner\": \"Mixed Sobolev KRR\", \"mse\": 0.014250852941542241, \"time fitting\": 0.0013334989547729493, \"time predicting\": 0.0013445138931274414, \"rmse\": 0.11937693638866027}, {\"n\": 50, \"d\": 10, \"learner\": \"Radial Basis KRR\", \"mse\": 1.9117155401444573e-08, \"time fitting\": 0.005205821990966797, \"time predicting\": 0.00026371479034423826, \"rmse\": 0.00013826480174449523}, {\"n\": 50, \"d\": 10, \"learner\": \"Random Forest\", \"mse\": 0.0006224496341086953, \"time fitting\": 0.8371286392211914, \"time predicting\": 0.1357140302658081, \"rmse\": 0.024948940540806444}, {\"n\": 50, \"d\": 10, \"learner\": \"Ridge Regression\", \"mse\": 1.157349661363947e-08, \"time fitting\": 0.00029289722442626953, \"time predicting\": 3.9410591125488284e-05, \"rmse\": 0.00010758018690093204}, {\"n\": 50, \"d\": 15, \"learner\": \"HAR\", \"mse\": 0.057296980315993694, \"time fitting\": 0.0028606653213500977, \"time predicting\": 0.044561004638671874, \"rmse\": 0.23936787653315908}, {\"n\": 50, \"d\": 15, \"learner\": \"Mean\", \"mse\": 0.08447387235962059, \"time fitting\": 0.00010969638824462891, \"time predicting\": 2.1004676818847655e-05, \"rmse\": 0.2906438926927944}, {\"n\": 50, \"d\": 15, \"learner\": \"Mixed Sobolev KRR\", \"mse\": 0.03615184620428768, \"time fitting\": 0.0014666080474853515, \"time predicting\": 0.0018705129623413086, \"rmse\": 0.19013638842759079}, {\"n\": 50, \"d\": 15, \"learner\": \"Radial Basis KRR\", \"mse\": 5.652510594303688e-08, \"time fitting\": 0.006142759323120117, \"time predicting\": 0.00027768611907958985, \"rmse\": 0.00023775009136283603}, {\"n\": 50, \"d\": 15, \"learner\": \"Random Forest\", \"mse\": 0.0010557188531655792, \"time fitting\": 0.8351534366607666, \"time predicting\": 0.13710157871246337, \"rmse\": 0.032491827482700616}, {\"n\": 50, \"d\": 15, \"learner\": \"Ridge Regression\", \"mse\": 1.965475880380176e-08, \"time fitting\": 0.0003022670745849609, \"time predicting\": 4.1484832763671875e-05, \"rmse\": 0.00014019543075222444}, {\"n\": 50, \"d\": 20, \"learner\": \"HAR\", \"mse\": 0.07946459109630927, \"time fitting\": 0.003558349609375, \"time predicting\": 0.056133580207824704, \"rmse\": 0.281894645384245}, {\"n\": 50, \"d\": 20, \"learner\": \"Mean\", \"mse\": 0.08615490932198512, \"time fitting\": 0.00011749267578125, \"time predicting\": 2.3412704467773438e-05, \"rmse\": 0.29352156534398816}, {\"n\": 50, \"d\": 20, \"learner\": \"Mixed Sobolev KRR\", \"mse\": 0.05649816327390267, \"time fitting\": 0.0014618635177612305, \"time predicting\": 0.002477741241455078, \"rmse\": 0.23769342286631043}, {\"n\": 50, \"d\": 20, \"learner\": \"Radial Basis KRR\", \"mse\": 1.8753847173356342e-07, \"time fitting\": 0.00524287223815918, \"time predicting\": 0.00028676986694335936, \"rmse\": 0.0004330571229451877}, {\"n\": 50, \"d\": 20, \"learner\": \"Random Forest\", \"mse\": 0.0011161631337971664, \"time fitting\": 0.8491190671920776, \"time predicting\": 0.13782365322113038, \"rmse\": 0.03340902772900113}, {\"n\": 50, \"d\": 20, \"learner\": \"Ridge Regression\", \"mse\": 2.979883025427687e-08, \"time fitting\": 0.00030493736267089844, \"time predicting\": 4.391670227050781e-05, \"rmse\": 0.00017262337690555375}, {\"n\": 50, \"d\": 25, \"learner\": \"HAR\", \"mse\": 0.0840424486719303, \"time fitting\": 0.0042236089706420895, \"time predicting\": 0.07614502906799317, \"rmse\": 0.28990075659082076}, {\"n\": 50, \"d\": 25, \"learner\": \"Mean\", \"mse\": 0.08481181750652304, \"time fitting\": 0.0001163482666015625, \"time predicting\": 2.2196769714355467e-05, \"rmse\": 0.29122468560635967}, {\"n\": 50, \"d\": 25, \"learner\": \"Mixed Sobolev KRR\", \"mse\": 0.06826691328204204, \"time fitting\": 0.0014407873153686524, \"time predicting\": 0.0031203031539916992, \"rmse\": 0.2612793778353777}, {\"n\": 50, \"d\": 25, \"learner\": \"Radial Basis KRR\", \"mse\": 5.448615941788381e-07, \"time fitting\": 0.005253982543945312, \"time predicting\": 0.00031406879425048827, \"rmse\": 0.000738147406808991}, {\"n\": 50, \"d\": 25, \"learner\": \"Random Forest\", \"mse\": 0.001203825379072519, \"time fitting\": 0.8770673274993896, \"time predicting\": 0.13762271404266357, \"rmse\": 0.03469618680881977}, {\"n\": 50, \"d\": 25, \"learner\": \"Ridge Regression\", \"mse\": 3.125895152731747e-08, \"time fitting\": 0.0003036022186279297, \"time predicting\": 5.233287811279297e-05, \"rmse\": 0.00017680201222643784}, {\"n\": 50, \"d\": 30, \"learner\": \"HAR\", \"mse\": 0.08807768953589953, \"time fitting\": 0.004978299140930176, \"time predicting\": 0.0924530267715454, \"rmse\": 0.2967788562817431}, {\"n\": 50, \"d\": 30, \"learner\": \"Mean\", \"mse\": 0.08829972121851402, \"time fitting\": 0.00011897087097167969, \"time predicting\": 2.2792816162109374e-05, \"rmse\": 0.2971526900745037}, {\"n\": 50, \"d\": 30, \"learner\": \"Mixed Sobolev KRR\", \"mse\": 0.07930408322580099, \"time fitting\": 0.0016260862350463868, \"time predicting\": 0.003769516944885254, \"rmse\": 0.28160980669323465}, {\"n\": 50, \"d\": 30, \"learner\": \"Radial Basis KRR\", \"mse\": 3.098041007713927e-06, \"time fitting\": 0.005373954772949219, \"time predicting\": 0.00034546852111816406, \"rmse\": 0.0017601252818234066}, {\"n\": 50, \"d\": 30, \"learner\": \"Random Forest\", \"mse\": 0.0012635797681535082, \"time fitting\": 0.8257768154144287, \"time predicting\": 0.1368182420730591, \"rmse\": 0.035546867205894644}, {\"n\": 50, \"d\": 30, \"learner\": \"Ridge Regression\", \"mse\": 9.959254089419512e-08, \"time fitting\": 0.0003138065338134766, \"time predicting\": 5.619525909423828e-05, \"rmse\": 0.0003155828589993365}, {\"n\": 50, \"d\": 35, \"learner\": \"HAR\", \"mse\": 0.08528490894179827, \"time fitting\": 0.005809712409973145, \"time predicting\": 0.10671217441558838, \"rmse\": 0.29203580078784563}, {\"n\": 50, \"d\": 35, \"learner\": \"Mean\", \"mse\": 0.08530288789255584, \"time fitting\": 0.000118255615234375, \"time predicting\": 2.2077560424804686e-05, \"rmse\": 0.2920665812662514}, {\"n\": 50, \"d\": 35, \"learner\": \"Mixed Sobolev KRR\", \"mse\": 0.08050300674714621, \"time fitting\": 0.0015401124954223632, \"time predicting\": 0.004100179672241211, \"rmse\": 0.2837305178283545}, {\"n\": 50, \"d\": 35, \"learner\": \"Radial Basis KRR\", \"mse\": 1.2596223005477848e-05, \"time fitting\": 0.005381965637207031, \"time predicting\": 0.0003758668899536133, \"rmse\": 0.003549115806151984}, {\"n\": 50, \"d\": 35, \"learner\": \"Random Forest\", \"mse\": 0.001319039977237577, \"time fitting\": 0.8292612552642822, \"time predicting\": 0.14117031097412108, \"rmse\": 0.03631858996764022}, {\"n\": 50, \"d\": 35, \"learner\": \"Ridge Regression\", \"mse\": 2.3966738966198566e-07, \"time fitting\": 0.0003182411193847656, \"time predicting\": 5.7196617126464845e-05, \"rmse\": 0.000489558361854831}, {\"n\": 50, \"d\": 40, \"learner\": \"HAR\", \"mse\": 0.08638291764902328, \"time fitting\": 0.006597733497619629, \"time predicting\": 0.12858526706695556, \"rmse\": 0.29390971002847677}, {\"n\": 50, \"d\": 40, \"learner\": \"Mean\", \"mse\": 0.08638893866280874, \"time fitting\": 0.00012505054473876953, \"time predicting\": 2.44140625e-05, \"rmse\": 0.2939199528150628}, {\"n\": 50, \"d\": 40, \"learner\": \"Mixed Sobolev KRR\", \"mse\": 0.08424576279815583, \"time fitting\": 0.0015543699264526367, \"time predicting\": 0.004917120933532715, \"rmse\": 0.2902512063681318}, {\"n\": 50, \"d\": 40, \"learner\": \"Radial Basis KRR\", \"mse\": 8.659390138971632e-05, \"time fitting\": 0.005617451667785644, \"time predicting\": 0.00037112236022949217, \"rmse\": 0.009305584419568516}, {\"n\": 50, \"d\": 40, \"learner\": \"Random Forest\", \"mse\": 0.0013086225241373886, \"time fitting\": 0.8308585405349731, \"time predicting\": 0.14349215030670165, \"rmse\": 0.0361748880321334}, {\"n\": 50, \"d\": 40, \"learner\": \"Ridge Regression\", \"mse\": 8.745058022021987e-07, \"time fitting\": 0.00031621456146240233, \"time predicting\": 5.843639373779297e-05, \"rmse\": 0.0009351501495493645}, {\"n\": 70, \"d\": 5, \"learner\": \"HAR\", \"mse\": 0.002676232509766334, \"time fitting\": 0.0029071569442749023, \"time predicting\": 0.023230528831481932, \"rmse\": 0.05173231591342431}, {\"n\": 70, \"d\": 5, \"learner\": \"Mean\", \"mse\": 0.0842520612283172, \"time fitting\": 0.00010945796966552735, \"time predicting\": 2.255439758300781e-05, \"rmse\": 0.290262056129142}, {\"n\": 70, \"d\": 5, \"learner\": \"Mixed Sobolev KRR\", \"mse\": 0.0008426433099595985, \"time fitting\": 0.0018467187881469726, \"time predicting\": 0.0010591506958007812, \"rmse\": 0.029028319103241208}, {\"n\": 70, \"d\": 5, \"learner\": \"Radial Basis KRR\", \"mse\": 6.108367831787844e-10, \"time fitting\": 0.007920527458190918, \"time predicting\": 0.0003239154815673828, \"rmse\": 2.4715112445198067e-05}, {\"n\": 70, \"d\": 5, \"learner\": \"Random Forest\", \"mse\": 0.00022789648901591161, \"time fitting\": 0.8428745031356811, \"time predicting\": 0.1426159381866455, \"rmse\": 0.015096240890231967}, {\"n\": 70, \"d\": 5, \"learner\": \"Ridge Regression\", \"mse\": 3.196119080218956e-09, \"time fitting\": 0.00029642581939697265, \"time predicting\": 4.0078163146972655e-05, \"rmse\": 5.653422927942819e-05}, {\"n\": 70, \"d\": 10, \"learner\": \"HAR\", \"mse\": 0.01740040285386522, \"time fitting\": 0.004400730133056641, \"time predicting\": 0.04899015426635742, \"rmse\": 0.1319105865875261}, {\"n\": 70, \"d\": 10, \"learner\": \"Mean\", \"mse\": 0.08521489855577527, \"time fitting\": 0.00011661052703857422, \"time predicting\": 2.3126602172851562e-05, \"rmse\": 0.29191591007647266}, {\"n\": 70, \"d\": 10, \"learner\": \"Mixed Sobolev KRR\", \"mse\": 0.009075520049208193, \"time fitting\": 0.001865386962890625, \"time predicting\": 0.0018712997436523438, \"rmse\": 0.09526552392764233}, {\"n\": 70, \"d\": 10, \"learner\": \"Radial Basis KRR\", \"mse\": 1.2003554082107377e-08, \"time fitting\": 0.007684779167175293, \"time predicting\": 0.0003189802169799805, \"rmse\": 0.00010956073239125127}, {\"n\": 70, \"d\": 10, \"learner\": \"Random Forest\", \"mse\": 0.00027849462344498553, \"time fitting\": 0.8163620233535767, \"time predicting\": 0.13863489627838135, \"rmse\": 0.016688158180128372}, {\"n\": 70, \"d\": 10, \"learner\": \"Ridge Regression\", \"mse\": 4.34637990863852e-09, \"time fitting\": 0.0003048419952392578, \"time predicting\": 5.7649612426757815e-05, \"rmse\": 6.59270802374754e-05}, {\"n\": 70, \"d\": 15, \"learner\": \"HAR\", \"mse\": 0.04318488294954508, \"time fitting\": 0.0061209678649902345, \"time predicting\": 0.0758544921875, \"rmse\": 0.2078097277548505}, {\"n\": 70, \"d\": 15, \"learner\": \"Mean\", \"mse\": 0.08450533767514536, \"time fitting\": 0.00010962486267089844, \"time predicting\": 2.2149085998535158e-05, \"rmse\": 0.2906980180103493}, {\"n\": 70, \"d\": 15, \"learner\": \"Mixed Sobolev KRR\", \"mse\": 0.025917077033633506, \"time fitting\": 0.0020218372344970705, \"time predicting\": 0.0026984214782714844, \"rmse\": 0.16098781641364512}, {\"n\": 70, \"d\": 15, \"learner\": \"Radial Basis KRR\", \"mse\": 2.3295832061016983e-08, \"time fitting\": 0.007713818550109863, \"time predicting\": 0.0003380537033081055, \"rmse\": 0.00015262972207606546}, {\"n\": 70, \"d\": 15, \"learner\": \"Random Forest\", \"mse\": 0.00038523121134107673, \"time fitting\": 0.8317296266555786, \"time predicting\": 0.1393676996231079, \"rmse\": 0.019627307796564377}, {\"n\": 70, \"d\": 15, \"learner\": \"Ridge Regression\", \"mse\": 4.4109070501157e-09, \"time fitting\": 0.00028989315032958987, \"time predicting\": 4.515647888183594e-05, \"rmse\": 6.641465990363649e-05}, {\"n\": 70, \"d\": 20, \"learner\": \"HAR\", \"mse\": 0.0746292447876726, \"time fitting\": 0.007820320129394532, \"time predicting\": 0.10545454025268555, \"rmse\": 0.2731835368166841}, {\"n\": 70, \"d\": 20, \"learner\": \"Mean\", \"mse\": 0.08636769900172372, \"time fitting\": 0.00012607574462890624, \"time predicting\": 2.338886260986328e-05, \"rmse\": 0.29388381888379583}, {\"n\": 70, \"d\": 20, \"learner\": \"Mixed Sobolev KRR\", \"mse\": 0.04739155775952146, \"time fitting\": 0.001972818374633789, \"time predicting\": 0.003413105010986328, \"rmse\": 0.21769602146001993}, {\"n\": 70, \"d\": 20, \"learner\": \"Radial Basis KRR\", \"mse\": 7.021109523442195e-08, \"time fitting\": 0.0075167655944824215, \"time predicting\": 0.0003443241119384766, \"rmse\": 0.0002649737632944476}, {\"n\": 70, \"d\": 20, \"learner\": \"Random Forest\", \"mse\": 0.0005501769510702239, \"time fitting\": 0.834156084060669, \"time predicting\": 0.14152917861938477, \"rmse\": 0.023455851105219437}, {\"n\": 70, \"d\": 20, \"learner\": \"Ridge Regression\", \"mse\": 7.021837091569517e-09, \"time fitting\": 0.00030524730682373046, \"time predicting\": 4.494190216064453e-05, \"rmse\": 8.379640261711429e-05}, {\"n\": 70, \"d\": 25, \"learner\": \"HAR\", \"mse\": 0.08318408518188525, \"time fitting\": 0.009405565261840821, \"time predicting\": 0.13138031959533691, \"rmse\": 0.28841651336545426}, {\"n\": 70, \"d\": 25, \"learner\": \"Mean\", \"mse\": 0.08506696904768477, \"time fitting\": 0.00011942386627197265, \"time predicting\": 2.5081634521484376e-05, \"rmse\": 0.2916624230984937}, {\"n\": 70, \"d\": 25, \"learner\": \"Mixed Sobolev KRR\", \"mse\": 0.06275396392468707, \"time fitting\": 0.00205845832824707, \"time predicting\": 0.004166150093078613, \"rmse\": 0.25050741291364426}, {\"n\": 70, \"d\": 25, \"learner\": \"Radial Basis KRR\", \"mse\": 1.9401869033075226e-07, \"time fitting\": 0.007472181320190429, \"time predicting\": 0.0003905296325683594, \"rmse\": 0.0004404755275049367}, {\"n\": 70, \"d\": 25, \"learner\": \"Random Forest\", \"mse\": 0.00037086038260463394, \"time fitting\": 0.8367042541503906, \"time predicting\": 0.13906993865966796, \"rmse\": 0.019257735656214463}, {\"n\": 70, \"d\": 25, \"learner\": \"Ridge Regression\", \"mse\": 1.0164860224091202e-08, \"time fitting\": 0.00032765865325927733, \"time predicting\": 5.984306335449219e-05, \"rmse\": 0.00010082093147799817}, {\"n\": 70, \"d\": 30, \"learner\": \"HAR\", \"mse\": 0.0850564619161579, \"time fitting\": 0.011159014701843262, \"time predicting\": 0.16139872074127198, \"rmse\": 0.2916444100547067}, {\"n\": 70, \"d\": 30, \"learner\": \"Mean\", \"mse\": 0.0853756357814061, \"time fitting\": 0.00011949539184570312, \"time predicting\": 2.3651123046875e-05, \"rmse\": 0.2921910946305621}, {\"n\": 70, \"d\": 30, \"learner\": \"Mixed Sobolev KRR\", \"mse\": 0.0726507708688475, \"time fitting\": 0.002188253402709961, \"time predicting\": 0.004917240142822266, \"rmse\": 0.2695380694240565}, {\"n\": 70, \"d\": 30, \"learner\": \"Radial Basis KRR\", \"mse\": 4.894611120705227e-07, \"time fitting\": 0.008048176765441895, \"time predicting\": 0.0004278421401977539, \"rmse\": 0.0006996149741611616}, {\"n\": 70, \"d\": 30, \"learner\": \"Random Forest\", \"mse\": 0.0004804003432023975, \"time fitting\": 0.8370538234710694, \"time predicting\": 0.1365123987197876, \"rmse\": 0.021918036937700364}, {\"n\": 70, \"d\": 30, \"learner\": \"Ridge Regression\", \"mse\": 1.2036826333259425e-08, \"time fitting\": 0.00031037330627441405, \"time predicting\": 5.626678466796875e-05, \"rmse\": 0.00010971247118381494}, {\"n\": 70, \"d\": 35, \"learner\": \"HAR\", \"mse\": 0.08550086996017743, \"time fitting\": 0.013114523887634278, \"time predicting\": 0.19085171222686767, \"rmse\": 0.2924053179410002}, {\"n\": 70, \"d\": 35, \"learner\": \"Mean\", \"mse\": 0.0855487916909566, \"time fitting\": 0.00012121200561523437, \"time predicting\": 2.2959709167480468e-05, \"rmse\": 0.29248725047590807}, {\"n\": 70, \"d\": 35, \"learner\": \"Mixed Sobolev KRR\", \"mse\": 0.07926756263914424, \"time fitting\": 0.0020715475082397463, \"time predicting\": 0.0057762861251831055, \"rmse\": 0.2815449566927887}, {\"n\": 70, \"d\": 35, \"learner\": \"Radial Basis KRR\", \"mse\": 1.5201393233073771e-06, \"time fitting\": 0.008010435104370116, \"time predicting\": 0.0004567623138427734, \"rmse\": 0.0012329393023613844}, {\"n\": 70, \"d\": 35, \"learner\": \"Random Forest\", \"mse\": 0.0005639698532468918, \"time fitting\": 0.8571188688278198, \"time predicting\": 0.13625822067260743, \"rmse\": 0.023748049461943012}, {\"n\": 70, \"d\": 35, \"learner\": \"Ridge Regression\", \"mse\": 2.2495622781986915e-08, \"time fitting\": 0.000316929817199707, \"time predicting\": 6.0105323791503905e-05, \"rmse\": 0.00014998540856358967}, {\"n\": 70, \"d\": 40, \"learner\": \"HAR\", \"mse\": 0.0839041355372547, \"time fitting\": 0.015309739112854003, \"time predicting\": 0.2209115982055664, \"rmse\": 0.2896621058013193}, {\"n\": 70, \"d\": 40, \"learner\": \"Mean\", \"mse\": 0.08391003329614335, \"time fitting\": 0.00012695789337158203, \"time predicting\": 2.2959709167480468e-05, \"rmse\": 0.2896722860339652}, {\"n\": 70, \"d\": 40, \"learner\": \"Mixed Sobolev KRR\", \"mse\": 0.0807444412381619, \"time fitting\": 0.002151203155517578, \"time predicting\": 0.006758832931518554, \"rmse\": 0.28415566374464873}, {\"n\": 70, \"d\": 40, \"learner\": \"Radial Basis KRR\", \"mse\": 4.3012671801485354e-06, \"time fitting\": 0.007734251022338867, \"time predicting\": 0.0004611015319824219, \"rmse\": 0.0020739496570911587}, {\"n\": 70, \"d\": 40, \"learner\": \"Random Forest\", \"mse\": 0.0005560250527574213, \"time fitting\": 0.8590847969055175, \"time predicting\": 0.13941068649291993, \"rmse\": 0.023580183475906655}, {\"n\": 70, \"d\": 40, \"learner\": \"Ridge Regression\", \"mse\": 3.776544560614536e-08, \"time fitting\": 0.00031933784484863283, \"time predicting\": 6.601810455322265e-05, \"rmse\": 0.0001943333363222722}, {\"n\": 100, \"d\": 5, \"learner\": \"HAR\", \"mse\": 0.0013702803333542676, \"time fitting\": 0.0056905984878540036, \"time predicting\": 0.040423107147216794, \"rmse\": 0.03701729775867314}, {\"n\": 100, \"d\": 5, \"learner\": \"Mean\", \"mse\": 0.08426187643995456, \"time fitting\": 0.00014040470123291015, \"time predicting\": 2.810955047607422e-05, \"rmse\": 0.2902789631371081}, {\"n\": 100, \"d\": 5, \"learner\": \"Mixed Sobolev KRR\", \"mse\": 0.00040747163424795436, \"time fitting\": 0.0027559518814086912, \"time predicting\": 0.0014322042465209962, \"rmse\": 0.020185926638327863}, {\"n\": 100, \"d\": 5, \"learner\": \"Radial Basis KRR\", \"mse\": 2.1622577357294313e-11, \"time fitting\": 0.012335920333862304, \"time predicting\": 0.0003977298736572266, \"rmse\": 4.650008317981196e-06}, {\"n\": 100, \"d\": 5, \"learner\": \"Random Forest\", \"mse\": 8.908643196389237e-05, \"time fitting\": 0.858012056350708, \"time predicting\": 0.14239773750305176, \"rmse\": 0.009438560905344224}, {\"n\": 100, \"d\": 5, \"learner\": \"Ridge Regression\", \"mse\": 1.3849049061667948e-09, \"time fitting\": 0.0003123283386230469, \"time predicting\": 4.127025604248047e-05, \"rmse\": 3.721431050236985e-05}, {\"n\": 100, \"d\": 10, \"learner\": \"HAR\", \"mse\": 0.009945312588640764, \"time fitting\": 0.009729361534118653, \"time predicting\": 0.09015381336212158, \"rmse\": 0.09972618807836166}, {\"n\": 100, \"d\": 10, \"learner\": \"Mean\", \"mse\": 0.08288685619121665, \"time fitting\": 0.00012013912200927734, \"time predicting\": 2.143383026123047e-05, \"rmse\": 0.2879007749055508}, {\"n\": 100, \"d\": 10, \"learner\": \"Mixed Sobolev KRR\", \"mse\": 0.004364104580296188, \"time fitting\": 0.00278325080871582, \"time predicting\": 0.002500295639038086, \"rmse\": 0.06606136980335928}, {\"n\": 100, \"d\": 10, \"learner\": \"Radial Basis KRR\", \"mse\": 1.0261406034819225e-08, \"time fitting\": 0.011926579475402831, \"time predicting\": 0.0004233121871948242, \"rmse\": 0.00010129859838526506}, {\"n\": 100, \"d\": 10, \"learner\": \"Random Forest\", \"mse\": 0.00011504241736524875, \"time fitting\": 0.8457355499267578, \"time predicting\": 0.14407472610473632, \"rmse\": 0.010725782832280763}, {\"n\": 100, \"d\": 10, \"learner\": \"Ridge Regression\", \"mse\": 1.435675273960148e-09, \"time fitting\": 0.0002953529357910156, \"time predicting\": 5.5909156799316406e-05, \"rmse\": 3.78903058045214e-05}, {\"n\": 100, \"d\": 15, \"learner\": \"HAR\", \"mse\": 0.033818376408530505, \"time fitting\": 0.014497733116149903, \"time predicting\": 0.1417689323425293, \"rmse\": 0.18389773356007003}, {\"n\": 100, \"d\": 15, \"learner\": \"Mean\", \"mse\": 0.0843941916822009, \"time fitting\": 0.00011196136474609376, \"time predicting\": 2.1576881408691406e-05, \"rmse\": 0.290506784227496}, {\"n\": 100, \"d\": 15, \"learner\": \"Mixed Sobolev KRR\", \"mse\": 0.018328980270522433, \"time fitting\": 0.002834057807922363, \"time predicting\": 0.003558492660522461, \"rmse\": 0.13538456437320479}, {\"n\": 100, \"d\": 15, \"learner\": \"Radial Basis KRR\", \"mse\": 2.137745729574898e-08, \"time fitting\": 0.01165180206298828, \"time predicting\": 0.00044450759887695315, \"rmse\": 0.00014621031870476508}, {\"n\": 100, \"d\": 15, \"learner\": \"Random Forest\", \"mse\": 0.000164859631213064, \"time fitting\": 0.831372332572937, \"time predicting\": 0.14269120693206788, \"rmse\": 0.012839767568498427}, {\"n\": 100, \"d\": 15, \"learner\": \"Ridge Regression\", \"mse\": 2.1637148065997255e-09, \"time fitting\": 0.0002905130386352539, \"time predicting\": 4.074573516845703e-05, \"rmse\": 4.6515747941957525e-05}, {\"n\": 100, \"d\": 20, \"learner\": \"HAR\", \"mse\": 0.06298608061662632, \"time fitting\": 0.01893570423126221, \"time predicting\": 0.19590630531311035, \"rmse\": 0.2509702783530877}, {\"n\": 100, \"d\": 20, \"learner\": \"Mean\", \"mse\": 0.0846694692720545, \"time fitting\": 0.0001225709915161133, \"time predicting\": 2.7418136596679688e-05, \"rmse\": 0.29098018707818324}, {\"n\": 100, \"d\": 20, \"learner\": \"Mixed Sobolev KRR\", \"mse\": 0.037771891770416836, \"time fitting\": 0.0028949975967407227, \"time predicting\": 0.004679536819458008, \"rmse\": 0.19434992094265652}, {\"n\": 100, \"d\": 20, \"learner\": \"Radial Basis KRR\", \"mse\": 3.452746539645779e-08, \"time fitting\": 0.011623144149780273, \"time predicting\": 0.00048720836639404297, \"rmse\": 0.0001858156758630923}, {\"n\": 100, \"d\": 20, \"learner\": \"Random Forest\", \"mse\": 0.0002576247790772048, \"time fitting\": 0.856433629989624, \"time predicting\": 0.1416670560836792, \"rmse\": 0.016050694037243525}, {\"n\": 100, \"d\": 20, \"learner\": \"Ridge Regression\", \"mse\": 2.5737564638670627e-09, \"time fitting\": 0.00031287670135498046, \"time predicting\": 5.373954772949219e-05, \"rmse\": 5.073220342018531e-05}, {\"n\": 100, \"d\": 25, \"learner\": \"HAR\", \"mse\": 0.08099413482414504, \"time fitting\": 0.023918724060058592, \"time predicting\": 0.25732879638671874, \"rmse\": 0.2845946851649641}, {\"n\": 100, \"d\": 25, \"learner\": \"Mean\", \"mse\": 0.0847335360972596, \"time fitting\": 0.00012497901916503907, \"time predicting\": 2.47955322265625e-05, \"rmse\": 0.2910902542120907}, {\"n\": 100, \"d\": 25, \"learner\": \"Mixed Sobolev KRR\", \"mse\": 0.05559021063872886, \"time fitting\": 0.0029714345932006837, \"time predicting\": 0.005867910385131836, \"rmse\": 0.2357757634675983}, {\"n\": 100, \"d\": 25, \"learner\": \"Radial Basis KRR\", \"mse\": 6.971304212193143e-08, \"time fitting\": 0.011417388916015625, \"time predicting\": 0.0005094528198242188, \"rmse\": 0.00026403227477323946}, {\"n\": 100, \"d\": 25, \"learner\": \"Random Forest\", \"mse\": 0.00021438897439983142, \"time fitting\": 0.865352201461792, \"time predicting\": 0.13981304168701172, \"rmse\": 0.014642027673783144}, {\"n\": 100, \"d\": 25, \"learner\": \"Ridge Regression\", \"mse\": 3.1957676754994873e-09, \"time fitting\": 0.000320887565612793, \"time predicting\": 5.3548812866210936e-05, \"rmse\": 5.65311213005676e-05}, {\"n\": 100, \"d\": 30, \"learner\": \"HAR\", \"mse\": 0.08357630864081857, \"time fitting\": 0.029193949699401856, \"time predicting\": 0.32548036575317385, \"rmse\": 0.28909567385351614}, {\"n\": 100, \"d\": 30, \"learner\": \"Mean\", \"mse\": 0.08423912290262923, \"time fitting\": 0.00012671947479248047, \"time predicting\": 2.3293495178222657e-05, \"rmse\": 0.2902397679550982}, {\"n\": 100, \"d\": 30, \"learner\": \"Mixed Sobolev KRR\", \"mse\": 0.06795631900548117, \"time fitting\": 0.0029525995254516602, \"time predicting\": 0.0070496082305908205, \"rmse\": 0.2606843282698083}, {\"n\": 100, \"d\": 30, \"learner\": \"Radial Basis KRR\", \"mse\": 1.410950839901417e-07, \"time fitting\": 0.011811161041259765, \"time predicting\": 0.000563669204711914, \"rmse\": 0.00037562625572521113}, {\"n\": 100, \"d\": 30, \"learner\": \"Random Forest\", \"mse\": 0.0002120524069086016, \"time fitting\": 0.8709475040435791, \"time predicting\": 0.1460583448410034, \"rmse\": 0.014562019327984756}, {\"n\": 100, \"d\": 30, \"learner\": \"Ridge Regression\", \"mse\": 3.6604549544207035e-09, \"time fitting\": 0.00031774044036865235, \"time predicting\": 6.148815155029296e-05, \"rmse\": 6.050169381447683e-05}, {\"n\": 100, \"d\": 35, \"learner\": \"HAR\", \"mse\": 0.08425915150000036, \"time fitting\": 0.03362033367156982, \"time predicting\": 0.37433290481567383, \"rmse\": 0.2902742694418511}, {\"n\": 100, \"d\": 35, \"learner\": \"Mean\", \"mse\": 0.08434193237890729, \"time fitting\": 0.00013239383697509765, \"time predicting\": 2.3174285888671876e-05, \"rmse\": 0.29041682523384776}, {\"n\": 100, \"d\": 35, \"learner\": \"Mixed Sobolev KRR\", \"mse\": 0.07631834032935295, \"time fitting\": 0.003158426284790039, \"time predicting\": 0.008070898056030274, \"rmse\": 0.2762577425690599}, {\"n\": 100, \"d\": 35, \"learner\": \"Radial Basis KRR\", \"mse\": 3.5279177351308655e-07, \"time fitting\": 0.0119032621383667, \"time predicting\": 0.0005999326705932618, \"rmse\": 0.000593962771150757}, {\"n\": 100, \"d\": 35, \"learner\": \"Random Forest\", \"mse\": 0.0002756179751402878, \"time fitting\": 0.902444314956665, \"time predicting\": 0.14083714485168458, \"rmse\": 0.016601746147327026}, {\"n\": 100, \"d\": 35, \"learner\": \"Ridge Regression\", \"mse\": 4.685066677978969e-09, \"time fitting\": 0.00032434463500976565, \"time predicting\": 6.585121154785156e-05, \"rmse\": 6.844754690987084e-05}, {\"n\": 100, \"d\": 40, \"learner\": \"HAR\", \"mse\": 0.0828157815626578, \"time fitting\": 0.03872995376586914, \"time predicting\": 0.4319448709487915, \"rmse\": 0.28777731245297605}, {\"n\": 100, \"d\": 40, \"learner\": \"Mean\", \"mse\": 0.08282553766371346, \"time fitting\": 0.00012526512145996093, \"time predicting\": 2.4580955505371092e-05, \"rmse\": 0.28779426273592296}, {\"n\": 100, \"d\": 40, \"learner\": \"Mixed Sobolev KRR\", \"mse\": 0.07850254402885966, \"time fitting\": 0.003405165672302246, \"time predicting\": 0.009404897689819336, \"rmse\": 0.2801830544998388}, {\"n\": 100, \"d\": 40, \"learner\": \"Radial Basis KRR\", \"mse\": 8.418725890317618e-07, \"time fitting\": 0.011931681632995605, \"time predicting\": 0.0006255388259887695, \"rmse\": 0.0009175361513486876}, {\"n\": 100, \"d\": 40, \"learner\": \"Random Forest\", \"mse\": 0.0002367136530516528, \"time fitting\": 0.8666740655899048, \"time predicting\": 0.13916547298431398, \"rmse\": 0.015385501390973671}, {\"n\": 100, \"d\": 40, \"learner\": \"Ridge Regression\", \"mse\": 7.059030874325575e-09, \"time fitting\": 0.00032227039337158204, \"time predicting\": 6.041526794433594e-05, \"rmse\": 8.401803898167093e-05}, {\"n\": 200, \"d\": 5, \"learner\": \"HAR\", \"mse\": 0.00047235099270101125, \"time fitting\": 0.03041403293609619, \"time predicting\": 0.1396878480911255, \"rmse\": 0.021733637355514406}, {\"n\": 200, \"d\": 5, \"learner\": \"Mean\", \"mse\": 0.08448637075099856, \"time fitting\": 0.00012784004211425782, \"time predicting\": 2.269744873046875e-05, \"rmse\": 0.29066539310863715}, {\"n\": 200, \"d\": 5, \"learner\": \"Mixed Sobolev KRR\", \"mse\": 8.667611995116931e-05, \"time fitting\": 0.0077492713928222655, \"time predicting\": 0.002613520622253418, \"rmse\": 0.009310001071491308}, {\"n\": 200, \"d\": 5, \"learner\": \"Radial Basis KRR\", \"mse\": 1.8764369707997512e-12, \"time fitting\": 0.03723475933074951, \"time predicting\": 0.0006744146347045898, \"rmse\": 1.3698310008171634e-06}, {\"n\": 200, \"d\": 5, \"learner\": \"Random Forest\", \"mse\": 2.1176248179634624e-05, \"time fitting\": 0.8485196113586426, \"time predicting\": 0.14371271133422853, \"rmse\": 0.004601765767576032}, {\"n\": 200, \"d\": 5, \"learner\": \"Ridge Regression\", \"mse\": 3.0807862371120014e-10, \"time fitting\": 0.0003032684326171875, \"time predicting\": 9.751319885253906e-05, \"rmse\": 1.755216863271317e-05}, {\"n\": 200, \"d\": 10, \"learner\": \"HAR\", \"mse\": 0.004667324244137627, \"time fitting\": 0.06272461414337158, \"time predicting\": 0.3384310245513916, \"rmse\": 0.06831781791112497}, {\"n\": 200, \"d\": 10, \"learner\": \"Mean\", \"mse\": 0.08471513363726482, \"time fitting\": 0.00012423992156982422, \"time predicting\": 2.5081634521484376e-05, \"rmse\": 0.2910586429523522}, {\"n\": 200, \"d\": 10, \"learner\": \"Mixed Sobolev KRR\", \"mse\": 0.0014585145026093681, \"time fitting\": 0.00791628360748291, \"time predicting\": 0.004769134521484375, \"rmse\": 0.03819050278026421}, {\"n\": 200, \"d\": 10, \"learner\": \"Radial Basis KRR\", \"mse\": 5.2654172953516935e-09, \"time fitting\": 0.036768436431884766, \"time predicting\": 0.0007934808731079101, \"rmse\": 7.256319518427847e-05}, {\"n\": 200, \"d\": 10, \"learner\": \"Random Forest\", \"mse\": 2.6163872675958007e-05, \"time fitting\": 0.8811375141143799, \"time predicting\": 0.14294841289520263, \"rmse\": 0.005115063311041028}, {\"n\": 200, \"d\": 10, \"learner\": \"Ridge Regression\", \"mse\": 3.6469948832838497e-10, \"time fitting\": 0.0003352642059326172, \"time predicting\": 6.186962127685547e-05, \"rmse\": 1.9097106805178237e-05}, {\"n\": 200, \"d\": 15, \"learner\": \"HAR\", \"mse\": 0.016507845560367714, \"time fitting\": 0.09510641098022461, \"time predicting\": 0.5403911828994751, \"rmse\": 0.1284828609596148}, {\"n\": 200, \"d\": 15, \"learner\": \"Mean\", \"mse\": 0.08374327617311375, \"time fitting\": 0.00013437271118164063, \"time predicting\": 2.4056434631347658e-05, \"rmse\": 0.28938430533308773}, {\"n\": 200, \"d\": 15, \"learner\": \"Mixed Sobolev KRR\", \"mse\": 0.0070869494410643235, \"time fitting\": 0.008150601387023925, \"time predicting\": 0.006642484664916992, \"rmse\": 0.08418402129302403}, {\"n\": 200, \"d\": 15, \"learner\": \"Radial Basis KRR\", \"mse\": 1.3288659747416107e-08, \"time fitting\": 0.03642749786376953, \"time predicting\": 0.0007749795913696289, \"rmse\": 0.00011527644923147184}, {\"n\": 200, \"d\": 15, \"learner\": \"Random Forest\", \"mse\": 3.8462689386440266e-05, \"time fitting\": 0.898881196975708, \"time predicting\": 0.14266197681427, \"rmse\": 0.0062018295192983386}, {\"n\": 200, \"d\": 15, \"learner\": \"Ridge Regression\", \"mse\": 3.879101521935951e-10, \"time fitting\": 0.0003100395202636719, \"time predicting\": 9.377002716064453e-05, \"rmse\": 1.96954348059035e-05}, {\"n\": 200, \"d\": 20, \"learner\": \"HAR\", \"mse\": 0.04216757982292006, \"time fitting\": 0.12880566120147705, \"time predicting\": 0.7574407577514648, \"rmse\": 0.20534746120397998}, {\"n\": 200, \"d\": 20, \"learner\": \"Mean\", \"mse\": 0.08446628350986138, \"time fitting\": 0.0001283884048461914, \"time predicting\": 2.350807189941406e-05, \"rmse\": 0.2906308371626476}, {\"n\": 200, \"d\": 20, \"learner\": \"Mixed Sobolev KRR\", \"mse\": 0.01954763328872209, \"time fitting\": 0.00848081111907959, \"time predicting\": 0.009201955795288087, \"rmse\": 0.13981285094268728}, {\"n\": 200, \"d\": 20, \"learner\": \"Radial Basis KRR\", \"mse\": 2.0986592144850668e-08, \"time fitting\": 0.03618755340576172, \"time predicting\": 0.0008389949798583984, \"rmse\": 0.00014486749858008409}, {\"n\": 200, \"d\": 20, \"learner\": \"Random Forest\", \"mse\": 4.049984592185655e-05, \"time fitting\": 0.9049599885940551, \"time predicting\": 0.14489874839782715, \"rmse\": 0.006363948925145185}, {\"n\": 200, \"d\": 20, \"learner\": \"Ridge Regression\", \"mse\": 3.946424143613063e-10, \"time fitting\": 0.00031533241271972654, \"time predicting\": 7.734298706054687e-05, \"rmse\": 1.986560883439786e-05}, {\"n\": 200, \"d\": 25, \"learner\": \"HAR\", \"mse\": 0.07007520290930173, \"time fitting\": 0.16684327125549317, \"time predicting\": 1.0007328033447265, \"rmse\": 0.26471721309597857}, {\"n\": 200, \"d\": 25, \"learner\": \"Mean\", \"mse\": 0.08375944316237496, \"time fitting\": 0.0001241922378540039, \"time predicting\": 2.2935867309570313e-05, \"rmse\": 0.2894122374095037}, {\"n\": 200, \"d\": 25, \"learner\": \"Mixed Sobolev KRR\", \"mse\": 0.03722444524071694, \"time fitting\": 0.008909201622009278, \"time predicting\": 0.011499857902526856, \"rmse\": 0.19293637614694886}, {\"n\": 200, \"d\": 25, \"learner\": \"Radial Basis KRR\", \"mse\": 3.336677078987226e-08, \"time fitting\": 0.03699839115142822, \"time predicting\": 0.0009285449981689453, \"rmse\": 0.00018266573512805369}, {\"n\": 200, \"d\": 25, \"learner\": \"Random Forest\", \"mse\": 5.088110796703505e-05, \"time fitting\": 0.9067121982574463, \"time predicting\": 0.1478368043899536, \"rmse\": 0.007133099464260613}, {\"n\": 200, \"d\": 25, \"learner\": \"Ridge Regression\", \"mse\": 4.3300307063256293e-10, \"time fitting\": 0.00037889480590820314, \"time predicting\": 6.291866302490234e-05, \"rmse\": 2.0808725829145883e-05}, {\"n\": 200, \"d\": 30, \"learner\": \"HAR\", \"mse\": 0.08169306507673788, \"time fitting\": 0.20286967754364013, \"time predicting\": 1.203242588043213, \"rmse\": 0.28581998718903107}, {\"n\": 200, \"d\": 30, \"learner\": \"Mean\", \"mse\": 0.08391435724559386, \"time fitting\": 0.00012404918670654296, \"time predicting\": 2.288818359375e-05, \"rmse\": 0.2896797494572133}, {\"n\": 200, \"d\": 30, \"learner\": \"Mixed Sobolev KRR\", \"mse\": 0.054890074214704945, \"time fitting\": 0.009278249740600587, \"time predicting\": 0.013546347618103027, \"rmse\": 0.2342863082100722}, {\"n\": 200, \"d\": 30, \"learner\": \"Radial Basis KRR\", \"mse\": 4.3516570155463025e-08, \"time fitting\": 0.03658285140991211, \"time predicting\": 0.0010228872299194336, \"rmse\": 0.00020860625627114597}, {\"n\": 200, \"d\": 30, \"learner\": \"Random Forest\", \"mse\": 4.2153983058870155e-05, \"time fitting\": 0.9143582344055176, \"time predicting\": 0.14355955123901368, \"rmse\": 0.006492609880384787}, {\"n\": 200, \"d\": 30, \"learner\": \"Ridge Regression\", \"mse\": 4.802580119671046e-10, \"time fitting\": 0.00036716461181640625, \"time predicting\": 7.369518280029297e-05, \"rmse\": 2.1914789799747217e-05}, {\"n\": 200, \"d\": 35, \"learner\": \"HAR\", \"mse\": 0.08518406854189178, \"time fitting\": 0.23836996555328369, \"time predicting\": 1.4908931255340576, \"rmse\": 0.29186309897260354}, {\"n\": 200, \"d\": 35, \"learner\": \"Mean\", \"mse\": 0.08552889759044466, \"time fitting\": 0.00013077259063720703, \"time predicting\": 2.6965141296386717e-05, \"rmse\": 0.29245324000674816}, {\"n\": 200, \"d\": 35, \"learner\": \"Mixed Sobolev KRR\", \"mse\": 0.06879663489228607, \"time fitting\": 0.009445643424987793, \"time predicting\": 0.015378284454345702, \"rmse\": 0.26229112621719797}, {\"n\": 200, \"d\": 35, \"learner\": \"Radial Basis KRR\", \"mse\": 6.701074439726422e-08, \"time fitting\": 0.036499857902526855, \"time predicting\": 0.0011208295822143556, \"rmse\": 0.00025886433589288467}, {\"n\": 200, \"d\": 35, \"learner\": \"Random Forest\", \"mse\": 5.80336065595337e-05, \"time fitting\": 0.9200698375701905, \"time predicting\": 0.14656410217285157, \"rmse\": 0.0076179791650761094}, {\"n\": 200, \"d\": 35, \"learner\": \"Ridge Regression\", \"mse\": 5.443517820503512e-10, \"time fitting\": 0.0003767490386962891, \"time predicting\": 6.794929504394531e-05, \"rmse\": 2.3331347626109194e-05}, {\"n\": 200, \"d\": 40, \"learner\": \"HAR\", \"mse\": 0.0824555295961997, \"time fitting\": 0.28405611515045165, \"time predicting\": 1.7735728025436401, \"rmse\": 0.2871507088554714}, {\"n\": 200, \"d\": 40, \"learner\": \"Mean\", \"mse\": 0.0825010349899463, \"time fitting\": 0.000127410888671875, \"time predicting\": 2.3579597473144533e-05, \"rmse\": 0.2872299340074887}, {\"n\": 200, \"d\": 40, \"learner\": \"Mixed Sobolev KRR\", \"mse\": 0.07400957825397081, \"time fitting\": 0.009958839416503907, \"time predicting\": 0.018098211288452147, \"rmse\": 0.27204701478599397}, {\"n\": 200, \"d\": 40, \"learner\": \"Radial Basis KRR\", \"mse\": 9.746333638861106e-08, \"time fitting\": 0.037972521781921384, \"time predicting\": 0.0012282848358154297, \"rmse\": 0.0003121911856356791}, {\"n\": 200, \"d\": 40, \"learner\": \"Random Forest\", \"mse\": 4.3933615928918255e-05, \"time fitting\": 1.0007529497146606, \"time predicting\": 0.1498049020767212, \"rmse\": 0.0066282438042756285}, {\"n\": 200, \"d\": 40, \"learner\": \"Ridge Regression\", \"mse\": 6.035541096869679e-10, \"time fitting\": 0.00035922527313232423, \"time predicting\": 6.809234619140626e-05, \"rmse\": 2.4567338270292284e-05}, {\"n\": 400, \"d\": 5, \"learner\": \"HAR\", \"mse\": 0.00014610541795118755, \"time fitting\": 0.22148001194000244, \"time predicting\": 0.5833851814270019, \"rmse\": 0.01208740741231086}, {\"n\": 400, \"d\": 5, \"learner\": \"Mean\", \"mse\": 0.08463119153737943, \"time fitting\": 0.00013990402221679686, \"time predicting\": 2.4271011352539062e-05, \"rmse\": 0.29091440586086387}, {\"n\": 400, \"d\": 5, \"learner\": \"Mixed Sobolev KRR\", \"mse\": 2.1196206212858423e-05, \"time fitting\": 0.03373804092407227, \"time predicting\": 0.005374383926391601, \"rmse\": 0.004603933775898435}, {\"n\": 400, \"d\": 5, \"learner\": \"Radial Basis KRR\", \"mse\": 6.337485864219744e-13, \"time fitting\": 0.16679320335388184, \"time predicting\": 0.0012505292892456056, \"rmse\": 7.960832785720188e-07}, {\"n\": 400, \"d\": 5, \"learner\": \"Random Forest\", \"mse\": 4.816579738665673e-06, \"time fitting\": 0.9099315404891968, \"time predicting\": 0.1508175849914551, \"rmse\": 0.002194670758602682}, {\"n\": 400, \"d\": 5, \"learner\": \"Ridge Regression\", \"mse\": 8.442611138898573e-11, \"time fitting\": 0.0003311634063720703, \"time predicting\": 0.00010547637939453124, \"rmse\": 9.188368265855789e-06}, {\"n\": 400, \"d\": 10, \"learner\": \"HAR\", \"mse\": 0.0018648029199627928, \"time fitting\": 0.4488672256469727, \"time predicting\": 1.3059346199035644, \"rmse\": 0.043183363925970296}, {\"n\": 400, \"d\": 10, \"learner\": \"Mean\", \"mse\": 0.08181969119878381, \"time fitting\": 0.00012743473052978516, \"time predicting\": 2.4366378784179688e-05, \"rmse\": 0.28604141518106047}, {\"n\": 400, \"d\": 10, \"learner\": \"Mixed Sobolev KRR\", \"mse\": 0.0004131314258329916, \"time fitting\": 0.03240084648132324, \"time predicting\": 0.009601306915283204, \"rmse\": 0.020325634696928694}, {\"n\": 400, \"d\": 10, \"learner\": \"Radial Basis KRR\", \"mse\": 2.8109404433513594e-10, \"time fitting\": 0.15869784355163574, \"time predicting\": 0.001199650764465332, \"rmse\": 1.6765859486919718e-05}, {\"n\": 400, \"d\": 10, \"learner\": \"Random Forest\", \"mse\": 6.031280227096636e-06, \"time fitting\": 0.9114846229553223, \"time predicting\": 0.14919860363006593, \"rmse\": 0.0024558664921156925}, {\"n\": 400, \"d\": 10, \"learner\": \"Ridge Regression\", \"mse\": 8.067917840662541e-11, \"time fitting\": 0.00031914710998535154, \"time predicting\": 0.0002687692642211914, \"rmse\": 8.982158894532283e-06}, {\"n\": 400, \"d\": 15, \"learner\": \"HAR\", \"mse\": 0.008280765342967044, \"time fitting\": 0.7070314645767212, \"time predicting\": 2.113701915740967, \"rmse\": 0.09099871066650914}, {\"n\": 400, \"d\": 15, \"learner\": \"Mean\", \"mse\": 0.0838398948360997, \"time fitting\": 0.00013802051544189453, \"time predicting\": 2.6011466979980467e-05, \"rmse\": 0.28955119553560765}, {\"n\": 400, \"d\": 15, \"learner\": \"Mixed Sobolev KRR\", \"mse\": 0.0023497809154551883, \"time fitting\": 0.03355762958526611, \"time predicting\": 0.013541364669799804, \"rmse\": 0.04847453883695221}, {\"n\": 400, \"d\": 15, \"learner\": \"Radial Basis KRR\", \"mse\": 1.0264287294798122e-08, \"time fitting\": 0.15444355010986327, \"time predicting\": 0.0014858007431030273, \"rmse\": 0.00010131281900528739}, {\"n\": 400, \"d\": 15, \"learner\": \"Random Forest\", \"mse\": 7.630958089166535e-06, \"time fitting\": 0.9226060152053833, \"time predicting\": 0.14737491607666015, \"rmse\": 0.002762418883726097}, {\"n\": 400, \"d\": 15, \"learner\": \"Ridge Regression\", \"mse\": 8.26736509357281e-11, \"time fitting\": 0.00048015117645263674, \"time predicting\": 4.341602325439453e-05, \"rmse\": 9.092505206802364e-06}, {\"n\": 400, \"d\": 20, \"learner\": \"HAR\", \"mse\": 0.021137106458677564, \"time fitting\": 0.9814622640609741, \"time predicting\": 2.911091351509094, \"rmse\": 0.14538606005624324}, {\"n\": 400, \"d\": 20, \"learner\": \"Mean\", \"mse\": 0.0839341290882368, \"time fitting\": 0.00012409687042236328, \"time predicting\": 2.257823944091797e-05, \"rmse\": 0.28971387451800923}, {\"n\": 400, \"d\": 20, \"learner\": \"Mixed Sobolev KRR\", \"mse\": 0.008306621788549913, \"time fitting\": 0.03451666831970215, \"time predicting\": 0.01833958625793457, \"rmse\": 0.09114067033191008}, {\"n\": 400, \"d\": 20, \"learner\": \"Radial Basis KRR\", \"mse\": 1.4986558946906558e-08, \"time fitting\": 0.15749616622924806, \"time predicting\": 0.0016294240951538086, \"rmse\": 0.00012241960197168818}, {\"n\": 400, \"d\": 20, \"learner\": \"Random Forest\", \"mse\": 7.35147608594846e-06, \"time fitting\": 1.0167840719223022, \"time predicting\": 0.14973673820495606, \"rmse\": 0.002711360559930837}, {\"n\": 400, \"d\": 20, \"learner\": \"Ridge Regression\", \"mse\": 8.607594924274322e-11, \"time fitting\": 0.0004634857177734375, \"time predicting\": 4.324913024902344e-05, \"rmse\": 9.277712500543612e-06}, {\"n\": 400, \"d\": 25, \"learner\": \"HAR\", \"mse\": 0.051669318254917586, \"time fitting\": 1.2486718893051147, \"time predicting\": 3.77208297252655, \"rmse\": 0.22730886092477254}, {\"n\": 400, \"d\": 25, \"learner\": \"Mean\", \"mse\": 0.0840362931176059, \"time fitting\": 0.00012593269348144532, \"time predicting\": 2.3245811462402344e-05, \"rmse\": 0.289890139738498}, {\"n\": 400, \"d\": 25, \"learner\": \"Mixed Sobolev KRR\", \"mse\": 0.02105888550058829, \"time fitting\": 0.036134767532348636, \"time predicting\": 0.022201681137084962, \"rmse\": 0.14511679951193895}, {\"n\": 400, \"d\": 25, \"learner\": \"Radial Basis KRR\", \"mse\": 2.167586247978607e-08, \"time fitting\": 0.1530757188796997, \"time predicting\": 0.0017096042633056641, \"rmse\": 0.00014722724774913804}, {\"n\": 400, \"d\": 25, \"learner\": \"Random Forest\", \"mse\": 8.43585954873279e-06, \"time fitting\": 1.0675097703933716, \"time predicting\": 0.14964807033538818, \"rmse\": 0.0029044551207985277}, {\"n\": 400, \"d\": 25, \"learner\": \"Ridge Regression\", \"mse\": 9.330733358094055e-11, \"time fitting\": 0.0004183053970336914, \"time predicting\": 6.172657012939453e-05, \"rmse\": 9.659572122042496e-06}, {\"n\": 400, \"d\": 30, \"learner\": \"HAR\", \"mse\": 0.0755695721026042, \"time fitting\": 1.5611880779266358, \"time predicting\": 4.72994635105133, \"rmse\": 0.27489920353213865}, {\"n\": 400, \"d\": 30, \"learner\": \"Mean\", \"mse\": 0.08344102570904796, \"time fitting\": 0.0001254558563232422, \"time predicting\": 2.2816658020019532e-05, \"rmse\": 0.2888616030369006}, {\"n\": 400, \"d\": 30, \"learner\": \"Mixed Sobolev KRR\", \"mse\": 0.03807965348233636, \"time fitting\": 0.037965822219848636, \"time predicting\": 0.02470419406890869, \"rmse\": 0.19514008681543718}, {\"n\": 400, \"d\": 30, \"learner\": \"Radial Basis KRR\", \"mse\": 3.018661993287284e-08, \"time fitting\": 0.15773389339447022, \"time predicting\": 0.0020349979400634765, \"rmse\": 0.00017374297088766739}, {\"n\": 400, \"d\": 30, \"learner\": \"Random Forest\", \"mse\": 8.123636076834352e-06, \"time fitting\": 1.1973961114883422, \"time predicting\": 0.14963908195495607, \"rmse\": 0.002850199304756485}, {\"n\": 400, \"d\": 30, \"learner\": \"Ridge Regression\", \"mse\": 9.374806426835283e-11, \"time fitting\": 0.0004885911941528321, \"time predicting\": 6.237030029296876e-05, \"rmse\": 9.682358404250115e-06}, {\"n\": 400, \"d\": 35, \"learner\": \"HAR\", \"mse\": 0.08128865536224758, \"time fitting\": 1.802979588508606, \"time predicting\": 5.458077740669251, \"rmse\": 0.28511165420278345}, {\"n\": 400, \"d\": 35, \"learner\": \"Mean\", \"mse\": 0.08255407476553292, \"time fitting\": 0.00012955665588378906, \"time predicting\": 2.396106719970703e-05, \"rmse\": 0.28732224899149894}, {\"n\": 400, \"d\": 35, \"learner\": \"Mixed Sobolev KRR\", \"mse\": 0.0542805493205318, \"time fitting\": 0.037687373161315915, \"time predicting\": 0.027573037147521972, \"rmse\": 0.23298186478893973}, {\"n\": 400, \"d\": 35, \"learner\": \"Radial Basis KRR\", \"mse\": 3.820060782063027e-08, \"time fitting\": 0.15958056449890137, \"time predicting\": 0.002028059959411621, \"rmse\": 0.00019544975779117832}, {\"n\": 400, \"d\": 35, \"learner\": \"Random Forest\", \"mse\": 1.0635455668647014e-05, \"time fitting\": 1.322560930252075, \"time predicting\": 0.1541200876235962, \"rmse\": 0.0032612046345862774}, {\"n\": 400, \"d\": 35, \"learner\": \"Ridge Regression\", \"mse\": 1.0334745629576237e-10, \"time fitting\": 0.000543212890625, \"time predicting\": 9.553432464599609e-05, \"rmse\": 1.016599509619016e-05}, {\"n\": 400, \"d\": 40, \"learner\": \"HAR\", \"mse\": 0.08358794672574762, \"time fitting\": 2.0963167190551757, \"time predicting\": 6.283033227920532, \"rmse\": 0.2891158015843265}, {\"n\": 400, \"d\": 40, \"learner\": \"Mean\", \"mse\": 0.08377278213454513, \"time fitting\": 0.0001253843307495117, \"time predicting\": 2.3889541625976563e-05, \"rmse\": 0.28943528142668634}, {\"n\": 400, \"d\": 40, \"learner\": \"Mixed Sobolev KRR\", \"mse\": 0.0671259686163741, \"time fitting\": 0.039190673828125, \"time predicting\": 0.03248915672302246, \"rmse\": 0.25908679745670965}, {\"n\": 400, \"d\": 40, \"learner\": \"Radial Basis KRR\", \"mse\": 4.4298501928084784e-08, \"time fitting\": 0.15773110389709472, \"time predicting\": 0.002226710319519043, \"rmse\": 0.00021047209299117256}, {\"n\": 400, \"d\": 40, \"learner\": \"Random Forest\", \"mse\": 1.0185142933009282e-05, \"time fitting\": 1.4396639823913575, \"time predicting\": 0.15274839401245116, \"rmse\": 0.0031914170728704954}, {\"n\": 400, \"d\": 40, \"learner\": \"Ridge Regression\", \"mse\": 1.0223594478449671e-10, \"time fitting\": 0.0004173994064331055, \"time predicting\": 9.410381317138672e-05, \"rmse\": 1.0111179198515705e-05}, {\"n\": 1000, \"d\": 5, \"learner\": \"HAR\", \"mse\": 2.273318834122054e-05, \"time fitting\": 3.214274454116821, \"time predicting\": 3.68242084980011, \"rmse\": 0.004767933340685516}, {\"n\": 1000, \"d\": 5, \"learner\": \"Mean\", \"mse\": 0.08405440504056023, \"time fitting\": 0.00012521743774414064, \"time predicting\": 2.3317337036132812e-05, \"rmse\": 0.2899213773431691}, {\"n\": 1000, \"d\": 5, \"learner\": \"Mixed Sobolev KRR\", \"mse\": 2.193723014529959e-06, \"time fitting\": 0.2543532371520996, \"time predicting\": 0.010619854927062989, \"rmse\": 0.001481122214582564}, {\"n\": 1000, \"d\": 5, \"learner\": \"Radial Basis KRR\", \"mse\": 3.423879434554333e-13, \"time fitting\": 1.4142589807510375, \"time predicting\": 0.001967978477478027, \"rmse\": 5.851392513371781e-07}, {\"n\": 1000, \"d\": 5, \"learner\": \"Random Forest\", \"mse\": 7.258174940457716e-07, \"time fitting\": 1.0151029825210571, \"time predicting\": 0.1502354621887207, \"rmse\": 0.0008519492320823885}, {\"n\": 1000, \"d\": 5, \"learner\": \"Ridge Regression\", \"mse\": 1.2213389321099427e-11, \"time fitting\": 0.0003422737121582031, \"time predicting\": 3.8051605224609374e-05, \"rmse\": 3.4947659894618733e-06}, {\"n\": 1000, \"d\": 10, \"learner\": \"HAR\", \"mse\": 0.0005625966414374778, \"time fitting\": 6.714267992973328, \"time predicting\": 7.967767667770386, \"rmse\": 0.023719119744153194}, {\"n\": 1000, \"d\": 10, \"learner\": \"Mean\", \"mse\": 0.08500240789395504, \"time fitting\": 0.00012640953063964845, \"time predicting\": 2.322196960449219e-05, \"rmse\": 0.29155172421708475}, {\"n\": 1000, \"d\": 10, \"learner\": \"Mixed Sobolev KRR\", \"mse\": 7.922554760906213e-05, \"time fitting\": 0.26177828311920165, \"time predicting\": 0.02085440158843994, \"rmse\": 0.008900873418325987}, {\"n\": 1000, \"d\": 10, \"learner\": \"Radial Basis KRR\", \"mse\": 7.1791127872919504e-12, \"time fitting\": 1.4121701955795287, \"time predicting\": 0.0022426128387451174, \"rmse\": 2.679386643859365e-06}, {\"n\": 1000, \"d\": 10, \"learner\": \"Random Forest\", \"mse\": 9.487475784715876e-07, \"time fitting\": 1.2947165727615357, \"time predicting\": 0.15122692584991454, \"rmse\": 0.0009740367439021937}, {\"n\": 1000, \"d\": 10, \"learner\": \"Ridge Regression\", \"mse\": 1.2962921345728314e-11, \"time fitting\": 0.00036368370056152346, \"time predicting\": 4.4298171997070315e-05, \"rmse\": 3.600405719599989e-06}, {\"n\": 1000, \"d\": 15, \"learner\": \"HAR\", \"mse\": 0.003141586785470089, \"time fitting\": 10.604568600654602, \"time predicting\": 12.547930312156677, \"rmse\": 0.05604985981668544}, {\"n\": 1000, \"d\": 15, \"learner\": \"Mean\", \"mse\": 0.08444409036383024, \"time fitting\": 0.00012755393981933594, \"time predicting\": 2.3937225341796876e-05, \"rmse\": 0.29059265366459325}, {\"n\": 1000, \"d\": 15, \"learner\": \"Mixed Sobolev KRR\", \"mse\": 0.0005483973337033532, \"time fitting\": 0.27153902053833007, \"time predicting\": 0.028426980972290038, \"rmse\": 0.023417884910968224}, {\"n\": 1000, \"d\": 15, \"learner\": \"Radial Basis KRR\", \"mse\": 9.367009136857518e-10, \"time fitting\": 1.3836586952209473, \"time predicting\": 0.003098869323730469, \"rmse\": 3.0605569978122476e-05}, {\"n\": 1000, \"d\": 15, \"learner\": \"Random Forest\", \"mse\": 1.1019894149671432e-06, \"time fitting\": 1.6731237888336181, \"time predicting\": 0.1500377655029297, \"rmse\": 0.001049756836113556}, {\"n\": 1000, \"d\": 15, \"learner\": \"Ridge Regression\", \"mse\": 1.3034974156733883e-11, \"time fitting\": 0.0005050182342529296, \"time predicting\": 4.308223724365234e-05, \"rmse\": 3.610398060703817e-06}, {\"n\": 1000, \"d\": 20, \"learner\": \"HAR\", \"mse\": 0.010265839999181075, \"time fitting\": 14.67955756187439, \"time predicting\": 17.639020085334778, \"rmse\": 0.10132048163713532}, {\"n\": 1000, \"d\": 20, \"learner\": \"Mean\", \"mse\": 0.08314883065777437, \"time fitting\": 0.00012562274932861328, \"time predicting\": 2.3102760314941408e-05, \"rmse\": 0.28835538950707057}, {\"n\": 1000, \"d\": 20, \"learner\": \"Mixed Sobolev KRR\", \"mse\": 0.0021969780985040474, \"time fitting\": 0.27815399169921873, \"time predicting\": 0.036954665184021, \"rmse\": 0.04687193295037071}, {\"n\": 1000, \"d\": 20, \"learner\": \"Radial Basis KRR\", \"mse\": 1.0971139040206736e-08, \"time fitting\": 1.4069844961166382, \"time predicting\": 0.003146934509277344, \"rmse\": 0.00010474320522213713}, {\"n\": 1000, \"d\": 20, \"learner\": \"Random Forest\", \"mse\": 1.086455526728631e-06, \"time fitting\": 2.2153833866119386, \"time predicting\": 0.1515169620513916, \"rmse\": 0.0010423317738266597}, {\"n\": 1000, \"d\": 20, \"learner\": \"Ridge Regression\", \"mse\": 1.2893355986288352e-11, \"time fitting\": 0.0005563497543334961, \"time predicting\": 4.6253204345703125e-05, \"rmse\": 3.590731956897974e-06}, {\"n\": 1000, \"d\": 25, \"learner\": \"HAR\", \"mse\": 0.023928715078830418, \"time fitting\": 18.91399450302124, \"time predicting\": 22.632411122322083, \"rmse\": 0.1546890916607581}, {\"n\": 1000, \"d\": 25, \"learner\": \"Mean\", \"mse\": 0.0843196252703642, \"time fitting\": 0.00013494491577148438, \"time predicting\": 2.44140625e-05, \"rmse\": 0.2903784173632128}, {\"n\": 1000, \"d\": 25, \"learner\": \"Mixed Sobolev KRR\", \"mse\": 0.006951441729050274, \"time fitting\": 0.2833983898162842, \"time predicting\": 0.04393138885498047, \"rmse\": 0.08337530647050286}, {\"n\": 1000, \"d\": 25, \"learner\": \"Radial Basis KRR\", \"mse\": 1.6226765589390567e-08, \"time fitting\": 1.371893572807312, \"time predicting\": 0.00376589298248291, \"rmse\": 0.00012738432238462694}, {\"n\": 1000, \"d\": 25, \"learner\": \"Random Forest\", \"mse\": 1.2611689767232922e-06, \"time fitting\": 2.6320048809051513, \"time predicting\": 0.14997544288635253, \"rmse\": 0.0011230177989343232}, {\"n\": 1000, \"d\": 25, \"learner\": \"Ridge Regression\", \"mse\": 1.3118465530319942e-11, \"time fitting\": 0.0004794836044311523, \"time predicting\": 5.650520324707031e-05, \"rmse\": 3.6219422317756454e-06}, {\"n\": 1000, \"d\": 30, \"learner\": \"HAR\", \"mse\": 0.054060165281639275, \"time fitting\": 22.996692848205566, \"time predicting\": 27.989547967910767, \"rmse\": 0.23250841980805614}, {\"n\": 1000, \"d\": 30, \"learner\": \"Mean\", \"mse\": 0.08296067887853478, \"time fitting\": 0.00012655258178710936, \"time predicting\": 2.3484230041503906e-05, \"rmse\": 0.2880289549308104}, {\"n\": 1000, \"d\": 30, \"learner\": \"Mixed Sobolev KRR\", \"mse\": 0.017305726409903077, \"time fitting\": 0.28794083595275877, \"time predicting\": 0.053691673278808597, \"rmse\": 0.13155123112271916}, {\"n\": 1000, \"d\": 30, \"learner\": \"Radial Basis KRR\", \"mse\": 2.2584606003299736e-08, \"time fitting\": 1.3580713510513305, \"time predicting\": 0.0038023948669433593, \"rmse\": 0.00015028175539066521}, {\"n\": 1000, \"d\": 30, \"learner\": \"Random Forest\", \"mse\": 1.2563761950556917e-06, \"time fitting\": 3.1196873664855955, \"time predicting\": 0.15146632194519044, \"rmse\": 0.0011208818827404125}, {\"n\": 1000, \"d\": 30, \"learner\": \"Ridge Regression\", \"mse\": 1.3468765451101303e-11, \"time fitting\": 0.0006669998168945312, \"time predicting\": 9.622573852539063e-05, \"rmse\": 3.6699816690415913e-06}, {\"n\": 1000, \"d\": 35, \"learner\": \"HAR\", \"mse\": 0.07597804011044049, \"time fitting\": 27.33995404243469, \"time predicting\": 33.02640345096588, \"rmse\": 0.27564114371849585}, {\"n\": 1000, \"d\": 35, \"learner\": \"Mean\", \"mse\": 0.08283780562037402, \"time fitting\": 0.00016596317291259766, \"time predicting\": 4.224777221679687e-05, \"rmse\": 0.2878155757084283}, {\"n\": 1000, \"d\": 35, \"learner\": \"Mixed Sobolev KRR\", \"mse\": 0.032582432340517116, \"time fitting\": 0.2937883138656616, \"time predicting\": 0.06120223999023437, \"rmse\": 0.18050604516336044}, {\"n\": 1000, \"d\": 35, \"learner\": \"Radial Basis KRR\", \"mse\": 2.637028249503464e-08, \"time fitting\": 1.3610229015350341, \"time predicting\": 0.004661941528320312, \"rmse\": 0.00016238929304309026}, {\"n\": 1000, \"d\": 35, \"learner\": \"Random Forest\", \"mse\": 1.2648472031318373e-06, \"time fitting\": 3.5639211893081666, \"time predicting\": 0.14904558658599854, \"rmse\": 0.0011246542593756701}, {\"n\": 1000, \"d\": 35, \"learner\": \"Ridge Regression\", \"mse\": 1.3074167990804812e-11, \"time fitting\": 0.000490570068359375, \"time predicting\": 9.593963623046874e-05, \"rmse\": 3.615821896997253e-06}, {\"n\": 1000, \"d\": 40, \"learner\": \"HAR\", \"mse\": 0.08275973577939491, \"time fitting\": 31.863911175727843, \"time predicting\": 38.46742479801178, \"rmse\": 0.2876799189714063}, {\"n\": 1000, \"d\": 40, \"learner\": \"Mean\", \"mse\": 0.08384279849168083, \"time fitting\": 0.00013349056243896484, \"time predicting\": 2.524852752685547e-05, \"rmse\": 0.2895562095546922}, {\"n\": 1000, \"d\": 40, \"learner\": \"Mixed Sobolev KRR\", \"mse\": 0.0500984921192653, \"time fitting\": 0.309833288192749, \"time predicting\": 0.07084012031555176, \"rmse\": 0.22382692447349872}, {\"n\": 1000, \"d\": 40, \"learner\": \"Radial Basis KRR\", \"mse\": 3.353885888663617e-08, \"time fitting\": 1.3659282684326173, \"time predicting\": 0.004634428024291992, \"rmse\": 0.00018313617579996633}, {\"n\": 1000, \"d\": 40, \"learner\": \"Random Forest\", \"mse\": 1.4366542688710593e-06, \"time fitting\": 3.9940974950790404, \"time predicting\": 0.1532054901123047, \"rmse\": 0.0011986051346757445}, {\"n\": 1000, \"d\": 40, \"learner\": \"Ridge Regression\", \"mse\": 1.3316684052114098e-11, \"time fitting\": 0.0007389545440673828, \"time predicting\": 6.611347198486328e-05, \"rmse\": 3.6492032078405964e-06}]}}, {\"mode\": \"vega-lite\"});\n",
       "</script>"
      ],
      "text/plain": [
       "alt.Chart(...)"
      ]
     },
     "execution_count": null,
     "metadata": {},
     "output_type": "execute_result"
    }
   ],
   "source": [
    "df = (\n",
    "    pd.DataFrame([*results, *more_results])\n",
    "    .groupby(['n', 'd', 'learner'], as_index=False)  \n",
    "    .agg({\n",
    "        'mse': np.mean,  \n",
    "        'time fitting': np.mean,\n",
    "        'time predicting': np.mean,\n",
    "    })\n",
    "    # mutate mse to rmse by taking sqrt\n",
    "    .assign(**{\n",
    "        'rmse': lambda df: np.sqrt(df['mse']),\n",
    "    })\n",
    ")\n",
    "\n",
    "chart = alt.Chart(df).mark_line().encode(\n",
    "    x='d', \n",
    "    y='mse',\n",
    "    color = 'learner',\n",
    "    column='n',\n",
    ").properties(\n",
    "    width=200,\n",
    "    height=200,\n",
    ").configure_axis(\n",
    "    labelFontSize=14,\n",
    "    titleFontSize=16\n",
    ").configure_legend(\n",
    "    labelFontSize=14,\n",
    "    titleFontSize=16\n",
    ").configure_header(\n",
    "    labelFontSize=16,  # Increases the font size of the facet labels\n",
    "    titleFontSize=18   # Increases the font size of the facet titles\n",
    ")\n",
    "chart.save('results/plots/dim.pdf')\n",
    "chart"
   ]
  },
  {
   "cell_type": "code",
   "execution_count": 56,
   "id": "7288a383",
   "metadata": {},
   "outputs": [
    {
     "data": {
      "text/plain": [
       "[array([0.48603397]),\n",
       " array([0.49614828]),\n",
       " array([0.49596053]),\n",
       " array([0.49551239]),\n",
       " array([0.49516332]),\n",
       " array([0.49496077]),\n",
       " array([0.49474899]),\n",
       " array([0.49457063]),\n",
       " array([0.49444688]),\n",
       " array([0.49432755]),\n",
       " array([0.49413921]),\n",
       " array([0.49408724]),\n",
       " array([0.49403761]),\n",
       " array([0.49402392]),\n",
       " array([0.4940092]),\n",
       " array([0.49400462]),\n",
       " array([0.49400304]),\n",
       " array([0.4940023]),\n",
       " array([0.49400196]),\n",
       " array([0.49400182])]"
      ]
     },
     "execution_count": null,
     "metadata": {},
     "output_type": "execute_result"
    }
   ],
   "source": [
    "# np.mean((LEARNERS['HAR'].predict(X) - Y)**2)\n",
    "i = 0\n",
    "x = X[i:i+1,:]\n",
    "x_ = X_[0:1,:]\n",
    "x_ = np.zeros((1,d))\n",
    "x_[0,0] = 1\n",
    "y = Y[i]\n",
    "[LEARNERS['HAR'].predict(x*(1-eps) + x_*eps) for eps in np.linspace(0,1,20)]"
   ]
  },
  {
   "cell_type": "code",
   "execution_count": 57,
   "id": "8cbb6bc7",
   "metadata": {},
   "outputs": [],
   "source": [
    "kernel = kernels.HighlyAdaptiveRidge()\n",
    "K = kernel(X)\n",
    "k = kernel(X,X_)"
   ]
  },
  {
   "cell_type": "code",
   "execution_count": 60,
   "id": "d602ad01",
   "metadata": {},
   "outputs": [
    {
     "data": {
      "text/plain": [
       "array([1.71010212e+09, 1.47345499e+09, 1.33592926e+09, 1.29630484e+09, 1.28666493e+09, 1.27908859e+09, 1.26827219e+09, 1.25690520e+09, 1.25062349e+09, 1.24150660e+09, 1.22671676e+09, 1.21737199e+09,\n",
       "       1.21285337e+09, 1.20748665e+09, 1.20120250e+09, 1.19783708e+09, 1.18430920e+09, 1.18350227e+09, 1.17831834e+09, 1.17478422e+09, 1.17313671e+09, 1.17160685e+09, 1.16814177e+09, 1.16621162e+09,\n",
       "       1.16169131e+09, 1.16228200e+09, 1.15919342e+09, 1.15275593e+09, 1.15040962e+09, 1.14822848e+09, 1.14767290e+09, 1.04202195e+09, 1.05692496e+09, 1.14600212e+09, 1.14444396e+09, 1.14343448e+09,\n",
       "       1.14205731e+09, 1.14133121e+09, 1.13825343e+09, 1.13450207e+09, 1.13341819e+09, 1.13255993e+09, 1.13055339e+09, 1.12864894e+09, 1.12741923e+09, 1.12569649e+09, 1.12454802e+09, 1.12381401e+09,\n",
       "       1.12247261e+09, 1.06386979e+09, 1.06602829e+09, 1.06656783e+09, 1.11998694e+09, 1.11950146e+09, 1.11824686e+09, 1.11792020e+09, 1.11759291e+09, 1.11664454e+09, 1.11599849e+09, 1.11564227e+09,\n",
       "       1.11503502e+09, 1.11451240e+09, 1.11376679e+09, 1.11321868e+09, 1.11281047e+09, 1.11225552e+09, 1.11197215e+09, 1.06911737e+09, 1.06957546e+09, 1.07056398e+09, 1.11134583e+09, 1.11105766e+09,\n",
       "       1.11079583e+09, 1.11011524e+09, 1.10967953e+09, 1.10936569e+09, 1.10874950e+09, 1.10831257e+09, 1.07211645e+09, 1.07252605e+09, 1.07293844e+09, 1.07314767e+09, 1.07327244e+09, 1.07364863e+09,\n",
       "       1.10720350e+09, 1.10661640e+09, 1.10649663e+09, 1.10653818e+09, 1.10605518e+09, 1.10546849e+09, 1.10516879e+09, 1.10457052e+09, 1.07397027e+09, 1.07453245e+09, 1.07483767e+09, 1.07509957e+09,\n",
       "       1.07522125e+09, 1.10575149e+09, 1.10477655e+09, 1.10417797e+09, 1.10363440e+09, 1.10386874e+09, 1.10189299e+09, 1.10315332e+09, 1.10254975e+09, 1.10276570e+09, 1.07556174e+09, 1.10164535e+09,\n",
       "       1.10151019e+09, 1.07586852e+09, 1.07603411e+09, 1.10032205e+09, 1.10088068e+09, 1.10102035e+09, 1.09976464e+09, 1.09933477e+09, 1.09956254e+09, 1.07657476e+09, 1.07685339e+09, 1.07714951e+09,\n",
       "       1.07730350e+09, 1.07750108e+09, 1.09862954e+09, 1.09616220e+09, 1.09683715e+09, 1.09730982e+09, 1.09773136e+09, 1.09826234e+09, 1.09834938e+09, 1.07762243e+09, 1.07783859e+09, 1.09563295e+09,\n",
       "       1.09543242e+09, 1.07796837e+09, 1.07838946e+09, 1.07826915e+09, 1.07830016e+09, 1.09489241e+09, 1.09478615e+09, 1.09430441e+09, 1.09424781e+09, 1.09387556e+09, 1.09341777e+09, 1.09314584e+09,\n",
       "       1.09293041e+09, 1.09240509e+09, 1.07855767e+09, 1.07916893e+09, 1.07945562e+09, 1.07963569e+09, 1.07984911e+09, 1.08004411e+09, 1.09190189e+09, 1.08028567e+09, 1.08023932e+09, 1.08140774e+09,\n",
       "       1.08058326e+09, 1.08082222e+09, 1.08098906e+09, 1.08992049e+09, 1.09025782e+09, 1.09050479e+09, 1.09082385e+09, 1.09133661e+09, 1.09152669e+09, 1.09110366e+09, 1.08183367e+09, 1.08215274e+09,\n",
       "       1.08114526e+09, 1.08253126e+09, 1.08845954e+09, 1.08852260e+09, 1.08890986e+09, 1.08787546e+09, 1.08768194e+09, 1.08752785e+09, 1.08907538e+09, 1.08697007e+09, 1.08727158e+09, 1.08527353e+09,\n",
       "       1.08505520e+09, 1.08481679e+09, 1.08612578e+09, 1.08601337e+09, 1.08908937e+09, 1.08577837e+09, 1.08673959e+09, 1.08651496e+09, 1.08302752e+09, 1.08335873e+09, 1.08445998e+09, 1.08369965e+09,\n",
       "       1.08355665e+09, 1.08346332e+09, 1.08437246e+09, 1.08411113e+09, 1.08400700e+09, 1.08300270e+09, 1.08391691e+09, 1.08419824e+09])"
      ]
     },
     "execution_count": null,
     "metadata": {},
     "output_type": "execute_result"
    }
   ],
   "source": [
    "np.linalg.eig(K)[0]"
   ]
  },
  {
   "cell_type": "code",
   "execution_count": 25,
   "id": "8bd54867",
   "metadata": {},
   "outputs": [
    {
     "data": {
      "text/plain": [
       "array([0.78691723, 0.85035828, 0.83963016, 0.68360725, 0.71067461, 0.70277325,\n",
       "       0.80411362, 0.92706831, 0.78254164, 0.78501977, 0.72281755, 0.90374592,\n",
       "       0.76374014, 0.75797403, 0.88658112, 0.93538776, 0.83149068, 0.74862816,\n",
       "       0.83436758, 0.83816175, 0.70338428, 0.80174393, 0.81012508, 0.84590675,\n",
       "       0.91539449, 0.81035468, 0.85327938, 0.59817944, 0.88326098, 0.88077188,\n",
       "       0.82603212, 0.71127013, 0.8667963 , 0.77457104, 0.8544529 , 0.78878767,\n",
       "       0.78077796, 0.81379869, 0.85464466, 0.96377521, 0.92036088, 0.84757023,\n",
       "       0.72853716, 0.90389241, 0.82082519, 0.7838606 , 0.76158042, 0.74859731,\n",
       "       0.85754414, 0.89265877, 0.77001316, 0.91182893, 0.70848276, 0.89593773,\n",
       "       0.79943741, 0.80648752, 0.81731983, 0.76517184, 0.75505112, 0.87763439,\n",
       "       0.75470649, 0.77101551, 0.7562484 , 0.91799292, 0.76245211, 0.82122909,\n",
       "       0.69151305, 0.62972069, 0.84298703, 0.80517437, 0.86360632, 0.78715275,\n",
       "       0.80562601, 0.78067766, 0.75771464, 0.77155615, 0.80206445, 0.67821945,\n",
       "       0.57633923, 0.7801382 , 0.88430891, 0.6964916 , 0.8491678 , 0.7518103 ,\n",
       "       0.74993786, 0.81118993, 0.79465026, 0.84785458, 0.86653168, 0.82576491,\n",
       "       0.75266172, 0.75742899, 0.79970408, 0.81409255, 0.77616608, 0.89204351,\n",
       "       0.76421275, 0.72724592, 0.67607524, 0.8476419 , 0.85387419, 0.79561889,\n",
       "       0.91975046, 0.86222822, 0.84795295, 0.81369877, 0.74718278, 0.88718446,\n",
       "       0.79390538, 0.72667623, 0.77146513, 0.77636016, 0.69850689, 0.71501682,\n",
       "       0.70655441, 0.82974902, 0.93296393, 0.78593452, 0.81735831, 0.77984888,\n",
       "       0.78279705, 0.72272008, 0.8548484 , 0.88591005, 0.80386186, 0.90817699,\n",
       "       0.71059173, 0.80302733, 0.87380411, 0.73892431, 0.9481554 , 0.79767168,\n",
       "       0.7470165 , 0.73222136, 0.75773978, 0.81753999, 0.77466807, 0.92326784,\n",
       "       0.84997827, 0.80831688, 0.72944798, 0.8677152 , 0.77918485, 0.8668626 ,\n",
       "       0.85218468, 0.79481861, 0.88725536, 0.59005973, 0.7500425 , 0.83622138,\n",
       "       0.75156368, 0.88824647, 0.78334526, 0.82693434, 0.8017772 , 0.80435101,\n",
       "       0.83322754, 0.68461238, 0.8201494 , 0.77141717, 0.82825962, 0.80344861,\n",
       "       0.7814728 , 0.84150706, 0.78670586, 0.6955575 , 0.8308812 , 0.79249801,\n",
       "       0.87152707, 0.82483126, 0.7604042 , 0.76014668, 0.78746258, 0.82965984,\n",
       "       0.82612367, 0.74301447, 0.88710996, 0.88681771, 0.7875295 , 0.84459859,\n",
       "       0.72578435, 0.80234096, 0.81143053, 0.85749226, 0.93062269, 0.80303791,\n",
       "       0.91624915, 0.84494975, 0.81803163, 0.88834683, 0.8744337 , 0.78293859,\n",
       "       0.90655095, 0.83884666, 0.71270849, 0.73623073, 0.83260468, 0.79957948,\n",
       "       0.8855902 , 0.83950633])"
      ]
     },
     "execution_count": null,
     "metadata": {},
     "output_type": "execute_result"
    }
   ],
   "source": [
    "n = X.shape[0]\n",
    "alpha = 1e3\n",
    "\n",
    "K_ = np.vstack([\n",
    "    np.hstack([\n",
    "        K + alpha*np.eye(n), np.ones((n,1))\n",
    "    ]),\n",
    "    np.hstack([\n",
    "        np.ones((1,n)), np.zeros((1,1))\n",
    "    ])\n",
    "])\n",
    "\n",
    "H = np.linalg.solve(\n",
    "    K_.T, \n",
    "    np.vstack([K, np.ones((1,n))])\n",
    ")\n",
    "np.diag(H)"
   ]
  }
 ],
 "metadata": {
  "kernelspec": {
   "display_name": "Python 3 (ipykernel)",
   "language": "python",
   "name": "python3"
  },
  "language_info": {
   "codemirror_mode": {
    "name": "ipython",
    "version": 3
   },
   "file_extension": ".py",
   "mimetype": "text/x-python",
   "name": "python",
   "nbconvert_exporter": "python",
   "pygments_lexer": "ipython3",
   "version": "3.8.18"
  }
 },
 "nbformat": 4,
 "nbformat_minor": 5
}
