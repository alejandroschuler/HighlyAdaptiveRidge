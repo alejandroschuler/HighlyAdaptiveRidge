{
 "cells": [
  {
   "cell_type": "code",
   "execution_count": 21,
   "id": "0f405b9e",
   "metadata": {},
   "outputs": [],
   "source": [
    "from timer import Timer\n",
    "import numpy as np\n",
    "import pandas as pd\n",
    "\n",
    "from highly_adaptive_regression import HighlyAdaptiveRidgeCV as HARCV\n",
    "from kernel_ridge import KernelRidge, KernelRidgeCV as KRRCV, HighlyAdaptiveRidgeCV as kHARCV, RadialBasisKernelRidgeCV as RBFKRRCV, MixedSobolevRidgeCV as MSKRRCV\n",
    "from kernel_ridge import kernels\n",
    "\n",
    "from sklearn.model_selection import train_test_split\n",
    "from sklearn.ensemble import RandomForestRegressor as RF\n",
    "from sklearn.linear_model import LinearRegression as LR\n",
    "from sklearn.dummy import DummyRegressor\n",
    "from sklearn.pipeline import Pipeline"
   ]
  },
  {
   "cell_type": "code",
   "execution_count": 22,
   "id": "3d6e5764",
   "metadata": {},
   "outputs": [],
   "source": [
    "from sklearn.preprocessing import MinMaxScaler\n",
    "\n",
    "class ClippedMinMaxScaler(MinMaxScaler):\n",
    "    def transform(self, X):\n",
    "        return np.clip(super().transform(X), 0, 1)"
   ]
  },
  {
   "cell_type": "code",
   "execution_count": 33,
   "id": "e87c37d6",
   "metadata": {},
   "outputs": [
    {
     "name": "stdout",
     "output_type": "stream",
     "text": [
      "Warning: selected regularization is the smallest grid value for HighlyAdaptiveRidge: {'depth': inf, 'order': 0}\n",
      "Warning: selected regularization is the smallest grid value for MixedSobolev: {}\n",
      "Warning: selected regularization is the smallest grid value for RadialBasis: {'gamma': 0.001}\n",
      "Warning: selected regularization is the smallest grid value for RadialBasis: {'gamma': 0.01}\n",
      "Warning: selected regularization is the smallest grid value for RadialBasis: {'gamma': 0.1}\n",
      "Warning: selected regularization is the smallest grid value for RadialBasis: {'gamma': 1}\n",
      "Warning: selected regularization is the smallest grid value for RadialBasis: {'gamma': 10}\n",
      "Warning: selected regularization is the smallest grid value for HighlyAdaptiveRidge: {'depth': inf, 'order': 0}\n",
      "Warning: selected regularization is the smallest grid value for MixedSobolev: {}\n",
      "Warning: selected regularization is the smallest grid value for RadialBasis: {'gamma': 0.001}\n",
      "Warning: selected regularization is the smallest grid value for RadialBasis: {'gamma': 0.01}\n",
      "Warning: selected regularization is the smallest grid value for RadialBasis: {'gamma': 0.1}\n",
      "Warning: selected regularization is the smallest grid value for RadialBasis: {'gamma': 1}\n",
      "Warning: selected regularization is the smallest grid value for RadialBasis: {'gamma': 10}\n"
     ]
    },
    {
     "name": "stdout",
     "output_type": "stream",
     "text": [
      "Warning: selected regularization is the smallest grid value for HighlyAdaptiveRidge: {'depth': inf, 'order': 0}\n",
      "Warning: selected regularization is the smallest grid value for MixedSobolev: {}\n",
      "Warning: selected regularization is the smallest grid value for RadialBasis: {'gamma': 0.001}\n",
      "Warning: selected regularization is the smallest grid value for RadialBasis: {'gamma': 0.01}\n",
      "Warning: selected regularization is the smallest grid value for RadialBasis: {'gamma': 0.1}\n",
      "Warning: selected regularization is the smallest grid value for RadialBasis: {'gamma': 1}\n",
      "Warning: selected regularization is the smallest grid value for HighlyAdaptiveRidge: {'depth': inf, 'order': 0}\n",
      "Warning: selected regularization is the smallest grid value for MixedSobolev: {}\n",
      "Warning: selected regularization is the smallest grid value for RadialBasis: {'gamma': 0.001}\n",
      "Warning: selected regularization is the smallest grid value for RadialBasis: {'gamma': 0.01}\n",
      "Warning: selected regularization is the smallest grid value for RadialBasis: {'gamma': 0.1}\n",
      "Warning: selected regularization is the smallest grid value for RadialBasis: {'gamma': 1}\n"
     ]
    },
    {
     "name": "stdout",
     "output_type": "stream",
     "text": [
      "Warning: selected regularization is the smallest grid value for HighlyAdaptiveRidge: {'depth': inf, 'order': 0}\n",
      "Warning: selected regularization is the smallest grid value for MixedSobolev: {}\n",
      "Warning: selected regularization is the smallest grid value for RadialBasis: {'gamma': 0.001}\n",
      "Warning: selected regularization is the smallest grid value for RadialBasis: {'gamma': 0.01}\n",
      "Warning: selected regularization is the smallest grid value for RadialBasis: {'gamma': 0.1}\n",
      "Warning: selected regularization is the smallest grid value for HighlyAdaptiveRidge: {'depth': inf, 'order': 0}\n",
      "Warning: selected regularization is the smallest grid value for MixedSobolev: {}\n",
      "Warning: selected regularization is the smallest grid value for RadialBasis: {'gamma': 0.001}\n",
      "Warning: selected regularization is the smallest grid value for RadialBasis: {'gamma': 0.01}\n",
      "Warning: selected regularization is the smallest grid value for RadialBasis: {'gamma': 0.1}\n"
     ]
    },
    {
     "name": "stdout",
     "output_type": "stream",
     "text": [
      "Warning: selected regularization is the smallest grid value for HighlyAdaptiveRidge: {'depth': inf, 'order': 0}\n",
      "Warning: selected regularization is the smallest grid value for MixedSobolev: {}\n",
      "Warning: selected regularization is the smallest grid value for RadialBasis: {'gamma': 0.001}\n",
      "Warning: selected regularization is the smallest grid value for RadialBasis: {'gamma': 0.01}\n",
      "Warning: selected regularization is the smallest grid value for RadialBasis: {'gamma': 0.1}\n",
      "Warning: selected regularization is the smallest grid value for RadialBasis: {'gamma': 1}\n",
      "Warning: selected regularization is the smallest grid value for HighlyAdaptiveRidge: {'depth': inf, 'order': 0}\n",
      "Warning: selected regularization is the smallest grid value for MixedSobolev: {}\n",
      "Warning: selected regularization is the smallest grid value for RadialBasis: {'gamma': 0.001}\n",
      "Warning: selected regularization is the smallest grid value for RadialBasis: {'gamma': 0.01}\n",
      "Warning: selected regularization is the smallest grid value for RadialBasis: {'gamma': 0.1}\n",
      "Warning: selected regularization is the smallest grid value for RadialBasis: {'gamma': 1}\n"
     ]
    },
    {
     "name": "stdout",
     "output_type": "stream",
     "text": [
      "Warning: selected regularization is the smallest grid value for HighlyAdaptiveRidge: {'depth': inf, 'order': 0}\n",
      "Warning: selected regularization is the smallest grid value for MixedSobolev: {}\n",
      "Warning: selected regularization is the smallest grid value for RadialBasis: {'gamma': 0.001}\n",
      "Warning: selected regularization is the smallest grid value for RadialBasis: {'gamma': 0.01}\n",
      "Warning: selected regularization is the smallest grid value for RadialBasis: {'gamma': 1}\n",
      "Warning: selected regularization is the smallest grid value for HighlyAdaptiveRidge: {'depth': inf, 'order': 0}\n",
      "Warning: selected regularization is the smallest grid value for MixedSobolev: {}\n",
      "Warning: selected regularization is the smallest grid value for RadialBasis: {'gamma': 0.001}\n",
      "Warning: selected regularization is the smallest grid value for RadialBasis: {'gamma': 0.01}\n",
      "Warning: selected regularization is the smallest grid value for RadialBasis: {'gamma': 1}\n"
     ]
    },
    {
     "name": "stdout",
     "output_type": "stream",
     "text": [
      "Warning: selected regularization is the smallest grid value for RadialBasis: {'gamma': 0.001}\n",
      "Warning: selected regularization is the smallest grid value for RadialBasis: {'gamma': 0.01}\n",
      "Warning: selected regularization is the smallest grid value for RadialBasis: {'gamma': 0.001}\n",
      "Warning: selected regularization is the smallest grid value for RadialBasis: {'gamma': 0.01}\n"
     ]
    },
    {
     "name": "stdout",
     "output_type": "stream",
     "text": [
      "Warning: selected regularization is the smallest grid value for RadialBasis: {'gamma': 10}\n",
      "Warning: selected regularization is the smallest grid value for RadialBasis: {'gamma': 10}\n"
     ]
    },
    {
     "name": "stdout",
     "output_type": "stream",
     "text": [
      "Warning: selected regularization is the smallest grid value for RadialBasis: {'gamma': 0.001}\n",
      "Warning: selected regularization is the smallest grid value for RadialBasis: {'gamma': 0.01}\n",
      "Warning: selected regularization is the smallest grid value for RadialBasis: {'gamma': 0.001}\n",
      "Warning: selected regularization is the smallest grid value for RadialBasis: {'gamma': 0.01}\n"
     ]
    },
    {
     "name": "stdout",
     "output_type": "stream",
     "text": [
      "Warning: selected regularization is the smallest grid value for RadialBasis: {'gamma': 10}\n",
      "Warning: selected regularization is the smallest grid value for RadialBasis: {'gamma': 10}\n"
     ]
    },
    {
     "name": "stdout",
     "output_type": "stream",
     "text": [
      "Warning: selected regularization is the smallest grid value for RadialBasis: {'gamma': 0.001}\n",
      "Warning: selected regularization is the smallest grid value for RadialBasis: {'gamma': 0.001}\n"
     ]
    },
    {
     "name": "stdout",
     "output_type": "stream",
     "text": [
      "Warning: selected regularization is the smallest grid value for RadialBasis: {'gamma': 10}\n",
      "Warning: selected regularization is the smallest grid value for RadialBasis: {'gamma': 10}\n"
     ]
    },
    {
     "name": "stdout",
     "output_type": "stream",
     "text": [
      "Warning: selected regularization is the smallest grid value for RadialBasis: {'gamma': 0.001}\n",
      "Warning: selected regularization is the smallest grid value for RadialBasis: {'gamma': 10}\n",
      "Warning: selected regularization is the smallest grid value for RadialBasis: {'gamma': 0.001}\n",
      "Warning: selected regularization is the smallest grid value for RadialBasis: {'gamma': 10}\n"
     ]
    },
    {
     "name": "stdout",
     "output_type": "stream",
     "text": [
      "Warning: selected regularization is the smallest grid value for RadialBasis: {'gamma': 0.001}\n",
      "Warning: selected regularization is the smallest grid value for RadialBasis: {'gamma': 1}\n",
      "Warning: selected regularization is the smallest grid value for RadialBasis: {'gamma': 10}\n",
      "Warning: selected regularization is the smallest grid value for RadialBasis: {'gamma': 0.001}\n",
      "Warning: selected regularization is the smallest grid value for RadialBasis: {'gamma': 1}\n",
      "Warning: selected regularization is the smallest grid value for RadialBasis: {'gamma': 10}\n"
     ]
    },
    {
     "name": "stdout",
     "output_type": "stream",
     "text": [
      "Warning: selected regularization is the smallest grid value for HighlyAdaptiveRidge: {'depth': inf, 'order': 0}\n",
      "Warning: selected regularization is the smallest grid value for HighlyAdaptiveRidge: {'depth': inf, 'order': 0}\n"
     ]
    },
    {
     "name": "stdout",
     "output_type": "stream",
     "text": [
      "Warning: selected regularization is the smallest grid value for RadialBasis: {'gamma': 10}\n",
      "Warning: selected regularization is the smallest grid value for RadialBasis: {'gamma': 10}\n"
     ]
    },
    {
     "name": "stdout",
     "output_type": "stream",
     "text": [
      "Warning: selected regularization is the smallest grid value for RadialBasis: {'gamma': 0.1}\n",
      "Warning: selected regularization is the smallest grid value for RadialBasis: {'gamma': 10}\n",
      "Warning: selected regularization is the smallest grid value for RadialBasis: {'gamma': 0.1}\n",
      "Warning: selected regularization is the smallest grid value for RadialBasis: {'gamma': 10}\n"
     ]
    },
    {
     "name": "stdout",
     "output_type": "stream",
     "text": [
      "Warning: selected regularization is the smallest grid value for MixedSobolev: {}\n",
      "Warning: selected regularization is the smallest grid value for RadialBasis: {'gamma': 0.1}\n",
      "Warning: selected regularization is the smallest grid value for RadialBasis: {'gamma': 1}\n",
      "Warning: selected regularization is the smallest grid value for MixedSobolev: {}\n",
      "Warning: selected regularization is the smallest grid value for RadialBasis: {'gamma': 0.1}\n",
      "Warning: selected regularization is the smallest grid value for RadialBasis: {'gamma': 1}\n"
     ]
    },
    {
     "name": "stdout",
     "output_type": "stream",
     "text": [
      "Warning: selected regularization is the smallest grid value for RadialBasis: {'gamma': 0.1}\n",
      "Warning: selected regularization is the smallest grid value for RadialBasis: {'gamma': 1}\n",
      "Warning: selected regularization is the smallest grid value for RadialBasis: {'gamma': 0.1}\n",
      "Warning: selected regularization is the smallest grid value for RadialBasis: {'gamma': 1}\n"
     ]
    },
    {
     "name": "stdout",
     "output_type": "stream",
     "text": [
      "Warning: selected regularization is the smallest grid value for MixedSobolev: {}\n",
      "Warning: selected regularization is the smallest grid value for RadialBasis: {'gamma': 0.1}\n",
      "Warning: selected regularization is the smallest grid value for RadialBasis: {'gamma': 1}\n",
      "Warning: selected regularization is the smallest grid value for MixedSobolev: {}\n",
      "Warning: selected regularization is the smallest grid value for RadialBasis: {'gamma': 0.1}\n",
      "Warning: selected regularization is the smallest grid value for RadialBasis: {'gamma': 1}\n"
     ]
    },
    {
     "name": "stdout",
     "output_type": "stream",
     "text": [
      "Warning: selected regularization is the smallest grid value for RadialBasis: {'gamma': 1}\n",
      "Warning: selected regularization is the smallest grid value for RadialBasis: {'gamma': 1}\n"
     ]
    },
    {
     "name": "stdout",
     "output_type": "stream",
     "text": [
      "Warning: selected regularization is the smallest grid value for RadialBasis: {'gamma': 10}\n",
      "Warning: selected regularization is the smallest grid value for RadialBasis: {'gamma': 10}\n"
     ]
    },
    {
     "name": "stdout",
     "output_type": "stream",
     "text": [
      "Warning: selected regularization is the smallest grid value for RadialBasis: {'gamma': 1}\n",
      "Warning: selected regularization is the smallest grid value for RadialBasis: {'gamma': 10}\n",
      "Warning: selected regularization is the smallest grid value for RadialBasis: {'gamma': 1}\n",
      "Warning: selected regularization is the smallest grid value for RadialBasis: {'gamma': 10}\n"
     ]
    },
    {
     "name": "stdout",
     "output_type": "stream",
     "text": [
      "Warning: selected regularization is the smallest grid value for RadialBasis: {'gamma': 0.01}\n",
      "Warning: selected regularization is the smallest grid value for RadialBasis: {'gamma': 0.1}\n",
      "Warning: selected regularization is the smallest grid value for RadialBasis: {'gamma': 1}\n",
      "Warning: selected regularization is the smallest grid value for RadialBasis: {'gamma': 0.01}\n",
      "Warning: selected regularization is the smallest grid value for RadialBasis: {'gamma': 0.1}\n",
      "Warning: selected regularization is the smallest grid value for RadialBasis: {'gamma': 1}\n"
     ]
    },
    {
     "name": "stdout",
     "output_type": "stream",
     "text": [
      "Warning: selected regularization is the smallest grid value for RadialBasis: {'gamma': 10}\n",
      "Warning: selected regularization is the smallest grid value for RadialBasis: {'gamma': 10}\n"
     ]
    },
    {
     "name": "stdout",
     "output_type": "stream",
     "text": [
      "Warning: selected regularization is the smallest grid value for RadialBasis: {'gamma': 0.01}\n",
      "Warning: selected regularization is the smallest grid value for RadialBasis: {'gamma': 0.1}\n",
      "Warning: selected regularization is the smallest grid value for RadialBasis: {'gamma': 1}\n",
      "Warning: selected regularization is the smallest grid value for RadialBasis: {'gamma': 10}\n",
      "Warning: selected regularization is the smallest grid value for RadialBasis: {'gamma': 0.01}\n",
      "Warning: selected regularization is the smallest grid value for RadialBasis: {'gamma': 0.1}\n",
      "Warning: selected regularization is the smallest grid value for RadialBasis: {'gamma': 1}\n",
      "Warning: selected regularization is the smallest grid value for RadialBasis: {'gamma': 10}\n"
     ]
    },
    {
     "name": "stdout",
     "output_type": "stream",
     "text": [
      "Warning: selected regularization is the smallest grid value for RadialBasis: {'gamma': 0.01}\n",
      "Warning: selected regularization is the smallest grid value for RadialBasis: {'gamma': 0.1}\n",
      "Warning: selected regularization is the smallest grid value for RadialBasis: {'gamma': 1}\n",
      "Warning: selected regularization is the smallest grid value for RadialBasis: {'gamma': 10}\n",
      "Warning: selected regularization is the smallest grid value for RadialBasis: {'gamma': 0.01}\n",
      "Warning: selected regularization is the smallest grid value for RadialBasis: {'gamma': 0.1}\n",
      "Warning: selected regularization is the smallest grid value for RadialBasis: {'gamma': 1}\n",
      "Warning: selected regularization is the smallest grid value for RadialBasis: {'gamma': 10}\n"
     ]
    },
    {
     "name": "stdout",
     "output_type": "stream",
     "text": [
      "Warning: selected regularization is the smallest grid value for RadialBasis: {'gamma': 10}\n",
      "Warning: selected regularization is the smallest grid value for RadialBasis: {'gamma': 10}\n"
     ]
    },
    {
     "name": "stdout",
     "output_type": "stream",
     "text": [
      "Warning: selected regularization is the smallest grid value for RadialBasis: {'gamma': 10}\n",
      "Warning: selected regularization is the smallest grid value for RadialBasis: {'gamma': 10}\n"
     ]
    },
    {
     "name": "stdout",
     "output_type": "stream",
     "text": [
      "Warning: selected regularization is the smallest grid value for RadialBasis: {'gamma': 10}\n",
      "Warning: selected regularization is the smallest grid value for RadialBasis: {'gamma': 10}\n"
     ]
    }
   ],
   "source": [
    "LEARNERS = {\n",
    "    'Mean':DummyRegressor(strategy=\"mean\"),\n",
    "    'Linear Regression':LR(),\n",
    "    'Random Forest':RF(n_estimators=2000, n_jobs=-1),\n",
    "    'RBF Kernel Ridge':RBFKRRCV(gammas=[0.001, 0.01, 0.1, 1, 10], eps=1e-10),\n",
    "    'Mixed Sobolev Kernel Ridge':Pipeline([\n",
    "        ('scaler', ClippedMinMaxScaler()),\n",
    "        ('mskrrcv', MSKRRCV(eps=1e-10))\n",
    "    ]),\n",
    "    'HAR':kHARCV(eps=1e-10, order=0),\n",
    "}\n",
    "\n",
    "DATASETS = [\n",
    "    \"yacht\",\n",
    "    \"energy\",\n",
    "    \"boston\",\n",
    "    \"concrete\",\n",
    "    \"wine\",\n",
    "]\n",
    "\n",
    "N_REPS = 5\n",
    "\n",
    "results = []\n",
    "for data in DATASETS:\n",
    "\n",
    "    df = pd.read_csv(f\"~/Desktop/csv/{data}.csv\")\n",
    "    X = df.iloc[:, :-1].values\n",
    "    Y = df.iloc[:,-1].values\n",
    "    n, d = X.shape\n",
    "\n",
    "    for rep in range(N_REPS):\n",
    "        X, X_, Y, Y_ = train_test_split(X, Y, test_size=0.2)\n",
    "        timer = Timer()\n",
    "        for name, learner in LEARNERS.items():\n",
    "            with timer.task(\"time fitting\"):\n",
    "                learner.fit(X,Y)\n",
    "            with timer.task(\"time predicting\"):\n",
    "                mse = np.mean((learner.predict(X_) - Y_)**2)\n",
    "\n",
    "            results += [{\n",
    "                'data': data,\n",
    "                'n': n,\n",
    "                'd': d,\n",
    "                'learner': name,\n",
    "                'mse': mse,\n",
    "                **timer.durations,\n",
    "            }]"
   ]
  },
  {
   "cell_type": "code",
   "execution_count": 34,
   "id": "99bff46e",
   "metadata": {},
   "outputs": [
    {
     "data": {
      "text/html": [
       "<div>\n",
       "<style scoped>\n",
       "    .dataframe tbody tr th:only-of-type {\n",
       "        vertical-align: middle;\n",
       "    }\n",
       "\n",
       "    .dataframe tbody tr th {\n",
       "        vertical-align: top;\n",
       "    }\n",
       "\n",
       "    .dataframe thead th {\n",
       "        text-align: right;\n",
       "    }\n",
       "</style>\n",
       "<table border=\"1\" class=\"dataframe\">\n",
       "  <thead>\n",
       "    <tr style=\"text-align: right;\">\n",
       "      <th></th>\n",
       "      <th>data</th>\n",
       "      <th>n</th>\n",
       "      <th>d</th>\n",
       "      <th>learner</th>\n",
       "      <th>mse</th>\n",
       "      <th>time fitting</th>\n",
       "      <th>time predicting</th>\n",
       "    </tr>\n",
       "  </thead>\n",
       "  <tbody>\n",
       "    <tr>\n",
       "      <th>0</th>\n",
       "      <td>yacht</td>\n",
       "      <td>308</td>\n",
       "      <td>6</td>\n",
       "      <td>Mean</td>\n",
       "      <td>223.367895</td>\n",
       "      <td>0.000136</td>\n",
       "      <td>0.000026</td>\n",
       "    </tr>\n",
       "    <tr>\n",
       "      <th>1</th>\n",
       "      <td>yacht</td>\n",
       "      <td>308</td>\n",
       "      <td>6</td>\n",
       "      <td>Linear Regression</td>\n",
       "      <td>77.469453</td>\n",
       "      <td>0.000299</td>\n",
       "      <td>0.000036</td>\n",
       "    </tr>\n",
       "    <tr>\n",
       "      <th>2</th>\n",
       "      <td>yacht</td>\n",
       "      <td>308</td>\n",
       "      <td>6</td>\n",
       "      <td>Random Forest</td>\n",
       "      <td>1.536505</td>\n",
       "      <td>0.858904</td>\n",
       "      <td>0.078556</td>\n",
       "    </tr>\n",
       "    <tr>\n",
       "      <th>3</th>\n",
       "      <td>yacht</td>\n",
       "      <td>308</td>\n",
       "      <td>6</td>\n",
       "      <td>HAR</td>\n",
       "      <td>0.329394</td>\n",
       "      <td>0.487169</td>\n",
       "      <td>0.021109</td>\n",
       "    </tr>\n",
       "    <tr>\n",
       "      <th>4</th>\n",
       "      <td>yacht</td>\n",
       "      <td>308</td>\n",
       "      <td>6</td>\n",
       "      <td>Mixed Sobolev Kernel Ridge</td>\n",
       "      <td>0.178893</td>\n",
       "      <td>0.020843</td>\n",
       "      <td>0.000468</td>\n",
       "    </tr>\n",
       "    <tr>\n",
       "      <th>...</th>\n",
       "      <td>...</td>\n",
       "      <td>...</td>\n",
       "      <td>...</td>\n",
       "      <td>...</td>\n",
       "      <td>...</td>\n",
       "      <td>...</td>\n",
       "      <td>...</td>\n",
       "    </tr>\n",
       "    <tr>\n",
       "      <th>145</th>\n",
       "      <td>wine</td>\n",
       "      <td>1599</td>\n",
       "      <td>11</td>\n",
       "      <td>Linear Regression</td>\n",
       "      <td>0.396323</td>\n",
       "      <td>0.000328</td>\n",
       "      <td>0.000038</td>\n",
       "    </tr>\n",
       "    <tr>\n",
       "      <th>146</th>\n",
       "      <td>wine</td>\n",
       "      <td>1599</td>\n",
       "      <td>11</td>\n",
       "      <td>Random Forest</td>\n",
       "      <td>0.427531</td>\n",
       "      <td>0.974879</td>\n",
       "      <td>0.099411</td>\n",
       "    </tr>\n",
       "    <tr>\n",
       "      <th>147</th>\n",
       "      <td>wine</td>\n",
       "      <td>1599</td>\n",
       "      <td>11</td>\n",
       "      <td>HAR</td>\n",
       "      <td>0.406538</td>\n",
       "      <td>9.306353</td>\n",
       "      <td>0.291466</td>\n",
       "    </tr>\n",
       "    <tr>\n",
       "      <th>148</th>\n",
       "      <td>wine</td>\n",
       "      <td>1599</td>\n",
       "      <td>11</td>\n",
       "      <td>Mixed Sobolev Kernel Ridge</td>\n",
       "      <td>0.410729</td>\n",
       "      <td>0.108649</td>\n",
       "      <td>0.001501</td>\n",
       "    </tr>\n",
       "    <tr>\n",
       "      <th>149</th>\n",
       "      <td>wine</td>\n",
       "      <td>1599</td>\n",
       "      <td>11</td>\n",
       "      <td>RBF Kernel Ridge</td>\n",
       "      <td>0.446125</td>\n",
       "      <td>0.483876</td>\n",
       "      <td>0.000625</td>\n",
       "    </tr>\n",
       "  </tbody>\n",
       "</table>\n",
       "<p>150 rows × 7 columns</p>\n",
       "</div>"
      ],
      "text/plain": [
       "      data     n   d                     learner         mse  time fitting  time predicting\n",
       "0    yacht   308   6                        Mean  223.367895      0.000136         0.000026\n",
       "1    yacht   308   6           Linear Regression   77.469453      0.000299         0.000036\n",
       "2    yacht   308   6               Random Forest    1.536505      0.858904         0.078556\n",
       "3    yacht   308   6                         HAR    0.329394      0.487169         0.021109\n",
       "4    yacht   308   6  Mixed Sobolev Kernel Ridge    0.178893      0.020843         0.000468\n",
       "..     ...   ...  ..                         ...         ...           ...              ...\n",
       "145   wine  1599  11           Linear Regression    0.396323      0.000328         0.000038\n",
       "146   wine  1599  11               Random Forest    0.427531      0.974879         0.099411\n",
       "147   wine  1599  11                         HAR    0.406538      9.306353         0.291466\n",
       "148   wine  1599  11  Mixed Sobolev Kernel Ridge    0.410729      0.108649         0.001501\n",
       "149   wine  1599  11            RBF Kernel Ridge    0.446125      0.483876         0.000625\n",
       "\n",
       "[150 rows x 7 columns]"
      ]
     },
     "execution_count": null,
     "metadata": {},
     "output_type": "execute_result"
    }
   ],
   "source": [
    "pd.DataFrame(results)"
   ]
  },
  {
   "cell_type": "code",
   "execution_count": 49,
   "id": "0f3f0cbe",
   "metadata": {},
   "outputs": [
    {
     "name": "stdout",
     "output_type": "stream",
     "text": [
      "learner      data     n   d        HAR  Mixed Sobolev Kernel Ridge  RBF Kernel Ridge  Random Forest  Linear Regression        Mean\n",
      "0           yacht   308   6   3.082063                    0.951421         13.575310       1.841530          84.509518  244.089715\n",
      "1          boston   506  13  19.055743                   12.682318         35.199414      16.502700          27.819152   88.255263\n",
      "2          energy   768   8   0.193621                    0.199039          0.585088       0.284699           9.412902  104.016834\n",
      "3        concrete  1030   8  21.170419                   23.703165        111.582927      36.918705         117.201361  273.251333\n",
      "4            wine  1599  11   0.395536                    0.399302          0.430979       0.377481           0.445893    0.661504\n",
      "learner      data     n   d        HAR  Mixed Sobolev Kernel Ridge  RBF Kernel Ridge  Random Forest  Linear Regression        Mean\n",
      "0           yacht   308   6   3.082063                    0.951421         13.575310       1.841530          84.509518  244.089715\n",
      "1          boston   506  13  19.055743                   12.682318         35.199414      16.502700          27.819152   88.255263\n",
      "2          energy   768   8   0.193621                    0.199039          0.585088       0.284699           9.412902  104.016834\n",
      "3        concrete  1030   8  21.170419                   23.703165        111.582927      36.918705         117.201361  273.251333\n",
      "4            wine  1599  11   0.395536                    0.399302          0.430979       0.377481           0.445893    0.661504\n"
     ]
    },
    {
     "name": "stderr",
     "output_type": "stream",
     "text": [
      "<positron-console-cell-49>:4: FutureWarning: The provided callable <function mean at 0x106585c60> is currently using SeriesGroupBy.mean. In a future version of pandas, the provided callable will be used directly. To keep current behavior pass the string \"mean\" instead.\n",
      "<positron-console-cell-49>:4: FutureWarning: The provided callable <function mean at 0x106585c60> is currently using SeriesGroupBy.mean. In a future version of pandas, the provided callable will be used directly. To keep current behavior pass the string \"mean\" instead.\n"
     ]
    }
   ],
   "source": [
    "results_avg = (\n",
    "    pd.DataFrame(results)\n",
    "    .groupby(['data', 'n', 'd', 'learner'], as_index=False)  \n",
    "    .agg({\n",
    "        'mse': np.mean,  \n",
    "        'time fitting': np.mean,\n",
    "        'time predicting': np.mean\n",
    "    })\n",
    ")\n",
    "\n",
    "pivot_df = (\n",
    "    results_avg\n",
    "    .pivot_table(index=['data', 'n', 'd'], columns='learner', values='mse')  # Pivot by 'learner' for mse\n",
    "    .reindex(columns=[k for k in LEARNERS.keys()][::-1])  # Reorder the columns based on the desired order\n",
    "    .sort_values(by='n')  # Sort the rows by 'n'\n",
    "    .reset_index()  # Reset the index to make 'data', 'n', and 'd' regular columns\n",
    ")\n",
    "\n",
    "# Display the result\n",
    "print(pivot_df)"
   ]
  },
  {
   "cell_type": "code",
   "execution_count": null,
   "id": "7e6820d0",
   "metadata": {},
   "outputs": [],
   "source": []
  }
 ],
 "metadata": {
  "kernelspec": {
   "display_name": "Python 3 (ipykernel)",
   "language": "python",
   "name": "python3"
  },
  "language_info": {
   "codemirror_mode": {
    "name": "ipython",
    "version": 3
   },
   "file_extension": ".py",
   "mimetype": "text/x-python",
   "name": "python",
   "nbconvert_exporter": "python",
   "pygments_lexer": "ipython3",
   "version": "3.8.18"
  }
 },
 "nbformat": 4,
 "nbformat_minor": 5
}
