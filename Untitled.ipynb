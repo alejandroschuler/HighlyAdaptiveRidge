{
 "cells": [
  {
   "cell_type": "code",
   "execution_count": 1,
   "id": "30b86313-babc-40bb-8199-1e08c19bf98f",
   "metadata": {
    "execution": {
     "iopub.execute_input": "2024-08-16T18:11:46.424989Z",
     "iopub.status.busy": "2024-08-16T18:11:46.424654Z",
     "iopub.status.idle": "2024-08-16T18:11:46.791479Z",
     "shell.execute_reply": "2024-08-16T18:11:46.791185Z",
     "shell.execute_reply.started": "2024-08-16T18:11:46.424966Z"
    }
   },
   "outputs": [
    {
     "data": {
      "text/plain": [
       "np.True_"
      ]
     },
     "execution_count": null,
     "metadata": {},
     "output_type": "execute_result"
    }
   ],
   "source": [
    "import numpy as np\n",
    "from highly_adaptive_regression import KernelHAR, HARCV, HALCV\n",
    "n, n_ ,d  = 100, 100, 3\n",
    "\n",
    "X = np.random.rand(n, d)  \n",
    "X_ = np.random.rand(n_, d)   \n",
    "Y = 10*np.random.rand(n)  \n",
    "\n",
    "har = HARCV(kernel=False)\n",
    "har.fit(X,Y)\n",
    "Y_har = har.predict(X_)\n",
    "khar = KernelHAR(har.regression.alpha_)\n",
    "khar.fit(X,Y)\n",
    "Y_khar = khar.predict(X_)\n",
    "\n",
    "rmse_diff = np.sqrt(np.mean((Y_har - Y_khar)**2))\n",
    "rmse_diff / np.std(Y) < 0.1\n",
    "\n",
    "rmse_har = np.sqrt(np.mean((Y_har - Y)**2))\n",
    "rmse_khar = np.sqrt(np.mean((Y_khar - Y)**2))\n",
    "np.abs((rmse_har - rmse_khar)/rmse_har) < 1e-2"
   ]
  },
  {
   "cell_type": "code",
   "execution_count": 2,
   "id": "639f9f31",
   "metadata": {},
   "outputs": [
    {
     "data": {
      "text/plain": [
       "(np.float64(3.041431756846802),\n",
       " np.float64(3.041431756846801),\n",
       " np.float64(6.8381086681168995e-15))"
      ]
     },
     "execution_count": null,
     "metadata": {},
     "output_type": "execute_result"
    }
   ],
   "source": [
    "rmse_har, rmse_khar, rmse_diff"
   ]
  },
  {
   "cell_type": "code",
   "execution_count": 2,
   "id": "5c085149",
   "metadata": {},
   "outputs": [
    {
     "ename": "ValueError",
     "evalue": "matmul: Input operand 1 has a mismatch in its core dimension 0, with gufunc signature (n?,k),(k,m?)->(n?,m?) (size 5 is different from 10)",
     "output_type": "error",
     "traceback": [
      "\u001b[0;31m---------------------------------------------------------------------------\u001b[0m\n",
      "\u001b[0;31mValueError\u001b[0m                                Traceback (most recent call last)\n",
      "Cell \u001b[0;32mIn[2], line 6\u001b[0m\n",
      "\u001b[1;32m      4\u001b[0m khar \u001b[38;5;241m=\u001b[39m KernelHAR(\u001b[38;5;241m1\u001b[39m)\n",
      "\u001b[1;32m      5\u001b[0m khar\u001b[38;5;241m.\u001b[39mfit(X,Y)\n",
      "\u001b[0;32m----> 6\u001b[0m Y_khar \u001b[38;5;241m=\u001b[39m \u001b[43mkhar\u001b[49m\u001b[38;5;241;43m.\u001b[39;49m\u001b[43mpredict\u001b[49m\u001b[43m(\u001b[49m\u001b[43mX_\u001b[49m\u001b[43m)\u001b[49m\n",
      "\u001b[1;32m      8\u001b[0m rmse_diff \u001b[38;5;241m=\u001b[39m np\u001b[38;5;241m.\u001b[39msqrt(np\u001b[38;5;241m.\u001b[39mmean((Y_har \u001b[38;5;241m-\u001b[39m Y_khar)\u001b[38;5;241m*\u001b[39m\u001b[38;5;241m*\u001b[39m\u001b[38;5;241m2\u001b[39m))\n",
      "\u001b[1;32m     10\u001b[0m rmse_har \u001b[38;5;241m=\u001b[39m np\u001b[38;5;241m.\u001b[39msqrt(np\u001b[38;5;241m.\u001b[39mmean((Y_har \u001b[38;5;241m-\u001b[39m Y)\u001b[38;5;241m*\u001b[39m\u001b[38;5;241m*\u001b[39m\u001b[38;5;241m2\u001b[39m))\n",
      "\n",
      "File \u001b[0;32m~/Desktop/HighlyAdaptiveRidge/highly_adaptive_regression.py:169\u001b[0m, in \u001b[0;36mKernelHAR.predict\u001b[0;34m(self, X)\u001b[0m\n",
      "\u001b[1;32m    167\u001b[0m k \u001b[38;5;241m=\u001b[39m k \u001b[38;5;241m-\u001b[39m  \u001b[38;5;241m+\u001b[39m np\u001b[38;5;241m.\u001b[39mmean(k)\n",
      "\u001b[1;32m    168\u001b[0m \u001b[38;5;66;03m# k = self.centerer.transform(self._kernel(self.X, X)).T\u001b[39;00m\n",
      "\u001b[0;32m--> 169\u001b[0m \u001b[38;5;28;01mreturn\u001b[39;00m \u001b[43mk\u001b[49m\u001b[43m \u001b[49m\u001b[38;5;241;43m@\u001b[39;49m\u001b[43m \u001b[49m\u001b[38;5;28;43mself\u001b[39;49m\u001b[38;5;241;43m.\u001b[39;49m\u001b[43mcoef\u001b[49m \u001b[38;5;241m+\u001b[39m \u001b[38;5;28mself\u001b[39m\u001b[38;5;241m.\u001b[39mintercept\n",
      "\n",
      "\u001b[0;31mValueError\u001b[0m: matmul: Input operand 1 has a mismatch in its core dimension 0, with gufunc signature (n?,k),(k,m?)->(n?,m?) (size 5 is different from 10)"
     ]
    }
   ],
   "source": [
    "har = HARCV(kernel=False, alphas=1)\n",
    "har.fit(X,Y)\n",
    "Y_har = har.predict(X_)\n",
    "khar = KernelHAR(1)\n",
    "khar.fit(X,Y)\n",
    "Y_khar = khar.predict(X_)\n",
    "\n",
    "rmse_diff = np.sqrt(np.mean((Y_har - Y_khar)**2))\n",
    "\n",
    "rmse_har = np.sqrt(np.mean((Y_har - Y)**2))\n",
    "rmse_khar = np.sqrt(np.mean((Y_khar - Y)**2))\n",
    "np.abs((rmse_har - rmse_khar)/rmse_har) < 1e-2"
   ]
  },
  {
   "cell_type": "code",
   "execution_count": 3,
   "id": "f13895fd",
   "metadata": {},
   "outputs": [],
   "source": [
    "khar = KernelHAR(1)\n",
    "khar.fit(X,Y)\n",
    "K = khar._kernel(X,X)\n",
    "Kk = khar._kernel(X,X_)\n",
    "k = khar._kernel(X_,X_)"
   ]
  },
  {
   "cell_type": "code",
   "execution_count": 5,
   "id": "a9ee480b",
   "metadata": {},
   "outputs": [
    {
     "data": {
      "text/plain": [
       "array([[ -4.12,  -4.12,  -0.12,  -7.12,  -5.12,  -5.12,  -4.12,  -0.12,  -7.12,  -4.12],\n",
       "       [ -5.92,  -5.92,   0.08,  -7.92,  -5.92,  -5.92,  -7.92,  -3.92,  -7.92,  -5.92],\n",
       "       [ -0.12,   3.88,  -0.12,  -2.12,  -0.12,  -2.12,  -4.12,  -2.12,  -3.12,  -0.12],\n",
       "       [-15.32, -15.32,  -5.32, -21.32, -19.32, -21.32, -20.32, -15.32, -22.32, -13.32],\n",
       "       [-12.72, -12.72,  -4.72, -18.72, -16.72, -17.72, -16.72, -11.72, -18.72, -12.72]])"
      ]
     },
     "execution_count": null,
     "metadata": {},
     "output_type": "execute_result"
    }
   ],
   "source": [
    "Kk - (Kk @ np.ones((n_,n_)) + (K @ np.ones((n,n_))))/n + np.mean(K)"
   ]
  },
  {
   "cell_type": "code",
   "execution_count": 6,
   "id": "5c4829cd",
   "metadata": {},
   "outputs": [
    {
     "data": {
      "text/plain": [
       "array([[ 0.68, -0.12, -0.92,  1.48,  1.48,  2.48,  3.68,  3.68,  1.88,  0.28],\n",
       "       [-0.72, -1.52, -0.32,  1.08,  1.08,  2.08,  0.28,  0.28,  1.48, -1.12],\n",
       "       [ 2.88,  6.08, -2.72,  4.68,  4.68,  3.68,  1.88, -0.12,  4.08,  2.48],\n",
       "       [-1.72, -2.52,  2.68, -3.92, -3.92, -4.92, -3.72, -2.72, -4.52, -0.12],\n",
       "       [-1.12, -1.92,  1.28, -3.32, -3.32, -3.32, -2.12, -1.12, -2.92, -1.52]])"
      ]
     },
     "execution_count": null,
     "metadata": {},
     "output_type": "execute_result"
    }
   ],
   "source": [
    "har = HARCV(kernel=False, alphas=1)\n",
    "har.knots = X\n",
    "scaler = StandardScaler(with_mean=True, with_std=False)\n",
    "H = har._bases(X).astype(int) \n",
    "H_ = har._bases(X_).astype(int) \n",
    "Hc = scaler.fit_transform(H)\n",
    "Hc_ = scaler.transform(H_)\n",
    "\n",
    "Hc @ Hc_.T"
   ]
  },
  {
   "cell_type": "code",
   "execution_count": 7,
   "id": "ffa421ad",
   "metadata": {},
   "outputs": [
    {
     "data": {
      "text/plain": [
       "array([ 8.8, 10.2,  6.6, 17.2, 15.6])"
      ]
     },
     "execution_count": null,
     "metadata": {},
     "output_type": "execute_result"
    }
   ],
   "source": [
    "np.mean(K, axis=0)"
   ]
  },
  {
   "cell_type": "code",
   "execution_count": 9,
   "id": "1ed6eff6",
   "metadata": {},
   "outputs": [
    {
     "data": {
      "text/plain": [
       "array([ 8.8, 10.2,  6.6, 17.2, 15.6])"
      ]
     },
     "execution_count": null,
     "metadata": {},
     "output_type": "execute_result"
    }
   ],
   "source": [
    "np.mean(H @ H.T, axis=1)"
   ]
  },
  {
   "cell_type": "code",
   "execution_count": 10,
   "id": "efdc486c",
   "metadata": {},
   "outputs": [
    {
     "data": {
      "text/plain": [
       "array([ 9.2, 10. , 14.8,  5.4,  7.4,  6.4,  6.2, 10.2,  5. ,  9.6])"
      ]
     },
     "execution_count": null,
     "metadata": {},
     "output_type": "execute_result"
    }
   ],
   "source": [
    "np.mean(H @ H_.T, axis=0)"
   ]
  },
  {
   "cell_type": "code",
   "execution_count": 11,
   "id": "1fec93e2",
   "metadata": {},
   "outputs": [
    {
     "data": {
      "text/plain": [
       "np.float64(11.68)"
      ]
     },
     "execution_count": null,
     "metadata": {},
     "output_type": "execute_result"
    }
   ],
   "source": [
    "np.mean(H @ H.T)"
   ]
  },
  {
   "cell_type": "code",
   "execution_count": 18,
   "id": "c1a78f07",
   "metadata": {},
   "outputs": [
    {
     "data": {
      "text/plain": [
       "array([[ True,  True,  True,  True,  True,  True,  True,  True,  True,  True],\n",
       "       [ True,  True,  True,  True,  True,  True,  True,  True,  True,  True],\n",
       "       [ True,  True,  True,  True,  True,  True,  True,  True,  True,  True],\n",
       "       [ True,  True,  True,  True,  True,  True,  True,  True,  True,  True],\n",
       "       [ True,  True,  True,  True,  True,  True,  True,  True,  True,  True]])"
      ]
     },
     "execution_count": null,
     "metadata": {},
     "output_type": "execute_result"
    }
   ],
   "source": [
    "Kk == H @ H_.T"
   ]
  },
  {
   "cell_type": "code",
   "execution_count": 20,
   "id": "edcccaa7",
   "metadata": {},
   "outputs": [
    {
     "data": {
      "text/plain": [
       "array([[ 0.68, -0.12, -0.92,  1.48,  1.48,  2.48,  3.68,  3.68,  1.88,  0.28],\n",
       "       [-0.72, -1.52, -0.32,  1.08,  1.08,  2.08,  0.28,  0.28,  1.48, -1.12],\n",
       "       [ 2.88,  6.08, -2.72,  4.68,  4.68,  3.68,  1.88, -0.12,  4.08,  2.48],\n",
       "       [-1.72, -2.52,  2.68, -3.92, -3.92, -4.92, -3.72, -2.72, -4.52, -0.12],\n",
       "       [-1.12, -1.92,  1.28, -3.32, -3.32, -3.32, -2.12, -1.12, -2.92, -1.52]])"
      ]
     },
     "execution_count": null,
     "metadata": {},
     "output_type": "execute_result"
    }
   ],
   "source": [
    "Kk - np.mean(Kk, axis=0) - np.mean(K, axis=1, keepdims=True) + np.mean(K)"
   ]
  },
  {
   "cell_type": "code",
   "execution_count": null,
   "id": "658bd179",
   "metadata": {},
   "outputs": [
    {
     "data": {
      "text/plain": [
       "array([[ 0.68, -0.12, -0.92,  1.48,  1.48,  2.48,  3.68,  3.68,  1.88,  0.28],\n",
       "       [-0.72, -1.52, -0.32,  1.08,  1.08,  2.08,  0.28,  0.28,  1.48, -1.12],\n",
       "       [ 2.88,  6.08, -2.72,  4.68,  4.68,  3.68,  1.88, -0.12,  4.08,  2.48],\n",
       "       [-1.72, -2.52,  2.68, -3.92, -3.92, -4.92, -3.72, -2.72, -4.52, -0.12],\n",
       "       [-1.12, -1.92,  1.28, -3.32, -3.32, -3.32, -2.12, -1.12, -2.92, -1.52]])"
      ]
     },
     "metadata": {},
     "output_type": "display_data"
    }
   ],
   "source": [
    "((H @ H_.T - np.mean(H @ H_.T, axis=0)).T - np.mean(H @ H.T, axis=1) + np.mean(H @ H.T)).T"
   ]
  },
  {
   "cell_type": "code",
   "execution_count": 17,
   "id": "8f9de2b5",
   "metadata": {},
   "outputs": [
    {
     "data": {
      "text/plain": [
       "array([[ 0.68, -0.12, -0.92,  1.48,  1.48,  2.48,  3.68,  3.68,  1.88,  0.28],\n",
       "       [-0.72, -1.52, -0.32,  1.08,  1.08,  2.08,  0.28,  0.28,  1.48, -1.12],\n",
       "       [ 2.88,  6.08, -2.72,  4.68,  4.68,  3.68,  1.88, -0.12,  4.08,  2.48],\n",
       "       [-1.72, -2.52,  2.68, -3.92, -3.92, -4.92, -3.72, -2.72, -4.52, -0.12],\n",
       "       [-1.12, -1.92,  1.28, -3.32, -3.32, -3.32, -2.12, -1.12, -2.92, -1.52]])"
      ]
     },
     "execution_count": null,
     "metadata": {},
     "output_type": "execute_result"
    }
   ],
   "source": [
    "Hc @ Hc_.T"
   ]
  },
  {
   "cell_type": "code",
   "execution_count": null,
   "id": "1e8c0cf2",
   "metadata": {},
   "outputs": [],
   "source": []
  }
 ],
 "metadata": {
  "kernelspec": {
   "display_name": "Python 3 (ipykernel)",
   "language": "python",
   "name": "python3"
  },
  "language_info": {
   "codemirror_mode": {
    "name": "ipython",
    "version": 3
   },
   "file_extension": ".py",
   "mimetype": "text/x-python",
   "name": "python",
   "nbconvert_exporter": "python",
   "pygments_lexer": "ipython3",
   "version": "3.8.18"
  }
 },
 "nbformat": 4,
 "nbformat_minor": 5
}
