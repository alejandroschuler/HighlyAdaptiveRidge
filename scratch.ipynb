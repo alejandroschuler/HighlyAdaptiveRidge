{
 "cells": [
  {
   "cell_type": "code",
   "execution_count": 5,
   "id": "0f405b9e",
   "metadata": {},
   "outputs": [],
   "source": [
    "from timer import Timer\n",
    "import numpy as np\n",
    "import pandas as pd\n",
    "\n",
    "from highly_adaptive_regression import HighlyAdaptiveLassoCV\n",
    "from kernel_ridge import HighlyAdaptiveRidgeCV, RadialBasisKernelRidgeCV, MixedSobolevRidgeCV \n",
    "from kernel_ridge import kernels\n",
    "\n",
    "from sklearn.model_selection import train_test_split\n",
    "from sklearn.ensemble import RandomForestRegressor\n",
    "from sklearn.linear_model import LinearRegression, Ridge\n",
    "from sklearn.dummy import DummyRegressor"
   ]
  },
  {
   "cell_type": "markdown",
   "id": "e4d0a8eb",
   "metadata": {},
   "source": [
    "# Empirical"
   ]
  },
  {
   "cell_type": "code",
   "execution_count": 55,
   "id": "d5543994",
   "metadata": {},
   "outputs": [],
   "source": [
    "LEARNERS = {\n",
    "    'Mean':DummyRegressor(strategy=\"mean\"),\n",
    "    'Ridge Regression':Ridge(alpha=1e-3),\n",
    "    'Random Forest':RandomForestRegressor(n_estimators=2000, n_jobs=-1),\n",
    "    'Radial Basis KRR':RadialBasisKernelRidgeCV(\n",
    "        gammas=[0.001, 0.01, 0.1, 1, 10], \n",
    "        eps=1e-10,\n",
    "        max_alpha_coef_norm = 10,\n",
    "    ),\n",
    "    'Mixed Sobolev KRR':MixedSobolevRidgeCV(\n",
    "        eps=1e-6,\n",
    "        max_alpha_coef_norm = 100,\n",
    "    ),\n",
    "    'HAL':HighlyAdaptiveLassoCV(),\n",
    "    'HAR':HighlyAdaptiveRidgeCV(eps=1e-10, order=0),\n",
    "}"
   ]
  },
  {
   "cell_type": "code",
   "execution_count": 49,
   "id": "e87c37d6",
   "metadata": {},
   "outputs": [
    {
     "name": "stdout",
     "output_type": "stream",
     "text": [
      "analyzing wine...analyzing wine..."
     ]
    },
    {
     "name": "stderr",
     "output_type": "stream",
     "text": [
      "/Users/aschuler/Desktop/HighlyAdaptiveRidge/venv/lib/python3.12/site-packages/sklearn/linear_model/_coordinate_descent.py:697: ConvergenceWarning: Objective did not converge. You might want to increase the number of iterations, check the scale of the features or consider increasing regularisation. Duality gap: 7.276e-02, tolerance: 6.769e-02\n",
      "  model = cd_fast.enet_coordinate_descent(\n"
     ]
    },
    {
     "name": "stderr",
     "output_type": "stream",
     "text": [
      "/Users/aschuler/Desktop/HighlyAdaptiveRidge/venv/lib/python3.12/site-packages/sklearn/linear_model/_coordinate_descent.py:697: ConvergenceWarning: Objective did not converge. You might want to increase the number of iterations, check the scale of the features or consider increasing regularisation. Duality gap: 7.453e-02, tolerance: 6.769e-02\n",
      "  model = cd_fast.enet_coordinate_descent(\n"
     ]
    },
    {
     "name": "stderr",
     "output_type": "stream",
     "text": [
      "/Users/aschuler/Desktop/HighlyAdaptiveRidge/venv/lib/python3.12/site-packages/sklearn/linear_model/_coordinate_descent.py:697: ConvergenceWarning: Objective did not converge. You might want to increase the number of iterations, check the scale of the features or consider increasing regularisation. Duality gap: 8.931e-02, tolerance: 6.769e-02\n",
      "  model = cd_fast.enet_coordinate_descent(\n"
     ]
    },
    {
     "name": "stderr",
     "output_type": "stream",
     "text": [
      "/Users/aschuler/Desktop/HighlyAdaptiveRidge/venv/lib/python3.12/site-packages/sklearn/linear_model/_coordinate_descent.py:697: ConvergenceWarning: Objective did not converge. You might want to increase the number of iterations, check the scale of the features or consider increasing regularisation. Duality gap: 6.809e-02, tolerance: 6.769e-02\n",
      "  model = cd_fast.enet_coordinate_descent(\n"
     ]
    },
    {
     "name": "stderr",
     "output_type": "stream",
     "text": [
      "/Users/aschuler/Desktop/HighlyAdaptiveRidge/venv/lib/python3.12/site-packages/sklearn/linear_model/_coordinate_descent.py:697: ConvergenceWarning: Objective did not converge. You might want to increase the number of iterations, check the scale of the features or consider increasing regularisation. Duality gap: 6.793e-02, tolerance: 6.769e-02\n",
      "  model = cd_fast.enet_coordinate_descent(\n"
     ]
    },
    {
     "name": "stderr",
     "output_type": "stream",
     "text": [
      "/Users/aschuler/Desktop/HighlyAdaptiveRidge/venv/lib/python3.12/site-packages/sklearn/linear_model/_coordinate_descent.py:697: ConvergenceWarning: Objective did not converge. You might want to increase the number of iterations, check the scale of the features or consider increasing regularisation. Duality gap: 7.050e-02, tolerance: 6.769e-02\n",
      "  model = cd_fast.enet_coordinate_descent(\n"
     ]
    },
    {
     "name": "stderr",
     "output_type": "stream",
     "text": [
      "/Users/aschuler/Desktop/HighlyAdaptiveRidge/venv/lib/python3.12/site-packages/sklearn/linear_model/_coordinate_descent.py:697: ConvergenceWarning: Objective did not converge. You might want to increase the number of iterations, check the scale of the features or consider increasing regularisation. Duality gap: 7.133e-02, tolerance: 6.880e-02\n",
      "  model = cd_fast.enet_coordinate_descent(\n"
     ]
    },
    {
     "name": "stderr",
     "output_type": "stream",
     "text": [
      "/Users/aschuler/Desktop/HighlyAdaptiveRidge/venv/lib/python3.12/site-packages/sklearn/linear_model/_coordinate_descent.py:697: ConvergenceWarning: Objective did not converge. You might want to increase the number of iterations, check the scale of the features or consider increasing regularisation. Duality gap: 7.052e-02, tolerance: 6.880e-02\n",
      "  model = cd_fast.enet_coordinate_descent(\n"
     ]
    },
    {
     "name": "stderr",
     "output_type": "stream",
     "text": [
      "/Users/aschuler/Desktop/HighlyAdaptiveRidge/venv/lib/python3.12/site-packages/sklearn/linear_model/_coordinate_descent.py:697: ConvergenceWarning: Objective did not converge. You might want to increase the number of iterations, check the scale of the features or consider increasing regularisation. Duality gap: 1.112e-01, tolerance: 6.880e-02\n",
      "  model = cd_fast.enet_coordinate_descent(\n"
     ]
    },
    {
     "name": "stderr",
     "output_type": "stream",
     "text": [
      "/Users/aschuler/Desktop/HighlyAdaptiveRidge/venv/lib/python3.12/site-packages/sklearn/linear_model/_coordinate_descent.py:697: ConvergenceWarning: Objective did not converge. You might want to increase the number of iterations, check the scale of the features or consider increasing regularisation. Duality gap: 9.353e-02, tolerance: 6.880e-02\n",
      "  model = cd_fast.enet_coordinate_descent(\n"
     ]
    },
    {
     "name": "stderr",
     "output_type": "stream",
     "text": [
      "/Users/aschuler/Desktop/HighlyAdaptiveRidge/venv/lib/python3.12/site-packages/sklearn/linear_model/_coordinate_descent.py:697: ConvergenceWarning: Objective did not converge. You might want to increase the number of iterations, check the scale of the features or consider increasing regularisation. Duality gap: 8.143e-02, tolerance: 6.880e-02\n",
      "  model = cd_fast.enet_coordinate_descent(\n"
     ]
    },
    {
     "name": "stderr",
     "output_type": "stream",
     "text": [
      "/Users/aschuler/Desktop/HighlyAdaptiveRidge/venv/lib/python3.12/site-packages/sklearn/linear_model/_coordinate_descent.py:697: ConvergenceWarning: Objective did not converge. You might want to increase the number of iterations, check the scale of the features or consider increasing regularisation. Duality gap: 7.554e-02, tolerance: 6.880e-02\n",
      "  model = cd_fast.enet_coordinate_descent(\n"
     ]
    },
    {
     "name": "stderr",
     "output_type": "stream",
     "text": [
      "/Users/aschuler/Desktop/HighlyAdaptiveRidge/venv/lib/python3.12/site-packages/sklearn/linear_model/_coordinate_descent.py:697: ConvergenceWarning: Objective did not converge. You might want to increase the number of iterations, check the scale of the features or consider increasing regularisation. Duality gap: 6.948e-02, tolerance: 6.880e-02\n",
      "  model = cd_fast.enet_coordinate_descent(\n"
     ]
    },
    {
     "name": "stderr",
     "output_type": "stream",
     "text": [
      "/Users/aschuler/Desktop/HighlyAdaptiveRidge/venv/lib/python3.12/site-packages/sklearn/linear_model/_coordinate_descent.py:697: ConvergenceWarning: Objective did not converge. You might want to increase the number of iterations, check the scale of the features or consider increasing regularisation. Duality gap: 7.329e-02, tolerance: 6.880e-02\n",
      "  model = cd_fast.enet_coordinate_descent(\n"
     ]
    },
    {
     "name": "stderr",
     "output_type": "stream",
     "text": [
      "/Users/aschuler/Desktop/HighlyAdaptiveRidge/venv/lib/python3.12/site-packages/sklearn/linear_model/_coordinate_descent.py:697: ConvergenceWarning: Objective did not converge. You might want to increase the number of iterations, check the scale of the features or consider increasing regularisation. Duality gap: 7.700e-02, tolerance: 6.880e-02\n",
      "  model = cd_fast.enet_coordinate_descent(\n"
     ]
    },
    {
     "name": "stderr",
     "output_type": "stream",
     "text": [
      "/Users/aschuler/Desktop/HighlyAdaptiveRidge/venv/lib/python3.12/site-packages/sklearn/linear_model/_coordinate_descent.py:697: ConvergenceWarning: Objective did not converge. You might want to increase the number of iterations, check the scale of the features or consider increasing regularisation. Duality gap: 8.448e-02, tolerance: 6.880e-02\n",
      "  model = cd_fast.enet_coordinate_descent(\n"
     ]
    },
    {
     "name": "stderr",
     "output_type": "stream",
     "text": [
      "/Users/aschuler/Desktop/HighlyAdaptiveRidge/venv/lib/python3.12/site-packages/sklearn/linear_model/_coordinate_descent.py:697: ConvergenceWarning: Objective did not converge. You might want to increase the number of iterations, check the scale of the features or consider increasing regularisation. Duality gap: 8.120e-02, tolerance: 6.880e-02\n",
      "  model = cd_fast.enet_coordinate_descent(\n"
     ]
    },
    {
     "name": "stderr",
     "output_type": "stream",
     "text": [
      "/Users/aschuler/Desktop/HighlyAdaptiveRidge/venv/lib/python3.12/site-packages/sklearn/linear_model/_coordinate_descent.py:697: ConvergenceWarning: Objective did not converge. You might want to increase the number of iterations, check the scale of the features or consider increasing regularisation. Duality gap: 9.179e-02, tolerance: 6.880e-02\n",
      "  model = cd_fast.enet_coordinate_descent(\n"
     ]
    },
    {
     "name": "stderr",
     "output_type": "stream",
     "text": [
      "/Users/aschuler/Desktop/HighlyAdaptiveRidge/venv/lib/python3.12/site-packages/sklearn/linear_model/_coordinate_descent.py:697: ConvergenceWarning: Objective did not converge. You might want to increase the number of iterations, check the scale of the features or consider increasing regularisation. Duality gap: 8.103e-02, tolerance: 6.880e-02\n",
      "  model = cd_fast.enet_coordinate_descent(\n"
     ]
    }
   ],
   "source": [
    "FILE = 'HAL_big'\n",
    "\n",
    "DATASETS = [\n",
    "    \"yacht\",\n",
    "    \"energy\",\n",
    "    \"boston\",\n",
    "    \"concrete\",\n",
    "    \"wine\",\n",
    "    \"power\",\n",
    "    \"kin8nm\",\n",
    "    \"naval\",\n",
    "    \"protein\",\n",
    "    \"slice\",\n",
    "    \"yearmsd\"\n",
    "]\n",
    "\n",
    "N_REPS = 5\n",
    "\n",
    "MAX_ROWS = 2000\n",
    "\n",
    "results = []\n",
    "data_timer = Timer(verbose=True)\n",
    "for data in DATASETS:\n",
    "    with data_timer.task(f\"analyzing {data}\"):\n",
    "        df = pd.read_csv(f\"~/Desktop/csv/{data}.csv\")\n",
    "        X_full = df.iloc[:MAX_ROWS, :-1].values\n",
    "        Y_full = df.iloc[:MAX_ROWS,-1].values\n",
    "        n, d = X.shape\n",
    "\n",
    "        for rep in range(N_REPS):\n",
    "            X, X_, Y, Y_ = train_test_split(X_full, Y_full, test_size=0.2)\n",
    "            learner_timer = Timer()\n",
    "            for name, learner in LEARNERS.items():\n",
    "                with learner_timer.task(\"time fitting\"):\n",
    "                    learner.fit(X,Y)\n",
    "                with learner_timer.task(\"time predicting\"):\n",
    "                    mse = np.mean((learner.predict(X_) - Y_)**2)\n",
    "\n",
    "                results += [{\n",
    "                    'data': data,\n",
    "                    'n': n,\n",
    "                    'd': d,\n",
    "                    'learner': name,\n",
    "                    'mse': mse,\n",
    "                    **learner_timer.durations,\n",
    "                }]\n",
    "\n",
    "pd.DataFrame(results).to_csv(f\"results/data/{FILE}.csv\")"
   ]
  },
  {
   "cell_type": "code",
   "execution_count": 22,
   "id": "f7aea494",
   "metadata": {},
   "outputs": [],
   "source": [
    "import pandas as pd\n",
    "import glob\n",
    "import os\n",
    "\n",
    "folder_path = 'results/data'  \n",
    "csv_files = glob.glob(os.path.join(folder_path, \"*.csv\"))\n",
    "df_list = [pd.read_csv(file, index_col=0) for file in csv_files]\n",
    "results = pd.concat(df_list, ignore_index=True)"
   ]
  },
  {
   "cell_type": "code",
   "execution_count": 23,
   "id": "9325de53",
   "metadata": {},
   "outputs": [
    {
     "data": {
      "text/html": [
       "<div>\n",
       "<style scoped>\n",
       "    .dataframe tbody tr th:only-of-type {\n",
       "        vertical-align: middle;\n",
       "    }\n",
       "\n",
       "    .dataframe tbody tr th {\n",
       "        vertical-align: top;\n",
       "    }\n",
       "\n",
       "    .dataframe thead th {\n",
       "        text-align: right;\n",
       "    }\n",
       "</style>\n",
       "<table border=\"1\" class=\"dataframe\">\n",
       "  <thead>\n",
       "    <tr style=\"text-align: right;\">\n",
       "      <th></th>\n",
       "      <th>data</th>\n",
       "      <th>n</th>\n",
       "      <th>d</th>\n",
       "      <th>learner</th>\n",
       "      <th>mse</th>\n",
       "      <th>time fitting</th>\n",
       "      <th>time predicting</th>\n",
       "    </tr>\n",
       "  </thead>\n",
       "  <tbody>\n",
       "    <tr>\n",
       "      <th>0</th>\n",
       "      <td>yacht</td>\n",
       "      <td>308</td>\n",
       "      <td>6</td>\n",
       "      <td>HAR</td>\n",
       "      <td>0.213843</td>\n",
       "      <td>0.504134</td>\n",
       "      <td>0.020669</td>\n",
       "    </tr>\n",
       "    <tr>\n",
       "      <th>1</th>\n",
       "      <td>energy</td>\n",
       "      <td>768</td>\n",
       "      <td>8</td>\n",
       "      <td>HAR</td>\n",
       "      <td>0.146393</td>\n",
       "      <td>9.535488</td>\n",
       "      <td>0.291234</td>\n",
       "    </tr>\n",
       "    <tr>\n",
       "      <th>2</th>\n",
       "      <td>boston</td>\n",
       "      <td>506</td>\n",
       "      <td>13</td>\n",
       "      <td>HAR</td>\n",
       "      <td>13.932925</td>\n",
       "      <td>4.302512</td>\n",
       "      <td>0.136813</td>\n",
       "    </tr>\n",
       "    <tr>\n",
       "      <th>3</th>\n",
       "      <td>concrete</td>\n",
       "      <td>1030</td>\n",
       "      <td>8</td>\n",
       "      <td>HAR</td>\n",
       "      <td>17.974295</td>\n",
       "      <td>24.744194</td>\n",
       "      <td>0.739761</td>\n",
       "    </tr>\n",
       "    <tr>\n",
       "      <th>4</th>\n",
       "      <td>wine</td>\n",
       "      <td>1599</td>\n",
       "      <td>11</td>\n",
       "      <td>HAR</td>\n",
       "      <td>0.399823</td>\n",
       "      <td>138.408775</td>\n",
       "      <td>4.189828</td>\n",
       "    </tr>\n",
       "    <tr>\n",
       "      <th>...</th>\n",
       "      <td>...</td>\n",
       "      <td>...</td>\n",
       "      <td>...</td>\n",
       "      <td>...</td>\n",
       "      <td>...</td>\n",
       "      <td>...</td>\n",
       "      <td>...</td>\n",
       "    </tr>\n",
       "    <tr>\n",
       "      <th>345</th>\n",
       "      <td>yearmsd</td>\n",
       "      <td>2000</td>\n",
       "      <td>90</td>\n",
       "      <td>Mean</td>\n",
       "      <td>148.581420</td>\n",
       "      <td>0.000098</td>\n",
       "      <td>0.000024</td>\n",
       "    </tr>\n",
       "    <tr>\n",
       "      <th>346</th>\n",
       "      <td>yearmsd</td>\n",
       "      <td>2000</td>\n",
       "      <td>90</td>\n",
       "      <td>Ridge Regression</td>\n",
       "      <td>140.268486</td>\n",
       "      <td>0.000500</td>\n",
       "      <td>0.000041</td>\n",
       "    </tr>\n",
       "    <tr>\n",
       "      <th>347</th>\n",
       "      <td>yearmsd</td>\n",
       "      <td>2000</td>\n",
       "      <td>90</td>\n",
       "      <td>Random Forest</td>\n",
       "      <td>114.232732</td>\n",
       "      <td>6.665474</td>\n",
       "      <td>0.102855</td>\n",
       "    </tr>\n",
       "    <tr>\n",
       "      <th>348</th>\n",
       "      <td>yearmsd</td>\n",
       "      <td>2000</td>\n",
       "      <td>90</td>\n",
       "      <td>Radial Basis KRR</td>\n",
       "      <td>148.581170</td>\n",
       "      <td>0.549773</td>\n",
       "      <td>0.001037</td>\n",
       "    </tr>\n",
       "    <tr>\n",
       "      <th>349</th>\n",
       "      <td>yearmsd</td>\n",
       "      <td>2000</td>\n",
       "      <td>90</td>\n",
       "      <td>Mixed Sobolev KRR</td>\n",
       "      <td>112.220427</td>\n",
       "      <td>0.453509</td>\n",
       "      <td>0.014894</td>\n",
       "    </tr>\n",
       "  </tbody>\n",
       "</table>\n",
       "<p>350 rows × 7 columns</p>\n",
       "</div>"
      ],
      "text/plain": [
       "         data     n   d  ...         mse  time fitting  time predicting\n",
       "0       yacht   308   6  ...    0.213843      0.504134         0.020669\n",
       "1      energy   768   8  ...    0.146393      9.535488         0.291234\n",
       "2      boston   506  13  ...   13.932925      4.302512         0.136813\n",
       "3    concrete  1030   8  ...   17.974295     24.744194         0.739761\n",
       "4        wine  1599  11  ...    0.399823    138.408775         4.189828\n",
       "..        ...   ...  ..  ...         ...           ...              ...\n",
       "345   yearmsd  2000  90  ...  148.581420      0.000098         0.000024\n",
       "346   yearmsd  2000  90  ...  140.268486      0.000500         0.000041\n",
       "347   yearmsd  2000  90  ...  114.232732      6.665474         0.102855\n",
       "348   yearmsd  2000  90  ...  148.581170      0.549773         0.001037\n",
       "349   yearmsd  2000  90  ...  112.220427      0.453509         0.014894\n",
       "\n",
       "[350 rows x 7 columns]"
      ]
     },
     "execution_count": null,
     "metadata": {},
     "output_type": "execute_result"
    }
   ],
   "source": [
    "results"
   ]
  },
  {
   "cell_type": "code",
   "execution_count": 51,
   "id": "0f3f0cbe",
   "metadata": {},
   "outputs": [
    {
     "name": "stdout",
     "output_type": "stream",
     "text": [
      "\\begin{tabular}{lrrrrrrrr}\n",
      "\\toprule\n",
      "data & n & d & HAR & HAL & Mixed Sobolev KRR & Radial Basis KRR & Random Forest & Ridge Regression \\\\\n",
      "\\midrule\n",
      "power & 2000 & 4 & 3.98e+00 & NaN & 4.09e+00 & 4.24e+00 & 4.12e+00 & 4.49e+00 \\\\\n",
      "yacht & 308 & 6 & 1.15e+00 & 9.51e-01 & 1.42e+00 & 2.94e+00 & 1.89e+00 & 9.82e+00 \\\\\n",
      "concrete & 1030 & 8 & 4.13e+00 & 4.66e+00 & 4.78e+00 & 1.05e+01 & 5.89e+00 & 1.07e+01 \\\\\n",
      "energy & 768 & 8 & 4.65e-01 & 4.94e-01 & 4.42e-01 & 8.20e-01 & 5.59e-01 & 2.93e+00 \\\\\n",
      "kin8nm & 2000 & 8 & 1.50e-01 & NaN & 1.45e-01 & 1.05e-01 & 1.74e-01 & 2.02e-01 \\\\\n",
      "protein & 2000 & 9 & 1.89e+00 & NaN & 1.75e+00 & 5.78e+00 & 1.73e+00 & 2.35e+00 \\\\\n",
      "wine & 1599 & 11 & 5.97e-01 & NaN & 6.26e-01 & 6.62e-01 & 5.97e-01 & 6.55e-01 \\\\\n",
      "boston & 506 & 13 & 3.40e+00 & 3.88e+00 & 3.82e+00 & 6.08e+00 & 3.74e+00 & 5.09e+00 \\\\\n",
      "naval & 2000 & 17 & 1.23e-03 & NaN & 6.67e-04 & 2.15e-03 & 1.02e-03 & 1.37e-03 \\\\\n",
      "yearmsd & 2000 & 90 & 1.11e+01 & NaN & 9.68e+00 & 1.15e+01 & 1.02e+01 & 1.07e+01 \\\\\n",
      "slice & 2000 & 384 & 9.10e+00 & NaN & 8.51e+00 & 2.31e-01 & 4.46e-01 & 7.92e-01 \\\\\n",
      "\\bottomrule\n",
      "\\end{tabular}\n",
      "\n",
      "\\begin{tabular}{lrrrrrrrr}\n",
      "\\toprule\n",
      "data & n & d & HAR & HAL & Mixed Sobolev KRR & Radial Basis KRR & Random Forest & Ridge Regression \\\\\n",
      "\\midrule\n",
      "power & 2000 & 4 & 3.98e+00 & NaN & 4.09e+00 & 4.24e+00 & 4.12e+00 & 4.49e+00 \\\\\n",
      "yacht & 308 & 6 & 1.15e+00 & 9.51e-01 & 1.42e+00 & 2.94e+00 & 1.89e+00 & 9.82e+00 \\\\\n",
      "concrete & 1030 & 8 & 4.13e+00 & 4.66e+00 & 4.78e+00 & 1.05e+01 & 5.89e+00 & 1.07e+01 \\\\\n",
      "energy & 768 & 8 & 4.65e-01 & 4.94e-01 & 4.42e-01 & 8.20e-01 & 5.59e-01 & 2.93e+00 \\\\\n",
      "kin8nm & 2000 & 8 & 1.50e-01 & NaN & 1.45e-01 & 1.05e-01 & 1.74e-01 & 2.02e-01 \\\\\n",
      "protein & 2000 & 9 & 1.89e+00 & NaN & 1.75e+00 & 5.78e+00 & 1.73e+00 & 2.35e+00 \\\\\n",
      "wine & 1599 & 11 & 5.97e-01 & NaN & 6.26e-01 & 6.62e-01 & 5.97e-01 & 6.55e-01 \\\\\n",
      "boston & 506 & 13 & 3.40e+00 & 3.88e+00 & 3.82e+00 & 6.08e+00 & 3.74e+00 & 5.09e+00 \\\\\n",
      "naval & 2000 & 17 & 1.23e-03 & NaN & 6.67e-04 & 2.15e-03 & 1.02e-03 & 1.37e-03 \\\\\n",
      "yearmsd & 2000 & 90 & 1.11e+01 & NaN & 9.68e+00 & 1.15e+01 & 1.02e+01 & 1.07e+01 \\\\\n",
      "slice & 2000 & 384 & 9.10e+00 & NaN & 8.51e+00 & 2.31e-01 & 4.46e-01 & 7.92e-01 \\\\\n",
      "\\bottomrule\n",
      "\\end{tabular}\n",
      "\n"
     ]
    },
    {
     "name": "stderr",
     "output_type": "stream",
     "text": [
      "<positron-console-cell-51>:4: FutureWarning: The provided callable <function mean at 0x106155c60> is currently using SeriesGroupBy.mean. In a future version of pandas, the provided callable will be used directly. To keep current behavior pass the string \"mean\" instead.\n",
      "<positron-console-cell-51>:4: FutureWarning: The provided callable <function mean at 0x106155c60> is currently using SeriesGroupBy.mean. In a future version of pandas, the provided callable will be used directly. To keep current behavior pass the string \"mean\" instead.\n"
     ]
    }
   ],
   "source": [
    "results_avg = (\n",
    "    pd.DataFrame(results)\n",
    "    .groupby(['data', 'n', 'd', 'learner'], as_index=False)  \n",
    "    .agg({\n",
    "        'mse': np.mean,  \n",
    "        'time fitting': np.mean,\n",
    "        'time predicting': np.mean,\n",
    "    })\n",
    "    # mutate mse to rmse by taking sqrt\n",
    "    .assign(**{\n",
    "        'rmse': lambda df: np.sqrt(df['mse']),\n",
    "    })\n",
    "    .sort_values(by=['d', 'data', 'rmse'], ascending=[True, True, True])\n",
    ")\n",
    "\n",
    "mse_table = (\n",
    "    results_avg\n",
    "    .pivot_table(index=['data', 'n', 'd'], columns='learner', values='rmse')  # Pivot by 'learner' for mse\n",
    "    .reindex(columns=['HAR', 'HAL', 'Mixed Sobolev KRR', 'Radial Basis KRR', 'Random Forest', 'Ridge Regression'])  # Reorder the columns based on the desired order\n",
    "    .sort_values(by=['d'], ascending=[True])\n",
    "    .reset_index()\n",
    ")\n",
    "\n",
    "# Display the result\n",
    "print(mse_table.to_latex(index=False, float_format='%.2e'))"
   ]
  },
  {
   "cell_type": "markdown",
   "id": "522a0183",
   "metadata": {},
   "source": [
    "# Simulations"
   ]
  },
  {
   "cell_type": "code",
   "execution_count": 209,
   "id": "93903fc0",
   "metadata": {},
   "outputs": [],
   "source": [
    "def ramp(x, x0=0.5, eps=0.1):\n",
    "    return np.clip((x - x0) / eps, 0, 1)\n",
    "\n",
    "def dgp(n, d):\n",
    "    eps = 0.05\n",
    "    x0 = 1 - 2**(-1/5) - eps\n",
    "    X = np.random.uniform(size=(n, 10))\n",
    "    Y = np.prod(X[:,0:5], axis=1) - np.prod(ramp(X[:,5:-1], x0=x0, eps=eps), axis=1) + np.random.normal(scale=0.1, size=(n,))\n",
    "    return X,Y"
   ]
  },
  {
   "cell_type": "code",
   "execution_count": 213,
   "id": "4cb8f6ff",
   "metadata": {},
   "outputs": [],
   "source": [
    "\n",
    "SIM_LEARNERS = [\n",
    "    'HAR', \n",
    "    # 'Mixed Sobolev KRR', \n",
    "    # 'Radial Basis KRR', \n",
    "    # 'Random Forest',\n",
    "    # 'Mean',\n",
    "]\n",
    "REPS = 10\n",
    "N_RANGE = [50, 125, 200, 300, 400, 600]\n",
    "D_RANGE = [10]\n",
    "\n",
    "for d in D_RANGE:\n",
    "    results = []\n",
    "    for n in N_RANGE:\n",
    "        for rep in range(REPS):\n",
    "            X,Y  = dgp(n+1000, d)\n",
    "            X, X_, Y, Y_ = train_test_split(X, Y, test_size=1000)\n",
    "            learner_timer = Timer()\n",
    "            for name, learner in {k: LEARNERS[k] for k in SIM_LEARNERS}.items():\n",
    "                with learner_timer.task(\"time fitting\"):\n",
    "                    learner.fit(X,Y)\n",
    "                with learner_timer.task(\"time predicting\"):\n",
    "                    mse = np.mean((learner.predict(X_) - Y_)**2)\n",
    "\n",
    "                results += [{\n",
    "                    'n': n,\n",
    "                    'd': d,\n",
    "                    'learner': name,\n",
    "                    'mse': mse,\n",
    "                    **learner_timer.durations,\n",
    "                }]\n",
    "\n",
    "    pd.DataFrame(results).to_csv(f\"results/sims/{d}.csv\")"
   ]
  },
  {
   "cell_type": "code",
   "execution_count": 227,
   "id": "e52342c4",
   "metadata": {},
   "outputs": [
    {
     "name": "stderr",
     "output_type": "stream",
     "text": [
      "<positron-console-cell-227>:13: FutureWarning: The provided callable <function mean at 0x106155c60> is currently using SeriesGroupBy.mean. In a future version of pandas, the provided callable will be used directly. To keep current behavior pass the string \"mean\" instead.\n",
      "<positron-console-cell-227>:13: FutureWarning: The provided callable <function mean at 0x106155c60> is currently using SeriesGroupBy.mean. In a future version of pandas, the provided callable will be used directly. To keep current behavior pass the string \"mean\" instead.\n"
     ]
    }
   ],
   "source": [
    "import pandas as pd\n",
    "import glob\n",
    "import os\n",
    "\n",
    "folder_path = 'results/sims'  \n",
    "csv_files = glob.glob(os.path.join(folder_path, \"*.csv\"))\n",
    "df_list = [pd.read_csv(file, index_col=0) for file in csv_files]\n",
    "results = pd.concat(df_list, ignore_index=True)\n",
    "\n",
    "results_avg = (\n",
    "    pd.DataFrame(results)\n",
    "    .groupby(['n', 'd', 'learner'], as_index=False)  \n",
    "    .agg({\n",
    "        'mse': np.mean,  \n",
    "        'time fitting': np.mean,\n",
    "        'time predicting': np.mean,\n",
    "    })\n",
    "    # mutate mse to rmse by taking sqrt\n",
    "    .assign(**{\n",
    "        'rmse': lambda df: np.sqrt(df['mse']),\n",
    "        'rate': lambda df: df.n**(-1/3) * np.log(df.n)**(2*(df.d-1)/3),\n",
    "        'relative_rmse': lambda df: df.rmse / df.rate,\n",
    "    })\n",
    "    .sort_values(by=['learner', 'd', 'n'], ascending=[True, True, True])\n",
    ")\n",
    "\n",
    "import altair as alt\n",
    "import altair_saver as saver\n",
    "\n",
    "plot = alt.Chart(results_avg).mark_line().encode(\n",
    "    x='n:Q',\n",
    "    y=alt.Y('relative_rmse:Q', scale=alt.Scale(zero=False), title='Rate-Scaled RMSE'),\n",
    "    # color='learner',\n",
    "    # row='d'\n",
    ").resolve_scale(\n",
    "    y='independent'\n",
    ").properties(\n",
    "    width=800,  # Set the chart wider\n",
    "    height=300  # Set the chart narrower\n",
    ").configure_axis(\n",
    "    labelFontSize=14,\n",
    "    titleFontSize=16\n",
    ").configure_legend(\n",
    "    labelFontSize=14,\n",
    "    titleFontSize=16\n",
    ").configure_title(\n",
    "    fontSize=18\n",
    ")\n",
    "plot\n",
    "\n",
    "plot.save('results/plots/convergence.pdf')"
   ]
  },
  {
   "cell_type": "markdown",
   "id": "a0b14ee3",
   "metadata": {},
   "source": [
    "# Dimension Experiments"
   ]
  },
  {
   "cell_type": "code",
   "execution_count": 229,
   "id": "2379b145",
   "metadata": {},
   "outputs": [
    {
     "name": "stdout",
     "output_type": "stream",
     "text": [
      "5 features......5 features......"
     ]
    },
    {
     "name": "stdout",
     "output_type": "stream",
     "text": [
      "Warning: selected regularization is the smallest grid value for RadialBasis: {'gamma': 0.001}\n",
      "Warning: selected regularization is the smallest grid value for RadialBasis: {'gamma': 0.001}\n"
     ]
    },
    {
     "name": "stdout",
     "output_type": "stream",
     "text": [
      "Warning: selected regularization is the smallest grid value for RadialBasis: {'gamma': 0.001}\n",
      "Warning: selected regularization is the smallest grid value for RadialBasis: {'gamma': 0.001}\n"
     ]
    },
    {
     "name": "stderr",
     "output_type": "stream",
     "text": [
      "/Users/aschuler/Desktop/HighlyAdaptiveRidge/venv/lib/python3.12/site-packages/sklearn/linear_model/_coordinate_descent.py:697: ConvergenceWarning: Objective did not converge. You might want to increase the number of iterations, check the scale of the features or consider increasing regularisation. Duality gap: 1.785e+00, tolerance: 1.633e+00\n",
      "  model = cd_fast.enet_coordinate_descent(\n"
     ]
    },
    {
     "name": "stdout",
     "output_type": "stream",
     "text": [
      "Warning: selected regularization is the smallest grid value for RadialBasis: {'gamma': 0.001}\n",
      "Warning: selected regularization is the smallest grid value for RadialBasis: {'gamma': 0.001}\n"
     ]
    },
    {
     "name": "stdout",
     "output_type": "stream",
     "text": [
      "elapsed time: 76.08342790603638\n",
      "15 features......elapsed time: 76.08342790603638\n",
      "15 features......"
     ]
    }
   ],
   "source": [
    "DATASETS = [\n",
    "    \"slice\",\n",
    "]\n",
    "SIM_LEARNERS = [\n",
    "    'HAR', \n",
    "    # 'Mixed Sobolev KRR', \n",
    "    'Radial Basis KRR', \n",
    "    # 'Random Forest',\n",
    "    # 'Mean',\n",
    "]\n",
    "N_REPS = 5\n",
    "TRAIN_SIZE = 250\n",
    "TEST_SIZE = 1000\n",
    "MAX_COLS = [5, 15, 40, 100]\n",
    "\n",
    "results = []\n",
    "data_timer = Timer(verbose=True)\n",
    "for data in DATASETS:\n",
    "    for cols in MAX_COLS:\n",
    "        with data_timer.task(f\"{cols} features...\"):\n",
    "            df = pd.read_csv(f\"~/Desktop/csv/{data}.csv\")\n",
    "            X_full = df.iloc[:TRAIN_SIZE+TEST_SIZE, :cols].values\n",
    "            Y_full = df.iloc[:TRAIN_SIZE+TEST_SIZE,-1].values\n",
    "            n, d = X.shape\n",
    "\n",
    "            for rep in range(N_REPS):\n",
    "                X, X_, Y, Y_ = train_test_split(X_full, Y_full, train_size=TRAIN_SIZE)\n",
    "                learner_timer = Timer()\n",
    "                for name, learner in {k: LEARNERS[k] for k in SIM_LEARNERS}.items()::\n",
    "                    with learner_timer.task(\"time fitting\"):\n",
    "                        learner.fit(X,Y)\n",
    "                    with learner_timer.task(\"time predicting\"):\n",
    "                        mse = np.mean((learner.predict(X_) - Y_)**2)\n",
    "\n",
    "                    results += [{\n",
    "                        'data': data,\n",
    "                        'n': n,\n",
    "                        'd': d,\n",
    "                        'learner': name,\n",
    "                        'mse': mse,\n",
    "                    **learner_timer.durations,\n",
    "                }]\n",
    "\n",
    "        pd.DataFrame(results).to_csv(f\"results/dim/cols_{MAX_COLS}.csv\")"
   ]
  },
  {
   "cell_type": "code",
   "execution_count": null,
   "id": "10bded87",
   "metadata": {},
   "outputs": [],
   "source": []
  }
 ],
 "metadata": {
  "kernelspec": {
   "display_name": "Python 3 (ipykernel)",
   "language": "python",
   "name": "python3"
  },
  "language_info": {
   "codemirror_mode": {
    "name": "ipython",
    "version": 3
   },
   "file_extension": ".py",
   "mimetype": "text/x-python",
   "name": "python",
   "nbconvert_exporter": "python",
   "pygments_lexer": "ipython3",
   "version": "3.8.18"
  }
 },
 "nbformat": 4,
 "nbformat_minor": 5
}
