{
 "cells": [
  {
   "cell_type": "code",
   "execution_count": 1,
   "id": "0f405b9e",
   "metadata": {},
   "outputs": [],
   "source": [
    "from timer import Timer\n",
    "import numpy as np\n",
    "import pandas as pd\n",
    "\n",
    "from highly_adaptive_regression import HighlyAdaptiveLassoCV, HighlyAdaptiveRidgeCV as BasisHARCV\n",
    "from kernel_ridge import HighlyAdaptiveRidgeCV, RadialBasisKernelRidgeCV, MixedSobolevRidgeCV \n",
    "from kernel_ridge import kernels\n",
    "\n",
    "from sklearn.model_selection import train_test_split\n",
    "from sklearn.ensemble import RandomForestRegressor\n",
    "from sklearn.linear_model import LinearRegression, Ridge\n",
    "from sklearn.dummy import DummyRegressor\n",
    "\n",
    "import pandas as pd\n",
    "import glob\n",
    "import os\n",
    "import altair as alt"
   ]
  },
  {
   "cell_type": "markdown",
   "id": "e4d0a8eb",
   "metadata": {},
   "source": [
    "# Empirical"
   ]
  },
  {
   "cell_type": "code",
   "execution_count": 2,
   "id": "d5543994",
   "metadata": {},
   "outputs": [],
   "source": [
    "LEARNERS = {\n",
    "    # 'Mean':DummyRegressor(strategy=\"mean\"),\n",
    "    # 'Ridge Regression':Ridge(alpha=1e-3),\n",
    "    # 'Random Forest':RandomForestRegressor(n_estimators=2000, n_jobs=-1),\n",
    "    'Radial Basis KRR':RadialBasisKernelRidgeCV(\n",
    "        gammas=[0.001, 0.01, 0.1, 1, 10], \n",
    "    ),\n",
    "    'Mixed Sobolev KRR':MixedSobolevRidgeCV(),\n",
    "    # 'HAL':HighlyAdaptiveLassoCV(),\n",
    "    'HAR':HighlyAdaptiveRidgeCV(),\n",
    "}"
   ]
  },
  {
   "cell_type": "code",
   "execution_count": 3,
   "id": "e87c37d6",
   "metadata": {},
   "outputs": [
    {
     "name": "stdout",
     "output_type": "stream",
     "text": [
      "analyzing yacht...analyzing yacht..."
     ]
    },
    {
     "name": "stdout",
     "output_type": "stream",
     "text": [
      "elapsed time: 4.586587190628052\n",
      "analyzing energy...elapsed time: 4.586587190628052\n",
      "analyzing energy..."
     ]
    },
    {
     "name": "stdout",
     "output_type": "stream",
     "text": [
      "elapsed time: 25.50607919692993\n",
      "analyzing boston...elapsed time: 25.50607919692993\n",
      "analyzing boston..."
     ]
    },
    {
     "name": "stdout",
     "output_type": "stream",
     "text": [
      "elapsed time: 9.396574974060059\n",
      "analyzing concrete...elapsed time: 9.396574974060059\n",
      "analyzing concrete..."
     ]
    },
    {
     "name": "stdout",
     "output_type": "stream",
     "text": [
      "elapsed time: 55.09993815422058\n",
      "analyzing wine...elapsed time: 55.09993815422058\n",
      "analyzing wine..."
     ]
    },
    {
     "name": "stdout",
     "output_type": "stream",
     "text": [
      "elapsed time: 181.11871099472046\n",
      "analyzing power...elapsed time: 181.11871099472046\n",
      "analyzing power..."
     ]
    },
    {
     "name": "stdout",
     "output_type": "stream",
     "text": [
      "elapsed time: 271.1918110847473\n",
      "analyzing kin8nm...elapsed time: 271.1918110847473\n",
      "analyzing kin8nm..."
     ]
    },
    {
     "name": "stdout",
     "output_type": "stream",
     "text": [
      "elapsed time: 338.28801107406616\n",
      "analyzing naval...elapsed time: 338.28801107406616\n",
      "analyzing naval..."
     ]
    },
    {
     "name": "stderr",
     "output_type": "stream",
     "text": [
      "/Users/aschuler/Desktop/HighlyAdaptiveRidge/kernel_ridge/kernel_ridge.py:77: RuntimeWarning: divide by zero encountered in divide\n",
      "  R = (Y - Yhat) / (1- np.diag(H))\n"
     ]
    },
    {
     "name": "stderr",
     "output_type": "stream",
     "text": [
      "/Users/aschuler/Desktop/HighlyAdaptiveRidge/kernel_ridge/kernel_ridge.py:77: RuntimeWarning: divide by zero encountered in divide\n",
      "  R = (Y - Yhat) / (1- np.diag(H))\n"
     ]
    },
    {
     "name": "stderr",
     "output_type": "stream",
     "text": [
      "/Users/aschuler/Desktop/HighlyAdaptiveRidge/kernel_ridge/kernel_ridge.py:77: RuntimeWarning: divide by zero encountered in divide\n",
      "  R = (Y - Yhat) / (1- np.diag(H))\n",
      "/Users/aschuler/Desktop/HighlyAdaptiveRidge/kernel_ridge/kernel_ridge.py:77: RuntimeWarning: invalid value encountered in divide\n",
      "  R = (Y - Yhat) / (1- np.diag(H))\n"
     ]
    },
    {
     "name": "stderr",
     "output_type": "stream",
     "text": [
      "/Users/aschuler/Desktop/HighlyAdaptiveRidge/kernel_ridge/kernel_ridge.py:77: RuntimeWarning: divide by zero encountered in divide\n",
      "  R = (Y - Yhat) / (1- np.diag(H))\n"
     ]
    },
    {
     "name": "stderr",
     "output_type": "stream",
     "text": [
      "/Users/aschuler/Desktop/HighlyAdaptiveRidge/kernel_ridge/kernel_ridge.py:77: RuntimeWarning: divide by zero encountered in divide\n",
      "  R = (Y - Yhat) / (1- np.diag(H))\n",
      "/Users/aschuler/Desktop/HighlyAdaptiveRidge/kernel_ridge/kernel_ridge.py:77: RuntimeWarning: invalid value encountered in divide\n",
      "  R = (Y - Yhat) / (1- np.diag(H))\n"
     ]
    },
    {
     "name": "stdout",
     "output_type": "stream",
     "text": [
      "elapsed time: 326.3348619937897\n",
      "analyzing protein...elapsed time: 326.3348619937897\n",
      "analyzing protein..."
     ]
    },
    {
     "name": "stdout",
     "output_type": "stream",
     "text": [
      "elapsed time: 292.70451617240906\n",
      "analyzing slice...elapsed time: 292.70451617240906\n",
      "analyzing slice..."
     ]
    },
    {
     "name": "stderr",
     "output_type": "stream",
     "text": [
      "/Users/aschuler/Desktop/HighlyAdaptiveRidge/kernel_ridge/kernel_ridge.py:77: RuntimeWarning: divide by zero encountered in divide\n",
      "  R = (Y - Yhat) / (1- np.diag(H))\n",
      "/Users/aschuler/Desktop/HighlyAdaptiveRidge/kernel_ridge/kernel_ridge.py:77: RuntimeWarning: invalid value encountered in divide\n",
      "  R = (Y - Yhat) / (1- np.diag(H))\n"
     ]
    },
    {
     "name": "stderr",
     "output_type": "stream",
     "text": [
      "/Users/aschuler/Desktop/HighlyAdaptiveRidge/kernel_ridge/kernel_ridge.py:77: RuntimeWarning: divide by zero encountered in divide\n",
      "  R = (Y - Yhat) / (1- np.diag(H))\n",
      "/Users/aschuler/Desktop/HighlyAdaptiveRidge/kernel_ridge/kernel_ridge.py:77: RuntimeWarning: invalid value encountered in divide\n",
      "  R = (Y - Yhat) / (1- np.diag(H))\n"
     ]
    },
    {
     "name": "stderr",
     "output_type": "stream",
     "text": [
      "/Users/aschuler/Desktop/HighlyAdaptiveRidge/kernel_ridge/kernel_ridge.py:77: RuntimeWarning: divide by zero encountered in divide\n",
      "  R = (Y - Yhat) / (1- np.diag(H))\n",
      "/Users/aschuler/Desktop/HighlyAdaptiveRidge/kernel_ridge/kernel_ridge.py:77: RuntimeWarning: invalid value encountered in divide\n",
      "  R = (Y - Yhat) / (1- np.diag(H))\n"
     ]
    },
    {
     "name": "stderr",
     "output_type": "stream",
     "text": [
      "/Users/aschuler/Desktop/HighlyAdaptiveRidge/kernel_ridge/kernel_ridge.py:77: RuntimeWarning: divide by zero encountered in divide\n",
      "  R = (Y - Yhat) / (1- np.diag(H))\n",
      "/Users/aschuler/Desktop/HighlyAdaptiveRidge/kernel_ridge/kernel_ridge.py:77: RuntimeWarning: invalid value encountered in divide\n",
      "  R = (Y - Yhat) / (1- np.diag(H))\n"
     ]
    },
    {
     "name": "stderr",
     "output_type": "stream",
     "text": [
      "/Users/aschuler/Desktop/HighlyAdaptiveRidge/kernel_ridge/kernel_ridge.py:77: RuntimeWarning: divide by zero encountered in divide\n",
      "  R = (Y - Yhat) / (1- np.diag(H))\n",
      "/Users/aschuler/Desktop/HighlyAdaptiveRidge/kernel_ridge/kernel_ridge.py:77: RuntimeWarning: invalid value encountered in divide\n",
      "  R = (Y - Yhat) / (1- np.diag(H))\n"
     ]
    },
    {
     "name": "stderr",
     "output_type": "stream",
     "text": [
      "/Users/aschuler/Desktop/HighlyAdaptiveRidge/kernel_ridge/kernel_ridge.py:77: RuntimeWarning: divide by zero encountered in divide\n",
      "  R = (Y - Yhat) / (1- np.diag(H))\n",
      "/Users/aschuler/Desktop/HighlyAdaptiveRidge/kernel_ridge/kernel_ridge.py:77: RuntimeWarning: invalid value encountered in divide\n",
      "  R = (Y - Yhat) / (1- np.diag(H))\n"
     ]
    },
    {
     "name": "stderr",
     "output_type": "stream",
     "text": [
      "/Users/aschuler/Desktop/HighlyAdaptiveRidge/kernel_ridge/kernel_ridge.py:77: RuntimeWarning: divide by zero encountered in divide\n",
      "  R = (Y - Yhat) / (1- np.diag(H))\n",
      "/Users/aschuler/Desktop/HighlyAdaptiveRidge/kernel_ridge/kernel_ridge.py:77: RuntimeWarning: invalid value encountered in divide\n",
      "  R = (Y - Yhat) / (1- np.diag(H))\n"
     ]
    },
    {
     "name": "stderr",
     "output_type": "stream",
     "text": [
      "/Users/aschuler/Desktop/HighlyAdaptiveRidge/kernel_ridge/kernel_ridge.py:77: RuntimeWarning: divide by zero encountered in divide\n",
      "  R = (Y - Yhat) / (1- np.diag(H))\n",
      "/Users/aschuler/Desktop/HighlyAdaptiveRidge/kernel_ridge/kernel_ridge.py:77: RuntimeWarning: invalid value encountered in divide\n",
      "  R = (Y - Yhat) / (1- np.diag(H))\n"
     ]
    },
    {
     "name": "stderr",
     "output_type": "stream",
     "text": [
      "/Users/aschuler/Desktop/HighlyAdaptiveRidge/kernel_ridge/kernel_ridge.py:77: RuntimeWarning: divide by zero encountered in divide\n",
      "  R = (Y - Yhat) / (1- np.diag(H))\n",
      "/Users/aschuler/Desktop/HighlyAdaptiveRidge/kernel_ridge/kernel_ridge.py:77: RuntimeWarning: invalid value encountered in divide\n",
      "  R = (Y - Yhat) / (1- np.diag(H))\n"
     ]
    },
    {
     "name": "stderr",
     "output_type": "stream",
     "text": [
      "/Users/aschuler/Desktop/HighlyAdaptiveRidge/kernel_ridge/kernel_ridge.py:77: RuntimeWarning: divide by zero encountered in divide\n",
      "  R = (Y - Yhat) / (1- np.diag(H))\n",
      "/Users/aschuler/Desktop/HighlyAdaptiveRidge/kernel_ridge/kernel_ridge.py:77: RuntimeWarning: invalid value encountered in divide\n",
      "  R = (Y - Yhat) / (1- np.diag(H))\n"
     ]
    },
    {
     "name": "stdout",
     "output_type": "stream",
     "text": [
      "elapsed time: 4576.200067043304\n",
      "analyzing yearmsd...elapsed time: 4576.200067043304\n",
      "analyzing yearmsd..."
     ]
    },
    {
     "name": "stderr",
     "output_type": "stream",
     "text": [
      "/Users/aschuler/Desktop/HighlyAdaptiveRidge/kernel_ridge/kernel_ridge.py:77: RuntimeWarning: divide by zero encountered in divide\n",
      "  R = (Y - Yhat) / (1- np.diag(H))\n",
      "/Users/aschuler/Desktop/HighlyAdaptiveRidge/kernel_ridge/kernel_ridge.py:77: RuntimeWarning: invalid value encountered in divide\n",
      "  R = (Y - Yhat) / (1- np.diag(H))\n"
     ]
    },
    {
     "name": "stderr",
     "output_type": "stream",
     "text": [
      "/Users/aschuler/Desktop/HighlyAdaptiveRidge/kernel_ridge/kernel_ridge.py:77: RuntimeWarning: divide by zero encountered in divide\n",
      "  R = (Y - Yhat) / (1- np.diag(H))\n",
      "/Users/aschuler/Desktop/HighlyAdaptiveRidge/kernel_ridge/kernel_ridge.py:77: RuntimeWarning: invalid value encountered in divide\n",
      "  R = (Y - Yhat) / (1- np.diag(H))\n"
     ]
    },
    {
     "name": "stderr",
     "output_type": "stream",
     "text": [
      "/Users/aschuler/Desktop/HighlyAdaptiveRidge/kernel_ridge/kernel_ridge.py:77: RuntimeWarning: divide by zero encountered in divide\n",
      "  R = (Y - Yhat) / (1- np.diag(H))\n",
      "/Users/aschuler/Desktop/HighlyAdaptiveRidge/kernel_ridge/kernel_ridge.py:77: RuntimeWarning: invalid value encountered in divide\n",
      "  R = (Y - Yhat) / (1- np.diag(H))\n"
     ]
    },
    {
     "name": "stderr",
     "output_type": "stream",
     "text": [
      "/Users/aschuler/Desktop/HighlyAdaptiveRidge/kernel_ridge/kernel_ridge.py:77: RuntimeWarning: divide by zero encountered in divide\n",
      "  R = (Y - Yhat) / (1- np.diag(H))\n",
      "/Users/aschuler/Desktop/HighlyAdaptiveRidge/kernel_ridge/kernel_ridge.py:77: RuntimeWarning: invalid value encountered in divide\n",
      "  R = (Y - Yhat) / (1- np.diag(H))\n"
     ]
    },
    {
     "name": "stderr",
     "output_type": "stream",
     "text": [
      "/Users/aschuler/Desktop/HighlyAdaptiveRidge/kernel_ridge/kernel_ridge.py:77: RuntimeWarning: divide by zero encountered in divide\n",
      "  R = (Y - Yhat) / (1- np.diag(H))\n",
      "/Users/aschuler/Desktop/HighlyAdaptiveRidge/kernel_ridge/kernel_ridge.py:77: RuntimeWarning: invalid value encountered in divide\n",
      "  R = (Y - Yhat) / (1- np.diag(H))\n"
     ]
    },
    {
     "name": "stdout",
     "output_type": "stream",
     "text": [
      "elapsed time: 2014.2824659347534\n",
      "elapsed time: 2014.2824659347534\n"
     ]
    }
   ],
   "source": [
    "HAL_DATASETS = [\n",
    "    \"yacht\",\n",
    "    \"energy\",\n",
    "    \"boston\",\n",
    "    \"concrete\",\n",
    "]\n",
    "\n",
    "DATASETS = [\n",
    "    *HAL_DATASETS,\n",
    "    \"wine\",\n",
    "    \"power\",\n",
    "    \"kin8nm\",\n",
    "    \"naval\",\n",
    "    \"protein\",\n",
    "    \"slice\",\n",
    "    \"yearmsd\"\n",
    "]\n",
    "\n",
    "REP_0 = 0\n",
    "N_REPS = 5\n",
    "\n",
    "MAX_ROWS = 2000\n",
    "\n",
    "results = []\n",
    "data_timer = Timer(verbose=True)\n",
    "for data in DATASETS:\n",
    "    with data_timer.task(f\"analyzing {data}\"):\n",
    "        df = pd.read_csv(f\"~/Desktop/csv/{data}.csv\")\n",
    "        X_full = df.iloc[:MAX_ROWS, :-1].values\n",
    "        Y_full = df.iloc[:MAX_ROWS,-1].values\n",
    "        n, d = X_full.shape\n",
    "\n",
    "        for rep in np.arange(REP_0, REP_0+N_REPS):\n",
    "            X, X_, Y, Y_ = train_test_split(X_full, Y_full, test_size=0.2)\n",
    "            learner_timer = Timer()\n",
    "            for name, learner in LEARNERS.items():\n",
    "                if name == 'HAL' and data not in HAL_DATASETS:\n",
    "                    continue\n",
    "                with learner_timer.task(\"time fitting\"):\n",
    "                    learner.fit(X,Y)\n",
    "                with learner_timer.task(\"time predicting\"):\n",
    "                    mse = np.mean((learner.predict(X_) - Y_)**2)\n",
    "\n",
    "                results += [{\n",
    "                    'data': data,\n",
    "                    'n': n,\n",
    "                    'd': d,\n",
    "                    'learner': name,\n",
    "                    'mse': mse,\n",
    "                    **learner_timer.durations,\n",
    "                }]\n",
    "\n",
    "            pd.DataFrame(results).to_csv(f\"results/data/{data}_{rep}.csv\")"
   ]
  },
  {
   "cell_type": "code",
   "execution_count": 4,
   "id": "0f3f0cbe",
   "metadata": {},
   "outputs": [
    {
     "name": "stderr",
     "output_type": "stream",
     "text": [
      "<positron-console-cell-4>:9: FutureWarning: The provided callable <function mean at 0x111585c60> is currently using SeriesGroupBy.mean. In a future version of pandas, the provided callable will be used directly. To keep current behavior pass the string \"mean\" instead.\n",
      "<positron-console-cell-4>:9: FutureWarning: The provided callable <function mean at 0x111585c60> is currently using SeriesGroupBy.mean. In a future version of pandas, the provided callable will be used directly. To keep current behavior pass the string \"mean\" instead.\n"
     ]
    },
    {
     "name": "stdout",
     "output_type": "stream",
     "text": [
      "\\begin{tabular}{lrrrrrrrr}\n",
      "\\toprule\n",
      "data & n & d & HAR & HAL & Mixed Sobolev KRR & Radial Basis KRR & Random Forest & Ridge Regression \\\\\n",
      "\\midrule\n",
      "power & 2000 & 4 & 4.32e+00 & NaN & 4.39e+00 & 1.32e+01 & 4.11e+00 & 4.56e+00 \\\\\n",
      "yacht & 308 & 6 & 7.76e-01 & 6.79e-01 & 3.31e-01 & 4.59e+00 & 1.01e+00 & 8.66e+00 \\\\\n",
      "concrete & 1030 & 8 & 4.04e+00 & 3.74e+00 & 4.35e+00 & 1.23e+01 & 4.71e+00 & 1.05e+01 \\\\\n",
      "energy & 768 & 8 & 3.98e-01 & 4.39e-01 & 4.12e-01 & 6.88e-01 & 4.76e-01 & 2.85e+00 \\\\\n",
      "kin8nm & 2000 & 8 & 1.40e-01 & NaN & 1.32e-01 & 1.27e-01 & 1.67e-01 & 2.04e-01 \\\\\n",
      "protein & 2000 & 9 & 2.16e+00 & NaN & 2.17e+00 & 5.76e+00 & 1.86e+00 & 2.64e+00 \\\\\n",
      "wine & 1599 & 11 & 6.51e-01 & NaN & 6.67e-01 & 6.46e+00 & 5.79e-01 & 6.60e-01 \\\\\n",
      "boston & 506 & 13 & 3.21e+00 & 3.36e+00 & 2.83e+00 & 1.05e+01 & 3.03e+00 & 4.51e+00 \\\\\n",
      "naval & 2000 & 17 & 9.58e-04 & NaN & 4.38e-04 & 1.92e-03 & 8.86e-04 & 1.32e-03 \\\\\n",
      "yearmsd & 2000 & 90 & 1.19e+01 & NaN & 9.54e+00 & 1.19e+01 & 9.46e+00 & 9.88e+00 \\\\\n",
      "slice & 2000 & 384 & 9.29e+00 & NaN & 8.22e+00 & 1.60e-01 & 3.70e-01 & 6.35e-01 \\\\\n",
      "\\bottomrule\n",
      "\\end{tabular}\n",
      "\n",
      "\\begin{tabular}{lrrrrrrrr}\n",
      "\\toprule\n",
      "data & n & d & HAR & HAL & Mixed Sobolev KRR & Radial Basis KRR & Random Forest & Ridge Regression \\\\\n",
      "\\midrule\n",
      "power & 2000 & 4 & 4.32e+00 & NaN & 4.39e+00 & 1.32e+01 & 4.11e+00 & 4.56e+00 \\\\\n",
      "yacht & 308 & 6 & 7.76e-01 & 6.79e-01 & 3.31e-01 & 4.59e+00 & 1.01e+00 & 8.66e+00 \\\\\n",
      "concrete & 1030 & 8 & 4.04e+00 & 3.74e+00 & 4.35e+00 & 1.23e+01 & 4.71e+00 & 1.05e+01 \\\\\n",
      "energy & 768 & 8 & 3.98e-01 & 4.39e-01 & 4.12e-01 & 6.88e-01 & 4.76e-01 & 2.85e+00 \\\\\n",
      "kin8nm & 2000 & 8 & 1.40e-01 & NaN & 1.32e-01 & 1.27e-01 & 1.67e-01 & 2.04e-01 \\\\\n",
      "protein & 2000 & 9 & 2.16e+00 & NaN & 2.17e+00 & 5.76e+00 & 1.86e+00 & 2.64e+00 \\\\\n",
      "wine & 1599 & 11 & 6.51e-01 & NaN & 6.67e-01 & 6.46e+00 & 5.79e-01 & 6.60e-01 \\\\\n",
      "boston & 506 & 13 & 3.21e+00 & 3.36e+00 & 2.83e+00 & 1.05e+01 & 3.03e+00 & 4.51e+00 \\\\\n",
      "naval & 2000 & 17 & 9.58e-04 & NaN & 4.38e-04 & 1.92e-03 & 8.86e-04 & 1.32e-03 \\\\\n",
      "yearmsd & 2000 & 90 & 1.19e+01 & NaN & 9.54e+00 & 1.19e+01 & 9.46e+00 & 9.88e+00 \\\\\n",
      "slice & 2000 & 384 & 9.29e+00 & NaN & 8.22e+00 & 1.60e-01 & 3.70e-01 & 6.35e-01 \\\\\n",
      "\\bottomrule\n",
      "\\end{tabular}\n",
      "\n"
     ]
    }
   ],
   "source": [
    "folder_path = 'results/data'  \n",
    "csv_files = glob.glob(os.path.join(folder_path, \"*.csv\"))\n",
    "df_list = [pd.read_csv(file, index_col=0) for file in csv_files]\n",
    "results = pd.concat(df_list, ignore_index=True)\n",
    "\n",
    "results_avg = (\n",
    "    pd.DataFrame(results)\n",
    "    .groupby(['data', 'n', 'd', 'learner'], as_index=False)  \n",
    "    .agg({\n",
    "        'mse': np.mean,  \n",
    "        'time fitting': np.mean,\n",
    "        'time predicting': np.mean,\n",
    "    })\n",
    "    # mutate mse to rmse by taking sqrt\n",
    "    .assign(**{\n",
    "        'rmse': lambda df: np.sqrt(df['mse']),\n",
    "    })\n",
    "    .sort_values(by=['d', 'data', 'rmse'], ascending=[True, True, True])\n",
    ")\n",
    "\n",
    "mse_table = (\n",
    "    results_avg\n",
    "    .pivot_table(index=['data', 'n', 'd'], columns='learner', values='rmse')  # Pivot by 'learner' for mse\n",
    "    .reindex(columns=['HAR', 'HAL', 'Mixed Sobolev KRR', 'Radial Basis KRR', 'Random Forest', 'Ridge Regression'])  # Reorder the columns based on the desired order\n",
    "    .sort_values(by=['d'], ascending=[True])\n",
    "    .reset_index()\n",
    ")\n",
    "\n",
    "# Display the result\n",
    "print(mse_table.to_latex(index=False, float_format='%.2e'))"
   ]
  },
  {
   "cell_type": "code",
   "execution_count": null,
   "metadata": {},
   "outputs": [],
   "source": []
  },
  {
   "cell_type": "markdown",
   "id": "522a0183",
   "metadata": {},
   "source": [
    "# Simulations"
   ]
  },
  {
   "cell_type": "code",
   "execution_count": null,
   "id": "93903fc0",
   "metadata": {},
   "outputs": [],
   "source": [
    "def ramp(x, x0=0.5, eps=0.1):\n",
    "    return np.clip((x - x0) / eps, 0, 1)\n",
    "\n",
    "def dgp(n, d):\n",
    "    eps = 0.05\n",
    "    x0 = 1 - 2**(-1/5) - eps\n",
    "    X = np.random.uniform(size=(n, 10))\n",
    "    Y = np.prod(X[:,0:5], axis=1) - np.prod(ramp(X[:,5:-1], x0=x0, eps=eps), axis=1) + np.random.normal(scale=0.1, size=(n,))\n",
    "    return X,Y"
   ]
  },
  {
   "cell_type": "code",
   "execution_count": null,
   "id": "4cb8f6ff",
   "metadata": {},
   "outputs": [],
   "source": [
    "\n",
    "SIM_LEARNERS = [\n",
    "    'HAR', \n",
    "    # 'Mixed Sobolev KRR', \n",
    "    # 'Radial Basis KRR', \n",
    "    # 'Random Forest',\n",
    "    # 'Mean',\n",
    "]\n",
    "REPS = 10\n",
    "N_RANGE = [50, 125, 200, 300, 400, 600]\n",
    "D_RANGE = [10]\n",
    "\n",
    "for d in D_RANGE:\n",
    "    results = []\n",
    "    for n in N_RANGE:\n",
    "        for rep in range(REPS):\n",
    "            X,Y  = dgp(n+1000, d)\n",
    "            X, X_, Y, Y_ = train_test_split(X, Y, test_size=1000)\n",
    "            learner_timer = Timer()\n",
    "            for name, learner in {k: LEARNERS[k] for k in SIM_LEARNERS}.items():\n",
    "                with learner_timer.task(\"time fitting\"):\n",
    "                    learner.fit(X,Y)\n",
    "                with learner_timer.task(\"time predicting\"):\n",
    "                    mse = np.mean((learner.predict(X_) - Y_)**2)\n",
    "\n",
    "                results += [{\n",
    "                    'n': n,\n",
    "                    'd': d,\n",
    "                    'learner': name,\n",
    "                    'mse': mse,\n",
    "                    **learner_timer.durations,\n",
    "                }]\n",
    "\n",
    "    pd.DataFrame(results).to_csv(f\"results/sims/{d}.csv\")"
   ]
  },
  {
   "cell_type": "code",
   "execution_count": null,
   "id": "e52342c4",
   "metadata": {},
   "outputs": [
    {
     "name": "stderr",
     "output_type": "stream",
     "text": [
      "<positron-console-cell-227>:13: FutureWarning: The provided callable <function mean at 0x106155c60> is currently using SeriesGroupBy.mean. In a future version of pandas, the provided callable will be used directly. To keep current behavior pass the string \"mean\" instead.\n",
      "<positron-console-cell-227>:13: FutureWarning: The provided callable <function mean at 0x106155c60> is currently using SeriesGroupBy.mean. In a future version of pandas, the provided callable will be used directly. To keep current behavior pass the string \"mean\" instead.\n"
     ]
    }
   ],
   "source": [
    "import pandas as pd\n",
    "import glob\n",
    "import os\n",
    "\n",
    "folder_path = 'results/sims'  \n",
    "csv_files = glob.glob(os.path.join(folder_path, \"*.csv\"))\n",
    "df_list = [pd.read_csv(file, index_col=0) for file in csv_files]\n",
    "results = pd.concat(df_list, ignore_index=True)\n",
    "\n",
    "results_avg = (\n",
    "    pd.DataFrame(results)\n",
    "    .groupby(['n', 'd', 'learner'], as_index=False)  \n",
    "    .agg({\n",
    "        'mse': np.mean,  \n",
    "        'time fitting': np.mean,\n",
    "        'time predicting': np.mean,\n",
    "    })\n",
    "    # mutate mse to rmse by taking sqrt\n",
    "    .assign(**{\n",
    "        'rmse': lambda df: np.sqrt(df['mse']),\n",
    "        'rate': lambda df: df.n**(-1/3) * np.log(df.n)**(2*(df.d-1)/3),\n",
    "        'relative_rmse': lambda df: df.rmse / df.rate,\n",
    "    })\n",
    "    .sort_values(by=['learner', 'd', 'n'], ascending=[True, True, True])\n",
    ")\n",
    "\n",
    "import altair as alt\n",
    "import altair_saver as saver\n",
    "\n",
    "plot = alt.Chart(results_avg).mark_line().encode(\n",
    "    x='n:Q',\n",
    "    y=alt.Y('relative_rmse:Q', scale=alt.Scale(zero=False), title='Rate-Scaled RMSE'),\n",
    "    # color='learner',\n",
    "    # row='d'\n",
    ").resolve_scale(\n",
    "    y='independent'\n",
    ").properties(\n",
    "    width=800,  # Set the chart wider\n",
    "    height=300  # Set the chart narrower\n",
    ").configure_axis(\n",
    "    labelFontSize=14,\n",
    "    titleFontSize=16\n",
    ").configure_legend(\n",
    "    labelFontSize=14,\n",
    "    titleFontSize=16\n",
    ").configure_title(\n",
    "    fontSize=18\n",
    ")\n",
    "plot\n",
    "\n",
    "plot.save('results/plots/convergence.pdf')"
   ]
  }
 ],
 "metadata": {
  "kernelspec": {
   "display_name": "Python 3 (ipykernel)",
   "language": "python",
   "name": "python3"
  },
  "language_info": {
   "codemirror_mode": {
    "name": "ipython",
    "version": 3
   },
   "file_extension": ".py",
   "mimetype": "text/x-python",
   "name": "python",
   "nbconvert_exporter": "python",
   "pygments_lexer": "ipython3",
   "version": "3.8.18"
  }
 },
 "nbformat": 4,
 "nbformat_minor": 5
}
