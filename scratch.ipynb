{
 "cells": [
  {
   "cell_type": "code",
   "execution_count": 1,
   "id": "0f405b9e",
   "metadata": {},
   "outputs": [],
   "source": [
    "from timer import Timer\n",
    "import numpy as np\n",
    "import pandas as pd\n",
    "\n",
    "from highly_adaptive_regression import HighlyAdaptiveLassoCV\n",
    "from kernel_ridge import HighlyAdaptiveRidgeCV, RadialBasisKernelRidgeCV, MixedSobolevRidgeCV \n",
    "from kernel_ridge import kernels\n",
    "\n",
    "from sklearn.model_selection import train_test_split\n",
    "from sklearn.ensemble import RandomForestRegressor\n",
    "from sklearn.linear_model import LinearRegression, Ridge\n",
    "from sklearn.dummy import DummyRegressor\n",
    "\n",
    "import pandas as pd\n",
    "import glob\n",
    "import os\n",
    "import altair as alt"
   ]
  },
  {
   "cell_type": "markdown",
   "id": "e4d0a8eb",
   "metadata": {},
   "source": [
    "# Empirical"
   ]
  },
  {
   "cell_type": "code",
   "execution_count": 2,
   "id": "d5543994",
   "metadata": {},
   "outputs": [],
   "source": [
    "LEARNERS = {\n",
    "    'Mean':DummyRegressor(strategy=\"mean\"),\n",
    "    'Ridge Regression':Ridge(alpha=1e-3),\n",
    "    'Random Forest':RandomForestRegressor(n_estimators=2000, n_jobs=-1),\n",
    "    'Radial Basis KRR':RadialBasisKernelRidgeCV(\n",
    "        gammas=[0.001, 0.01, 0.1, 1, 10], \n",
    "        eps=1e-10,\n",
    "        max_alpha_coef_norm = 10,\n",
    "    ),\n",
    "    'Mixed Sobolev KRR':MixedSobolevRidgeCV(\n",
    "        eps=1e-6,\n",
    "        max_alpha_coef_norm = 100,\n",
    "    ),\n",
    "    'HAL':HighlyAdaptiveLassoCV(),\n",
    "    'HAR':HighlyAdaptiveRidgeCV(eps=1e-10, order=0),\n",
    "}"
   ]
  },
  {
   "cell_type": "code",
   "execution_count": 3,
   "id": "e87c37d6",
   "metadata": {},
   "outputs": [
    {
     "name": "stdout",
     "output_type": "stream",
     "text": [
      "analyzing yacht...analyzing yacht..."
     ]
    },
    {
     "name": "stdout",
     "output_type": "stream",
     "text": [
      "Warning: selected regularization is the smallest grid value for RadialBasis: {'gamma': 0.01}\n",
      "Warning: selected regularization is the smallest grid value for RadialBasis: {'gamma': 0.1}\n",
      "Warning: selected regularization is the smallest grid value for RadialBasis: {'gamma': 0.01}\n",
      "Warning: selected regularization is the smallest grid value for RadialBasis: {'gamma': 0.1}\n"
     ]
    },
    {
     "name": "stderr",
     "output_type": "stream",
     "text": [
      "/Users/aschuler/Desktop/HighlyAdaptiveRidge/venv/lib/python3.12/site-packages/sklearn/linear_model/_coordinate_descent.py:697: ConvergenceWarning: Objective did not converge. You might want to increase the number of iterations, check the scale of the features or consider increasing regularisation. Duality gap: 2.720e+01, tolerance: 5.985e+00\n",
      "  model = cd_fast.enet_coordinate_descent(\n"
     ]
    },
    {
     "name": "stdout",
     "output_type": "stream",
     "text": [
      "Warning: selected regularization is the smallest grid value for RadialBasis: {'gamma': 0.01}\n",
      "Warning: selected regularization is the smallest grid value for RadialBasis: {'gamma': 0.1}\n",
      "Warning: selected regularization is the smallest grid value for RadialBasis: {'gamma': 0.01}\n",
      "Warning: selected regularization is the smallest grid value for RadialBasis: {'gamma': 0.1}\n"
     ]
    },
    {
     "name": "stderr",
     "output_type": "stream",
     "text": [
      "/Users/aschuler/Desktop/HighlyAdaptiveRidge/venv/lib/python3.12/site-packages/sklearn/linear_model/_coordinate_descent.py:697: ConvergenceWarning: Objective did not converge. You might want to increase the number of iterations, check the scale of the features or consider increasing regularisation. Duality gap: 9.815e+00, tolerance: 5.822e+00\n",
      "  model = cd_fast.enet_coordinate_descent(\n"
     ]
    },
    {
     "name": "stdout",
     "output_type": "stream",
     "text": [
      "Warning: selected regularization is the smallest grid value for RadialBasis: {'gamma': 0.01}\n",
      "Warning: selected regularization is the smallest grid value for RadialBasis: {'gamma': 0.1}\n",
      "Warning: selected regularization is the smallest grid value for RadialBasis: {'gamma': 0.01}\n",
      "Warning: selected regularization is the smallest grid value for RadialBasis: {'gamma': 0.1}\n"
     ]
    },
    {
     "name": "stderr",
     "output_type": "stream",
     "text": [
      "/Users/aschuler/Desktop/HighlyAdaptiveRidge/venv/lib/python3.12/site-packages/sklearn/linear_model/_coordinate_descent.py:697: ConvergenceWarning: Objective did not converge. You might want to increase the number of iterations, check the scale of the features or consider increasing regularisation. Duality gap: 1.295e+01, tolerance: 6.013e+00\n",
      "  model = cd_fast.enet_coordinate_descent(\n"
     ]
    },
    {
     "name": "stdout",
     "output_type": "stream",
     "text": [
      "Warning: selected regularization is the smallest grid value for RadialBasis: {'gamma': 0.01}\n",
      "Warning: selected regularization is the smallest grid value for RadialBasis: {'gamma': 0.1}\n",
      "Warning: selected regularization is the smallest grid value for RadialBasis: {'gamma': 0.01}\n",
      "Warning: selected regularization is the smallest grid value for RadialBasis: {'gamma': 0.1}\n"
     ]
    },
    {
     "name": "stderr",
     "output_type": "stream",
     "text": [
      "/Users/aschuler/Desktop/HighlyAdaptiveRidge/venv/lib/python3.12/site-packages/sklearn/linear_model/_coordinate_descent.py:697: ConvergenceWarning: Objective did not converge. You might want to increase the number of iterations, check the scale of the features or consider increasing regularisation. Duality gap: 2.076e+01, tolerance: 6.015e+00\n",
      "  model = cd_fast.enet_coordinate_descent(\n"
     ]
    },
    {
     "name": "stdout",
     "output_type": "stream",
     "text": [
      "Warning: selected regularization is the smallest grid value for RadialBasis: {'gamma': 0.01}\n",
      "Warning: selected regularization is the smallest grid value for RadialBasis: {'gamma': 0.1}\n",
      "Warning: selected regularization is the smallest grid value for RadialBasis: {'gamma': 1}\n",
      "Warning: selected regularization is the smallest grid value for RadialBasis: {'gamma': 0.01}\n",
      "Warning: selected regularization is the smallest grid value for RadialBasis: {'gamma': 0.1}\n",
      "Warning: selected regularization is the smallest grid value for RadialBasis: {'gamma': 1}\n"
     ]
    },
    {
     "name": "stderr",
     "output_type": "stream",
     "text": [
      "/Users/aschuler/Desktop/HighlyAdaptiveRidge/venv/lib/python3.12/site-packages/sklearn/linear_model/_coordinate_descent.py:697: ConvergenceWarning: Objective did not converge. You might want to increase the number of iterations, check the scale of the features or consider increasing regularisation. Duality gap: 2.976e+01, tolerance: 5.511e+00\n",
      "  model = cd_fast.enet_coordinate_descent(\n"
     ]
    },
    {
     "name": "stdout",
     "output_type": "stream",
     "text": [
      "elapsed time: 82.50523900985718\n",
      "analyzing energy...elapsed time: 82.50523900985718\n",
      "analyzing energy..."
     ]
    },
    {
     "name": "stdout",
     "output_type": "stream",
     "text": [
      "Warning: selected regularization is the smallest grid value for RadialBasis: {'gamma': 0.001}\n",
      "Warning: selected regularization is the smallest grid value for RadialBasis: {'gamma': 0.001}\n"
     ]
    },
    {
     "name": "stderr",
     "output_type": "stream",
     "text": [
      "/Users/aschuler/Desktop/HighlyAdaptiveRidge/venv/lib/python3.12/site-packages/sklearn/linear_model/_coordinate_descent.py:697: ConvergenceWarning: Objective did not converge. You might want to increase the number of iterations, check the scale of the features or consider increasing regularisation. Duality gap: 2.404e+01, tolerance: 6.315e+00\n",
      "  model = cd_fast.enet_coordinate_descent(\n"
     ]
    },
    {
     "name": "stdout",
     "output_type": "stream",
     "text": [
      "Warning: selected regularization is the smallest grid value for RadialBasis: {'gamma': 0.001}\n",
      "Warning: selected regularization is the smallest grid value for RadialBasis: {'gamma': 0.001}\n"
     ]
    },
    {
     "name": "stderr",
     "output_type": "stream",
     "text": [
      "/Users/aschuler/Desktop/HighlyAdaptiveRidge/venv/lib/python3.12/site-packages/sklearn/linear_model/_coordinate_descent.py:697: ConvergenceWarning: Objective did not converge. You might want to increase the number of iterations, check the scale of the features or consider increasing regularisation. Duality gap: 3.744e+01, tolerance: 6.337e+00\n",
      "  model = cd_fast.enet_coordinate_descent(\n"
     ]
    },
    {
     "name": "stdout",
     "output_type": "stream",
     "text": [
      "Warning: selected regularization is the smallest grid value for RadialBasis: {'gamma': 0.001}\n",
      "Warning: selected regularization is the smallest grid value for RadialBasis: {'gamma': 0.001}\n"
     ]
    },
    {
     "name": "stderr",
     "output_type": "stream",
     "text": [
      "/Users/aschuler/Desktop/HighlyAdaptiveRidge/venv/lib/python3.12/site-packages/sklearn/linear_model/_coordinate_descent.py:697: ConvergenceWarning: Objective did not converge. You might want to increase the number of iterations, check the scale of the features or consider increasing regularisation. Duality gap: 2.425e+01, tolerance: 6.226e+00\n",
      "  model = cd_fast.enet_coordinate_descent(\n"
     ]
    },
    {
     "name": "stdout",
     "output_type": "stream",
     "text": [
      "Warning: selected regularization is the smallest grid value for RadialBasis: {'gamma': 0.001}\n",
      "Warning: selected regularization is the smallest grid value for RadialBasis: {'gamma': 0.001}\n"
     ]
    },
    {
     "name": "stderr",
     "output_type": "stream",
     "text": [
      "/Users/aschuler/Desktop/HighlyAdaptiveRidge/venv/lib/python3.12/site-packages/sklearn/linear_model/_coordinate_descent.py:697: ConvergenceWarning: Objective did not converge. You might want to increase the number of iterations, check the scale of the features or consider increasing regularisation. Duality gap: 2.463e+01, tolerance: 6.171e+00\n",
      "  model = cd_fast.enet_coordinate_descent(\n"
     ]
    },
    {
     "name": "stdout",
     "output_type": "stream",
     "text": [
      "Warning: selected regularization is the smallest grid value for RadialBasis: {'gamma': 0.001}\n",
      "Warning: selected regularization is the smallest grid value for RadialBasis: {'gamma': 0.001}\n"
     ]
    },
    {
     "name": "stderr",
     "output_type": "stream",
     "text": [
      "/Users/aschuler/Desktop/HighlyAdaptiveRidge/venv/lib/python3.12/site-packages/sklearn/linear_model/_coordinate_descent.py:697: ConvergenceWarning: Objective did not converge. You might want to increase the number of iterations, check the scale of the features or consider increasing regularisation. Duality gap: 2.631e+01, tolerance: 6.061e+00\n",
      "  model = cd_fast.enet_coordinate_descent(\n"
     ]
    },
    {
     "name": "stdout",
     "output_type": "stream",
     "text": [
      "elapsed time: 2138.266622066498\n",
      "analyzing boston...elapsed time: 2138.266622066498\n",
      "analyzing boston..."
     ]
    },
    {
     "name": "stderr",
     "output_type": "stream",
     "text": [
      "/Users/aschuler/Desktop/HighlyAdaptiveRidge/venv/lib/python3.12/site-packages/sklearn/linear_model/_coordinate_descent.py:697: ConvergenceWarning: Objective did not converge. You might want to increase the number of iterations, check the scale of the features or consider increasing regularisation. Duality gap: 9.670e+00, tolerance: 3.443e+00\n",
      "  model = cd_fast.enet_coordinate_descent(\n"
     ]
    }
   ],
   "source": [
    "FILE = 'data'\n",
    "\n",
    "HAL_DATASETS = [\n",
    "    \"yacht\",\n",
    "    \"energy\",\n",
    "    \"boston\",\n",
    "    \"concrete\",\n",
    "]\n",
    "\n",
    "DATASETS = [\n",
    "    *HAL_DATASETS,\n",
    "    \"wine\",\n",
    "    \"power\",\n",
    "    \"kin8nm\",\n",
    "    \"naval\",\n",
    "    \"protein\",\n",
    "    \"slice\",\n",
    "    \"yearmsd\"\n",
    "]\n",
    "\n",
    "N_REPS = 5\n",
    "\n",
    "MAX_ROWS = 2000\n",
    "\n",
    "results = []\n",
    "data_timer = Timer(verbose=True)\n",
    "for data in DATASETS:\n",
    "    with data_timer.task(f\"analyzing {data}\"):\n",
    "        df = pd.read_csv(f\"~/Desktop/csv/{data}.csv\")\n",
    "        X_full = df.iloc[:MAX_ROWS, :-1].values\n",
    "        Y_full = df.iloc[:MAX_ROWS,-1].values\n",
    "        n, d = X_full.shape\n",
    "\n",
    "        for rep in range(N_REPS):\n",
    "            X, X_, Y, Y_ = train_test_split(X_full, Y_full, test_size=0.2)\n",
    "            learner_timer = Timer()\n",
    "            for name, learner in LEARNERS.items():\n",
    "                if name == 'HAL' and data not in HAL_DATASETS:\n",
    "                    continue\n",
    "                with learner_timer.task(\"time fitting\"):\n",
    "                    learner.fit(X,Y)\n",
    "                with learner_timer.task(\"time predicting\"):\n",
    "                    mse = np.mean((learner.predict(X_) - Y_)**2)\n",
    "\n",
    "                results += [{\n",
    "                    'data': data,\n",
    "                    'n': n,\n",
    "                    'd': d,\n",
    "                    'learner': name,\n",
    "                    'mse': mse,\n",
    "                    **learner_timer.durations,\n",
    "                }]\n",
    "\n",
    "            pd.DataFrame(results).to_csv(f\"results/data/{FILE}_{data}_{rep}.csv\")"
   ]
  },
  {
   "cell_type": "code",
   "execution_count": 51,
   "id": "0f3f0cbe",
   "metadata": {},
   "outputs": [
    {
     "name": "stdout",
     "output_type": "stream",
     "text": [
      "\\begin{tabular}{lrrrrrrrr}\n",
      "\\toprule\n",
      "data & n & d & HAR & HAL & Mixed Sobolev KRR & Radial Basis KRR & Random Forest & Ridge Regression \\\\\n",
      "\\midrule\n",
      "power & 2000 & 4 & 3.98e+00 & NaN & 4.09e+00 & 4.24e+00 & 4.12e+00 & 4.49e+00 \\\\\n",
      "yacht & 308 & 6 & 1.15e+00 & 9.51e-01 & 1.42e+00 & 2.94e+00 & 1.89e+00 & 9.82e+00 \\\\\n",
      "concrete & 1030 & 8 & 4.13e+00 & 4.66e+00 & 4.78e+00 & 1.05e+01 & 5.89e+00 & 1.07e+01 \\\\\n",
      "energy & 768 & 8 & 4.65e-01 & 4.94e-01 & 4.42e-01 & 8.20e-01 & 5.59e-01 & 2.93e+00 \\\\\n",
      "kin8nm & 2000 & 8 & 1.50e-01 & NaN & 1.45e-01 & 1.05e-01 & 1.74e-01 & 2.02e-01 \\\\\n",
      "protein & 2000 & 9 & 1.89e+00 & NaN & 1.75e+00 & 5.78e+00 & 1.73e+00 & 2.35e+00 \\\\\n",
      "wine & 1599 & 11 & 5.97e-01 & NaN & 6.26e-01 & 6.62e-01 & 5.97e-01 & 6.55e-01 \\\\\n",
      "boston & 506 & 13 & 3.40e+00 & 3.88e+00 & 3.82e+00 & 6.08e+00 & 3.74e+00 & 5.09e+00 \\\\\n",
      "naval & 2000 & 17 & 1.23e-03 & NaN & 6.67e-04 & 2.15e-03 & 1.02e-03 & 1.37e-03 \\\\\n",
      "yearmsd & 2000 & 90 & 1.11e+01 & NaN & 9.68e+00 & 1.15e+01 & 1.02e+01 & 1.07e+01 \\\\\n",
      "slice & 2000 & 384 & 9.10e+00 & NaN & 8.51e+00 & 2.31e-01 & 4.46e-01 & 7.92e-01 \\\\\n",
      "\\bottomrule\n",
      "\\end{tabular}\n",
      "\n",
      "\\begin{tabular}{lrrrrrrrr}\n",
      "\\toprule\n",
      "data & n & d & HAR & HAL & Mixed Sobolev KRR & Radial Basis KRR & Random Forest & Ridge Regression \\\\\n",
      "\\midrule\n",
      "power & 2000 & 4 & 3.98e+00 & NaN & 4.09e+00 & 4.24e+00 & 4.12e+00 & 4.49e+00 \\\\\n",
      "yacht & 308 & 6 & 1.15e+00 & 9.51e-01 & 1.42e+00 & 2.94e+00 & 1.89e+00 & 9.82e+00 \\\\\n",
      "concrete & 1030 & 8 & 4.13e+00 & 4.66e+00 & 4.78e+00 & 1.05e+01 & 5.89e+00 & 1.07e+01 \\\\\n",
      "energy & 768 & 8 & 4.65e-01 & 4.94e-01 & 4.42e-01 & 8.20e-01 & 5.59e-01 & 2.93e+00 \\\\\n",
      "kin8nm & 2000 & 8 & 1.50e-01 & NaN & 1.45e-01 & 1.05e-01 & 1.74e-01 & 2.02e-01 \\\\\n",
      "protein & 2000 & 9 & 1.89e+00 & NaN & 1.75e+00 & 5.78e+00 & 1.73e+00 & 2.35e+00 \\\\\n",
      "wine & 1599 & 11 & 5.97e-01 & NaN & 6.26e-01 & 6.62e-01 & 5.97e-01 & 6.55e-01 \\\\\n",
      "boston & 506 & 13 & 3.40e+00 & 3.88e+00 & 3.82e+00 & 6.08e+00 & 3.74e+00 & 5.09e+00 \\\\\n",
      "naval & 2000 & 17 & 1.23e-03 & NaN & 6.67e-04 & 2.15e-03 & 1.02e-03 & 1.37e-03 \\\\\n",
      "yearmsd & 2000 & 90 & 1.11e+01 & NaN & 9.68e+00 & 1.15e+01 & 1.02e+01 & 1.07e+01 \\\\\n",
      "slice & 2000 & 384 & 9.10e+00 & NaN & 8.51e+00 & 2.31e-01 & 4.46e-01 & 7.92e-01 \\\\\n",
      "\\bottomrule\n",
      "\\end{tabular}\n",
      "\n"
     ]
    },
    {
     "name": "stderr",
     "output_type": "stream",
     "text": [
      "<positron-console-cell-51>:4: FutureWarning: The provided callable <function mean at 0x106155c60> is currently using SeriesGroupBy.mean. In a future version of pandas, the provided callable will be used directly. To keep current behavior pass the string \"mean\" instead.\n",
      "<positron-console-cell-51>:4: FutureWarning: The provided callable <function mean at 0x106155c60> is currently using SeriesGroupBy.mean. In a future version of pandas, the provided callable will be used directly. To keep current behavior pass the string \"mean\" instead.\n"
     ]
    }
   ],
   "source": [
    "folder_path = 'results/data'  \n",
    "csv_files = glob.glob(os.path.join(folder_path, \"*.csv\"))\n",
    "df_list = [pd.read_csv(file, index_col=0) for file in csv_files]\n",
    "results = pd.concat(df_list, ignore_index=True)\n",
    "\n",
    "results_avg = (\n",
    "    pd.DataFrame(results)\n",
    "    .groupby(['data', 'n', 'd', 'learner'], as_index=False)  \n",
    "    .agg({\n",
    "        'mse': np.mean,  \n",
    "        'time fitting': np.mean,\n",
    "        'time predicting': np.mean,\n",
    "    })\n",
    "    # mutate mse to rmse by taking sqrt\n",
    "    .assign(**{\n",
    "        'rmse': lambda df: np.sqrt(df['mse']),\n",
    "    })\n",
    "    .sort_values(by=['d', 'data', 'rmse'], ascending=[True, True, True])\n",
    ")\n",
    "\n",
    "mse_table = (\n",
    "    results_avg\n",
    "    .pivot_table(index=['data', 'n', 'd'], columns='learner', values='rmse')  # Pivot by 'learner' for mse\n",
    "    .reindex(columns=['HAR', 'HAL', 'Mixed Sobolev KRR', 'Radial Basis KRR', 'Random Forest', 'Ridge Regression'])  # Reorder the columns based on the desired order\n",
    "    .sort_values(by=['d'], ascending=[True])\n",
    "    .reset_index()\n",
    ")\n",
    "\n",
    "# Display the result\n",
    "print(mse_table.to_latex(index=False, float_format='%.2e'))"
   ]
  },
  {
   "cell_type": "code",
   "execution_count": null,
   "metadata": {},
   "outputs": [],
   "source": []
  },
  {
   "cell_type": "markdown",
   "id": "522a0183",
   "metadata": {},
   "source": [
    "# Simulations"
   ]
  },
  {
   "cell_type": "code",
   "execution_count": 209,
   "id": "93903fc0",
   "metadata": {},
   "outputs": [],
   "source": [
    "def ramp(x, x0=0.5, eps=0.1):\n",
    "    return np.clip((x - x0) / eps, 0, 1)\n",
    "\n",
    "def dgp(n, d):\n",
    "    eps = 0.05\n",
    "    x0 = 1 - 2**(-1/5) - eps\n",
    "    X = np.random.uniform(size=(n, 10))\n",
    "    Y = np.prod(X[:,0:5], axis=1) - np.prod(ramp(X[:,5:-1], x0=x0, eps=eps), axis=1) + np.random.normal(scale=0.1, size=(n,))\n",
    "    return X,Y"
   ]
  },
  {
   "cell_type": "code",
   "execution_count": 213,
   "id": "4cb8f6ff",
   "metadata": {},
   "outputs": [],
   "source": [
    "\n",
    "SIM_LEARNERS = [\n",
    "    'HAR', \n",
    "    # 'Mixed Sobolev KRR', \n",
    "    # 'Radial Basis KRR', \n",
    "    # 'Random Forest',\n",
    "    # 'Mean',\n",
    "]\n",
    "REPS = 10\n",
    "N_RANGE = [50, 125, 200, 300, 400, 600]\n",
    "D_RANGE = [10]\n",
    "\n",
    "for d in D_RANGE:\n",
    "    results = []\n",
    "    for n in N_RANGE:\n",
    "        for rep in range(REPS):\n",
    "            X,Y  = dgp(n+1000, d)\n",
    "            X, X_, Y, Y_ = train_test_split(X, Y, test_size=1000)\n",
    "            learner_timer = Timer()\n",
    "            for name, learner in {k: LEARNERS[k] for k in SIM_LEARNERS}.items():\n",
    "                with learner_timer.task(\"time fitting\"):\n",
    "                    learner.fit(X,Y)\n",
    "                with learner_timer.task(\"time predicting\"):\n",
    "                    mse = np.mean((learner.predict(X_) - Y_)**2)\n",
    "\n",
    "                results += [{\n",
    "                    'n': n,\n",
    "                    'd': d,\n",
    "                    'learner': name,\n",
    "                    'mse': mse,\n",
    "                    **learner_timer.durations,\n",
    "                }]\n",
    "\n",
    "    pd.DataFrame(results).to_csv(f\"results/sims/{d}.csv\")"
   ]
  },
  {
   "cell_type": "code",
   "execution_count": 227,
   "id": "e52342c4",
   "metadata": {},
   "outputs": [
    {
     "name": "stderr",
     "output_type": "stream",
     "text": [
      "<positron-console-cell-227>:13: FutureWarning: The provided callable <function mean at 0x106155c60> is currently using SeriesGroupBy.mean. In a future version of pandas, the provided callable will be used directly. To keep current behavior pass the string \"mean\" instead.\n",
      "<positron-console-cell-227>:13: FutureWarning: The provided callable <function mean at 0x106155c60> is currently using SeriesGroupBy.mean. In a future version of pandas, the provided callable will be used directly. To keep current behavior pass the string \"mean\" instead.\n"
     ]
    }
   ],
   "source": [
    "import pandas as pd\n",
    "import glob\n",
    "import os\n",
    "\n",
    "folder_path = 'results/sims'  \n",
    "csv_files = glob.glob(os.path.join(folder_path, \"*.csv\"))\n",
    "df_list = [pd.read_csv(file, index_col=0) for file in csv_files]\n",
    "results = pd.concat(df_list, ignore_index=True)\n",
    "\n",
    "results_avg = (\n",
    "    pd.DataFrame(results)\n",
    "    .groupby(['n', 'd', 'learner'], as_index=False)  \n",
    "    .agg({\n",
    "        'mse': np.mean,  \n",
    "        'time fitting': np.mean,\n",
    "        'time predicting': np.mean,\n",
    "    })\n",
    "    # mutate mse to rmse by taking sqrt\n",
    "    .assign(**{\n",
    "        'rmse': lambda df: np.sqrt(df['mse']),\n",
    "        'rate': lambda df: df.n**(-1/3) * np.log(df.n)**(2*(df.d-1)/3),\n",
    "        'relative_rmse': lambda df: df.rmse / df.rate,\n",
    "    })\n",
    "    .sort_values(by=['learner', 'd', 'n'], ascending=[True, True, True])\n",
    ")\n",
    "\n",
    "import altair as alt\n",
    "import altair_saver as saver\n",
    "\n",
    "plot = alt.Chart(results_avg).mark_line().encode(\n",
    "    x='n:Q',\n",
    "    y=alt.Y('relative_rmse:Q', scale=alt.Scale(zero=False), title='Rate-Scaled RMSE'),\n",
    "    # color='learner',\n",
    "    # row='d'\n",
    ").resolve_scale(\n",
    "    y='independent'\n",
    ").properties(\n",
    "    width=800,  # Set the chart wider\n",
    "    height=300  # Set the chart narrower\n",
    ").configure_axis(\n",
    "    labelFontSize=14,\n",
    "    titleFontSize=16\n",
    ").configure_legend(\n",
    "    labelFontSize=14,\n",
    "    titleFontSize=16\n",
    ").configure_title(\n",
    "    fontSize=18\n",
    ")\n",
    "plot\n",
    "\n",
    "plot.save('results/plots/convergence.pdf')"
   ]
  },
  {
   "cell_type": "markdown",
   "id": "a0b14ee3",
   "metadata": {},
   "source": [
    "# Dimension Experiments"
   ]
  },
  {
   "cell_type": "code",
   "execution_count": 33,
   "id": "90f759eb",
   "metadata": {},
   "outputs": [
    {
     "data": {
      "text/plain": [
       "HighlyAdaptiveRidge: {'depth': array([[0.88788436, 0.65382304, 0.8205276 , ..., 0.01666537, 0.96007135,\n",
       "        0.07163804],\n",
       "       [0.83411064, 0.00130576, 0.90138635, ..., 0.43242943, 0.07302692,\n",
       "        0.49883272],\n",
       "       [0.74242175, 0.27839354, 0.07083517, ..., 0.25567212, 0.01823056,\n",
       "        0.15984818],\n",
       "       ...,\n",
       "       [0.18862626, 0.45658028, 0.27621575, ..., 0.45298265, 0.39164189,\n",
       "        0.78288198],\n",
       "       [0.17333797, 0.85298253, 0.92603183, ..., 0.5253794 , 0.14810314,\n",
       "        0.275442  ],\n",
       "       [0.30020353, 0.29341873, 0.64938508, ..., 0.89014852, 0.52988017,\n",
       "        0.31619236]]), 'order': 0}"
      ]
     },
     "execution_count": null,
     "metadata": {},
     "output_type": "execute_result"
    }
   ],
   "source": [
    "K"
   ]
  },
  {
   "cell_type": "code",
   "execution_count": 51,
   "id": "c00b4277",
   "metadata": {},
   "outputs": [],
   "source": [
    "def generate_low_rank_matrix(n, d, rank=5):\n",
    "    # Generate two random matrices\n",
    "    A = np.random.rand(n, rank)  # n x rank matrix\n",
    "    B = np.random.rand(rank, d)  # rank x d matrix\n",
    "    \n",
    "    # Matrix multiplication to generate a low-rank matrix\n",
    "    low_rank_matrix = np.dot(A, B)\n",
    "    \n",
    "    return low_rank_matrix\n",
    "\n",
    "# Example usage\n",
    "n = 100  # number of rows\n",
    "d = 50   # number of columns\n",
    "low_rank_matrix = generate_low_rank_matrix(n, d, rank=5)"
   ]
  },
  {
   "cell_type": "code",
   "execution_count": 75,
   "id": "21f087c4",
   "metadata": {},
   "outputs": [
    {
     "data": {
      "text/html": [
       "\n",
       "<style>\n",
       "  #altair-viz-19aa8463030c47419e11714edfab5669.vega-embed {\n",
       "    width: 100%;\n",
       "    display: flex;\n",
       "  }\n",
       "\n",
       "  #altair-viz-19aa8463030c47419e11714edfab5669.vega-embed details,\n",
       "  #altair-viz-19aa8463030c47419e11714edfab5669.vega-embed details summary {\n",
       "    position: relative;\n",
       "  }\n",
       "</style>\n",
       "<div id=\"altair-viz-19aa8463030c47419e11714edfab5669\"></div>\n",
       "<script type=\"text/javascript\">\n",
       "  var VEGA_DEBUG = (typeof VEGA_DEBUG == \"undefined\") ? {} : VEGA_DEBUG;\n",
       "  (function(spec, embedOpt){\n",
       "    let outputDiv = document.currentScript.previousElementSibling;\n",
       "    if (outputDiv.id !== \"altair-viz-19aa8463030c47419e11714edfab5669\") {\n",
       "      outputDiv = document.getElementById(\"altair-viz-19aa8463030c47419e11714edfab5669\");\n",
       "    }\n",
       "    const paths = {\n",
       "      \"vega\": \"https://cdn.jsdelivr.net/npm/vega@5?noext\",\n",
       "      \"vega-lib\": \"https://cdn.jsdelivr.net/npm/vega-lib?noext\",\n",
       "      \"vega-lite\": \"https://cdn.jsdelivr.net/npm/vega-lite@5.20.1?noext\",\n",
       "      \"vega-embed\": \"https://cdn.jsdelivr.net/npm/vega-embed@6?noext\",\n",
       "    };\n",
       "\n",
       "    function maybeLoadScript(lib, version) {\n",
       "      var key = `${lib.replace(\"-\", \"\")}_version`;\n",
       "      return (VEGA_DEBUG[key] == version) ?\n",
       "        Promise.resolve(paths[lib]) :\n",
       "        new Promise(function(resolve, reject) {\n",
       "          var s = document.createElement('script');\n",
       "          document.getElementsByTagName(\"head\")[0].appendChild(s);\n",
       "          s.async = true;\n",
       "          s.onload = () => {\n",
       "            VEGA_DEBUG[key] = version;\n",
       "            return resolve(paths[lib]);\n",
       "          };\n",
       "          s.onerror = () => reject(`Error loading script: ${paths[lib]}`);\n",
       "          s.src = paths[lib];\n",
       "        });\n",
       "    }\n",
       "\n",
       "    function showError(err) {\n",
       "      outputDiv.innerHTML = `<div class=\"error\" style=\"color:red;\">${err}</div>`;\n",
       "      throw err;\n",
       "    }\n",
       "\n",
       "    function displayChart(vegaEmbed) {\n",
       "      vegaEmbed(outputDiv, spec, embedOpt)\n",
       "        .catch(err => showError(`Javascript Error: ${err.message}<br>This usually means there's a typo in your chart specification. See the javascript console for the full traceback.`));\n",
       "    }\n",
       "\n",
       "    if(typeof define === \"function\" && define.amd) {\n",
       "      requirejs.config({paths});\n",
       "      require([\"vega-embed\"], displayChart, err => showError(`Error loading script: ${err.message}`));\n",
       "    } else {\n",
       "      maybeLoadScript(\"vega\", \"5\")\n",
       "        .then(() => maybeLoadScript(\"vega-lite\", \"5.20.1\"))\n",
       "        .then(() => maybeLoadScript(\"vega-embed\", \"6\"))\n",
       "        .catch(showError)\n",
       "        .then(() => displayChart(vegaEmbed));\n",
       "    }\n",
       "  })({\"config\": {\"view\": {\"continuousWidth\": 300, \"continuousHeight\": 300}}, \"data\": {\"name\": \"data-4f739383ad3ce883d8ad00bb422d61bd\"}, \"mark\": {\"type\": \"bar\"}, \"encoding\": {\"x\": {\"bin\": true, \"field\": \"Eigenvalues (Log Scale)\", \"type\": \"quantitative\"}, \"y\": {\"aggregate\": \"count\", \"type\": \"quantitative\"}}, \"title\": \"Histogram of Eigenvalues (Log Scale)\", \"$schema\": \"https://vega.github.io/schema/vega-lite/v5.20.1.json\", \"datasets\": {\"data-4f739383ad3ce883d8ad00bb422d61bd\": [{\"Eigenvalues (Log Scale)\": 27.067924969684515}, {\"Eigenvalues (Log Scale)\": 25.21844504296705}, {\"Eigenvalues (Log Scale)\": 23.88509218073112}, {\"Eigenvalues (Log Scale)\": 23.812175758185607}, {\"Eigenvalues (Log Scale)\": 23.615805461629442}, {\"Eigenvalues (Log Scale)\": 22.976065436784964}, {\"Eigenvalues (Log Scale)\": 22.881163419125105}, {\"Eigenvalues (Log Scale)\": 22.807952247362174}, {\"Eigenvalues (Log Scale)\": 22.673562980262027}, {\"Eigenvalues (Log Scale)\": 22.45716844276516}, {\"Eigenvalues (Log Scale)\": 22.286130020964308}, {\"Eigenvalues (Log Scale)\": 22.13651399113495}, {\"Eigenvalues (Log Scale)\": 22.103279694375775}, {\"Eigenvalues (Log Scale)\": 22.02081525664026}, {\"Eigenvalues (Log Scale)\": 21.924632339522717}, {\"Eigenvalues (Log Scale)\": 21.764486872835473}, {\"Eigenvalues (Log Scale)\": 21.741885559902848}, {\"Eigenvalues (Log Scale)\": 21.6255918928707}, {\"Eigenvalues (Log Scale)\": 21.515748133230012}, {\"Eigenvalues (Log Scale)\": 21.500550769048672}, {\"Eigenvalues (Log Scale)\": 21.432591985518936}, {\"Eigenvalues (Log Scale)\": 21.32845394260204}, {\"Eigenvalues (Log Scale)\": 21.300561606518276}, {\"Eigenvalues (Log Scale)\": 21.261767395391832}, {\"Eigenvalues (Log Scale)\": 21.18450396312963}, {\"Eigenvalues (Log Scale)\": 21.153090144352273}, {\"Eigenvalues (Log Scale)\": 21.126786952981956}, {\"Eigenvalues (Log Scale)\": 21.103226364953034}, {\"Eigenvalues (Log Scale)\": 21.066547768137923}, {\"Eigenvalues (Log Scale)\": 20.99247744241265}, {\"Eigenvalues (Log Scale)\": 20.995030865300485}, {\"Eigenvalues (Log Scale)\": 20.934578817607534}, {\"Eigenvalues (Log Scale)\": 20.8959981289888}, {\"Eigenvalues (Log Scale)\": 20.87494335137193}, {\"Eigenvalues (Log Scale)\": 20.82898383727031}, {\"Eigenvalues (Log Scale)\": 20.807624812050708}, {\"Eigenvalues (Log Scale)\": 20.782537118048715}, {\"Eigenvalues (Log Scale)\": 20.748498689567466}, {\"Eigenvalues (Log Scale)\": 20.733713516112914}, {\"Eigenvalues (Log Scale)\": 20.704255492053047}, {\"Eigenvalues (Log Scale)\": 20.66826173658394}, {\"Eigenvalues (Log Scale)\": 20.64971964667153}, {\"Eigenvalues (Log Scale)\": 20.62045568442136}, {\"Eigenvalues (Log Scale)\": 20.595489498993796}, {\"Eigenvalues (Log Scale)\": 20.589472881836297}, {\"Eigenvalues (Log Scale)\": 20.56234746101032}, {\"Eigenvalues (Log Scale)\": 20.536307474667378}, {\"Eigenvalues (Log Scale)\": 20.50340960755887}, {\"Eigenvalues (Log Scale)\": 20.4579314695443}, {\"Eigenvalues (Log Scale)\": 20.456104154974344}, {\"Eigenvalues (Log Scale)\": 20.4384270347367}, {\"Eigenvalues (Log Scale)\": 20.4180923615786}, {\"Eigenvalues (Log Scale)\": 20.409203299906405}, {\"Eigenvalues (Log Scale)\": 20.38721817344126}, {\"Eigenvalues (Log Scale)\": 20.362615859207057}, {\"Eigenvalues (Log Scale)\": 20.345236368002464}, {\"Eigenvalues (Log Scale)\": 20.326051087407677}, {\"Eigenvalues (Log Scale)\": 20.299954706415324}, {\"Eigenvalues (Log Scale)\": 20.296260340986347}, {\"Eigenvalues (Log Scale)\": 20.26387448268953}, {\"Eigenvalues (Log Scale)\": 20.244028462268837}, {\"Eigenvalues (Log Scale)\": 20.219567435452095}, {\"Eigenvalues (Log Scale)\": 20.20943922111423}, {\"Eigenvalues (Log Scale)\": 20.18863628579966}, {\"Eigenvalues (Log Scale)\": 20.177871396122434}, {\"Eigenvalues (Log Scale)\": 20.16172860347804}, {\"Eigenvalues (Log Scale)\": 20.13995244943974}, {\"Eigenvalues (Log Scale)\": 20.131513398159793}, {\"Eigenvalues (Log Scale)\": 20.118157871130325}, {\"Eigenvalues (Log Scale)\": 20.10744017592517}, {\"Eigenvalues (Log Scale)\": 20.081883687678893}, {\"Eigenvalues (Log Scale)\": 20.075734929580605}, {\"Eigenvalues (Log Scale)\": 20.057511664590724}, {\"Eigenvalues (Log Scale)\": 20.034021580620596}, {\"Eigenvalues (Log Scale)\": 20.035424981733616}, {\"Eigenvalues (Log Scale)\": 20.01920025997279}, {\"Eigenvalues (Log Scale)\": 20.000794326000772}, {\"Eigenvalues (Log Scale)\": 19.99480425047626}, {\"Eigenvalues (Log Scale)\": 19.97819995440297}, {\"Eigenvalues (Log Scale)\": 19.969904668024707}, {\"Eigenvalues (Log Scale)\": 19.961837107410627}, {\"Eigenvalues (Log Scale)\": 19.959512866062603}, {\"Eigenvalues (Log Scale)\": 19.90532763813502}, {\"Eigenvalues (Log Scale)\": 19.93364858449749}, {\"Eigenvalues (Log Scale)\": 19.925002120055336}, {\"Eigenvalues (Log Scale)\": 19.906238266581617}, {\"Eigenvalues (Log Scale)\": 19.890422243991768}, {\"Eigenvalues (Log Scale)\": 19.884452551925033}, {\"Eigenvalues (Log Scale)\": 19.875028648904003}, {\"Eigenvalues (Log Scale)\": 19.863579946431354}, {\"Eigenvalues (Log Scale)\": 19.841511564396924}, {\"Eigenvalues (Log Scale)\": 19.842732149581217}, {\"Eigenvalues (Log Scale)\": 19.829982343259893}, {\"Eigenvalues (Log Scale)\": 19.819368017457755}, {\"Eigenvalues (Log Scale)\": 19.80938205611603}, {\"Eigenvalues (Log Scale)\": 19.79403821235302}, {\"Eigenvalues (Log Scale)\": 19.76655770922395}, {\"Eigenvalues (Log Scale)\": 19.759783373993205}, {\"Eigenvalues (Log Scale)\": 19.753878850549416}, {\"Eigenvalues (Log Scale)\": 19.751182237800762}, {\"Eigenvalues (Log Scale)\": 19.741307813696984}, {\"Eigenvalues (Log Scale)\": 19.738517856103087}, {\"Eigenvalues (Log Scale)\": 19.734031005324056}, {\"Eigenvalues (Log Scale)\": 19.713375806728834}, {\"Eigenvalues (Log Scale)\": 19.707674514005653}, {\"Eigenvalues (Log Scale)\": 19.69740220237924}, {\"Eigenvalues (Log Scale)\": 19.680844092159685}, {\"Eigenvalues (Log Scale)\": 19.677807796738737}, {\"Eigenvalues (Log Scale)\": 19.658824925812663}, {\"Eigenvalues (Log Scale)\": 19.648175100255504}, {\"Eigenvalues (Log Scale)\": 19.642313457059196}, {\"Eigenvalues (Log Scale)\": 15.304040718053114}, {\"Eigenvalues (Log Scale)\": 15.909094395878546}, {\"Eigenvalues (Log Scale)\": 19.626446562549834}, {\"Eigenvalues (Log Scale)\": 19.607311141011355}, {\"Eigenvalues (Log Scale)\": 19.597704852638422}, {\"Eigenvalues (Log Scale)\": 19.58432334890323}, {\"Eigenvalues (Log Scale)\": 19.572675373282483}, {\"Eigenvalues (Log Scale)\": 19.56575275904663}, {\"Eigenvalues (Log Scale)\": 19.554416449671532}, {\"Eigenvalues (Log Scale)\": 19.54173492419846}, {\"Eigenvalues (Log Scale)\": 19.53515433019277}, {\"Eigenvalues (Log Scale)\": 19.52463011103922}, {\"Eigenvalues (Log Scale)\": 19.519681650603548}, {\"Eigenvalues (Log Scale)\": 19.511943988515274}, {\"Eigenvalues (Log Scale)\": 19.497163401870726}, {\"Eigenvalues (Log Scale)\": 19.48596087905282}, {\"Eigenvalues (Log Scale)\": 19.482158977651185}, {\"Eigenvalues (Log Scale)\": 19.43911601726969}, {\"Eigenvalues (Log Scale)\": 19.46672064250773}, {\"Eigenvalues (Log Scale)\": 19.4582735802476}, {\"Eigenvalues (Log Scale)\": 19.452063839037883}, {\"Eigenvalues (Log Scale)\": 14.941582505940135}, {\"Eigenvalues (Log Scale)\": 16.14460285436836}, {\"Eigenvalues (Log Scale)\": 16.238660839535044}, {\"Eigenvalues (Log Scale)\": 19.43092356522315}, {\"Eigenvalues (Log Scale)\": 19.426167417072712}, {\"Eigenvalues (Log Scale)\": 19.417443059342503}, {\"Eigenvalues (Log Scale)\": 19.410885857105722}, {\"Eigenvalues (Log Scale)\": 19.405059441513085}, {\"Eigenvalues (Log Scale)\": 19.394038952191462}, {\"Eigenvalues (Log Scale)\": 19.387693155073354}, {\"Eigenvalues (Log Scale)\": 19.37713387179238}, {\"Eigenvalues (Log Scale)\": 19.373671508092386}, {\"Eigenvalues (Log Scale)\": 19.36515197146306}, {\"Eigenvalues (Log Scale)\": 19.359209059199696}, {\"Eigenvalues (Log Scale)\": 19.346403516042162}, {\"Eigenvalues (Log Scale)\": 19.33856711729278}, {\"Eigenvalues (Log Scale)\": 19.32405114451681}, {\"Eigenvalues (Log Scale)\": 19.329605541177386}, {\"Eigenvalues (Log Scale)\": 19.331496623986}, {\"Eigenvalues (Log Scale)\": 16.518140731425838}, {\"Eigenvalues (Log Scale)\": 16.487074247643392}, {\"Eigenvalues (Log Scale)\": 16.584144420709954}, {\"Eigenvalues (Log Scale)\": 16.68564136011476}, {\"Eigenvalues (Log Scale)\": 16.791571733018863}, {\"Eigenvalues (Log Scale)\": 16.918614719909375}, {\"Eigenvalues (Log Scale)\": 16.86542522632632}, {\"Eigenvalues (Log Scale)\": 19.30216520606886}, {\"Eigenvalues (Log Scale)\": 19.299815626664515}, {\"Eigenvalues (Log Scale)\": 19.25868173774429}, {\"Eigenvalues (Log Scale)\": 19.269086254817108}, {\"Eigenvalues (Log Scale)\": 19.289921654119382}, {\"Eigenvalues (Log Scale)\": 19.284095344208463}, {\"Eigenvalues (Log Scale)\": 19.276752960227906}, {\"Eigenvalues (Log Scale)\": 16.965663644925883}, {\"Eigenvalues (Log Scale)\": 17.02892234718497}, {\"Eigenvalues (Log Scale)\": 17.079204131744632}, {\"Eigenvalues (Log Scale)\": 17.10590633240057}, {\"Eigenvalues (Log Scale)\": 17.112607230680496}, {\"Eigenvalues (Log Scale)\": 17.173571029191496}, {\"Eigenvalues (Log Scale)\": 17.193599992578527}, {\"Eigenvalues (Log Scale)\": 17.215438655242036}, {\"Eigenvalues (Log Scale)\": 19.24469504429189}, {\"Eigenvalues (Log Scale)\": 19.23757812764837}, {\"Eigenvalues (Log Scale)\": 19.232674986587853}, {\"Eigenvalues (Log Scale)\": 19.22292393770144}, {\"Eigenvalues (Log Scale)\": 19.215674861949786}, {\"Eigenvalues (Log Scale)\": 19.203984534952006}, {\"Eigenvalues (Log Scale)\": 19.19563997562915}, {\"Eigenvalues (Log Scale)\": 19.18999782265235}, {\"Eigenvalues (Log Scale)\": 19.184487030104172}, {\"Eigenvalues (Log Scale)\": 19.173041249144223}, {\"Eigenvalues (Log Scale)\": 19.17082147824523}, {\"Eigenvalues (Log Scale)\": 19.15781181024317}, {\"Eigenvalues (Log Scale)\": 19.149049815170404}, {\"Eigenvalues (Log Scale)\": 19.145982958693768}, {\"Eigenvalues (Log Scale)\": 19.138787699474733}, {\"Eigenvalues (Log Scale)\": 19.126140602471754}, {\"Eigenvalues (Log Scale)\": 17.26612920661332}, {\"Eigenvalues (Log Scale)\": 17.312025005617226}, {\"Eigenvalues (Log Scale)\": 17.348439002267224}, {\"Eigenvalues (Log Scale)\": 17.379201767834598}, {\"Eigenvalues (Log Scale)\": 17.40889987520148}, {\"Eigenvalues (Log Scale)\": 17.427768392583037}, {\"Eigenvalues (Log Scale)\": 17.443332803764502}, {\"Eigenvalues (Log Scale)\": 17.473498791623985}, {\"Eigenvalues (Log Scale)\": 17.515951033374915}, {\"Eigenvalues (Log Scale)\": 17.549480307582176}, {\"Eigenvalues (Log Scale)\": 17.56945682178574}, {\"Eigenvalues (Log Scale)\": 17.594077538540628}, {\"Eigenvalues (Log Scale)\": 17.61496396926867}, {\"Eigenvalues (Log Scale)\": 17.616477594339177}, {\"Eigenvalues (Log Scale)\": 17.66023808801061}, {\"Eigenvalues (Log Scale)\": 17.653771577681134}, {\"Eigenvalues (Log Scale)\": 17.67444077165335}, {\"Eigenvalues (Log Scale)\": 19.1208114543364}, {\"Eigenvalues (Log Scale)\": 19.109556810492048}, {\"Eigenvalues (Log Scale)\": 19.10722488777667}, {\"Eigenvalues (Log Scale)\": 19.102368064873076}, {\"Eigenvalues (Log Scale)\": 19.086937288778394}, {\"Eigenvalues (Log Scale)\": 19.08317049078114}, {\"Eigenvalues (Log Scale)\": 19.077299462800394}, {\"Eigenvalues (Log Scale)\": 19.07242280917785}, {\"Eigenvalues (Log Scale)\": 19.059043864298065}, {\"Eigenvalues (Log Scale)\": 19.047298233691944}, {\"Eigenvalues (Log Scale)\": 19.03530497315744}, {\"Eigenvalues (Log Scale)\": 19.009874461741447}, {\"Eigenvalues (Log Scale)\": 19.019291078983915}, {\"Eigenvalues (Log Scale)\": 19.022902589755724}, {\"Eigenvalues (Log Scale)\": 19.026650843313064}, {\"Eigenvalues (Log Scale)\": 19.004543790922835}, {\"Eigenvalues (Log Scale)\": 18.991619870875134}, {\"Eigenvalues (Log Scale)\": 17.735195238376956}, {\"Eigenvalues (Log Scale)\": 17.70121205656673}, {\"Eigenvalues (Log Scale)\": 17.705038324776876}, {\"Eigenvalues (Log Scale)\": 17.717424082462045}, {\"Eigenvalues (Log Scale)\": 17.751730065106845}, {\"Eigenvalues (Log Scale)\": 17.772763987948316}, {\"Eigenvalues (Log Scale)\": 17.78559417870124}, {\"Eigenvalues (Log Scale)\": 18.985557978079726}, {\"Eigenvalues (Log Scale)\": 18.970741276760293}, {\"Eigenvalues (Log Scale)\": 18.968994712310202}, {\"Eigenvalues (Log Scale)\": 18.978974960434552}, {\"Eigenvalues (Log Scale)\": 18.960250707446868}, {\"Eigenvalues (Log Scale)\": 18.904598818200213}, {\"Eigenvalues (Log Scale)\": 18.915977857132162}, {\"Eigenvalues (Log Scale)\": 18.91902896256026}, {\"Eigenvalues (Log Scale)\": 18.936827847035918}, {\"Eigenvalues (Log Scale)\": 18.94242138409499}, {\"Eigenvalues (Log Scale)\": 18.93339363084187}, {\"Eigenvalues (Log Scale)\": 17.807678429546073}, {\"Eigenvalues (Log Scale)\": 17.818505827225284}, {\"Eigenvalues (Log Scale)\": 17.83985186116275}, {\"Eigenvalues (Log Scale)\": 17.867815314664043}, {\"Eigenvalues (Log Scale)\": 17.875562596442794}, {\"Eigenvalues (Log Scale)\": 17.921919173501646}, {\"Eigenvalues (Log Scale)\": 17.84667002860308}, {\"Eigenvalues (Log Scale)\": 17.849357803755044}, {\"Eigenvalues (Log Scale)\": 18.89254539324804}, {\"Eigenvalues (Log Scale)\": 18.882927919659647}, {\"Eigenvalues (Log Scale)\": 18.886568233987838}, {\"Eigenvalues (Log Scale)\": 18.876517742400125}, {\"Eigenvalues (Log Scale)\": 18.862898642132816}, {\"Eigenvalues (Log Scale)\": 18.85904678693852}, {\"Eigenvalues (Log Scale)\": 18.848193272192766}, {\"Eigenvalues (Log Scale)\": 18.845432937085874}, {\"Eigenvalues (Log Scale)\": 18.79561845842861}, {\"Eigenvalues (Log Scale)\": 18.8074524560855}, {\"Eigenvalues (Log Scale)\": 18.813363933120993}, {\"Eigenvalues (Log Scale)\": 18.821704166332353}, {\"Eigenvalues (Log Scale)\": 18.83123065935718}, {\"Eigenvalues (Log Scale)\": 17.896535203518585}, {\"Eigenvalues (Log Scale)\": 17.94074801536391}, {\"Eigenvalues (Log Scale)\": 17.961397780707625}, {\"Eigenvalues (Log Scale)\": 18.070637028568576}, {\"Eigenvalues (Log Scale)\": 18.06116299265593}, {\"Eigenvalues (Log Scale)\": 17.98024177184878}, {\"Eigenvalues (Log Scale)\": 17.985748267950257}, {\"Eigenvalues (Log Scale)\": 17.99233383738091}, {\"Eigenvalues (Log Scale)\": 18.00575230793164}, {\"Eigenvalues (Log Scale)\": 18.022595482398206}, {\"Eigenvalues (Log Scale)\": 18.0310693767321}, {\"Eigenvalues (Log Scale)\": 18.039187842570655}, {\"Eigenvalues (Log Scale)\": 18.09457058045137}, {\"Eigenvalues (Log Scale)\": 18.756706540994205}, {\"Eigenvalues (Log Scale)\": 18.764281533906644}, {\"Eigenvalues (Log Scale)\": 18.77503224861282}, {\"Eigenvalues (Log Scale)\": 18.787025291367744}, {\"Eigenvalues (Log Scale)\": 18.788957683536772}, {\"Eigenvalues (Log Scale)\": 18.10242979205007}, {\"Eigenvalues (Log Scale)\": 18.11214885292819}, {\"Eigenvalues (Log Scale)\": 18.125615245611506}, {\"Eigenvalues (Log Scale)\": 18.73001810638291}, {\"Eigenvalues (Log Scale)\": 18.712184498151025}, {\"Eigenvalues (Log Scale)\": 18.718767398390767}, {\"Eigenvalues (Log Scale)\": 18.74191409494244}, {\"Eigenvalues (Log Scale)\": 18.74509607931464}, {\"Eigenvalues (Log Scale)\": 18.148496751199545}, {\"Eigenvalues (Log Scale)\": 18.139702005392962}, {\"Eigenvalues (Log Scale)\": 18.186045282690213}, {\"Eigenvalues (Log Scale)\": 18.208758367076708}, {\"Eigenvalues (Log Scale)\": 18.21411635130841}, {\"Eigenvalues (Log Scale)\": 18.17162383848174}, {\"Eigenvalues (Log Scale)\": 18.173245273599555}, {\"Eigenvalues (Log Scale)\": 18.617682099474926}, {\"Eigenvalues (Log Scale)\": 18.633399531012913}, {\"Eigenvalues (Log Scale)\": 18.642512998819086}, {\"Eigenvalues (Log Scale)\": 18.705009860384312}, {\"Eigenvalues (Log Scale)\": 18.691721551921084}, {\"Eigenvalues (Log Scale)\": 18.683690656474106}, {\"Eigenvalues (Log Scale)\": 18.70069849242353}, {\"Eigenvalues (Log Scale)\": 18.67190426685959}, {\"Eigenvalues (Log Scale)\": 18.675061703346472}, {\"Eigenvalues (Log Scale)\": 18.65370799596637}, {\"Eigenvalues (Log Scale)\": 18.60710808536763}, {\"Eigenvalues (Log Scale)\": 18.59303441330676}, {\"Eigenvalues (Log Scale)\": 18.572496442544107}, {\"Eigenvalues (Log Scale)\": 18.55477011281953}, {\"Eigenvalues (Log Scale)\": 18.551415466704135}, {\"Eigenvalues (Log Scale)\": 18.485972668482745}, {\"Eigenvalues (Log Scale)\": 18.476851376487986}, {\"Eigenvalues (Log Scale)\": 18.45366127592067}, {\"Eigenvalues (Log Scale)\": 18.13502781684007}, {\"Eigenvalues (Log Scale)\": 18.229491394747903}, {\"Eigenvalues (Log Scale)\": 18.241735855612845}, {\"Eigenvalues (Log Scale)\": 18.25073591679068}, {\"Eigenvalues (Log Scale)\": 18.293546915557275}, {\"Eigenvalues (Log Scale)\": 18.284360537735516}, {\"Eigenvalues (Log Scale)\": 18.273832641024637}, {\"Eigenvalues (Log Scale)\": 18.628749740542634}, {\"Eigenvalues (Log Scale)\": 18.260597303423857}, {\"Eigenvalues (Log Scale)\": 18.585599707850452}, {\"Eigenvalues (Log Scale)\": 18.314828855170497}, {\"Eigenvalues (Log Scale)\": 18.309810756670966}, {\"Eigenvalues (Log Scale)\": 18.328559435667373}, {\"Eigenvalues (Log Scale)\": 18.444422915569024}, {\"Eigenvalues (Log Scale)\": 18.36819382967615}, {\"Eigenvalues (Log Scale)\": 18.394551282450728}, {\"Eigenvalues (Log Scale)\": 18.46346662053934}, {\"Eigenvalues (Log Scale)\": 18.504001780795935}, {\"Eigenvalues (Log Scale)\": 18.563419482580446}, {\"Eigenvalues (Log Scale)\": 18.533916043812074}, {\"Eigenvalues (Log Scale)\": 18.529560753050482}, {\"Eigenvalues (Log Scale)\": 18.51211442117362}, {\"Eigenvalues (Log Scale)\": 18.517086824751345}, {\"Eigenvalues (Log Scale)\": 18.599385132276264}, {\"Eigenvalues (Log Scale)\": 18.498530580621615}, {\"Eigenvalues (Log Scale)\": 18.267600999589817}, {\"Eigenvalues (Log Scale)\": 18.3238151029018}, {\"Eigenvalues (Log Scale)\": 18.38379259171571}, {\"Eigenvalues (Log Scale)\": 18.42349880583868}, {\"Eigenvalues (Log Scale)\": 18.43165841604012}, {\"Eigenvalues (Log Scale)\": 18.418723462113775}, {\"Eigenvalues (Log Scale)\": 18.434674984135427}, {\"Eigenvalues (Log Scale)\": 18.391907329235995}, {\"Eigenvalues (Log Scale)\": 18.359784447569798}, {\"Eigenvalues (Log Scale)\": 18.362236031321828}, {\"Eigenvalues (Log Scale)\": 18.344872495375615}, {\"Eigenvalues (Log Scale)\": 18.348073817579678}]}}, {\"mode\": \"vega-lite\"});\n",
       "</script>"
      ],
      "text/plain": [
       "alt.Chart(...)"
      ]
     },
     "execution_count": null,
     "metadata": {},
     "output_type": "execute_result"
    }
   ],
   "source": [
    "n = 350\n",
    "d = 25\n",
    "# X = np.random.uniform(size=(n,d))\n",
    "X = generate_low_rank_matrix(n, d, rank=5)\n",
    "\n",
    "K = kernels.HighlyAdaptiveRidge()(X)\n",
    "eigenvalues = np.linalg.eigvals(K)\n",
    "\n",
    "# Prepare data for plotting\n",
    "eigenvalues_log = np.log(np.abs(eigenvalues))\n",
    "data = pd.DataFrame({\n",
    "    'Eigenvalues (Log Scale)': eigenvalues_log\n",
    "})\n",
    "\n",
    "# Create histogram using Altair\n",
    "hist = alt.Chart(data).mark_bar().encode(\n",
    "    alt.X(\"Eigenvalues (Log Scale):Q\", bin=True),\n",
    "    y='count()'\n",
    ").properties(\n",
    "    title='Histogram of Eigenvalues (Log Scale)'\n",
    ")\n",
    "\n",
    "# Display the plot\n",
    "hist"
   ]
  },
  {
   "cell_type": "code",
   "execution_count": 76,
   "id": "2fe13fc1",
   "metadata": {},
   "outputs": [
    {
     "data": {
      "text/html": [
       "\n",
       "<style>\n",
       "  #altair-viz-342b21b5ffd54e8da092294d7b916b99.vega-embed {\n",
       "    width: 100%;\n",
       "    display: flex;\n",
       "  }\n",
       "\n",
       "  #altair-viz-342b21b5ffd54e8da092294d7b916b99.vega-embed details,\n",
       "  #altair-viz-342b21b5ffd54e8da092294d7b916b99.vega-embed details summary {\n",
       "    position: relative;\n",
       "  }\n",
       "</style>\n",
       "<div id=\"altair-viz-342b21b5ffd54e8da092294d7b916b99\"></div>\n",
       "<script type=\"text/javascript\">\n",
       "  var VEGA_DEBUG = (typeof VEGA_DEBUG == \"undefined\") ? {} : VEGA_DEBUG;\n",
       "  (function(spec, embedOpt){\n",
       "    let outputDiv = document.currentScript.previousElementSibling;\n",
       "    if (outputDiv.id !== \"altair-viz-342b21b5ffd54e8da092294d7b916b99\") {\n",
       "      outputDiv = document.getElementById(\"altair-viz-342b21b5ffd54e8da092294d7b916b99\");\n",
       "    }\n",
       "    const paths = {\n",
       "      \"vega\": \"https://cdn.jsdelivr.net/npm/vega@5?noext\",\n",
       "      \"vega-lib\": \"https://cdn.jsdelivr.net/npm/vega-lib?noext\",\n",
       "      \"vega-lite\": \"https://cdn.jsdelivr.net/npm/vega-lite@5.20.1?noext\",\n",
       "      \"vega-embed\": \"https://cdn.jsdelivr.net/npm/vega-embed@6?noext\",\n",
       "    };\n",
       "\n",
       "    function maybeLoadScript(lib, version) {\n",
       "      var key = `${lib.replace(\"-\", \"\")}_version`;\n",
       "      return (VEGA_DEBUG[key] == version) ?\n",
       "        Promise.resolve(paths[lib]) :\n",
       "        new Promise(function(resolve, reject) {\n",
       "          var s = document.createElement('script');\n",
       "          document.getElementsByTagName(\"head\")[0].appendChild(s);\n",
       "          s.async = true;\n",
       "          s.onload = () => {\n",
       "            VEGA_DEBUG[key] = version;\n",
       "            return resolve(paths[lib]);\n",
       "          };\n",
       "          s.onerror = () => reject(`Error loading script: ${paths[lib]}`);\n",
       "          s.src = paths[lib];\n",
       "        });\n",
       "    }\n",
       "\n",
       "    function showError(err) {\n",
       "      outputDiv.innerHTML = `<div class=\"error\" style=\"color:red;\">${err}</div>`;\n",
       "      throw err;\n",
       "    }\n",
       "\n",
       "    function displayChart(vegaEmbed) {\n",
       "      vegaEmbed(outputDiv, spec, embedOpt)\n",
       "        .catch(err => showError(`Javascript Error: ${err.message}<br>This usually means there's a typo in your chart specification. See the javascript console for the full traceback.`));\n",
       "    }\n",
       "\n",
       "    if(typeof define === \"function\" && define.amd) {\n",
       "      requirejs.config({paths});\n",
       "      require([\"vega-embed\"], displayChart, err => showError(`Error loading script: ${err.message}`));\n",
       "    } else {\n",
       "      maybeLoadScript(\"vega\", \"5\")\n",
       "        .then(() => maybeLoadScript(\"vega-lite\", \"5.20.1\"))\n",
       "        .then(() => maybeLoadScript(\"vega-embed\", \"6\"))\n",
       "        .catch(showError)\n",
       "        .then(() => displayChart(vegaEmbed));\n",
       "    }\n",
       "  })({\"config\": {\"view\": {\"continuousWidth\": 300, \"continuousHeight\": 300}}, \"data\": {\"name\": \"data-bd2050b26f0c81ddb4756fefce5964e3\"}, \"mark\": {\"type\": \"bar\"}, \"encoding\": {\"x\": {\"bin\": true, \"field\": \"Eigenvalues (Log Scale)\", \"type\": \"quantitative\"}, \"y\": {\"aggregate\": \"count\", \"type\": \"quantitative\"}}, \"title\": \"Histogram of Eigenvalues (Log Scale)\", \"$schema\": \"https://vega.github.io/schema/vega-lite/v5.20.1.json\", \"datasets\": {\"data-bd2050b26f0c81ddb4756fefce5964e3\": [{\"Eigenvalues (Log Scale)\": 1.5368999647134243}, {\"Eigenvalues (Log Scale)\": 1.4802691443249312}, {\"Eigenvalues (Log Scale)\": 1.405303318939005}, {\"Eigenvalues (Log Scale)\": 1.3696705538401994}, {\"Eigenvalues (Log Scale)\": 1.2861536285470048}, {\"Eigenvalues (Log Scale)\": 1.2417717402108068}, {\"Eigenvalues (Log Scale)\": 1.1455955645403555}, {\"Eigenvalues (Log Scale)\": 1.1269536987765936}, {\"Eigenvalues (Log Scale)\": 1.0991724052309397}, {\"Eigenvalues (Log Scale)\": 1.0735056340453173}, {\"Eigenvalues (Log Scale)\": 1.0387854189002592}, {\"Eigenvalues (Log Scale)\": 1.0402709792161242}, {\"Eigenvalues (Log Scale)\": 1.012064235874352}, {\"Eigenvalues (Log Scale)\": 0.9993321577585502}, {\"Eigenvalues (Log Scale)\": 0.9759561491135539}, {\"Eigenvalues (Log Scale)\": 0.9635179092075118}, {\"Eigenvalues (Log Scale)\": 0.952537904009876}, {\"Eigenvalues (Log Scale)\": 0.9221262014980854}, {\"Eigenvalues (Log Scale)\": 0.8842251494150671}, {\"Eigenvalues (Log Scale)\": 0.8665713436175894}, {\"Eigenvalues (Log Scale)\": 0.8569830043497536}, {\"Eigenvalues (Log Scale)\": 0.8403612004141146}, {\"Eigenvalues (Log Scale)\": 0.8369260407594491}, {\"Eigenvalues (Log Scale)\": 0.8293910134659507}, {\"Eigenvalues (Log Scale)\": 0.8176787607344544}, {\"Eigenvalues (Log Scale)\": 0.7942465017007756}, {\"Eigenvalues (Log Scale)\": 0.796055195365411}, {\"Eigenvalues (Log Scale)\": 0.7755959737300383}, {\"Eigenvalues (Log Scale)\": 0.7654385965350821}, {\"Eigenvalues (Log Scale)\": 0.7572022483513858}, {\"Eigenvalues (Log Scale)\": 0.7457289219839928}, {\"Eigenvalues (Log Scale)\": 0.7166244406447435}, {\"Eigenvalues (Log Scale)\": 0.7084835918560136}, {\"Eigenvalues (Log Scale)\": 0.7050411253726945}, {\"Eigenvalues (Log Scale)\": 0.7005183564988835}, {\"Eigenvalues (Log Scale)\": 0.6964841175899327}, {\"Eigenvalues (Log Scale)\": 0.6795702623744181}, {\"Eigenvalues (Log Scale)\": 0.6596214334015467}, {\"Eigenvalues (Log Scale)\": 0.6542492626930737}, {\"Eigenvalues (Log Scale)\": 0.6423315181564047}, {\"Eigenvalues (Log Scale)\": 0.6395073917472842}, {\"Eigenvalues (Log Scale)\": 0.6306222741586652}, {\"Eigenvalues (Log Scale)\": 0.6243961338785978}, {\"Eigenvalues (Log Scale)\": 0.616720816071304}, {\"Eigenvalues (Log Scale)\": 0.5990063405262107}, {\"Eigenvalues (Log Scale)\": 0.5808751891775888}, {\"Eigenvalues (Log Scale)\": 0.5649861064292514}, {\"Eigenvalues (Log Scale)\": 0.5544949348030768}, {\"Eigenvalues (Log Scale)\": 0.5427916541925386}, {\"Eigenvalues (Log Scale)\": 0.5351478862958942}, {\"Eigenvalues (Log Scale)\": 0.531754975791249}, {\"Eigenvalues (Log Scale)\": 0.5260997097892215}, {\"Eigenvalues (Log Scale)\": 0.5066259907809669}, {\"Eigenvalues (Log Scale)\": 0.5025913041349016}, {\"Eigenvalues (Log Scale)\": 0.480805720576326}, {\"Eigenvalues (Log Scale)\": 0.49221918830012107}, {\"Eigenvalues (Log Scale)\": 0.4873084150969615}, {\"Eigenvalues (Log Scale)\": -3.1772884756679494}, {\"Eigenvalues (Log Scale)\": -2.9499153716376005}, {\"Eigenvalues (Log Scale)\": -2.4939605680321995}, {\"Eigenvalues (Log Scale)\": -2.374924471205091}, {\"Eigenvalues (Log Scale)\": -2.269610698234678}, {\"Eigenvalues (Log Scale)\": -2.2793148851265808}, {\"Eigenvalues (Log Scale)\": -2.1811443363743184}, {\"Eigenvalues (Log Scale)\": -2.1319471331734126}, {\"Eigenvalues (Log Scale)\": -1.8879869672453515}, {\"Eigenvalues (Log Scale)\": -1.9481748689144187}, {\"Eigenvalues (Log Scale)\": 0.46873715003943306}, {\"Eigenvalues (Log Scale)\": 0.45589915749159055}, {\"Eigenvalues (Log Scale)\": 0.4442028793882054}, {\"Eigenvalues (Log Scale)\": 0.438802282166709}, {\"Eigenvalues (Log Scale)\": 0.43076065385013995}, {\"Eigenvalues (Log Scale)\": 0.4157677980901283}, {\"Eigenvalues (Log Scale)\": 0.41832458332867567}, {\"Eigenvalues (Log Scale)\": 0.4186884978491709}, {\"Eigenvalues (Log Scale)\": 0.3933970608457033}, {\"Eigenvalues (Log Scale)\": 0.3805402855583496}, {\"Eigenvalues (Log Scale)\": 0.3700774968425773}, {\"Eigenvalues (Log Scale)\": 0.36569448940923877}, {\"Eigenvalues (Log Scale)\": 0.35610520960476194}, {\"Eigenvalues (Log Scale)\": 0.3524020928586462}, {\"Eigenvalues (Log Scale)\": 0.34499562934805544}, {\"Eigenvalues (Log Scale)\": 0.34667541742527613}, {\"Eigenvalues (Log Scale)\": 0.3328285352346705}, {\"Eigenvalues (Log Scale)\": 0.32265321901728305}, {\"Eigenvalues (Log Scale)\": -1.8843028215226372}, {\"Eigenvalues (Log Scale)\": -1.7905546449402656}, {\"Eigenvalues (Log Scale)\": -1.7213897943559766}, {\"Eigenvalues (Log Scale)\": -1.6806889761563568}, {\"Eigenvalues (Log Scale)\": -1.6660539340157403}, {\"Eigenvalues (Log Scale)\": -1.6257067495059137}, {\"Eigenvalues (Log Scale)\": -1.606788541503033}, {\"Eigenvalues (Log Scale)\": -1.5879358741881626}, {\"Eigenvalues (Log Scale)\": 0.31209554210088364}, {\"Eigenvalues (Log Scale)\": 0.29902484302951593}, {\"Eigenvalues (Log Scale)\": 0.2956316473466498}, {\"Eigenvalues (Log Scale)\": 0.28543405437779185}, {\"Eigenvalues (Log Scale)\": 0.2819935223933262}, {\"Eigenvalues (Log Scale)\": 0.2677410539771246}, {\"Eigenvalues (Log Scale)\": 0.26427193819484335}, {\"Eigenvalues (Log Scale)\": 0.26269302664377336}, {\"Eigenvalues (Log Scale)\": 0.2574355921520357}, {\"Eigenvalues (Log Scale)\": 0.25051120458210613}, {\"Eigenvalues (Log Scale)\": 0.24510232748728655}, {\"Eigenvalues (Log Scale)\": 0.23760168356265657}, {\"Eigenvalues (Log Scale)\": 0.2364416442284308}, {\"Eigenvalues (Log Scale)\": 0.22888146015664132}, {\"Eigenvalues (Log Scale)\": 0.2248506941512509}, {\"Eigenvalues (Log Scale)\": 0.2164985968087237}, {\"Eigenvalues (Log Scale)\": 0.21170260142392452}, {\"Eigenvalues (Log Scale)\": 0.21005196986899236}, {\"Eigenvalues (Log Scale)\": 0.20107354927484536}, {\"Eigenvalues (Log Scale)\": 0.19292518488233043}, {\"Eigenvalues (Log Scale)\": 0.18246571934629902}, {\"Eigenvalues (Log Scale)\": 0.17657631883084818}, {\"Eigenvalues (Log Scale)\": -1.513370356258562}, {\"Eigenvalues (Log Scale)\": -1.5054209899364026}, {\"Eigenvalues (Log Scale)\": -1.4999152373939901}, {\"Eigenvalues (Log Scale)\": -1.4611979538426154}, {\"Eigenvalues (Log Scale)\": -1.451870556227898}, {\"Eigenvalues (Log Scale)\": -1.4368549564756337}, {\"Eigenvalues (Log Scale)\": -1.4224782453065217}, {\"Eigenvalues (Log Scale)\": -1.3655315692778311}, {\"Eigenvalues (Log Scale)\": -1.3960515003738885}, {\"Eigenvalues (Log Scale)\": -1.38754486871113}, {\"Eigenvalues (Log Scale)\": -1.3801037112361196}, {\"Eigenvalues (Log Scale)\": 0.16405094187543176}, {\"Eigenvalues (Log Scale)\": 0.16156776452877153}, {\"Eigenvalues (Log Scale)\": 0.15104429263982638}, {\"Eigenvalues (Log Scale)\": 0.14873678794651596}, {\"Eigenvalues (Log Scale)\": 0.14176959671784278}, {\"Eigenvalues (Log Scale)\": -1.3318741204222833}, {\"Eigenvalues (Log Scale)\": -1.314567636334716}, {\"Eigenvalues (Log Scale)\": -1.3081971397092063}, {\"Eigenvalues (Log Scale)\": -1.294135817677582}, {\"Eigenvalues (Log Scale)\": -1.290300862196222}, {\"Eigenvalues (Log Scale)\": -1.2829174257568696}, {\"Eigenvalues (Log Scale)\": -1.2378361991905096}, {\"Eigenvalues (Log Scale)\": -1.243626996860852}, {\"Eigenvalues (Log Scale)\": -1.2696545740123}, {\"Eigenvalues (Log Scale)\": -1.2547949110135144}, {\"Eigenvalues (Log Scale)\": -1.2609557387280026}, {\"Eigenvalues (Log Scale)\": 0.1337197594866749}, {\"Eigenvalues (Log Scale)\": 0.1272733160311688}, {\"Eigenvalues (Log Scale)\": 0.11721910346452978}, {\"Eigenvalues (Log Scale)\": 0.11134977789987276}, {\"Eigenvalues (Log Scale)\": 0.10647935640878409}, {\"Eigenvalues (Log Scale)\": 0.10773092096586374}, {\"Eigenvalues (Log Scale)\": -1.229358274967333}, {\"Eigenvalues (Log Scale)\": -1.2094603006921945}, {\"Eigenvalues (Log Scale)\": -1.1893951346389384}, {\"Eigenvalues (Log Scale)\": -1.2001158213295797}, {\"Eigenvalues (Log Scale)\": -1.17899685487606}, {\"Eigenvalues (Log Scale)\": -1.1704119203607855}, {\"Eigenvalues (Log Scale)\": -1.1465259181982188}, {\"Eigenvalues (Log Scale)\": -1.1137409368577849}, {\"Eigenvalues (Log Scale)\": -1.1033553754898566}, {\"Eigenvalues (Log Scale)\": -1.1544647657928666}, {\"Eigenvalues (Log Scale)\": 0.09991422387730925}, {\"Eigenvalues (Log Scale)\": 0.09490588207643724}, {\"Eigenvalues (Log Scale)\": 0.09297274139182338}, {\"Eigenvalues (Log Scale)\": 0.08790707469154764}, {\"Eigenvalues (Log Scale)\": 0.052071000343172254}, {\"Eigenvalues (Log Scale)\": 0.060414508155065494}, {\"Eigenvalues (Log Scale)\": 0.07911797491934107}, {\"Eigenvalues (Log Scale)\": 0.07733187348617271}, {\"Eigenvalues (Log Scale)\": 0.06636340924434256}, {\"Eigenvalues (Log Scale)\": 0.06934031101216867}, {\"Eigenvalues (Log Scale)\": 0.07202621872489805}, {\"Eigenvalues (Log Scale)\": -0.9518344315113731}, {\"Eigenvalues (Log Scale)\": -0.9677890767731051}, {\"Eigenvalues (Log Scale)\": -1.0938199245663651}, {\"Eigenvalues (Log Scale)\": -1.0844204278138472}, {\"Eigenvalues (Log Scale)\": -0.9841472135036395}, {\"Eigenvalues (Log Scale)\": -0.9952957091038335}, {\"Eigenvalues (Log Scale)\": -1.0691066585825928}, {\"Eigenvalues (Log Scale)\": -1.0672074903142252}, {\"Eigenvalues (Log Scale)\": -1.0558029452853008}, {\"Eigenvalues (Log Scale)\": -1.0468862497314446}, {\"Eigenvalues (Log Scale)\": -1.02161702405048}, {\"Eigenvalues (Log Scale)\": -1.039027647971963}, {\"Eigenvalues (Log Scale)\": -1.029845463587887}, {\"Eigenvalues (Log Scale)\": -1.0285219458064976}, {\"Eigenvalues (Log Scale)\": 0.044250677840547516}, {\"Eigenvalues (Log Scale)\": 0.03997632703394788}, {\"Eigenvalues (Log Scale)\": -0.9295633628448503}, {\"Eigenvalues (Log Scale)\": -0.92092190220716}, {\"Eigenvalues (Log Scale)\": 0.030748073413804224}, {\"Eigenvalues (Log Scale)\": 0.023424875820316268}, {\"Eigenvalues (Log Scale)\": 0.026002722281152107}, {\"Eigenvalues (Log Scale)\": -0.903340660056431}, {\"Eigenvalues (Log Scale)\": -0.8904802580344283}, {\"Eigenvalues (Log Scale)\": -0.8942169115358104}, {\"Eigenvalues (Log Scale)\": -0.877152413395328}, {\"Eigenvalues (Log Scale)\": -0.8531201080500678}, {\"Eigenvalues (Log Scale)\": -0.8410927544842315}, {\"Eigenvalues (Log Scale)\": -0.8321353669078325}, {\"Eigenvalues (Log Scale)\": -0.8350891640018846}, {\"Eigenvalues (Log Scale)\": -0.8254017947300696}, {\"Eigenvalues (Log Scale)\": -0.8188154108866665}, {\"Eigenvalues (Log Scale)\": -0.8011039374849811}, {\"Eigenvalues (Log Scale)\": 0.01346585280252217}, {\"Eigenvalues (Log Scale)\": 0.011357533107044281}, {\"Eigenvalues (Log Scale)\": 0.010438201178999953}, {\"Eigenvalues (Log Scale)\": -0.0014400903002780622}, {\"Eigenvalues (Log Scale)\": -0.006005118531851789}, {\"Eigenvalues (Log Scale)\": 0.005015879961212341}, {\"Eigenvalues (Log Scale)\": 0.0052081591467247855}, {\"Eigenvalues (Log Scale)\": -0.012389927943961302}, {\"Eigenvalues (Log Scale)\": -0.014061322515866245}, {\"Eigenvalues (Log Scale)\": -0.01707110226162351}, {\"Eigenvalues (Log Scale)\": -0.782129732315361}, {\"Eigenvalues (Log Scale)\": -0.7743119069887016}, {\"Eigenvalues (Log Scale)\": -0.7669266571735945}, {\"Eigenvalues (Log Scale)\": -0.7573322778211867}, {\"Eigenvalues (Log Scale)\": -0.7532165182397095}, {\"Eigenvalues (Log Scale)\": -0.747488545012904}, {\"Eigenvalues (Log Scale)\": -0.7338995871556512}, {\"Eigenvalues (Log Scale)\": -0.7316090959493998}, {\"Eigenvalues (Log Scale)\": -0.7213828598179148}, {\"Eigenvalues (Log Scale)\": -0.7159505905213035}, {\"Eigenvalues (Log Scale)\": -0.7120415247658505}, {\"Eigenvalues (Log Scale)\": -0.015784466213747236}, {\"Eigenvalues (Log Scale)\": -0.021118908211974582}, {\"Eigenvalues (Log Scale)\": -0.02259148211604354}, {\"Eigenvalues (Log Scale)\": -0.03363190619500765}, {\"Eigenvalues (Log Scale)\": -0.03918194576369818}, {\"Eigenvalues (Log Scale)\": -0.03490650595971904}, {\"Eigenvalues (Log Scale)\": -0.04837699793126402}, {\"Eigenvalues (Log Scale)\": -0.05308954632948319}, {\"Eigenvalues (Log Scale)\": -0.07502483772925922}, {\"Eigenvalues (Log Scale)\": -0.07211347605485377}, {\"Eigenvalues (Log Scale)\": -0.06907644809241574}, {\"Eigenvalues (Log Scale)\": -0.057845824443340285}, {\"Eigenvalues (Log Scale)\": -0.061719589566363295}, {\"Eigenvalues (Log Scale)\": -0.06409025810675235}, {\"Eigenvalues (Log Scale)\": -0.03635448851020396}, {\"Eigenvalues (Log Scale)\": -0.08183782503140613}, {\"Eigenvalues (Log Scale)\": -0.07907600398481095}, {\"Eigenvalues (Log Scale)\": -0.6841860348367402}, {\"Eigenvalues (Log Scale)\": -0.6690978709447211}, {\"Eigenvalues (Log Scale)\": -0.6683089105021477}, {\"Eigenvalues (Log Scale)\": -0.680595227964614}, {\"Eigenvalues (Log Scale)\": -0.08868341308843997}, {\"Eigenvalues (Log Scale)\": -0.09330836294165225}, {\"Eigenvalues (Log Scale)\": -0.10419088155880755}, {\"Eigenvalues (Log Scale)\": -0.09861320138804001}, {\"Eigenvalues (Log Scale)\": -0.6616170541694205}, {\"Eigenvalues (Log Scale)\": -0.6544308784908927}, {\"Eigenvalues (Log Scale)\": -0.6427936063944294}, {\"Eigenvalues (Log Scale)\": -0.6379408299532952}, {\"Eigenvalues (Log Scale)\": -0.6389378578008161}, {\"Eigenvalues (Log Scale)\": -0.11208727656892761}, {\"Eigenvalues (Log Scale)\": -0.12274946918870758}, {\"Eigenvalues (Log Scale)\": -0.11805759588959393}, {\"Eigenvalues (Log Scale)\": -0.11431862706106709}, {\"Eigenvalues (Log Scale)\": -0.08706320836588206}, {\"Eigenvalues (Log Scale)\": -0.6289519920702021}, {\"Eigenvalues (Log Scale)\": -0.16751681490539935}, {\"Eigenvalues (Log Scale)\": -0.16282261350074229}, {\"Eigenvalues (Log Scale)\": -0.15964328933527425}, {\"Eigenvalues (Log Scale)\": -0.1546416457863973}, {\"Eigenvalues (Log Scale)\": -0.14507905636981627}, {\"Eigenvalues (Log Scale)\": -0.13953915790008328}, {\"Eigenvalues (Log Scale)\": -0.13471450771665713}, {\"Eigenvalues (Log Scale)\": -0.12584725046224887}, {\"Eigenvalues (Log Scale)\": -0.1289138833871777}, {\"Eigenvalues (Log Scale)\": -0.13189938491797906}, {\"Eigenvalues (Log Scale)\": -0.15179624252238016}, {\"Eigenvalues (Log Scale)\": -0.6227122559936203}, {\"Eigenvalues (Log Scale)\": -0.6205945410474624}, {\"Eigenvalues (Log Scale)\": -0.6118133733771212}, {\"Eigenvalues (Log Scale)\": -0.6046371943758807}, {\"Eigenvalues (Log Scale)\": -0.6017311144372122}, {\"Eigenvalues (Log Scale)\": -0.5834032899204259}, {\"Eigenvalues (Log Scale)\": -0.5945225112589537}, {\"Eigenvalues (Log Scale)\": -0.17985421097871063}, {\"Eigenvalues (Log Scale)\": -0.20249840645914724}, {\"Eigenvalues (Log Scale)\": -0.18780362585808855}, {\"Eigenvalues (Log Scale)\": -0.18964308631016985}, {\"Eigenvalues (Log Scale)\": -0.19340336007840178}, {\"Eigenvalues (Log Scale)\": -0.2108581621266507}, {\"Eigenvalues (Log Scale)\": -0.2183059238300639}, {\"Eigenvalues (Log Scale)\": -0.22205261154091566}, {\"Eigenvalues (Log Scale)\": -0.19616575643591277}, {\"Eigenvalues (Log Scale)\": -0.5772233545582508}, {\"Eigenvalues (Log Scale)\": -0.568746463313018}, {\"Eigenvalues (Log Scale)\": -0.5745275123897987}, {\"Eigenvalues (Log Scale)\": -0.5637173510086736}, {\"Eigenvalues (Log Scale)\": -0.5348111587230694}, {\"Eigenvalues (Log Scale)\": -0.5279976457462512}, {\"Eigenvalues (Log Scale)\": -0.5196177158688091}, {\"Eigenvalues (Log Scale)\": -0.520136711657321}, {\"Eigenvalues (Log Scale)\": -0.495580632389541}, {\"Eigenvalues (Log Scale)\": -0.49997758941598625}, {\"Eigenvalues (Log Scale)\": -0.5561775803626329}, {\"Eigenvalues (Log Scale)\": -0.5472452189270823}, {\"Eigenvalues (Log Scale)\": -0.4899717730521144}, {\"Eigenvalues (Log Scale)\": -0.5570691626040788}, {\"Eigenvalues (Log Scale)\": -0.23588359590673866}, {\"Eigenvalues (Log Scale)\": -0.48348683464273384}, {\"Eigenvalues (Log Scale)\": -0.5066072227523529}, {\"Eigenvalues (Log Scale)\": -0.47377030246250446}, {\"Eigenvalues (Log Scale)\": -0.430932867324885}, {\"Eigenvalues (Log Scale)\": -0.4417257218429431}, {\"Eigenvalues (Log Scale)\": -0.24508426665324262}, {\"Eigenvalues (Log Scale)\": -0.4500386245428108}, {\"Eigenvalues (Log Scale)\": -0.26209325379850884}, {\"Eigenvalues (Log Scale)\": -0.2539135576551496}, {\"Eigenvalues (Log Scale)\": -0.25795328510846344}, {\"Eigenvalues (Log Scale)\": -0.3493358063886651}, {\"Eigenvalues (Log Scale)\": -0.35286020789060385}, {\"Eigenvalues (Log Scale)\": -0.2899113427486327}, {\"Eigenvalues (Log Scale)\": -0.33577338984219585}, {\"Eigenvalues (Log Scale)\": -0.3216188018100572}, {\"Eigenvalues (Log Scale)\": -0.3326232868058278}, {\"Eigenvalues (Log Scale)\": -0.3161415072290714}, {\"Eigenvalues (Log Scale)\": -0.5497473800115907}, {\"Eigenvalues (Log Scale)\": -0.46800476729310325}, {\"Eigenvalues (Log Scale)\": -0.23789355927050534}, {\"Eigenvalues (Log Scale)\": -0.24166544474676663}, {\"Eigenvalues (Log Scale)\": -0.239923709237696}, {\"Eigenvalues (Log Scale)\": -0.27970990810072455}, {\"Eigenvalues (Log Scale)\": -0.2951254628371528}, {\"Eigenvalues (Log Scale)\": -0.269273407424172}, {\"Eigenvalues (Log Scale)\": -0.27231271812580765}, {\"Eigenvalues (Log Scale)\": -0.3281021029166349}, {\"Eigenvalues (Log Scale)\": -0.30217530863424485}, {\"Eigenvalues (Log Scale)\": -0.30421659212905466}, {\"Eigenvalues (Log Scale)\": -0.31374555425554695}, {\"Eigenvalues (Log Scale)\": -0.4539474998996507}, {\"Eigenvalues (Log Scale)\": -0.39674120162274185}, {\"Eigenvalues (Log Scale)\": -0.3636966292123477}, {\"Eigenvalues (Log Scale)\": -0.4161383664587026}, {\"Eigenvalues (Log Scale)\": -0.41983432672959925}, {\"Eigenvalues (Log Scale)\": -0.40631645784652576}, {\"Eigenvalues (Log Scale)\": -0.3888424358555454}, {\"Eigenvalues (Log Scale)\": -0.4116852281092547}, {\"Eigenvalues (Log Scale)\": -0.38080233541271635}, {\"Eigenvalues (Log Scale)\": -0.3853752003838102}, {\"Eigenvalues (Log Scale)\": -0.40908844275902856}, {\"Eigenvalues (Log Scale)\": -0.2852397606721203}, {\"Eigenvalues (Log Scale)\": -0.2753560387239903}, {\"Eigenvalues (Log Scale)\": -0.4619341089456164}, {\"Eigenvalues (Log Scale)\": -0.45669808946311935}, {\"Eigenvalues (Log Scale)\": -0.4589423219410172}, {\"Eigenvalues (Log Scale)\": -0.36148818792497195}, {\"Eigenvalues (Log Scale)\": -0.37456254418237067}, {\"Eigenvalues (Log Scale)\": -0.36774764041672825}, {\"Eigenvalues (Log Scale)\": -0.3759765763979683}]}}, {\"mode\": \"vega-lite\"});\n",
       "</script>"
      ],
      "text/plain": [
       "alt.Chart(...)"
      ]
     },
     "execution_count": null,
     "metadata": {},
     "output_type": "execute_result"
    }
   ],
   "source": [
    "\n",
    "K = kernels.RadialBasis(gamma=5)(X)\n",
    "eigenvalues = np.linalg.eigvals(K)\n",
    "\n",
    "# Prepare data for plotting\n",
    "eigenvalues_log = np.log(np.abs(eigenvalues))\n",
    "data = pd.DataFrame({\n",
    "    'Eigenvalues (Log Scale)': eigenvalues_log\n",
    "})\n",
    "\n",
    "# Create histogram using Altair\n",
    "hist = alt.Chart(data).mark_bar().encode(\n",
    "    alt.X(\"Eigenvalues (Log Scale):Q\", bin=True),\n",
    "    y='count()'\n",
    ").properties(\n",
    "    title='Histogram of Eigenvalues (Log Scale)'\n",
    ")\n",
    "\n",
    "# Display the plot\n",
    "hist"
   ]
  },
  {
   "cell_type": "markdown",
   "id": "bf0a2276",
   "metadata": {},
   "source": [
    "# Dimension Experiments"
   ]
  },
  {
   "cell_type": "code",
   "execution_count": null,
   "id": "715bbfaf",
   "metadata": {},
   "outputs": [],
   "source": []
  },
  {
   "cell_type": "code",
   "execution_count": 29,
   "id": "2379b145",
   "metadata": {},
   "outputs": [
    {
     "name": "stdout",
     "output_type": "stream",
     "text": [
      "5 features......5 features......"
     ]
    },
    {
     "name": "stdout",
     "output_type": "stream",
     "text": [
      "elapsed time: 8.800706148147583\n",
      "15 features......elapsed time: 8.800706148147583\n",
      "15 features......"
     ]
    },
    {
     "name": "stdout",
     "output_type": "stream",
     "text": [
      "elapsed time: 22.495224952697754\n",
      "20 features......elapsed time: 22.495224952697754\n",
      "20 features......"
     ]
    },
    {
     "name": "stdout",
     "output_type": "stream",
     "text": [
      "Warning: selected regularization is the largest grid value for HighlyAdaptiveRidge: {'depth': inf, 'order': 0}\n",
      "Warning: selected regularization is the largest grid value for HighlyAdaptiveRidge: {'depth': inf, 'order': 0}\n"
     ]
    },
    {
     "name": "stdout",
     "output_type": "stream",
     "text": [
      "Warning: selected regularization is the largest grid value for HighlyAdaptiveRidge: {'depth': inf, 'order': 0}\n",
      "Warning: selected regularization is the largest grid value for HighlyAdaptiveRidge: {'depth': inf, 'order': 0}\n"
     ]
    },
    {
     "name": "stdout",
     "output_type": "stream",
     "text": [
      "Warning: selected regularization is the largest grid value for HighlyAdaptiveRidge: {'depth': inf, 'order': 0}\n",
      "Warning: selected regularization is the largest grid value for HighlyAdaptiveRidge: {'depth': inf, 'order': 0}\n"
     ]
    },
    {
     "name": "stdout",
     "output_type": "stream",
     "text": [
      "Warning: selected regularization is the largest grid value for HighlyAdaptiveRidge: {'depth': inf, 'order': 0}\n",
      "Warning: selected regularization is the largest grid value for HighlyAdaptiveRidge: {'depth': inf, 'order': 0}\n"
     ]
    },
    {
     "name": "stdout",
     "output_type": "stream",
     "text": [
      "Warning: selected regularization is the largest grid value for HighlyAdaptiveRidge: {'depth': inf, 'order': 0}\n",
      "Warning: selected regularization is the largest grid value for HighlyAdaptiveRidge: {'depth': inf, 'order': 0}\n"
     ]
    },
    {
     "name": "stdout",
     "output_type": "stream",
     "text": [
      "elapsed time: 30.342422008514404\n",
      "30 features......elapsed time: 30.342422008514404\n",
      "30 features......"
     ]
    },
    {
     "name": "stdout",
     "output_type": "stream",
     "text": [
      "elapsed time: 47.933465003967285\n",
      "elapsed time: 47.933465003967285\n"
     ]
    }
   ],
   "source": [
    "DATASETS = [\n",
    "    \"slice\",\n",
    "]\n",
    "SIM_LEARNERS = [\n",
    "    'HAR', \n",
    "    # 'Mixed Sobolev KRR', \n",
    "    'Radial Basis KRR', \n",
    "    # 'Random Forest',\n",
    "    # 'Mean',\n",
    "]\n",
    "N_REPS = 5\n",
    "TRAIN_SIZE = 400\n",
    "TEST_SIZE = 1000\n",
    "MAX_COLS = [5, 15, 20, 30]\n",
    "\n",
    "results = []\n",
    "data_timer = Timer(verbose=True)\n",
    "for data in DATASETS:\n",
    "    for cols in MAX_COLS:\n",
    "        with data_timer.task(f\"{cols} features...\"):\n",
    "            df = pd.read_csv(f\"~/Desktop/csv/{data}.csv\")\n",
    "            X_full = df.iloc[:TRAIN_SIZE+TEST_SIZE, :cols].values\n",
    "            Y_full = df.iloc[:TRAIN_SIZE+TEST_SIZE,-1].values\n",
    "\n",
    "            for rep in range(N_REPS):\n",
    "                X, X_, Y, Y_ = train_test_split(X_full, Y_full, train_size=TRAIN_SIZE)\n",
    "                n, d = X.shape\n",
    "                learner_timer = Timer()\n",
    "                for name, learner in {k: LEARNERS[k] for k in SIM_LEARNERS}.items():\n",
    "                    with learner_timer.task(\"time fitting\"):\n",
    "                        learner.fit(X,Y)\n",
    "                    with learner_timer.task(\"time predicting\"):\n",
    "                        mse = np.mean((learner.predict(X_) - Y_)**2)\n",
    "\n",
    "                    results += [{\n",
    "                        'data': data,\n",
    "                        'n': n,\n",
    "                        'd': d,\n",
    "                        'learner': name,\n",
    "                        'mse': mse,\n",
    "                    **learner_timer.durations,\n",
    "                }]\n",
    "\n",
    "        pd.DataFrame(results).to_csv(f\"results/dim/cols_{cols}.csv\")"
   ]
  },
  {
   "cell_type": "code",
   "execution_count": 30,
   "id": "2220cc83",
   "metadata": {},
   "outputs": [
    {
     "name": "stderr",
     "output_type": "stream",
     "text": [
      "<positron-console-cell-30>:9: FutureWarning: The provided callable <function mean at 0x104785c60> is currently using SeriesGroupBy.mean. In a future version of pandas, the provided callable will be used directly. To keep current behavior pass the string \"mean\" instead.\n",
      "<positron-console-cell-30>:9: FutureWarning: The provided callable <function mean at 0x104785c60> is currently using SeriesGroupBy.mean. In a future version of pandas, the provided callable will be used directly. To keep current behavior pass the string \"mean\" instead.\n"
     ]
    },
    {
     "data": {
      "text/html": [
       "<div>\n",
       "<style scoped>\n",
       "    .dataframe tbody tr th:only-of-type {\n",
       "        vertical-align: middle;\n",
       "    }\n",
       "\n",
       "    .dataframe tbody tr th {\n",
       "        vertical-align: top;\n",
       "    }\n",
       "\n",
       "    .dataframe thead th {\n",
       "        text-align: right;\n",
       "    }\n",
       "</style>\n",
       "<table border=\"1\" class=\"dataframe\">\n",
       "  <thead>\n",
       "    <tr style=\"text-align: right;\">\n",
       "      <th></th>\n",
       "      <th>n</th>\n",
       "      <th>d</th>\n",
       "      <th>learner</th>\n",
       "      <th>mse</th>\n",
       "      <th>time fitting</th>\n",
       "      <th>time predicting</th>\n",
       "      <th>rmse</th>\n",
       "    </tr>\n",
       "  </thead>\n",
       "  <tbody>\n",
       "    <tr>\n",
       "      <th>0</th>\n",
       "      <td>400</td>\n",
       "      <td>5</td>\n",
       "      <td>HAR</td>\n",
       "      <td>38.006109</td>\n",
       "      <td>1.085833</td>\n",
       "      <td>0.332322</td>\n",
       "      <td>6.164909</td>\n",
       "    </tr>\n",
       "    <tr>\n",
       "      <th>2</th>\n",
       "      <td>400</td>\n",
       "      <td>15</td>\n",
       "      <td>HAR</td>\n",
       "      <td>6.206894</td>\n",
       "      <td>3.190848</td>\n",
       "      <td>0.978896</td>\n",
       "      <td>2.491364</td>\n",
       "    </tr>\n",
       "    <tr>\n",
       "      <th>4</th>\n",
       "      <td>400</td>\n",
       "      <td>20</td>\n",
       "      <td>HAR</td>\n",
       "      <td>5.395258</td>\n",
       "      <td>4.371174</td>\n",
       "      <td>1.363748</td>\n",
       "      <td>2.322769</td>\n",
       "    </tr>\n",
       "    <tr>\n",
       "      <th>6</th>\n",
       "      <td>400</td>\n",
       "      <td>30</td>\n",
       "      <td>HAR</td>\n",
       "      <td>6.727497</td>\n",
       "      <td>6.989935</td>\n",
       "      <td>2.254316</td>\n",
       "      <td>2.593742</td>\n",
       "    </tr>\n",
       "    <tr>\n",
       "      <th>1</th>\n",
       "      <td>400</td>\n",
       "      <td>5</td>\n",
       "      <td>Radial Basis KRR</td>\n",
       "      <td>37.581095</td>\n",
       "      <td>0.195866</td>\n",
       "      <td>0.001225</td>\n",
       "      <td>6.130342</td>\n",
       "    </tr>\n",
       "    <tr>\n",
       "      <th>3</th>\n",
       "      <td>400</td>\n",
       "      <td>15</td>\n",
       "      <td>Radial Basis KRR</td>\n",
       "      <td>4.440913</td>\n",
       "      <td>0.190870</td>\n",
       "      <td>0.001463</td>\n",
       "      <td>2.107347</td>\n",
       "    </tr>\n",
       "    <tr>\n",
       "      <th>5</th>\n",
       "      <td>400</td>\n",
       "      <td>20</td>\n",
       "      <td>Radial Basis KRR</td>\n",
       "      <td>3.848762</td>\n",
       "      <td>0.195450</td>\n",
       "      <td>0.001622</td>\n",
       "      <td>1.961826</td>\n",
       "    </tr>\n",
       "    <tr>\n",
       "      <th>7</th>\n",
       "      <td>400</td>\n",
       "      <td>30</td>\n",
       "      <td>Radial Basis KRR</td>\n",
       "      <td>2.977879</td>\n",
       "      <td>0.205508</td>\n",
       "      <td>0.001964</td>\n",
       "      <td>1.725653</td>\n",
       "    </tr>\n",
       "  </tbody>\n",
       "</table>\n",
       "</div>"
      ],
      "text/plain": [
       "     n   d           learner  ...  time fitting  time predicting      rmse\n",
       "0  400   5               HAR  ...      1.085833         0.332322  6.164909\n",
       "2  400  15               HAR  ...      3.190848         0.978896  2.491364\n",
       "4  400  20               HAR  ...      4.371174         1.363748  2.322769\n",
       "6  400  30               HAR  ...      6.989935         2.254316  2.593742\n",
       "1  400   5  Radial Basis KRR  ...      0.195866         0.001225  6.130342\n",
       "3  400  15  Radial Basis KRR  ...      0.190870         0.001463  2.107347\n",
       "5  400  20  Radial Basis KRR  ...      0.195450         0.001622  1.961826\n",
       "7  400  30  Radial Basis KRR  ...      0.205508         0.001964  1.725653\n",
       "\n",
       "[8 rows x 7 columns]"
      ]
     },
     "execution_count": null,
     "metadata": {},
     "output_type": "execute_result"
    }
   ],
   "source": [
    "folder_path = 'results/dim'  \n",
    "csv_files = glob.glob(os.path.join(folder_path, \"*.csv\"))\n",
    "df_list = [pd.read_csv(file, index_col=0) for file in csv_files]\n",
    "results = pd.concat(df_list, ignore_index=True)\n",
    "\n",
    "results_avg = (\n",
    "    pd.DataFrame(results)\n",
    "    .groupby(['n', 'd', 'learner'], as_index=False)  \n",
    "    .agg({\n",
    "        'mse': np.mean,  \n",
    "        'time fitting': np.mean,\n",
    "        'time predicting': np.mean,\n",
    "    })\n",
    "    # mutate mse to rmse by taking sqrt\n",
    "    .assign(**{\n",
    "        'rmse': lambda df: np.sqrt(df['mse']),\n",
    "    })\n",
    "    .sort_values(by=['learner', 'd', 'n'], ascending=[True, True, True])\n",
    ")\n",
    "\n",
    "results_avg"
   ]
  },
  {
   "cell_type": "code",
   "execution_count": 19,
   "id": "023a7b9e",
   "metadata": {},
   "outputs": [],
   "source": [
    "df = pd.read_csv(f\"~/Desktop/csv/slice.csv\")\n",
    "X_full = df.iloc[:TRAIN_SIZE+TEST_SIZE, :50].values\n",
    "Y_full = df.iloc[:TRAIN_SIZE+TEST_SIZE,-1].values\n",
    "har = HighlyAdaptiveRidgeCV(eps=1e-10, order=0)\n",
    "rbf = RadialBasisKernelRidgeCV(\n",
    "        gammas=[0.001, 0.01, 0.1, 1, 10], \n",
    "        eps=1e-10,\n",
    "        max_alpha_coef_norm = 10,\n",
    "    )\n",
    "\n",
    "X, X_, Y, Y_ = train_test_split(X_full, Y_full, train_size=TRAIN_SIZE)\n",
    "rbf.fit(X,Y)"
   ]
  },
  {
   "cell_type": "code",
   "execution_count": 20,
   "id": "a59b861f",
   "metadata": {},
   "outputs": [
    {
     "data": {
      "text/plain": [
       "array([18.64304367, 34.38899521, 31.73219449, 34.23110234, 10.98618134,\n",
       "       30.57829447, 17.55049709, 12.1589382 , 21.65061546, 35.04466986,\n",
       "       39.87703981, 16.74064225, 17.35718694, 18.87893174, 12.72567693,\n",
       "       18.2195623 , 28.23012272, 27.34032064, 22.583116  , 14.15603029,\n",
       "       33.21737635, 31.692534  , 34.48597576, 30.00491948,  7.39261807,\n",
       "       34.64288401, 29.01382499, 36.99844081, 17.62632008, 36.1642801 ,\n",
       "       18.02346142, 28.30212629, 32.89235282, 10.4888958 , 20.71284501,\n",
       "       21.22924908, 31.84213375, 18.77199683, 12.53197571, 19.20090674,\n",
       "       31.23549741,  8.87194838, 33.37896443, 15.87196892, 23.6764229 ,\n",
       "       17.21822163, 18.04400278,  6.6401228 , 21.49512785, 26.63539455,\n",
       "       11.27500576, 21.91760738, 32.29785595, 35.05527264, 22.37258631,\n",
       "       32.96500896, 22.8483879 , 28.91937393, 31.5210281 , 27.16583671,\n",
       "       13.8993063 , 31.55131676, 33.35021139,  8.94661209, 36.0051029 ,\n",
       "       19.16950218, 17.99665377, 36.69600392, 15.90615692, 16.40754068,\n",
       "       20.98580584, 13.0735066 , 22.79304222, 35.86032546, 38.01395856,\n",
       "       20.96604728, 28.45476838, 37.45739306, 19.34637996, 17.92683036,\n",
       "        9.13912344, 24.68350271, 30.97093369, 20.3960451 , 19.14499526,\n",
       "       14.20125537, 32.27521418, 20.19812133, 19.32013592, 18.1264631 ,\n",
       "       30.04380492, 28.97104172, 15.96536278, 22.59632478, 18.15641456,\n",
       "       16.95951749, 34.21932643, 27.38330593, 29.50305886, 14.8446048 ,\n",
       "       11.10212448, 15.19965946, 26.2762266 , 16.30324098, 22.79714504,\n",
       "       19.39616936, 25.27708418, 13.16917414, 16.39071357,  9.5840008 ,\n",
       "       13.92787952, 12.57585895, 34.85842125, 25.82851538,  8.01749329,\n",
       "       14.7067394 , 13.5052487 , 31.64387914, 13.87527106, 27.83264358,\n",
       "       20.40594772, 13.6079318 , 16.19654333, 32.4523877 ,  8.28050547,\n",
       "       14.93046476, 10.26454128,  6.26572514, 14.28823644, 30.57114958,\n",
       "       15.94467508, 32.70585838,  9.2896728 , 14.2870296 ,  6.67121467,\n",
       "       32.74393613, 25.94984427, 19.82280345, 16.56840106,  8.90360132,\n",
       "       22.76763835, 17.666752  ,  6.85096272,  6.75128767,  9.07556384,\n",
       "        6.74746871, 21.90531763, 35.64661442, 32.1689416 , 32.0799768 ,\n",
       "        8.69394386, 30.23486963, 17.89046236, 12.85574392, 35.83319978,\n",
       "       32.85471489, 30.42049691, 36.49943159, 30.47833556, 30.80865409,\n",
       "       31.53948708,  8.46645031, 16.3093354 , 30.95971519, 31.26104745,\n",
       "       16.00099935,  6.85659225, 32.4583697 ,  9.74119485, 22.17647682,\n",
       "       10.81127292, 26.52399604, 16.66204766, 16.83244974, 29.4827777 ,\n",
       "       11.94415285, 21.60876247,  6.70604061, 12.31109321, 33.5380152 ,\n",
       "       33.45067833, 28.53409036, 30.78442502,  8.60902433, 12.42443157,\n",
       "       25.85737765, 38.78193648, 21.19019089, 31.57858224, 14.89266806,\n",
       "       31.88247207, 22.78130623, 28.59159767,  8.42506941, 19.96299669,\n",
       "       36.22385278, 25.22918625, 31.54269455,  8.45236308, 21.72480213,\n",
       "       33.96842761, 30.22011219,  8.85763608, 31.50622985, 23.099505  ,\n",
       "       20.92512733, 27.21355012, 18.90790266, 26.05805032, 33.70192995,\n",
       "       28.58190316, 31.86124066,  8.85345836, 11.14805364, 11.80712987,\n",
       "       11.71969931, 35.12902836, 11.95727662, 26.00754788, 36.50986733,\n",
       "       35.19519503, 22.80092416, 34.21785371,  6.42994124, 22.28721347,\n",
       "       12.47254534,  8.81427525, 28.70857695, 36.78767115, 28.4827927 ,\n",
       "       11.7497793 , 18.13226506, 29.01683251, 37.43178231, 26.00754788,\n",
       "       22.31911646, 36.98584102, 33.61486025, 12.10629479, 30.49205684,\n",
       "       16.01819461, 12.44407402, 30.19145149, 19.68507443, 15.88360412,\n",
       "       20.51852438, 20.63137701,  7.5168773 , 21.45986436, 26.25692015,\n",
       "       27.64170205, 17.5163383 , 17.52326464, 21.58947083, 29.50309982,\n",
       "       26.36748308, 16.81735001, 17.76221905, 17.9806301 , 10.936691  ,\n",
       "       25.49395298, 31.13843207, 32.26942631, 12.82692175, 29.4510124 ,\n",
       "       23.27939292, 35.79106014, 30.58856603,  8.28669856, 18.23549289,\n",
       "       30.2894946 , 33.43130392, 21.0986539 , 14.7736806 , 19.86531905,\n",
       "       21.17127385, 35.35561415, 31.99458504, 33.43078397, 31.92737147,\n",
       "       13.18041524, 21.25945037, 15.87551417, 34.6995806 , 28.63259651,\n",
       "       12.30049083, 33.48893364,  6.58344143, 33.36864019, 34.05397354,\n",
       "       21.51049464, 15.34728511, 33.52784353, 32.09297825, 10.05357272,\n",
       "       35.34446253, 11.7954774 , 11.90634763,  6.85590424, 11.42763374,\n",
       "       24.9018627 , 20.97040645, 13.21967977, 25.0243752 , 32.9787653 ,\n",
       "       36.57788782, 11.83715856, 36.1526436 , 18.02283038, 18.52747475,\n",
       "       23.12228947,  6.8111237 , 33.68584027, 26.00754788, 29.87007804,\n",
       "       32.37326047, 29.43294227, 16.22016027, 10.875162  , 18.17534557,\n",
       "       21.06647104, 35.58078218, 30.09899749, 34.38899521, 27.67922828,\n",
       "       21.69213479, 30.41373992, 17.32150302, 30.70889145, 26.14963665,\n",
       "       14.24620873, 18.32284963, 21.94770452, 11.13211014, 23.29999999,\n",
       "       22.7877176 , 15.17915717, 13.29702141,  9.17638641, 15.55998653,\n",
       "       22.58719435, 30.47474778, 18.05424538, 37.09385315, 24.5368629 ,\n",
       "       23.23194741, 14.78700793, 28.77677707, 18.62168489, 21.75711308,\n",
       "       13.20728177, 26.40530333, 35.0985245 , 39.87703981, 12.82066453,\n",
       "       32.478238  , 30.70206596, 22.14969807, 17.43074641, 22.93426268,\n",
       "       21.65691249, 19.81628605, 16.46365426, 13.08720247, 20.50805512,\n",
       "       19.10868843, 27.97102351, 34.38503493, 20.9953963 ,  9.95613799,\n",
       "       38.91896191, 27.81168071, 34.37803136, 12.14921944,  8.46886575,\n",
       "       21.60386277, 19.36952452, 32.06776548, 25.25169818, 13.50403373,\n",
       "       40.52327777, 30.97587064, 32.70754318, 38.63471497, 15.06673769,\n",
       "       26.51703574, 12.44704184, 33.39942481, 16.24965326, 22.37607507,\n",
       "       21.90428248, 31.14152922, 15.2979462 , 18.1011308 , 21.90010045,\n",
       "       22.71844983, 21.11009844, 21.12076628, 21.83763557,  8.42047111,\n",
       "       35.59707408, 17.95539309,  6.71149457, 26.00754788, 26.6989157 ,\n",
       "       34.72025623, 20.24411946, 30.95101596, 13.73935044, 32.49074704,\n",
       "        8.22048127, 15.93545037, 17.76679639, 17.95830611, 25.69853493,\n",
       "       27.98328311, 26.1636287 , 25.56688948, 13.3298631 , 12.0250197 ,\n",
       "       34.26143078, 10.30886923, 16.5420931 , 36.79428368, 21.03770168,\n",
       "       22.2337444 , 38.67384802, 16.08680699, 24.82147105, 35.08213642,\n",
       "       17.80455697,  8.95033428, 21.13584137, 31.18250354, 30.31253035,\n",
       "       24.70290852, 36.87890065, 17.73654778, 20.10154054, 31.9895212 ,\n",
       "       20.46030747, 31.33326233, 22.10152592, 32.6965763 , 35.39999172,\n",
       "       10.48060418, 31.59957443, 23.64490129, 30.81502537, 26.00754788,\n",
       "       18.26840042, 36.15164048, 20.23748514, 32.19454217, 33.37934474,\n",
       "       17.70474782, 31.71839702, 28.44235152, 14.4023538 , 32.33439187,\n",
       "       25.51035216,  7.32395333, 30.81354514, 23.43860426, 19.7996908 ,\n",
       "       30.28376464, 13.3446832 , 33.37906176, 35.19800577, 32.50921259,\n",
       "       11.86699037, 21.29119671,  6.77352459, 35.30462673, 21.77361051,\n",
       "        9.56487741,  7.5029009 , 28.82051138, 30.44228526, 12.7667444 ,\n",
       "       33.75211452, 36.23932903,  6.80679485, 30.53380271, 28.95174736,\n",
       "       17.33123546,  7.10961425, 17.92316271, 38.08410949,  7.61135264,\n",
       "       29.07533283, 27.82405022, 22.05140375, 20.68092642, 14.18427252,\n",
       "       28.46957583, 35.73211166, 34.71638114, 37.39504797, 34.02297976,\n",
       "       36.10968935, 21.54476071, 20.93260731, 36.96779142, 11.8166978 ,\n",
       "        6.69018177, 16.84630362, 18.15416179, 31.88339476,  8.32556594,\n",
       "       37.21799933, 20.74044662, 15.92595183, 29.2270182 , 33.4064271 ,\n",
       "       23.5687771 , 38.36210705, 31.5879696 , 23.45626978, 12.15464914,\n",
       "       16.74570452, 35.12889082, 28.6283182 , 34.20065388, 14.4164195 ,\n",
       "       33.76012731,  6.58019745, 31.72974286,  9.63923887,  9.17845897,\n",
       "       31.6912403 , 29.84402405, 23.01425511, 12.7520226 , 18.03166852,\n",
       "       12.20254359,  9.21238458, 22.8883313 , 26.75314057, 20.99658121,\n",
       "       35.68934332, 27.58711114, 12.33983541, 34.84271772,  9.77347932,\n",
       "       15.63649887, 19.43847061, 17.89568376, 32.76780518,  6.77874957,\n",
       "       23.29294369, 27.12313492, 10.1632163 , 31.60521634, 22.51118394,\n",
       "       14.67534215, 31.95213175, 17.85979707,  9.52512917, 23.18403398,\n",
       "       23.52668606, 35.54722924, 21.06686394, 33.43016543, 23.94310176,\n",
       "       32.39451244, 31.3793697 , 13.3973582 , 21.74994046, 17.85712675,\n",
       "       21.67728669, 23.47544186, 22.42754055,  9.38882864, 35.98124094,\n",
       "       34.53824208, 17.38779547, 28.61705793, 17.35468755, 28.32225974,\n",
       "       10.56539382, 10.60045907, 31.17648603, 21.34377246, 30.03445143,\n",
       "       28.88506173, 28.44894636, 38.25646862, 11.39155159, 18.048142  ,\n",
       "       28.62816366, 25.64275885, 34.38597198, 34.3249536 ,  6.6532089 ,\n",
       "       32.53149845, 11.62350682, 35.10588523, 35.67518224, 26.29988263,\n",
       "       18.12807475, 13.03182637, 18.16104375, 11.29200117, 29.77432235,\n",
       "       26.28423955, 37.7202085 , 15.58632268, 34.57458634, 21.55441689,\n",
       "       26.61486024, 31.29587305, 33.84658261, 30.85073454,  6.64615561,\n",
       "       33.16886388,  8.80757834,  9.37388704, 28.49587811, 22.77623535,\n",
       "       35.1428938 , 34.56523402,  7.57517086,  7.09308385,  8.63575206,\n",
       "       37.02519316, 35.20574822, 16.07226261,  7.29225461, 18.27295829,\n",
       "       29.07283608, 10.29121348, 21.01938631, 13.58804594, 15.87172831,\n",
       "       18.06144864, 12.8351646 , 33.93504546, 33.32885296, 29.02157765,\n",
       "       30.3313037 , 10.79925532, 19.75442219, 15.98519224, 36.97119629,\n",
       "       11.82700149, 31.66304114,  7.16777835, 12.3491857 , 18.22921837,\n",
       "       19.39119386, 17.94750693, 13.94742086, 18.36246376, 11.9362678 ,\n",
       "       16.42577258, 25.94505333, 11.14674129, 33.33535503, 21.42345897,\n",
       "       18.57823293,  8.55313972,  6.74431929, 12.48451598,  7.07962824,\n",
       "       15.63233619,  9.52762667, 27.97489059,  8.9059872 , 29.15080121,\n",
       "       32.02375027, 30.85921616, 34.77419301, 13.30022781, 15.03158466,\n",
       "       15.62168877, 22.91043258, 26.81284939, 19.42222007, 20.09236619,\n",
       "        9.42666994, 36.25151039, 18.28985337, 35.20389594, 20.17534904,\n",
       "       22.27847194, 35.9513854 , 32.72600754, 33.48275706, 11.33685596,\n",
       "       18.0030356 , 18.65230826, 12.40815759, 33.3103746 , 16.8778678 ,\n",
       "       28.4396821 , 19.37287764, 35.19930021, 15.0420706 , 15.76583921,\n",
       "       12.43854408, 27.15698727, 15.88454733, 20.67478744, 35.00509669,\n",
       "       16.23879055, 27.60119946, 15.60786337, 21.8217454 ,  8.6813066 ,\n",
       "       13.63449183, 30.69013909, 21.03381596,  8.96280218, 27.32740612,\n",
       "       33.44677489, 12.29742915, 35.30157738, 26.92601628, 16.29968169,\n",
       "       38.71731256, 34.10693422, 23.53871539, 36.73025538, 22.37426785,\n",
       "       12.06206358, 11.92353994, 10.49645647, 28.20824618, 34.45889774,\n",
       "       29.55210357, 28.86152525, 31.96982721, 34.2680254 , 13.97814791,\n",
       "        7.50958455, 31.60539801,  7.05593606, 22.74470026,  7.34081658,\n",
       "       21.22144613, 35.93808339, 31.02094071, 14.94429659, 30.67219029,\n",
       "       21.36781225, 15.74660252, 32.06433796, 20.24839411, 35.52732449,\n",
       "       37.58828023, 26.77819407, 17.93994415, 17.39027728, 32.01627132,\n",
       "       18.24988687, 11.27268081, 30.44623516,  7.40588753,  8.8581793 ,\n",
       "       28.82051138,  8.46021162, 35.43329327, 21.7559766 , 17.07483572,\n",
       "       21.22789642, 17.29686259, 21.63323114, 31.96522449, 18.1056352 ,\n",
       "       30.09035512, 16.57950626, 14.71953006, 13.46213545, 33.99005004,\n",
       "       19.67517731, 16.33483845, 34.0212563 , 11.64942298, 11.76246098,\n",
       "       31.56554612, 22.82739334,  6.82089982, 32.76760701, 17.66087234,\n",
       "       35.73422108,  8.68495739, 11.99195853, 26.23638957, 30.1075138 ,\n",
       "       35.42395958, 35.40806108, 32.30062456, 27.44241514, 15.54497929,\n",
       "       24.37644881,  9.43813517, 37.30175171, 22.11002904,  7.31085896,\n",
       "       15.73852345, 27.72257371, 16.78462309, 17.97698069, 15.66215898,\n",
       "       26.42477335, 25.51998525, 38.68149431, 15.1505991 , 21.21552593,\n",
       "       26.19514254, 21.61634777, 12.32600237, 18.05945687, 34.19066292,\n",
       "       33.80814022, 22.83698363, 20.68789806, 37.83833504, 28.91843057,\n",
       "       38.93215696, 33.51352909, 21.60255907, 21.28976429, 21.76431103,\n",
       "       15.76016282, 32.77538982, 37.09199086, 31.88951883, 20.79451051,\n",
       "       34.16271357,  7.33041508, 21.15011503,  6.82454932, 35.37998161,\n",
       "       12.81021512, 25.26319348,  7.91327372, 28.85864793, 31.26664082,\n",
       "       13.38487224, 34.12284784, 31.45375297, 11.60383455, 17.97970539,\n",
       "        6.57666807, 38.5235508 , 36.27094117, 32.13701451, 17.91082062,\n",
       "       36.16267123, 13.31208908,  6.87974255, 18.11516363, 35.47342402,\n",
       "       28.03448487, 21.36250084, 20.60766935, 14.90130681, 31.34816776,\n",
       "       12.46265109, 17.77547696, 38.17670575, 26.00754788, 32.72192071,\n",
       "        7.63634591, 15.05073256, 27.71296571, 20.30792077, 17.55316604,\n",
       "       22.78803044, 13.24557806,  9.20750507, 24.4552477 , 15.1416271 ,\n",
       "       31.20460586,  8.32360398,  9.13749933, 28.25991228, 20.68298043,\n",
       "       36.6108737 , 17.69419957, 37.09998043, 31.270987  , 36.37079983,\n",
       "       16.930788  , 34.6082503 , 29.58047089, 37.15647178, 22.834496  ,\n",
       "       31.07802286, 28.52440203, 36.94867214, 28.7299073 , 36.98024676,\n",
       "       18.25233806, 31.43168348, 17.26167256, 14.81459089, 25.97100696,\n",
       "       31.79420482,  6.69850256, 15.74916157, 31.16330933, 14.78104849,\n",
       "       21.57631073, 15.40518002, 13.73471317,  8.70370283, 30.15869621,\n",
       "       29.23815429, 12.89822197, 35.3979557 , 36.81805327, 13.22887781,\n",
       "        9.0760712 , 18.48922657, 13.18821799, 28.89710031, 11.60669662,\n",
       "       16.08221809, 21.61029925,  8.94092334, 23.33156465, 34.09840938,\n",
       "       21.95772726, 13.08717635, 29.72235935, 13.51391715, 16.56417232,\n",
       "        6.64181898, 30.27530115,  7.73678894, 32.59690675, 34.66115628,\n",
       "       10.05556253, 21.36999103, 33.66095521, 16.91680658, 15.89578123,\n",
       "        9.81610292, 21.3743817 , 29.74418383, 26.00754788, 13.10601247,\n",
       "        7.31917154, 36.28794848, 12.71240918, 32.03625111, 26.40360065,\n",
       "       32.77347939, 21.04811272, 30.43642092, 16.22030181, 22.62107937,\n",
       "       17.91588722, 17.75131219, 24.59630117, 33.49463563, 25.73793427,\n",
       "        9.10621782, 35.6284872 , 28.11512042, 14.37254453, 20.94004764,\n",
       "       29.56707963, 14.95746602, 11.24802012, 34.32596457, 31.52439484,\n",
       "       27.55207575, 19.57555868, 12.82586775, 31.51136932, 39.64388593,\n",
       "       35.27767382, 21.32604936, 15.91449976,  6.56881838,  8.43764848,\n",
       "       25.90805819, 28.03025062, 23.60092599, 39.8408356 , 18.02685766,\n",
       "       29.78987879, 34.2292657 , 31.78540681, 22.63260653, 11.83157439,\n",
       "       20.99596221, 29.40135222, 30.15660268, 32.98926453, 14.68220546,\n",
       "       28.92107688, 33.38538782, 17.86132593,  7.6714327 , 35.94242467])"
      ]
     },
     "execution_count": null,
     "metadata": {},
     "output_type": "execute_result"
    }
   ],
   "source": [
    "rbf.predict(X_)"
   ]
  },
  {
   "cell_type": "code",
   "execution_count": null,
   "id": "fbd9d3e4",
   "metadata": {},
   "outputs": [],
   "source": []
  }
 ],
 "metadata": {
  "kernelspec": {
   "display_name": "Python 3 (ipykernel)",
   "language": "python",
   "name": "python3"
  },
  "language_info": {
   "codemirror_mode": {
    "name": "ipython",
    "version": 3
   },
   "file_extension": ".py",
   "mimetype": "text/x-python",
   "name": "python",
   "nbconvert_exporter": "python",
   "pygments_lexer": "ipython3",
   "version": "3.8.18"
  }
 },
 "nbformat": 4,
 "nbformat_minor": 5
}
