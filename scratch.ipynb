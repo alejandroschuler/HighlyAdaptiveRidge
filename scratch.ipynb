{
 "cells": [
  {
   "cell_type": "code",
   "execution_count": 1,
   "id": "0f405b9e",
   "metadata": {},
   "outputs": [],
   "source": [
    "from timer import Timer\n",
    "import numpy as np\n",
    "import pandas as pd\n",
    "\n",
    "from highly_adaptive_regression import HighlyAdaptiveLassoCV, HighlyAdaptiveRidgeCV as BasisHARCV\n",
    "from kernel_ridge import HighlyAdaptiveRidgeCV, RadialBasisKernelRidgeCV, MixedSobolevRidgeCV \n",
    "from kernel_ridge import kernels\n",
    "\n",
    "from sklearn.model_selection import train_test_split\n",
    "from sklearn.ensemble import RandomForestRegressor\n",
    "from sklearn.linear_model import LinearRegression, Ridge\n",
    "from sklearn.dummy import DummyRegressor\n",
    "\n",
    "import pandas as pd\n",
    "import glob\n",
    "import os\n",
    "import altair as alt"
   ]
  },
  {
   "cell_type": "markdown",
   "id": "e4d0a8eb",
   "metadata": {},
   "source": [
    "# Empirical"
   ]
  },
  {
   "cell_type": "code",
   "execution_count": 2,
   "id": "d5543994",
   "metadata": {},
   "outputs": [],
   "source": [
    "LEARNERS = {\n",
    "    # 'Mean':DummyRegressor(strategy=\"mean\"),\n",
    "    # 'Ridge Regression':Ridge(alpha=1e-3),\n",
    "    # 'Random Forest':RandomForestRegressor(n_estimators=2000, n_jobs=-1),\n",
    "    'Radial Basis KRR':RadialBasisKernelRidgeCV(\n",
    "        gammas=[0.001, 0.01, 0.1, 1, 10], \n",
    "    ),\n",
    "    'Mixed Sobolev KRR':MixedSobolevRidgeCV(),\n",
    "    # 'HAL':HighlyAdaptiveLassoCV(),\n",
    "    'HAR':HighlyAdaptiveRidgeCV(),\n",
    "}"
   ]
  },
  {
   "cell_type": "code",
   "execution_count": null,
   "id": "e87c37d6",
   "metadata": {},
   "outputs": [
    {
     "name": "stdout",
     "output_type": "stream",
     "text": [
      "analyzing yacht...analyzing yacht..."
     ]
    },
    {
     "name": "stdout",
     "output_type": "stream",
     "text": [
      "Warning: selected regularization is the smallest grid value for RadialBasis: {'gamma': 0.01}\n",
      "Warning: selected regularization is the smallest grid value for RadialBasis: {'gamma': 0.1}\n",
      "Warning: selected regularization is the smallest grid value for RadialBasis: {'gamma': 0.01}\n",
      "Warning: selected regularization is the smallest grid value for RadialBasis: {'gamma': 0.1}\n"
     ]
    },
    {
     "name": "stderr",
     "output_type": "stream",
     "text": [
      "/Users/aschuler/Desktop/HighlyAdaptiveRidge/venv/lib/python3.12/site-packages/sklearn/linear_model/_coordinate_descent.py:697: ConvergenceWarning: Objective did not converge. You might want to increase the number of iterations, check the scale of the features or consider increasing regularisation. Duality gap: 2.720e+01, tolerance: 5.985e+00\n",
      "  model = cd_fast.enet_coordinate_descent(\n"
     ]
    },
    {
     "name": "stdout",
     "output_type": "stream",
     "text": [
      "Warning: selected regularization is the smallest grid value for RadialBasis: {'gamma': 0.01}\n",
      "Warning: selected regularization is the smallest grid value for RadialBasis: {'gamma': 0.1}\n",
      "Warning: selected regularization is the smallest grid value for RadialBasis: {'gamma': 0.01}\n",
      "Warning: selected regularization is the smallest grid value for RadialBasis: {'gamma': 0.1}\n"
     ]
    },
    {
     "name": "stderr",
     "output_type": "stream",
     "text": [
      "/Users/aschuler/Desktop/HighlyAdaptiveRidge/venv/lib/python3.12/site-packages/sklearn/linear_model/_coordinate_descent.py:697: ConvergenceWarning: Objective did not converge. You might want to increase the number of iterations, check the scale of the features or consider increasing regularisation. Duality gap: 9.815e+00, tolerance: 5.822e+00\n",
      "  model = cd_fast.enet_coordinate_descent(\n"
     ]
    },
    {
     "name": "stdout",
     "output_type": "stream",
     "text": [
      "Warning: selected regularization is the smallest grid value for RadialBasis: {'gamma': 0.01}\n",
      "Warning: selected regularization is the smallest grid value for RadialBasis: {'gamma': 0.1}\n",
      "Warning: selected regularization is the smallest grid value for RadialBasis: {'gamma': 0.01}\n",
      "Warning: selected regularization is the smallest grid value for RadialBasis: {'gamma': 0.1}\n"
     ]
    },
    {
     "name": "stderr",
     "output_type": "stream",
     "text": [
      "/Users/aschuler/Desktop/HighlyAdaptiveRidge/venv/lib/python3.12/site-packages/sklearn/linear_model/_coordinate_descent.py:697: ConvergenceWarning: Objective did not converge. You might want to increase the number of iterations, check the scale of the features or consider increasing regularisation. Duality gap: 1.295e+01, tolerance: 6.013e+00\n",
      "  model = cd_fast.enet_coordinate_descent(\n"
     ]
    },
    {
     "name": "stdout",
     "output_type": "stream",
     "text": [
      "Warning: selected regularization is the smallest grid value for RadialBasis: {'gamma': 0.01}\n",
      "Warning: selected regularization is the smallest grid value for RadialBasis: {'gamma': 0.1}\n",
      "Warning: selected regularization is the smallest grid value for RadialBasis: {'gamma': 0.01}\n",
      "Warning: selected regularization is the smallest grid value for RadialBasis: {'gamma': 0.1}\n"
     ]
    },
    {
     "name": "stderr",
     "output_type": "stream",
     "text": [
      "/Users/aschuler/Desktop/HighlyAdaptiveRidge/venv/lib/python3.12/site-packages/sklearn/linear_model/_coordinate_descent.py:697: ConvergenceWarning: Objective did not converge. You might want to increase the number of iterations, check the scale of the features or consider increasing regularisation. Duality gap: 2.076e+01, tolerance: 6.015e+00\n",
      "  model = cd_fast.enet_coordinate_descent(\n"
     ]
    },
    {
     "name": "stdout",
     "output_type": "stream",
     "text": [
      "Warning: selected regularization is the smallest grid value for RadialBasis: {'gamma': 0.01}\n",
      "Warning: selected regularization is the smallest grid value for RadialBasis: {'gamma': 0.1}\n",
      "Warning: selected regularization is the smallest grid value for RadialBasis: {'gamma': 1}\n",
      "Warning: selected regularization is the smallest grid value for RadialBasis: {'gamma': 0.01}\n",
      "Warning: selected regularization is the smallest grid value for RadialBasis: {'gamma': 0.1}\n",
      "Warning: selected regularization is the smallest grid value for RadialBasis: {'gamma': 1}\n"
     ]
    },
    {
     "name": "stderr",
     "output_type": "stream",
     "text": [
      "/Users/aschuler/Desktop/HighlyAdaptiveRidge/venv/lib/python3.12/site-packages/sklearn/linear_model/_coordinate_descent.py:697: ConvergenceWarning: Objective did not converge. You might want to increase the number of iterations, check the scale of the features or consider increasing regularisation. Duality gap: 2.976e+01, tolerance: 5.511e+00\n",
      "  model = cd_fast.enet_coordinate_descent(\n"
     ]
    },
    {
     "name": "stdout",
     "output_type": "stream",
     "text": [
      "elapsed time: 82.50523900985718\n",
      "analyzing energy...elapsed time: 82.50523900985718\n",
      "analyzing energy..."
     ]
    },
    {
     "name": "stdout",
     "output_type": "stream",
     "text": [
      "Warning: selected regularization is the smallest grid value for RadialBasis: {'gamma': 0.001}\n",
      "Warning: selected regularization is the smallest grid value for RadialBasis: {'gamma': 0.001}\n"
     ]
    },
    {
     "name": "stderr",
     "output_type": "stream",
     "text": [
      "/Users/aschuler/Desktop/HighlyAdaptiveRidge/venv/lib/python3.12/site-packages/sklearn/linear_model/_coordinate_descent.py:697: ConvergenceWarning: Objective did not converge. You might want to increase the number of iterations, check the scale of the features or consider increasing regularisation. Duality gap: 2.404e+01, tolerance: 6.315e+00\n",
      "  model = cd_fast.enet_coordinate_descent(\n"
     ]
    },
    {
     "name": "stdout",
     "output_type": "stream",
     "text": [
      "Warning: selected regularization is the smallest grid value for RadialBasis: {'gamma': 0.001}\n",
      "Warning: selected regularization is the smallest grid value for RadialBasis: {'gamma': 0.001}\n"
     ]
    },
    {
     "name": "stderr",
     "output_type": "stream",
     "text": [
      "/Users/aschuler/Desktop/HighlyAdaptiveRidge/venv/lib/python3.12/site-packages/sklearn/linear_model/_coordinate_descent.py:697: ConvergenceWarning: Objective did not converge. You might want to increase the number of iterations, check the scale of the features or consider increasing regularisation. Duality gap: 3.744e+01, tolerance: 6.337e+00\n",
      "  model = cd_fast.enet_coordinate_descent(\n"
     ]
    },
    {
     "name": "stdout",
     "output_type": "stream",
     "text": [
      "Warning: selected regularization is the smallest grid value for RadialBasis: {'gamma': 0.001}\n",
      "Warning: selected regularization is the smallest grid value for RadialBasis: {'gamma': 0.001}\n"
     ]
    },
    {
     "name": "stderr",
     "output_type": "stream",
     "text": [
      "/Users/aschuler/Desktop/HighlyAdaptiveRidge/venv/lib/python3.12/site-packages/sklearn/linear_model/_coordinate_descent.py:697: ConvergenceWarning: Objective did not converge. You might want to increase the number of iterations, check the scale of the features or consider increasing regularisation. Duality gap: 2.425e+01, tolerance: 6.226e+00\n",
      "  model = cd_fast.enet_coordinate_descent(\n"
     ]
    },
    {
     "name": "stdout",
     "output_type": "stream",
     "text": [
      "Warning: selected regularization is the smallest grid value for RadialBasis: {'gamma': 0.001}\n",
      "Warning: selected regularization is the smallest grid value for RadialBasis: {'gamma': 0.001}\n"
     ]
    },
    {
     "name": "stderr",
     "output_type": "stream",
     "text": [
      "/Users/aschuler/Desktop/HighlyAdaptiveRidge/venv/lib/python3.12/site-packages/sklearn/linear_model/_coordinate_descent.py:697: ConvergenceWarning: Objective did not converge. You might want to increase the number of iterations, check the scale of the features or consider increasing regularisation. Duality gap: 2.463e+01, tolerance: 6.171e+00\n",
      "  model = cd_fast.enet_coordinate_descent(\n"
     ]
    },
    {
     "name": "stdout",
     "output_type": "stream",
     "text": [
      "Warning: selected regularization is the smallest grid value for RadialBasis: {'gamma': 0.001}\n",
      "Warning: selected regularization is the smallest grid value for RadialBasis: {'gamma': 0.001}\n"
     ]
    },
    {
     "name": "stderr",
     "output_type": "stream",
     "text": [
      "/Users/aschuler/Desktop/HighlyAdaptiveRidge/venv/lib/python3.12/site-packages/sklearn/linear_model/_coordinate_descent.py:697: ConvergenceWarning: Objective did not converge. You might want to increase the number of iterations, check the scale of the features or consider increasing regularisation. Duality gap: 2.631e+01, tolerance: 6.061e+00\n",
      "  model = cd_fast.enet_coordinate_descent(\n"
     ]
    },
    {
     "name": "stdout",
     "output_type": "stream",
     "text": [
      "elapsed time: 2138.266622066498\n",
      "analyzing boston...elapsed time: 2138.266622066498\n",
      "analyzing boston..."
     ]
    },
    {
     "name": "stderr",
     "output_type": "stream",
     "text": [
      "/Users/aschuler/Desktop/HighlyAdaptiveRidge/venv/lib/python3.12/site-packages/sklearn/linear_model/_coordinate_descent.py:697: ConvergenceWarning: Objective did not converge. You might want to increase the number of iterations, check the scale of the features or consider increasing regularisation. Duality gap: 9.670e+00, tolerance: 3.443e+00\n",
      "  model = cd_fast.enet_coordinate_descent(\n"
     ]
    },
    {
     "name": "stderr",
     "output_type": "stream",
     "text": [
      "/Users/aschuler/Desktop/HighlyAdaptiveRidge/venv/lib/python3.12/site-packages/sklearn/linear_model/_coordinate_descent.py:697: ConvergenceWarning: Objective did not converge. You might want to increase the number of iterations, check the scale of the features or consider increasing regularisation. Duality gap: 4.504e+01, tolerance: 3.455e+00\n",
      "  model = cd_fast.enet_coordinate_descent(\n"
     ]
    },
    {
     "name": "stderr",
     "output_type": "stream",
     "text": [
      "/Users/aschuler/Desktop/HighlyAdaptiveRidge/venv/lib/python3.12/site-packages/sklearn/linear_model/_coordinate_descent.py:697: ConvergenceWarning: Objective did not converge. You might want to increase the number of iterations, check the scale of the features or consider increasing regularisation. Duality gap: 4.991e+01, tolerance: 3.655e+00\n",
      "  model = cd_fast.enet_coordinate_descent(\n"
     ]
    },
    {
     "name": "stdout",
     "output_type": "stream",
     "text": [
      "elapsed time: 98129.91629171371\n",
      "analyzing concrete...elapsed time: 98129.91629171371\n",
      "analyzing concrete..."
     ]
    },
    {
     "name": "stderr",
     "output_type": "stream",
     "text": [
      "/Users/aschuler/Desktop/HighlyAdaptiveRidge/venv/lib/python3.12/site-packages/sklearn/linear_model/_coordinate_descent.py:697: ConvergenceWarning: Objective did not converge. You might want to increase the number of iterations, check the scale of the features or consider increasing regularisation. Duality gap: 9.870e+01, tolerance: 2.266e+01\n",
      "  model = cd_fast.enet_coordinate_descent(\n"
     ]
    },
    {
     "name": "stderr",
     "output_type": "stream",
     "text": [
      "/Users/aschuler/Desktop/HighlyAdaptiveRidge/venv/lib/python3.12/site-packages/sklearn/linear_model/_coordinate_descent.py:697: ConvergenceWarning: Objective did not converge. You might want to increase the number of iterations, check the scale of the features or consider increasing regularisation. Duality gap: 1.354e+02, tolerance: 2.398e+01\n",
      "  model = cd_fast.enet_coordinate_descent(\n"
     ]
    },
    {
     "name": "stderr",
     "output_type": "stream",
     "text": [
      "/Users/aschuler/Desktop/HighlyAdaptiveRidge/venv/lib/python3.12/site-packages/sklearn/linear_model/_coordinate_descent.py:697: ConvergenceWarning: Objective did not converge. You might want to increase the number of iterations, check the scale of the features or consider increasing regularisation. Duality gap: 3.351e+02, tolerance: 2.278e+01\n",
      "  model = cd_fast.enet_coordinate_descent(\n"
     ]
    },
    {
     "name": "stderr",
     "output_type": "stream",
     "text": [
      "/Users/aschuler/Desktop/HighlyAdaptiveRidge/venv/lib/python3.12/site-packages/sklearn/linear_model/_coordinate_descent.py:697: ConvergenceWarning: Objective did not converge. You might want to increase the number of iterations, check the scale of the features or consider increasing regularisation. Duality gap: 3.391e+02, tolerance: 2.322e+01\n",
      "  model = cd_fast.enet_coordinate_descent(\n"
     ]
    },
    {
     "name": "stderr",
     "output_type": "stream",
     "text": [
      "/Users/aschuler/Desktop/HighlyAdaptiveRidge/venv/lib/python3.12/site-packages/sklearn/linear_model/_coordinate_descent.py:697: ConvergenceWarning: Objective did not converge. You might want to increase the number of iterations, check the scale of the features or consider increasing regularisation. Duality gap: 1.237e+02, tolerance: 2.307e+01\n",
      "  model = cd_fast.enet_coordinate_descent(\n"
     ]
    },
    {
     "name": "stdout",
     "output_type": "stream",
     "text": [
      "elapsed time: 16704.037373781204\n",
      "analyzing wine...elapsed time: 16704.037373781204\n",
      "analyzing wine..."
     ]
    },
    {
     "name": "stdout",
     "output_type": "stream",
     "text": [
      "elapsed time: 708.9918110370636\n",
      "analyzing power...elapsed time: 708.9918110370636\n",
      "analyzing power..."
     ]
    },
    {
     "name": "stdout",
     "output_type": "stream",
     "text": [
      "elapsed time: 497.70367789268494\n",
      "analyzing kin8nm...elapsed time: 497.70367789268494\n",
      "analyzing kin8nm..."
     ]
    },
    {
     "name": "stdout",
     "output_type": "stream",
     "text": [
      "elapsed time: 1080.4660778045654\n",
      "analyzing naval...elapsed time: 1080.4660778045654\n",
      "analyzing naval..."
     ]
    },
    {
     "name": "stdout",
     "output_type": "stream",
     "text": [
      "elapsed time: 965.6764059066772\n",
      "analyzing protein...elapsed time: 965.6764059066772\n",
      "analyzing protein..."
     ]
    },
    {
     "name": "stdout",
     "output_type": "stream",
     "text": [
      "elapsed time: 843.8643159866333\n",
      "analyzing slice...elapsed time: 843.8643159866333\n",
      "analyzing slice..."
     ]
    },
    {
     "name": "stderr",
     "output_type": "stream",
     "text": [
      "/Users/aschuler/Desktop/HighlyAdaptiveRidge/kernel_ridge/kernel_ridge.py:72: RuntimeWarning: divide by zero encountered in divide\n",
      "  R = (Y - Yhat) / (1- np.diag(H))\n",
      "/Users/aschuler/Desktop/HighlyAdaptiveRidge/kernel_ridge/kernel_ridge.py:72: RuntimeWarning: invalid value encountered in divide\n",
      "  R = (Y - Yhat) / (1- np.diag(H))\n"
     ]
    },
    {
     "name": "stderr",
     "output_type": "stream",
     "text": [
      "/Users/aschuler/Desktop/HighlyAdaptiveRidge/kernel_ridge/kernel_ridge.py:72: RuntimeWarning: divide by zero encountered in divide\n",
      "  R = (Y - Yhat) / (1- np.diag(H))\n",
      "/Users/aschuler/Desktop/HighlyAdaptiveRidge/kernel_ridge/kernel_ridge.py:72: RuntimeWarning: invalid value encountered in divide\n",
      "  R = (Y - Yhat) / (1- np.diag(H))\n"
     ]
    },
    {
     "name": "stderr",
     "output_type": "stream",
     "text": [
      "/Users/aschuler/Desktop/HighlyAdaptiveRidge/kernel_ridge/kernel_ridge.py:72: RuntimeWarning: divide by zero encountered in divide\n",
      "  R = (Y - Yhat) / (1- np.diag(H))\n",
      "/Users/aschuler/Desktop/HighlyAdaptiveRidge/kernel_ridge/kernel_ridge.py:72: RuntimeWarning: invalid value encountered in divide\n",
      "  R = (Y - Yhat) / (1- np.diag(H))\n"
     ]
    },
    {
     "name": "stderr",
     "output_type": "stream",
     "text": [
      "/Users/aschuler/Desktop/HighlyAdaptiveRidge/kernel_ridge/kernel_ridge.py:72: RuntimeWarning: divide by zero encountered in divide\n",
      "  R = (Y - Yhat) / (1- np.diag(H))\n",
      "/Users/aschuler/Desktop/HighlyAdaptiveRidge/kernel_ridge/kernel_ridge.py:72: RuntimeWarning: invalid value encountered in divide\n",
      "  R = (Y - Yhat) / (1- np.diag(H))\n"
     ]
    },
    {
     "name": "stderr",
     "output_type": "stream",
     "text": [
      "/Users/aschuler/Desktop/HighlyAdaptiveRidge/kernel_ridge/kernel_ridge.py:72: RuntimeWarning: divide by zero encountered in divide\n",
      "  R = (Y - Yhat) / (1- np.diag(H))\n",
      "/Users/aschuler/Desktop/HighlyAdaptiveRidge/kernel_ridge/kernel_ridge.py:72: RuntimeWarning: invalid value encountered in divide\n",
      "  R = (Y - Yhat) / (1- np.diag(H))\n"
     ]
    },
    {
     "name": "stderr",
     "output_type": "stream",
     "text": [
      "/Users/aschuler/Desktop/HighlyAdaptiveRidge/kernel_ridge/kernel_ridge.py:72: RuntimeWarning: divide by zero encountered in divide\n",
      "  R = (Y - Yhat) / (1- np.diag(H))\n",
      "/Users/aschuler/Desktop/HighlyAdaptiveRidge/kernel_ridge/kernel_ridge.py:72: RuntimeWarning: invalid value encountered in divide\n",
      "  R = (Y - Yhat) / (1- np.diag(H))\n"
     ]
    },
    {
     "name": "stderr",
     "output_type": "stream",
     "text": [
      "/Users/aschuler/Desktop/HighlyAdaptiveRidge/kernel_ridge/kernel_ridge.py:72: RuntimeWarning: divide by zero encountered in divide\n",
      "  R = (Y - Yhat) / (1- np.diag(H))\n",
      "/Users/aschuler/Desktop/HighlyAdaptiveRidge/kernel_ridge/kernel_ridge.py:72: RuntimeWarning: invalid value encountered in divide\n",
      "  R = (Y - Yhat) / (1- np.diag(H))\n"
     ]
    },
    {
     "name": "stderr",
     "output_type": "stream",
     "text": [
      "/Users/aschuler/Desktop/HighlyAdaptiveRidge/kernel_ridge/kernel_ridge.py:72: RuntimeWarning: divide by zero encountered in divide\n",
      "  R = (Y - Yhat) / (1- np.diag(H))\n",
      "/Users/aschuler/Desktop/HighlyAdaptiveRidge/kernel_ridge/kernel_ridge.py:72: RuntimeWarning: invalid value encountered in divide\n",
      "  R = (Y - Yhat) / (1- np.diag(H))\n"
     ]
    },
    {
     "name": "stderr",
     "output_type": "stream",
     "text": [
      "/Users/aschuler/Desktop/HighlyAdaptiveRidge/kernel_ridge/kernel_ridge.py:72: RuntimeWarning: divide by zero encountered in divide\n",
      "  R = (Y - Yhat) / (1- np.diag(H))\n",
      "/Users/aschuler/Desktop/HighlyAdaptiveRidge/kernel_ridge/kernel_ridge.py:72: RuntimeWarning: invalid value encountered in divide\n",
      "  R = (Y - Yhat) / (1- np.diag(H))\n"
     ]
    },
    {
     "name": "stderr",
     "output_type": "stream",
     "text": [
      "/Users/aschuler/Desktop/HighlyAdaptiveRidge/kernel_ridge/kernel_ridge.py:72: RuntimeWarning: divide by zero encountered in divide\n",
      "  R = (Y - Yhat) / (1- np.diag(H))\n",
      "/Users/aschuler/Desktop/HighlyAdaptiveRidge/kernel_ridge/kernel_ridge.py:72: RuntimeWarning: invalid value encountered in divide\n",
      "  R = (Y - Yhat) / (1- np.diag(H))\n"
     ]
    },
    {
     "name": "stdout",
     "output_type": "stream",
     "text": [
      "elapsed time: 42990.97277212143\n",
      "analyzing yearmsd...elapsed time: 42990.97277212143\n",
      "analyzing yearmsd..."
     ]
    },
    {
     "name": "stderr",
     "output_type": "stream",
     "text": [
      "/Users/aschuler/Desktop/HighlyAdaptiveRidge/kernel_ridge/kernel_ridge.py:72: RuntimeWarning: divide by zero encountered in divide\n",
      "  R = (Y - Yhat) / (1- np.diag(H))\n",
      "/Users/aschuler/Desktop/HighlyAdaptiveRidge/kernel_ridge/kernel_ridge.py:72: RuntimeWarning: invalid value encountered in divide\n",
      "  R = (Y - Yhat) / (1- np.diag(H))\n"
     ]
    },
    {
     "name": "stderr",
     "output_type": "stream",
     "text": [
      "/Users/aschuler/Desktop/HighlyAdaptiveRidge/kernel_ridge/kernel_ridge.py:72: RuntimeWarning: divide by zero encountered in divide\n",
      "  R = (Y - Yhat) / (1- np.diag(H))\n",
      "/Users/aschuler/Desktop/HighlyAdaptiveRidge/kernel_ridge/kernel_ridge.py:72: RuntimeWarning: invalid value encountered in divide\n",
      "  R = (Y - Yhat) / (1- np.diag(H))\n"
     ]
    },
    {
     "name": "stderr",
     "output_type": "stream",
     "text": [
      "/Users/aschuler/Desktop/HighlyAdaptiveRidge/kernel_ridge/kernel_ridge.py:72: RuntimeWarning: divide by zero encountered in divide\n",
      "  R = (Y - Yhat) / (1- np.diag(H))\n",
      "/Users/aschuler/Desktop/HighlyAdaptiveRidge/kernel_ridge/kernel_ridge.py:72: RuntimeWarning: invalid value encountered in divide\n",
      "  R = (Y - Yhat) / (1- np.diag(H))\n"
     ]
    },
    {
     "name": "stderr",
     "output_type": "stream",
     "text": [
      "/Users/aschuler/Desktop/HighlyAdaptiveRidge/kernel_ridge/kernel_ridge.py:72: RuntimeWarning: divide by zero encountered in divide\n",
      "  R = (Y - Yhat) / (1- np.diag(H))\n",
      "/Users/aschuler/Desktop/HighlyAdaptiveRidge/kernel_ridge/kernel_ridge.py:72: RuntimeWarning: invalid value encountered in divide\n",
      "  R = (Y - Yhat) / (1- np.diag(H))\n"
     ]
    },
    {
     "name": "stderr",
     "output_type": "stream",
     "text": [
      "/Users/aschuler/Desktop/HighlyAdaptiveRidge/kernel_ridge/kernel_ridge.py:72: RuntimeWarning: divide by zero encountered in divide\n",
      "  R = (Y - Yhat) / (1- np.diag(H))\n",
      "/Users/aschuler/Desktop/HighlyAdaptiveRidge/kernel_ridge/kernel_ridge.py:72: RuntimeWarning: invalid value encountered in divide\n",
      "  R = (Y - Yhat) / (1- np.diag(H))\n"
     ]
    },
    {
     "name": "stdout",
     "output_type": "stream",
     "text": [
      "elapsed time: 14577.175809144974\n",
      "elapsed time: 14577.175809144974\n"
     ]
    }
   ],
   "source": [
    "FILE = 'data'\n",
    "\n",
    "HAL_DATASETS = [\n",
    "    \"yacht\",\n",
    "    \"energy\",\n",
    "    \"boston\",\n",
    "    \"concrete\",\n",
    "]\n",
    "\n",
    "DATASETS = [\n",
    "    *HAL_DATASETS,\n",
    "    \"wine\",\n",
    "    \"power\",\n",
    "    \"kin8nm\",\n",
    "    \"naval\",\n",
    "    \"protein\",\n",
    "    \"slice\",\n",
    "    \"yearmsd\"\n",
    "]\n",
    "\n",
    "REP_0 = 5\n",
    "N_REPS = 5\n",
    "\n",
    "MAX_ROWS = 2000\n",
    "\n",
    "results = []\n",
    "data_timer = Timer(verbose=True)\n",
    "for data in DATASETS:\n",
    "    with data_timer.task(f\"analyzing {data}\"):\n",
    "        df = pd.read_csv(f\"~/Desktop/csv/{data}.csv\")\n",
    "        X_full = df.iloc[:MAX_ROWS, :-1].values\n",
    "        Y_full = df.iloc[:MAX_ROWS,-1].values\n",
    "        n, d = X_full.shape\n",
    "\n",
    "        for rep in np.arange(REP_0:REP_0+N_REPS):\n",
    "            X, X_, Y, Y_ = train_test_split(X_full, Y_full, test_size=0.2)\n",
    "            learner_timer = Timer()\n",
    "            for name, learner in LEARNERS.items():\n",
    "                if name == 'HAL' and data not in HAL_DATASETS:\n",
    "                    continue\n",
    "                with learner_timer.task(\"time fitting\"):\n",
    "                    learner.fit(X,Y)\n",
    "                with learner_timer.task(\"time predicting\"):\n",
    "                    mse = np.mean((learner.predict(X_) - Y_)**2)\n",
    "\n",
    "                results += [{\n",
    "                    'data': data,\n",
    "                    'n': n,\n",
    "                    'd': d,\n",
    "                    'learner': name,\n",
    "                    'mse': mse,\n",
    "                    **learner_timer.durations,\n",
    "                }]\n",
    "\n",
    "            pd.DataFrame(results).to_csv(f\"results/data/{FILE}_{data}_{rep}.csv\")"
   ]
  },
  {
   "cell_type": "code",
   "execution_count": null,
   "id": "0f3f0cbe",
   "metadata": {},
   "outputs": [
    {
     "name": "stderr",
     "output_type": "stream",
     "text": [
      "<positron-console-cell-4>:9: FutureWarning: The provided callable <function mean at 0x107c85c60> is currently using SeriesGroupBy.mean. In a future version of pandas, the provided callable will be used directly. To keep current behavior pass the string \"mean\" instead.\n",
      "<positron-console-cell-4>:9: FutureWarning: The provided callable <function mean at 0x107c85c60> is currently using SeriesGroupBy.mean. In a future version of pandas, the provided callable will be used directly. To keep current behavior pass the string \"mean\" instead.\n"
     ]
    },
    {
     "name": "stdout",
     "output_type": "stream",
     "text": [
      "\\begin{tabular}{lrrrrrrrr}\n",
      "\\toprule\n",
      "data & n & d & HAR & HAL & Mixed Sobolev KRR & Radial Basis KRR & Random Forest & Ridge Regression \\\\\n",
      "\\midrule\n",
      "power & 2000 & 4 & 4.05e+00 & NaN & 4.11e+00 & 4.28e+00 & 4.11e+00 & 4.56e+00 \\\\\n",
      "yacht & 308 & 6 & 8.74e-01 & 6.79e-01 & 4.18e-01 & 5.63e-01 & 1.01e+00 & 8.66e+00 \\\\\n",
      "concrete & 1030 & 8 & 3.65e+00 & 3.74e+00 & 3.80e+00 & 9.23e+00 & 4.71e+00 & 1.05e+01 \\\\\n",
      "energy & 768 & 8 & 3.65e-01 & 4.39e-01 & 3.82e-01 & 4.72e-01 & 4.76e-01 & 2.85e+00 \\\\\n",
      "kin8nm & 2000 & 8 & 1.40e-01 & NaN & 1.29e-01 & 9.22e-02 & 1.67e-01 & 2.04e-01 \\\\\n",
      "protein & 2000 & 9 & 1.88e+00 & NaN & 1.91e+00 & 5.85e+00 & 1.86e+00 & 2.64e+00 \\\\\n",
      "wine & 1599 & 11 & 6.07e-01 & NaN & 6.11e-01 & 6.36e-01 & 5.79e-01 & 6.60e-01 \\\\\n",
      "boston & 506 & 13 & 3.33e+00 & 3.36e+00 & 2.54e+00 & 4.65e+00 & 3.03e+00 & 4.51e+00 \\\\\n",
      "naval & 2000 & 17 & 7.66e-04 & NaN & 4.16e-04 & 1.89e-03 & 8.86e-04 & 1.32e-03 \\\\\n",
      "yearmsd & 2000 & 90 & 1.15e+01 & NaN & 9.07e+00 & 1.15e+01 & 9.46e+00 & 9.88e+00 \\\\\n",
      "slice & 2000 & 384 & 9.00e+00 & NaN & 7.96e+00 & 1.31e-01 & 3.70e-01 & 6.35e-01 \\\\\n",
      "\\bottomrule\n",
      "\\end{tabular}\n",
      "\n",
      "\\begin{tabular}{lrrrrrrrr}\n",
      "\\toprule\n",
      "data & n & d & HAR & HAL & Mixed Sobolev KRR & Radial Basis KRR & Random Forest & Ridge Regression \\\\\n",
      "\\midrule\n",
      "power & 2000 & 4 & 4.05e+00 & NaN & 4.11e+00 & 4.28e+00 & 4.11e+00 & 4.56e+00 \\\\\n",
      "yacht & 308 & 6 & 8.74e-01 & 6.79e-01 & 4.18e-01 & 5.63e-01 & 1.01e+00 & 8.66e+00 \\\\\n",
      "concrete & 1030 & 8 & 3.65e+00 & 3.74e+00 & 3.80e+00 & 9.23e+00 & 4.71e+00 & 1.05e+01 \\\\\n",
      "energy & 768 & 8 & 3.65e-01 & 4.39e-01 & 3.82e-01 & 4.72e-01 & 4.76e-01 & 2.85e+00 \\\\\n",
      "kin8nm & 2000 & 8 & 1.40e-01 & NaN & 1.29e-01 & 9.22e-02 & 1.67e-01 & 2.04e-01 \\\\\n",
      "protein & 2000 & 9 & 1.88e+00 & NaN & 1.91e+00 & 5.85e+00 & 1.86e+00 & 2.64e+00 \\\\\n",
      "wine & 1599 & 11 & 6.07e-01 & NaN & 6.11e-01 & 6.36e-01 & 5.79e-01 & 6.60e-01 \\\\\n",
      "boston & 506 & 13 & 3.33e+00 & 3.36e+00 & 2.54e+00 & 4.65e+00 & 3.03e+00 & 4.51e+00 \\\\\n",
      "naval & 2000 & 17 & 7.66e-04 & NaN & 4.16e-04 & 1.89e-03 & 8.86e-04 & 1.32e-03 \\\\\n",
      "yearmsd & 2000 & 90 & 1.15e+01 & NaN & 9.07e+00 & 1.15e+01 & 9.46e+00 & 9.88e+00 \\\\\n",
      "slice & 2000 & 384 & 9.00e+00 & NaN & 7.96e+00 & 1.31e-01 & 3.70e-01 & 6.35e-01 \\\\\n",
      "\\bottomrule\n",
      "\\end{tabular}\n",
      "\n"
     ]
    }
   ],
   "source": [
    "folder_path = 'results/data'  \n",
    "csv_files = glob.glob(os.path.join(folder_path, \"*.csv\"))\n",
    "df_list = [pd.read_csv(file, index_col=0) for file in csv_files]\n",
    "results = pd.concat(df_list, ignore_index=True)\n",
    "\n",
    "results_avg = (\n",
    "    pd.DataFrame(results)\n",
    "    .groupby(['data', 'n', 'd', 'learner'], as_index=False)  \n",
    "    .agg({\n",
    "        'mse': np.mean,  \n",
    "        'time fitting': np.mean,\n",
    "        'time predicting': np.mean,\n",
    "    })\n",
    "    # mutate mse to rmse by taking sqrt\n",
    "    .assign(**{\n",
    "        'rmse': lambda df: np.sqrt(df['mse']),\n",
    "    })\n",
    "    .sort_values(by=['d', 'data', 'rmse'], ascending=[True, True, True])\n",
    ")\n",
    "\n",
    "mse_table = (\n",
    "    results_avg\n",
    "    .pivot_table(index=['data', 'n', 'd'], columns='learner', values='rmse')  # Pivot by 'learner' for mse\n",
    "    .reindex(columns=['HAR', 'HAL', 'Mixed Sobolev KRR', 'Radial Basis KRR', 'Random Forest', 'Ridge Regression'])  # Reorder the columns based on the desired order\n",
    "    .sort_values(by=['d'], ascending=[True])\n",
    "    .reset_index()\n",
    ")\n",
    "\n",
    "# Display the result\n",
    "print(mse_table.to_latex(index=False, float_format='%.2e'))"
   ]
  },
  {
   "cell_type": "code",
   "execution_count": null,
   "metadata": {},
   "outputs": [],
   "source": []
  },
  {
   "cell_type": "markdown",
   "id": "522a0183",
   "metadata": {},
   "source": [
    "# Simulations"
   ]
  },
  {
   "cell_type": "code",
   "execution_count": null,
   "id": "93903fc0",
   "metadata": {},
   "outputs": [],
   "source": [
    "def ramp(x, x0=0.5, eps=0.1):\n",
    "    return np.clip((x - x0) / eps, 0, 1)\n",
    "\n",
    "def dgp(n, d):\n",
    "    eps = 0.05\n",
    "    x0 = 1 - 2**(-1/5) - eps\n",
    "    X = np.random.uniform(size=(n, 10))\n",
    "    Y = np.prod(X[:,0:5], axis=1) - np.prod(ramp(X[:,5:-1], x0=x0, eps=eps), axis=1) + np.random.normal(scale=0.1, size=(n,))\n",
    "    return X,Y"
   ]
  },
  {
   "cell_type": "code",
   "execution_count": null,
   "id": "4cb8f6ff",
   "metadata": {},
   "outputs": [],
   "source": [
    "\n",
    "SIM_LEARNERS = [\n",
    "    'HAR', \n",
    "    # 'Mixed Sobolev KRR', \n",
    "    # 'Radial Basis KRR', \n",
    "    # 'Random Forest',\n",
    "    # 'Mean',\n",
    "]\n",
    "REPS = 10\n",
    "N_RANGE = [50, 125, 200, 300, 400, 600]\n",
    "D_RANGE = [10]\n",
    "\n",
    "for d in D_RANGE:\n",
    "    results = []\n",
    "    for n in N_RANGE:\n",
    "        for rep in range(REPS):\n",
    "            X,Y  = dgp(n+1000, d)\n",
    "            X, X_, Y, Y_ = train_test_split(X, Y, test_size=1000)\n",
    "            learner_timer = Timer()\n",
    "            for name, learner in {k: LEARNERS[k] for k in SIM_LEARNERS}.items():\n",
    "                with learner_timer.task(\"time fitting\"):\n",
    "                    learner.fit(X,Y)\n",
    "                with learner_timer.task(\"time predicting\"):\n",
    "                    mse = np.mean((learner.predict(X_) - Y_)**2)\n",
    "\n",
    "                results += [{\n",
    "                    'n': n,\n",
    "                    'd': d,\n",
    "                    'learner': name,\n",
    "                    'mse': mse,\n",
    "                    **learner_timer.durations,\n",
    "                }]\n",
    "\n",
    "    pd.DataFrame(results).to_csv(f\"results/sims/{d}.csv\")"
   ]
  },
  {
   "cell_type": "code",
   "execution_count": null,
   "id": "e52342c4",
   "metadata": {},
   "outputs": [
    {
     "name": "stderr",
     "output_type": "stream",
     "text": [
      "<positron-console-cell-227>:13: FutureWarning: The provided callable <function mean at 0x106155c60> is currently using SeriesGroupBy.mean. In a future version of pandas, the provided callable will be used directly. To keep current behavior pass the string \"mean\" instead.\n",
      "<positron-console-cell-227>:13: FutureWarning: The provided callable <function mean at 0x106155c60> is currently using SeriesGroupBy.mean. In a future version of pandas, the provided callable will be used directly. To keep current behavior pass the string \"mean\" instead.\n"
     ]
    }
   ],
   "source": [
    "import pandas as pd\n",
    "import glob\n",
    "import os\n",
    "\n",
    "folder_path = 'results/sims'  \n",
    "csv_files = glob.glob(os.path.join(folder_path, \"*.csv\"))\n",
    "df_list = [pd.read_csv(file, index_col=0) for file in csv_files]\n",
    "results = pd.concat(df_list, ignore_index=True)\n",
    "\n",
    "results_avg = (\n",
    "    pd.DataFrame(results)\n",
    "    .groupby(['n', 'd', 'learner'], as_index=False)  \n",
    "    .agg({\n",
    "        'mse': np.mean,  \n",
    "        'time fitting': np.mean,\n",
    "        'time predicting': np.mean,\n",
    "    })\n",
    "    # mutate mse to rmse by taking sqrt\n",
    "    .assign(**{\n",
    "        'rmse': lambda df: np.sqrt(df['mse']),\n",
    "        'rate': lambda df: df.n**(-1/3) * np.log(df.n)**(2*(df.d-1)/3),\n",
    "        'relative_rmse': lambda df: df.rmse / df.rate,\n",
    "    })\n",
    "    .sort_values(by=['learner', 'd', 'n'], ascending=[True, True, True])\n",
    ")\n",
    "\n",
    "import altair as alt\n",
    "import altair_saver as saver\n",
    "\n",
    "plot = alt.Chart(results_avg).mark_line().encode(\n",
    "    x='n:Q',\n",
    "    y=alt.Y('relative_rmse:Q', scale=alt.Scale(zero=False), title='Rate-Scaled RMSE'),\n",
    "    # color='learner',\n",
    "    # row='d'\n",
    ").resolve_scale(\n",
    "    y='independent'\n",
    ").properties(\n",
    "    width=800,  # Set the chart wider\n",
    "    height=300  # Set the chart narrower\n",
    ").configure_axis(\n",
    "    labelFontSize=14,\n",
    "    titleFontSize=16\n",
    ").configure_legend(\n",
    "    labelFontSize=14,\n",
    "    titleFontSize=16\n",
    ").configure_title(\n",
    "    fontSize=18\n",
    ")\n",
    "plot\n",
    "\n",
    "plot.save('results/plots/convergence.pdf')"
   ]
  }
 ],
 "metadata": {
  "kernelspec": {
   "display_name": "Python 3 (ipykernel)",
   "language": "python",
   "name": "python3"
  },
  "language_info": {
   "codemirror_mode": {
    "name": "ipython",
    "version": 3
   },
   "file_extension": ".py",
   "mimetype": "text/x-python",
   "name": "python",
   "nbconvert_exporter": "python",
   "pygments_lexer": "ipython3",
   "version": "3.8.18"
  }
 },
 "nbformat": 4,
 "nbformat_minor": 5
}
